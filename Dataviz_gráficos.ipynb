{
  "cells": [
    {
      "cell_type": "markdown",
      "metadata": {
        "id": "view-in-github",
        "colab_type": "text"
      },
      "source": [
        "<a href=\"https://colab.research.google.com/github/FilipeDellaPorta/analise-de-dados/blob/main/Dataviz_gr%C3%A1ficos.ipynb\" target=\"_parent\"><img src=\"https://colab.research.google.com/assets/colab-badge.svg\" alt=\"Open In Colab\"/></a>"
      ]
    },
    {
      "cell_type": "markdown",
      "metadata": {
        "id": "7D3n0DACbyjf"
      },
      "source": [
        "# <font color=green> Data visualization: Gráficos</font>\n",
        "---"
      ]
    },
    {
      "cell_type": "markdown",
      "metadata": {
        "id": "Au2nZsz9ezur"
      },
      "source": [
        "# **Aula 1 - Comparando dados**"
      ]
    },
    {
      "cell_type": "markdown",
      "metadata": {
        "id": "zozK6sjqX0YH"
      },
      "source": [
        "## **1.1 Introdução**\n",
        "\n",
        "---\n",
        "\n",
        "\n",
        "Neste curso, vamos construir um portfólio com as análises de **duas** bases de dados diferentes, explorando cada uma e respondendo aos questionamentos levantados em torno de seus dados. Todas as bases estão no formato CSV e podem ser acessadas por meio do Github.\n",
        "\n",
        "> **Bases de dados:**\n",
        "\n",
        "1.   Vendas de uma rede de lojas de departamentos que opera em todo Brasil\n",
        "\n",
        "2.   Distribuição de volumes e medidas de produtos de uma empresa de itens de limpeza\n",
        "\n",
        " 2.1 Volume de um amaciante de 1L em um total de 1000 amostras medidas.\n",
        "\n",
        " 2.2 Medidas de altura, comprimento e largura de uma caixa de sabão em pó em um total de 1000 amostras medidas\n",
        "\n",
        "A cada aula, vamos passar por uma das bases de dados e tecer nossas análises de acordo com as perguntas que forem apresentadas buscando respondê-las por meio da utilização de recursos visuais (gráficos e elementos visuais)."
      ]
    },
    {
      "cell_type": "markdown",
      "metadata": {
        "id": "YvLE4O2iemTx"
      },
      "source": [
        "### Paleta de cores"
      ]
    },
    {
      "cell_type": "markdown",
      "metadata": {
        "id": "sAuABmczf3Ev"
      },
      "source": [
        "|Azul|||||\n",
        "|------|------|------|------|------|\n",
        "| AZUL1 |AZUL2 |AZUL3 |AZUL4 |AZUL5 |\n",
        "|#03045e | #0077b6 | #00b4d8| #90e0ef | #CDDBF3 |\n",
        "|![adicionar desc](https://github.com/alura-cursos/dataviz-graficos/blob/master/imagens/AZUL1.png?raw=true)|![adicionar desc](https://github.com/alura-cursos/dataviz-graficos/blob/master/imagens/AZUL2.png?raw=true)|![adicionar desc](https://github.com/alura-cursos/dataviz-graficos/blob/master/imagens/AZUL3.png?raw=true)|![adicionar desc](https://github.com/alura-cursos/dataviz-graficos/blob/master/imagens/AZUL4.png?raw=true)|![adicionar desc](https://github.com/alura-cursos/dataviz-graficos/blob/master/imagens/AZUL5.png?raw=true)|\n",
        "\n",
        "&nbsp;\n",
        "\n",
        "|Cinza|||||\n",
        "|------|------|------|------|------|\n",
        "| CINZA1 |CINZA2 |CINZA3 |CINZA4 |CINZA5|\n",
        "|#212529 | #495057| #adb5bd | #dee2e6| #f8f9fa |\n",
        "| ![adicionar desc](https://github.com/alura-cursos/dataviz-graficos/blob/master/imagens/CINZA1.png?raw=true)  |![adicionar desc](https://github.com/alura-cursos/dataviz-graficos/blob/master/imagens/CINZA2.png?raw=true) |![adicionar desc](https://github.com/alura-cursos/dataviz-graficos/blob/master/imagens/CINZA3.png?raw=true) |![adicionar desc](https://github.com/alura-cursos/dataviz-graficos/blob/master/imagens/CINZA4.png?raw=true) |![adicionar desc](https://github.com/alura-cursos/dataviz-graficos/blob/master/imagens/CINZA5.png?raw=true)|\n",
        "&nbsp;\n",
        "\n",
        "|Misto|||||\n",
        "|------|------|------|------|------|\n",
        "| VERMELHO1 |LARANJA1 |AMARELO1 | VERDE1 |VERDE2 |\n",
        "|#e76f51 | #f4a261 | #e9c46a |#0C8040 | #4c956c |#2a9d8f|\n",
        "| ![adicionar desc](https://github.com/alura-cursos/dataviz-graficos/blob/master/imagens/VERMELHO1.png?raw=true) |![adicionar desc](https://github.com/alura-cursos/dataviz-graficos/blob/master/imagens/LARANJA1.png?raw=true)|![adicionar desc](https://github.com/alura-cursos/dataviz-graficos/blob/master/imagens/AMARELO1.png?raw=true)| ![adicionar desc](https://github.com/alura-cursos/dataviz-graficos/blob/master/imagens/VERDE1.png?raw=true) | ![adicionar desc](https://github.com/alura-cursos/dataviz-graficos/blob/master/imagens/VERDE2.png?raw=true) |\n"
      ]
    },
    {
      "cell_type": "code",
      "execution_count": 1,
      "metadata": {
        "id": "_LZKF5MzesCL"
      },
      "outputs": [],
      "source": [
        "# Definindo a paleta de cores\n",
        "AZUL1, AZUL2, AZUL3, AZUL4, AZUL5 = '#03045e', '#0077b6', \"#00b4d8\", '#90e0ef', '#CDDBF3'\n",
        "CINZA1, CINZA2, CINZA3, CINZA4, CINZA5 = '#212529', '#495057', '#adb5bd', '#dee2e6', '#f8f9fa'\n",
        "VERMELHO1, LARANJA1, AMARELO1, VERDE1, VERDE2 = '#e76f51', '#f4a261',\t'#e9c46a', '#4c956c', '#2a9d8f'"
      ]
    },
    {
      "cell_type": "markdown",
      "metadata": {
        "id": "t8kjf_FpfBkJ"
      },
      "source": [
        "## **1.2 - Conhecendo os dados**\n",
        "\n",
        "\n",
        "---\n",
        "\n",
        "\n"
      ]
    },
    {
      "cell_type": "markdown",
      "metadata": {
        "id": "Pl-FzB1PjzRy"
      },
      "source": [
        "### **Situação-problema 1**\n",
        "Uma rede de lojas de departamentos que opera em todo Brasil quer saber como os estados ou sua clientela estão se comportando nas vendas de seus produtos. Para isso, você como cientista de dados precisará analisar os dados que ela disponibilizou em um dataset com os pedidos das suas clientes entre o ano de 2016 e 2019.\n",
        "\n",
        "Aqui, vamos trabalhar com uma quantidade menor de dados, mas o racional é o mesmo para quantidade de dados maiores.\n"
      ]
    },
    {
      "cell_type": "code",
      "source": [
        "# Montando o drive\n",
        "from google.colab import drive\n",
        "drive.mount('/content/drive')"
      ],
      "metadata": {
        "colab": {
          "base_uri": "https://localhost:8080/"
        },
        "id": "B8WfHddCnrPG",
        "outputId": "ac625c08-8cfa-42ce-b88d-646718f86678"
      },
      "execution_count": 2,
      "outputs": [
        {
          "output_type": "stream",
          "name": "stdout",
          "text": [
            "Mounted at /content/drive\n"
          ]
        }
      ]
    },
    {
      "cell_type": "code",
      "execution_count": 3,
      "metadata": {
        "id": "FFJB10HlfBSJ"
      },
      "outputs": [],
      "source": [
        "import pandas as pd"
      ]
    },
    {
      "cell_type": "code",
      "execution_count": 5,
      "metadata": {
        "id": "Rwjb5jaPkIzc",
        "colab": {
          "base_uri": "https://localhost:8080/",
          "height": 652
        },
        "outputId": "ec821e34-0091-4710-bd33-33a25b15aade"
      },
      "outputs": [
        {
          "output_type": "execute_result",
          "data": {
            "text/plain": [
              "     data_pedido data_envio      modo_envio       nome_cliente  \\\n",
              "0     2018-11-09 2018-11-12       Econômica    Thiago Silveira   \n",
              "1     2018-11-09 2018-11-12       Econômica    Thiago Silveira   \n",
              "2     2018-06-13 2018-06-17       Econômica      Giovanna Lima   \n",
              "3     2017-10-12 2017-10-19  Entrega padrão  Ana Júlia da Cruz   \n",
              "4     2017-10-12 2017-10-19  Entrega padrão  Ana Júlia da Cruz   \n",
              "...          ...        ...             ...                ...   \n",
              "8935  2018-09-30 2018-10-04  Entrega padrão     Enrique Santos   \n",
              "8936  2019-11-18 2019-11-22  Entrega padrão    Heitor Silveira   \n",
              "8937  2019-11-18 2019-11-22  Entrega padrão    Heitor Silveira   \n",
              "8938  2016-01-22 2016-01-24       Econômica      Isabel Araújo   \n",
              "8939  2019-05-05 2019-05-10       Econômica   Esther Rodrigues   \n",
              "\n",
              "     segmento_cliente          cidade               estado    regiao  \\\n",
              "0                 B2C  Ribeirão Preto            São Paulo   Sudeste   \n",
              "1                 B2C  Ribeirão Preto            São Paulo   Sudeste   \n",
              "2                 B2B  Rio de Janeiro       Rio de Janeiro   Sudeste   \n",
              "3                 B2C   Foz do Iguaçu               Paraná       Sul   \n",
              "4                 B2C   Foz do Iguaçu               Paraná       Sul   \n",
              "...               ...             ...                  ...       ...   \n",
              "8935              B2C  Rio de Janeiro       Rio de Janeiro   Sudeste   \n",
              "8936              B2B          Jequié                Bahia  Nordeste   \n",
              "8937              B2B          Jequié                Bahia  Nordeste   \n",
              "8938              B2C     João Pessoa              Paraíba  Nordeste   \n",
              "8939              B2C         Mossoró  Rio Grande do Norte  Nordeste   \n",
              "\n",
              "                 departamento               tipo_produto  preco_base  \\\n",
              "0     Materiais de construção               encanamentos      409.70   \n",
              "1     Materiais de construção                ferramentas      705.10   \n",
              "2     Jardinagem e paisagismo                   sementes       19.02   \n",
              "3     Materiais de construção  materiais de revestimento      781.38   \n",
              "4     Jardinagem e paisagismo                      vasos       35.88   \n",
              "...                       ...                        ...         ...   \n",
              "8935               Automotivo    ferramentas automotivas       97.34   \n",
              "8936               Automotivo    ferramentas automotivas      223.01   \n",
              "8937               Automotivo                      pneus      121.23   \n",
              "8938  Materiais de construção                 iluminação       26.29   \n",
              "8939  Jardinagem e paisagismo     mobiliário de exterior      351.36   \n",
              "\n",
              "      preco_unit_sem_desc  desconto  preco_unit_venda  quantidade   vendas  \\\n",
              "0                  445.33     0.000            445.33           2   890.66   \n",
              "1                  829.53     0.000            829.53           3  2488.59   \n",
              "2                   24.86     0.000             24.86           2    49.72   \n",
              "3                  840.19     0.225            651.15           5  3255.75   \n",
              "4                   42.24     0.100             38.02           2    76.04   \n",
              "...                   ...       ...               ...         ...      ...   \n",
              "8935               123.22     0.000            123.22           1   123.22   \n",
              "8936               271.97     0.000            271.97           1   271.97   \n",
              "8937               140.15     0.000            140.15           5   700.75   \n",
              "8938                31.79     0.100             28.61           3    85.83   \n",
              "8939               413.37     0.000            413.37           2   826.74   \n",
              "\n",
              "       lucro  \n",
              "0      71.26  \n",
              "1     373.29  \n",
              "2      11.68  \n",
              "3    -651.15  \n",
              "4       4.28  \n",
              "...      ...  \n",
              "8935   25.88  \n",
              "8936   48.96  \n",
              "8937   94.60  \n",
              "8938    6.96  \n",
              "8939  124.02  \n",
              "\n",
              "[8940 rows x 17 columns]"
            ],
            "text/html": [
              "\n",
              "  <div id=\"df-d0941e9f-b50e-445f-9707-851f6650f5c6\" class=\"colab-df-container\">\n",
              "    <div>\n",
              "<style scoped>\n",
              "    .dataframe tbody tr th:only-of-type {\n",
              "        vertical-align: middle;\n",
              "    }\n",
              "\n",
              "    .dataframe tbody tr th {\n",
              "        vertical-align: top;\n",
              "    }\n",
              "\n",
              "    .dataframe thead th {\n",
              "        text-align: right;\n",
              "    }\n",
              "</style>\n",
              "<table border=\"1\" class=\"dataframe\">\n",
              "  <thead>\n",
              "    <tr style=\"text-align: right;\">\n",
              "      <th></th>\n",
              "      <th>data_pedido</th>\n",
              "      <th>data_envio</th>\n",
              "      <th>modo_envio</th>\n",
              "      <th>nome_cliente</th>\n",
              "      <th>segmento_cliente</th>\n",
              "      <th>cidade</th>\n",
              "      <th>estado</th>\n",
              "      <th>regiao</th>\n",
              "      <th>departamento</th>\n",
              "      <th>tipo_produto</th>\n",
              "      <th>preco_base</th>\n",
              "      <th>preco_unit_sem_desc</th>\n",
              "      <th>desconto</th>\n",
              "      <th>preco_unit_venda</th>\n",
              "      <th>quantidade</th>\n",
              "      <th>vendas</th>\n",
              "      <th>lucro</th>\n",
              "    </tr>\n",
              "  </thead>\n",
              "  <tbody>\n",
              "    <tr>\n",
              "      <th>0</th>\n",
              "      <td>2018-11-09</td>\n",
              "      <td>2018-11-12</td>\n",
              "      <td>Econômica</td>\n",
              "      <td>Thiago Silveira</td>\n",
              "      <td>B2C</td>\n",
              "      <td>Ribeirão Preto</td>\n",
              "      <td>São Paulo</td>\n",
              "      <td>Sudeste</td>\n",
              "      <td>Materiais de construção</td>\n",
              "      <td>encanamentos</td>\n",
              "      <td>409.70</td>\n",
              "      <td>445.33</td>\n",
              "      <td>0.000</td>\n",
              "      <td>445.33</td>\n",
              "      <td>2</td>\n",
              "      <td>890.66</td>\n",
              "      <td>71.26</td>\n",
              "    </tr>\n",
              "    <tr>\n",
              "      <th>1</th>\n",
              "      <td>2018-11-09</td>\n",
              "      <td>2018-11-12</td>\n",
              "      <td>Econômica</td>\n",
              "      <td>Thiago Silveira</td>\n",
              "      <td>B2C</td>\n",
              "      <td>Ribeirão Preto</td>\n",
              "      <td>São Paulo</td>\n",
              "      <td>Sudeste</td>\n",
              "      <td>Materiais de construção</td>\n",
              "      <td>ferramentas</td>\n",
              "      <td>705.10</td>\n",
              "      <td>829.53</td>\n",
              "      <td>0.000</td>\n",
              "      <td>829.53</td>\n",
              "      <td>3</td>\n",
              "      <td>2488.59</td>\n",
              "      <td>373.29</td>\n",
              "    </tr>\n",
              "    <tr>\n",
              "      <th>2</th>\n",
              "      <td>2018-06-13</td>\n",
              "      <td>2018-06-17</td>\n",
              "      <td>Econômica</td>\n",
              "      <td>Giovanna Lima</td>\n",
              "      <td>B2B</td>\n",
              "      <td>Rio de Janeiro</td>\n",
              "      <td>Rio de Janeiro</td>\n",
              "      <td>Sudeste</td>\n",
              "      <td>Jardinagem e paisagismo</td>\n",
              "      <td>sementes</td>\n",
              "      <td>19.02</td>\n",
              "      <td>24.86</td>\n",
              "      <td>0.000</td>\n",
              "      <td>24.86</td>\n",
              "      <td>2</td>\n",
              "      <td>49.72</td>\n",
              "      <td>11.68</td>\n",
              "    </tr>\n",
              "    <tr>\n",
              "      <th>3</th>\n",
              "      <td>2017-10-12</td>\n",
              "      <td>2017-10-19</td>\n",
              "      <td>Entrega padrão</td>\n",
              "      <td>Ana Júlia da Cruz</td>\n",
              "      <td>B2C</td>\n",
              "      <td>Foz do Iguaçu</td>\n",
              "      <td>Paraná</td>\n",
              "      <td>Sul</td>\n",
              "      <td>Materiais de construção</td>\n",
              "      <td>materiais de revestimento</td>\n",
              "      <td>781.38</td>\n",
              "      <td>840.19</td>\n",
              "      <td>0.225</td>\n",
              "      <td>651.15</td>\n",
              "      <td>5</td>\n",
              "      <td>3255.75</td>\n",
              "      <td>-651.15</td>\n",
              "    </tr>\n",
              "    <tr>\n",
              "      <th>4</th>\n",
              "      <td>2017-10-12</td>\n",
              "      <td>2017-10-19</td>\n",
              "      <td>Entrega padrão</td>\n",
              "      <td>Ana Júlia da Cruz</td>\n",
              "      <td>B2C</td>\n",
              "      <td>Foz do Iguaçu</td>\n",
              "      <td>Paraná</td>\n",
              "      <td>Sul</td>\n",
              "      <td>Jardinagem e paisagismo</td>\n",
              "      <td>vasos</td>\n",
              "      <td>35.88</td>\n",
              "      <td>42.24</td>\n",
              "      <td>0.100</td>\n",
              "      <td>38.02</td>\n",
              "      <td>2</td>\n",
              "      <td>76.04</td>\n",
              "      <td>4.28</td>\n",
              "    </tr>\n",
              "    <tr>\n",
              "      <th>...</th>\n",
              "      <td>...</td>\n",
              "      <td>...</td>\n",
              "      <td>...</td>\n",
              "      <td>...</td>\n",
              "      <td>...</td>\n",
              "      <td>...</td>\n",
              "      <td>...</td>\n",
              "      <td>...</td>\n",
              "      <td>...</td>\n",
              "      <td>...</td>\n",
              "      <td>...</td>\n",
              "      <td>...</td>\n",
              "      <td>...</td>\n",
              "      <td>...</td>\n",
              "      <td>...</td>\n",
              "      <td>...</td>\n",
              "      <td>...</td>\n",
              "    </tr>\n",
              "    <tr>\n",
              "      <th>8935</th>\n",
              "      <td>2018-09-30</td>\n",
              "      <td>2018-10-04</td>\n",
              "      <td>Entrega padrão</td>\n",
              "      <td>Enrique Santos</td>\n",
              "      <td>B2C</td>\n",
              "      <td>Rio de Janeiro</td>\n",
              "      <td>Rio de Janeiro</td>\n",
              "      <td>Sudeste</td>\n",
              "      <td>Automotivo</td>\n",
              "      <td>ferramentas automotivas</td>\n",
              "      <td>97.34</td>\n",
              "      <td>123.22</td>\n",
              "      <td>0.000</td>\n",
              "      <td>123.22</td>\n",
              "      <td>1</td>\n",
              "      <td>123.22</td>\n",
              "      <td>25.88</td>\n",
              "    </tr>\n",
              "    <tr>\n",
              "      <th>8936</th>\n",
              "      <td>2019-11-18</td>\n",
              "      <td>2019-11-22</td>\n",
              "      <td>Entrega padrão</td>\n",
              "      <td>Heitor Silveira</td>\n",
              "      <td>B2B</td>\n",
              "      <td>Jequié</td>\n",
              "      <td>Bahia</td>\n",
              "      <td>Nordeste</td>\n",
              "      <td>Automotivo</td>\n",
              "      <td>ferramentas automotivas</td>\n",
              "      <td>223.01</td>\n",
              "      <td>271.97</td>\n",
              "      <td>0.000</td>\n",
              "      <td>271.97</td>\n",
              "      <td>1</td>\n",
              "      <td>271.97</td>\n",
              "      <td>48.96</td>\n",
              "    </tr>\n",
              "    <tr>\n",
              "      <th>8937</th>\n",
              "      <td>2019-11-18</td>\n",
              "      <td>2019-11-22</td>\n",
              "      <td>Entrega padrão</td>\n",
              "      <td>Heitor Silveira</td>\n",
              "      <td>B2B</td>\n",
              "      <td>Jequié</td>\n",
              "      <td>Bahia</td>\n",
              "      <td>Nordeste</td>\n",
              "      <td>Automotivo</td>\n",
              "      <td>pneus</td>\n",
              "      <td>121.23</td>\n",
              "      <td>140.15</td>\n",
              "      <td>0.000</td>\n",
              "      <td>140.15</td>\n",
              "      <td>5</td>\n",
              "      <td>700.75</td>\n",
              "      <td>94.60</td>\n",
              "    </tr>\n",
              "    <tr>\n",
              "      <th>8938</th>\n",
              "      <td>2016-01-22</td>\n",
              "      <td>2016-01-24</td>\n",
              "      <td>Econômica</td>\n",
              "      <td>Isabel Araújo</td>\n",
              "      <td>B2C</td>\n",
              "      <td>João Pessoa</td>\n",
              "      <td>Paraíba</td>\n",
              "      <td>Nordeste</td>\n",
              "      <td>Materiais de construção</td>\n",
              "      <td>iluminação</td>\n",
              "      <td>26.29</td>\n",
              "      <td>31.79</td>\n",
              "      <td>0.100</td>\n",
              "      <td>28.61</td>\n",
              "      <td>3</td>\n",
              "      <td>85.83</td>\n",
              "      <td>6.96</td>\n",
              "    </tr>\n",
              "    <tr>\n",
              "      <th>8939</th>\n",
              "      <td>2019-05-05</td>\n",
              "      <td>2019-05-10</td>\n",
              "      <td>Econômica</td>\n",
              "      <td>Esther Rodrigues</td>\n",
              "      <td>B2C</td>\n",
              "      <td>Mossoró</td>\n",
              "      <td>Rio Grande do Norte</td>\n",
              "      <td>Nordeste</td>\n",
              "      <td>Jardinagem e paisagismo</td>\n",
              "      <td>mobiliário de exterior</td>\n",
              "      <td>351.36</td>\n",
              "      <td>413.37</td>\n",
              "      <td>0.000</td>\n",
              "      <td>413.37</td>\n",
              "      <td>2</td>\n",
              "      <td>826.74</td>\n",
              "      <td>124.02</td>\n",
              "    </tr>\n",
              "  </tbody>\n",
              "</table>\n",
              "<p>8940 rows × 17 columns</p>\n",
              "</div>\n",
              "    <div class=\"colab-df-buttons\">\n",
              "\n",
              "  <div class=\"colab-df-container\">\n",
              "    <button class=\"colab-df-convert\" onclick=\"convertToInteractive('df-d0941e9f-b50e-445f-9707-851f6650f5c6')\"\n",
              "            title=\"Convert this dataframe to an interactive table.\"\n",
              "            style=\"display:none;\">\n",
              "\n",
              "  <svg xmlns=\"http://www.w3.org/2000/svg\" height=\"24px\" viewBox=\"0 -960 960 960\">\n",
              "    <path d=\"M120-120v-720h720v720H120Zm60-500h600v-160H180v160Zm220 220h160v-160H400v160Zm0 220h160v-160H400v160ZM180-400h160v-160H180v160Zm440 0h160v-160H620v160ZM180-180h160v-160H180v160Zm440 0h160v-160H620v160Z\"/>\n",
              "  </svg>\n",
              "    </button>\n",
              "\n",
              "  <style>\n",
              "    .colab-df-container {\n",
              "      display:flex;\n",
              "      gap: 12px;\n",
              "    }\n",
              "\n",
              "    .colab-df-convert {\n",
              "      background-color: #E8F0FE;\n",
              "      border: none;\n",
              "      border-radius: 50%;\n",
              "      cursor: pointer;\n",
              "      display: none;\n",
              "      fill: #1967D2;\n",
              "      height: 32px;\n",
              "      padding: 0 0 0 0;\n",
              "      width: 32px;\n",
              "    }\n",
              "\n",
              "    .colab-df-convert:hover {\n",
              "      background-color: #E2EBFA;\n",
              "      box-shadow: 0px 1px 2px rgba(60, 64, 67, 0.3), 0px 1px 3px 1px rgba(60, 64, 67, 0.15);\n",
              "      fill: #174EA6;\n",
              "    }\n",
              "\n",
              "    .colab-df-buttons div {\n",
              "      margin-bottom: 4px;\n",
              "    }\n",
              "\n",
              "    [theme=dark] .colab-df-convert {\n",
              "      background-color: #3B4455;\n",
              "      fill: #D2E3FC;\n",
              "    }\n",
              "\n",
              "    [theme=dark] .colab-df-convert:hover {\n",
              "      background-color: #434B5C;\n",
              "      box-shadow: 0px 1px 3px 1px rgba(0, 0, 0, 0.15);\n",
              "      filter: drop-shadow(0px 1px 2px rgba(0, 0, 0, 0.3));\n",
              "      fill: #FFFFFF;\n",
              "    }\n",
              "  </style>\n",
              "\n",
              "    <script>\n",
              "      const buttonEl =\n",
              "        document.querySelector('#df-d0941e9f-b50e-445f-9707-851f6650f5c6 button.colab-df-convert');\n",
              "      buttonEl.style.display =\n",
              "        google.colab.kernel.accessAllowed ? 'block' : 'none';\n",
              "\n",
              "      async function convertToInteractive(key) {\n",
              "        const element = document.querySelector('#df-d0941e9f-b50e-445f-9707-851f6650f5c6');\n",
              "        const dataTable =\n",
              "          await google.colab.kernel.invokeFunction('convertToInteractive',\n",
              "                                                    [key], {});\n",
              "        if (!dataTable) return;\n",
              "\n",
              "        const docLinkHtml = 'Like what you see? Visit the ' +\n",
              "          '<a target=\"_blank\" href=https://colab.research.google.com/notebooks/data_table.ipynb>data table notebook</a>'\n",
              "          + ' to learn more about interactive tables.';\n",
              "        element.innerHTML = '';\n",
              "        dataTable['output_type'] = 'display_data';\n",
              "        await google.colab.output.renderOutput(dataTable, element);\n",
              "        const docLink = document.createElement('div');\n",
              "        docLink.innerHTML = docLinkHtml;\n",
              "        element.appendChild(docLink);\n",
              "      }\n",
              "    </script>\n",
              "  </div>\n",
              "\n",
              "\n",
              "    <div id=\"df-4d55899a-8a70-4aac-9405-da90632ef7be\">\n",
              "      <button class=\"colab-df-quickchart\" onclick=\"quickchart('df-4d55899a-8a70-4aac-9405-da90632ef7be')\"\n",
              "                title=\"Suggest charts\"\n",
              "                style=\"display:none;\">\n",
              "\n",
              "<svg xmlns=\"http://www.w3.org/2000/svg\" height=\"24px\"viewBox=\"0 0 24 24\"\n",
              "     width=\"24px\">\n",
              "    <g>\n",
              "        <path d=\"M19 3H5c-1.1 0-2 .9-2 2v14c0 1.1.9 2 2 2h14c1.1 0 2-.9 2-2V5c0-1.1-.9-2-2-2zM9 17H7v-7h2v7zm4 0h-2V7h2v10zm4 0h-2v-4h2v4z\"/>\n",
              "    </g>\n",
              "</svg>\n",
              "      </button>\n",
              "\n",
              "<style>\n",
              "  .colab-df-quickchart {\n",
              "      --bg-color: #E8F0FE;\n",
              "      --fill-color: #1967D2;\n",
              "      --hover-bg-color: #E2EBFA;\n",
              "      --hover-fill-color: #174EA6;\n",
              "      --disabled-fill-color: #AAA;\n",
              "      --disabled-bg-color: #DDD;\n",
              "  }\n",
              "\n",
              "  [theme=dark] .colab-df-quickchart {\n",
              "      --bg-color: #3B4455;\n",
              "      --fill-color: #D2E3FC;\n",
              "      --hover-bg-color: #434B5C;\n",
              "      --hover-fill-color: #FFFFFF;\n",
              "      --disabled-bg-color: #3B4455;\n",
              "      --disabled-fill-color: #666;\n",
              "  }\n",
              "\n",
              "  .colab-df-quickchart {\n",
              "    background-color: var(--bg-color);\n",
              "    border: none;\n",
              "    border-radius: 50%;\n",
              "    cursor: pointer;\n",
              "    display: none;\n",
              "    fill: var(--fill-color);\n",
              "    height: 32px;\n",
              "    padding: 0;\n",
              "    width: 32px;\n",
              "  }\n",
              "\n",
              "  .colab-df-quickchart:hover {\n",
              "    background-color: var(--hover-bg-color);\n",
              "    box-shadow: 0 1px 2px rgba(60, 64, 67, 0.3), 0 1px 3px 1px rgba(60, 64, 67, 0.15);\n",
              "    fill: var(--button-hover-fill-color);\n",
              "  }\n",
              "\n",
              "  .colab-df-quickchart-complete:disabled,\n",
              "  .colab-df-quickchart-complete:disabled:hover {\n",
              "    background-color: var(--disabled-bg-color);\n",
              "    fill: var(--disabled-fill-color);\n",
              "    box-shadow: none;\n",
              "  }\n",
              "\n",
              "  .colab-df-spinner {\n",
              "    border: 2px solid var(--fill-color);\n",
              "    border-color: transparent;\n",
              "    border-bottom-color: var(--fill-color);\n",
              "    animation:\n",
              "      spin 1s steps(1) infinite;\n",
              "  }\n",
              "\n",
              "  @keyframes spin {\n",
              "    0% {\n",
              "      border-color: transparent;\n",
              "      border-bottom-color: var(--fill-color);\n",
              "      border-left-color: var(--fill-color);\n",
              "    }\n",
              "    20% {\n",
              "      border-color: transparent;\n",
              "      border-left-color: var(--fill-color);\n",
              "      border-top-color: var(--fill-color);\n",
              "    }\n",
              "    30% {\n",
              "      border-color: transparent;\n",
              "      border-left-color: var(--fill-color);\n",
              "      border-top-color: var(--fill-color);\n",
              "      border-right-color: var(--fill-color);\n",
              "    }\n",
              "    40% {\n",
              "      border-color: transparent;\n",
              "      border-right-color: var(--fill-color);\n",
              "      border-top-color: var(--fill-color);\n",
              "    }\n",
              "    60% {\n",
              "      border-color: transparent;\n",
              "      border-right-color: var(--fill-color);\n",
              "    }\n",
              "    80% {\n",
              "      border-color: transparent;\n",
              "      border-right-color: var(--fill-color);\n",
              "      border-bottom-color: var(--fill-color);\n",
              "    }\n",
              "    90% {\n",
              "      border-color: transparent;\n",
              "      border-bottom-color: var(--fill-color);\n",
              "    }\n",
              "  }\n",
              "</style>\n",
              "\n",
              "      <script>\n",
              "        async function quickchart(key) {\n",
              "          const quickchartButtonEl =\n",
              "            document.querySelector('#' + key + ' button');\n",
              "          quickchartButtonEl.disabled = true;  // To prevent multiple clicks.\n",
              "          quickchartButtonEl.classList.add('colab-df-spinner');\n",
              "          try {\n",
              "            const charts = await google.colab.kernel.invokeFunction(\n",
              "                'suggestCharts', [key], {});\n",
              "          } catch (error) {\n",
              "            console.error('Error during call to suggestCharts:', error);\n",
              "          }\n",
              "          quickchartButtonEl.classList.remove('colab-df-spinner');\n",
              "          quickchartButtonEl.classList.add('colab-df-quickchart-complete');\n",
              "        }\n",
              "        (() => {\n",
              "          let quickchartButtonEl =\n",
              "            document.querySelector('#df-4d55899a-8a70-4aac-9405-da90632ef7be button');\n",
              "          quickchartButtonEl.style.display =\n",
              "            google.colab.kernel.accessAllowed ? 'block' : 'none';\n",
              "        })();\n",
              "      </script>\n",
              "    </div>\n",
              "\n",
              "  <div id=\"id_35607487-baae-4a1c-915a-fb7c004b230a\">\n",
              "    <style>\n",
              "      .colab-df-generate {\n",
              "        background-color: #E8F0FE;\n",
              "        border: none;\n",
              "        border-radius: 50%;\n",
              "        cursor: pointer;\n",
              "        display: none;\n",
              "        fill: #1967D2;\n",
              "        height: 32px;\n",
              "        padding: 0 0 0 0;\n",
              "        width: 32px;\n",
              "      }\n",
              "\n",
              "      .colab-df-generate:hover {\n",
              "        background-color: #E2EBFA;\n",
              "        box-shadow: 0px 1px 2px rgba(60, 64, 67, 0.3), 0px 1px 3px 1px rgba(60, 64, 67, 0.15);\n",
              "        fill: #174EA6;\n",
              "      }\n",
              "\n",
              "      [theme=dark] .colab-df-generate {\n",
              "        background-color: #3B4455;\n",
              "        fill: #D2E3FC;\n",
              "      }\n",
              "\n",
              "      [theme=dark] .colab-df-generate:hover {\n",
              "        background-color: #434B5C;\n",
              "        box-shadow: 0px 1px 3px 1px rgba(0, 0, 0, 0.15);\n",
              "        filter: drop-shadow(0px 1px 2px rgba(0, 0, 0, 0.3));\n",
              "        fill: #FFFFFF;\n",
              "      }\n",
              "    </style>\n",
              "    <button class=\"colab-df-generate\" onclick=\"generateWithVariable('vendas')\"\n",
              "            title=\"Generate code using this dataframe.\"\n",
              "            style=\"display:none;\">\n",
              "\n",
              "  <svg xmlns=\"http://www.w3.org/2000/svg\" height=\"24px\"viewBox=\"0 0 24 24\"\n",
              "       width=\"24px\">\n",
              "    <path d=\"M7,19H8.4L18.45,9,17,7.55,7,17.6ZM5,21V16.75L18.45,3.32a2,2,0,0,1,2.83,0l1.4,1.43a1.91,1.91,0,0,1,.58,1.4,1.91,1.91,0,0,1-.58,1.4L9.25,21ZM18.45,9,17,7.55Zm-12,3A5.31,5.31,0,0,0,4.9,8.1,5.31,5.31,0,0,0,1,6.5,5.31,5.31,0,0,0,4.9,4.9,5.31,5.31,0,0,0,6.5,1,5.31,5.31,0,0,0,8.1,4.9,5.31,5.31,0,0,0,12,6.5,5.46,5.46,0,0,0,6.5,12Z\"/>\n",
              "  </svg>\n",
              "    </button>\n",
              "    <script>\n",
              "      (() => {\n",
              "      const buttonEl =\n",
              "        document.querySelector('#id_35607487-baae-4a1c-915a-fb7c004b230a button.colab-df-generate');\n",
              "      buttonEl.style.display =\n",
              "        google.colab.kernel.accessAllowed ? 'block' : 'none';\n",
              "\n",
              "      buttonEl.onclick = () => {\n",
              "        google.colab.notebook.generateWithVariable('vendas');\n",
              "      }\n",
              "      })();\n",
              "    </script>\n",
              "  </div>\n",
              "\n",
              "    </div>\n",
              "  </div>\n"
            ],
            "application/vnd.google.colaboratory.intrinsic+json": {
              "type": "dataframe",
              "variable_name": "vendas",
              "summary": "{\n  \"name\": \"vendas\",\n  \"rows\": 8940,\n  \"fields\": [\n    {\n      \"column\": \"data_pedido\",\n      \"properties\": {\n        \"dtype\": \"date\",\n        \"min\": \"2016-01-04 00:00:00\",\n        \"max\": \"2019-12-31 00:00:00\",\n        \"num_unique_values\": 1209,\n        \"samples\": [\n          \"2018-06-07 00:00:00\",\n          \"2016-07-01 00:00:00\",\n          \"2018-03-06 00:00:00\"\n        ],\n        \"semantic_type\": \"\",\n        \"description\": \"\"\n      }\n    },\n    {\n      \"column\": \"data_envio\",\n      \"properties\": {\n        \"dtype\": \"date\",\n        \"min\": \"2016-01-08 00:00:00\",\n        \"max\": \"2020-01-06 00:00:00\",\n        \"num_unique_values\": 1292,\n        \"samples\": [\n          \"2019-05-27 00:00:00\",\n          \"2016-12-04 00:00:00\",\n          \"2017-03-06 00:00:00\"\n        ],\n        \"semantic_type\": \"\",\n        \"description\": \"\"\n      }\n    },\n    {\n      \"column\": \"modo_envio\",\n      \"properties\": {\n        \"dtype\": \"category\",\n        \"num_unique_values\": 4,\n        \"samples\": [\n          \"Entrega padr\\u00e3o\",\n          \"24 horas\",\n          \"Econ\\u00f4mica\"\n        ],\n        \"semantic_type\": \"\",\n        \"description\": \"\"\n      }\n    },\n    {\n      \"column\": \"nome_cliente\",\n      \"properties\": {\n        \"dtype\": \"category\",\n        \"num_unique_values\": 767,\n        \"samples\": [\n          \"Luiz Gustavo Silveira\",\n          \"Beatriz Campos\",\n          \"Ana J\\u00falia da Mota\"\n        ],\n        \"semantic_type\": \"\",\n        \"description\": \"\"\n      }\n    },\n    {\n      \"column\": \"segmento_cliente\",\n      \"properties\": {\n        \"dtype\": \"category\",\n        \"num_unique_values\": 2,\n        \"samples\": [\n          \"B2B\",\n          \"B2C\"\n        ],\n        \"semantic_type\": \"\",\n        \"description\": \"\"\n      }\n    },\n    {\n      \"column\": \"cidade\",\n      \"properties\": {\n        \"dtype\": \"category\",\n        \"num_unique_values\": 248,\n        \"samples\": [\n          \"Macap\\u00e1\",\n          \"Itapecerica da Serra\"\n        ],\n        \"semantic_type\": \"\",\n        \"description\": \"\"\n      }\n    },\n    {\n      \"column\": \"estado\",\n      \"properties\": {\n        \"dtype\": \"category\",\n        \"num_unique_values\": 26,\n        \"samples\": [\n          \"Santa Catarina\",\n          \"Mato Grosso do Sul\"\n        ],\n        \"semantic_type\": \"\",\n        \"description\": \"\"\n      }\n    },\n    {\n      \"column\": \"regiao\",\n      \"properties\": {\n        \"dtype\": \"category\",\n        \"num_unique_values\": 5,\n        \"samples\": [\n          \"Sul\",\n          \"Centro-Oeste\"\n        ],\n        \"semantic_type\": \"\",\n        \"description\": \"\"\n      }\n    },\n    {\n      \"column\": \"departamento\",\n      \"properties\": {\n        \"dtype\": \"category\",\n        \"num_unique_values\": 3,\n        \"samples\": [\n          \"Materiais de constru\\u00e7\\u00e3o\",\n          \"Jardinagem e paisagismo\"\n        ],\n        \"semantic_type\": \"\",\n        \"description\": \"\"\n      }\n    },\n    {\n      \"column\": \"tipo_produto\",\n      \"properties\": {\n        \"dtype\": \"category\",\n        \"num_unique_values\": 17,\n        \"samples\": [\n          \"encanamentos\",\n          \"ferramentas\"\n        ],\n        \"semantic_type\": \"\",\n        \"description\": \"\"\n      }\n    },\n    {\n      \"column\": \"preco_base\",\n      \"properties\": {\n        \"dtype\": \"number\",\n        \"std\": 436.25675263212275,\n        \"min\": 2.06,\n        \"max\": 9043.98,\n        \"num_unique_values\": 3639,\n        \"samples\": [\n          9.0,\n          120.63\n        ],\n        \"semantic_type\": \"\",\n        \"description\": \"\"\n      }\n    },\n    {\n      \"column\": \"preco_unit_sem_desc\",\n      \"properties\": {\n        \"dtype\": \"number\",\n        \"std\": 522.0724355071861,\n        \"min\": 1.9,\n        \"max\": 11899.97,\n        \"num_unique_values\": 2860,\n        \"samples\": [\n          9.69,\n          25.53\n        ],\n        \"semantic_type\": \"\",\n        \"description\": \"\"\n      }\n    },\n    {\n      \"column\": \"desconto\",\n      \"properties\": {\n        \"dtype\": \"number\",\n        \"std\": 0.10305401989101841,\n        \"min\": 0.0,\n        \"max\": 0.4,\n        \"num_unique_values\": 12,\n        \"samples\": [\n          0.2,\n          0.3\n        ],\n        \"semantic_type\": \"\",\n        \"description\": \"\"\n      }\n    },\n    {\n      \"column\": \"preco_unit_venda\",\n      \"properties\": {\n        \"dtype\": \"number\",\n        \"std\": 486.21307687269126,\n        \"min\": 1.14,\n        \"max\": 11899.97,\n        \"num_unique_values\": 2839,\n        \"samples\": [\n          9.14,\n          754.23\n        ],\n        \"semantic_type\": \"\",\n        \"description\": \"\"\n      }\n    },\n    {\n      \"column\": \"quantidade\",\n      \"properties\": {\n        \"dtype\": \"number\",\n        \"std\": 2,\n        \"min\": 1,\n        \"max\": 14,\n        \"num_unique_values\": 14,\n        \"samples\": [\n          14,\n          13\n        ],\n        \"semantic_type\": \"\",\n        \"description\": \"\"\n      }\n    },\n    {\n      \"column\": \"vendas\",\n      \"properties\": {\n        \"dtype\": \"number\",\n        \"std\": 2048.527267147726,\n        \"min\": 1.51,\n        \"max\": 59499.85,\n        \"num_unique_values\": 5723,\n        \"samples\": [\n          132.16,\n          356.49\n        ],\n        \"semantic_type\": \"\",\n        \"description\": \"\"\n      }\n    },\n    {\n      \"column\": \"lucro\",\n      \"properties\": {\n        \"dtype\": \"number\",\n        \"std\": 415.43534507386255,\n        \"min\": -11219.95,\n        \"max\": 14280.0,\n        \"num_unique_values\": 6168,\n        \"samples\": [\n          50.48000000000002,\n          5.819999999999936\n        ],\n        \"semantic_type\": \"\",\n        \"description\": \"\"\n      }\n    }\n  ]\n}"
            }
          },
          "metadata": {},
          "execution_count": 5
        }
      ],
      "source": [
        "# Importando o relatório de vendas e atualizando as colunas de pedido e envio para o tipo data\n",
        "vendas = pd.read_csv('/content/drive/MyDrive/Colab Notebooks/relatorio_vendas.csv')\n",
        "vendas['data_pedido'] = pd.to_datetime(vendas['data_pedido'], format='%Y-%m-%d')\n",
        "vendas['data_envio'] = pd.to_datetime(vendas['data_envio'], format='%Y-%m-%d')\n",
        "\n",
        "vendas"
      ]
    },
    {
      "cell_type": "code",
      "execution_count": 6,
      "metadata": {
        "id": "UQjZEaUjkg8_",
        "colab": {
          "base_uri": "https://localhost:8080/"
        },
        "outputId": "971f8522-1fe2-4fb7-b082-c9947b51a861"
      },
      "outputs": [
        {
          "output_type": "stream",
          "name": "stdout",
          "text": [
            "<class 'pandas.core.frame.DataFrame'>\n",
            "RangeIndex: 8940 entries, 0 to 8939\n",
            "Data columns (total 17 columns):\n",
            " #   Column               Non-Null Count  Dtype         \n",
            "---  ------               --------------  -----         \n",
            " 0   data_pedido          8940 non-null   datetime64[ns]\n",
            " 1   data_envio           8940 non-null   datetime64[ns]\n",
            " 2   modo_envio           8940 non-null   object        \n",
            " 3   nome_cliente         8940 non-null   object        \n",
            " 4   segmento_cliente     8940 non-null   object        \n",
            " 5   cidade               8940 non-null   object        \n",
            " 6   estado               8940 non-null   object        \n",
            " 7   regiao               8940 non-null   object        \n",
            " 8   departamento         8940 non-null   object        \n",
            " 9   tipo_produto         8940 non-null   object        \n",
            " 10  preco_base           8940 non-null   float64       \n",
            " 11  preco_unit_sem_desc  8940 non-null   float64       \n",
            " 12  desconto             8940 non-null   float64       \n",
            " 13  preco_unit_venda     8940 non-null   float64       \n",
            " 14  quantidade           8940 non-null   int64         \n",
            " 15  vendas               8940 non-null   float64       \n",
            " 16  lucro                8940 non-null   float64       \n",
            "dtypes: datetime64[ns](2), float64(6), int64(1), object(8)\n",
            "memory usage: 1.2+ MB\n"
          ]
        }
      ],
      "source": [
        "# Verificando os tipos de dados e se existem dados nulos\n",
        "vendas.info()"
      ]
    },
    {
      "cell_type": "markdown",
      "metadata": {
        "id": "O-KLnaiFj6hM"
      },
      "source": [
        "Após visualizarmos de maneira rápida os dados que possuímos, vamos partir para as análises que podemos fazer com esses dados e quais os gráficos de comparação vamos utilizar a fim de apresentar esse tipo de informação.\n",
        "\n",
        "### **Questionamentos**\n",
        "\n",
        "1.   Qual o total de vendas por ano? E qual ano performou melhor em nossa base de dados?\n",
        "\n",
        "2.   Qual é o top 7 produtos que mais apresentaram lucros em nosso catálogo durante o período representado?\n",
        "\n",
        "3.   Se separarmos o total de vendas por ano por regiões? O que conseguimos observar em nossos dados?\n",
        "\n",
        "4.   Qual o modo de envio mais utilizado pelos clientes da loja? É proporcional para B2B e B2C?\n",
        "\n",
        "5.   Qual o total de vendas por trimestre do estado de São Paulo?\n",
        "\n",
        "6.   Qual o faturamento por trimestre em cada região?\n",
        "\n"
      ]
    },
    {
      "cell_type": "markdown",
      "metadata": {
        "id": "mkiMkui-HdZT"
      },
      "source": [
        "## **1.3 - Gráficos de colunas**\n",
        "\n",
        "\n",
        "---\n",
        "\n",
        "\n"
      ]
    },
    {
      "cell_type": "markdown",
      "metadata": {
        "id": "ckQWjwb6XzeK"
      },
      "source": [
        "<img src=\"https://github.com/alura-cursos/dataviz-graficos/blob/b86ed16b3652d0226512a1ecf74d044d197723d8/imagens/Tipos_Graficos/Gr%C3%A1fico%20(comparando%20e%20agrupando%20dados).png?raw=true\" alt=\"inserir alt\" height=\"343\">\n",
        "\n",
        "\n",
        "<font size=2>Fonte: Andrew Abela (Extreme Presentation/Biuwer)</font>\n"
      ]
    },
    {
      "cell_type": "markdown",
      "metadata": {
        "id": "8sc3B4Xnj8gO"
      },
      "source": [
        "### **Pergunta 1 -** Qual o total de vendas por ano? E qual ano performou melhor em nossa base de dados?"
      ]
    },
    {
      "cell_type": "markdown",
      "metadata": {
        "id": "q8kZdoa1o11o"
      },
      "source": [
        "#### Tratando os dados para gerar a visualização"
      ]
    },
    {
      "cell_type": "code",
      "execution_count": null,
      "metadata": {
        "id": "YUA5ibkLouAD"
      },
      "outputs": [],
      "source": [
        "# Criando um df com os dados desejados\n",
        "\n",
        "\n",
        "# Gerando uma coluna que represente apenas os anos puxando-os da coluna data pedido e agrupando os dados por ano\n",
        "\n",
        "\n",
        "df_vendas_ano"
      ]
    },
    {
      "cell_type": "markdown",
      "metadata": {
        "id": "odNP3nGIu8-J"
      },
      "source": [
        "#### Gerando o gráfico"
      ]
    },
    {
      "cell_type": "code",
      "execution_count": null,
      "metadata": {
        "id": "DRVLh5HWu7SN"
      },
      "outputs": [],
      "source": [
        "## Gerando a função para criar o gráfico de colunas\n",
        "\n",
        "\n",
        "# Importando as bibliotecas\n",
        "\n",
        "\n",
        "# Área do gráfico e tema da visualização\n",
        "\n",
        "\n",
        "# Gerando o gráfico de colunas\n",
        "\n",
        "# Personalizando o gráfico\n",
        "\n",
        "# Escrevendo os valores de cada barra no gráfico\n",
        "\n",
        "\n",
        "# retornando o eixo\n",
        "\n",
        "\n",
        "# chamando a função\n"
      ]
    },
    {
      "cell_type": "markdown",
      "metadata": {
        "id": "2DQ-Xi8ceNAp"
      },
      "source": [
        "## **1.4 - Adicionando textos na visualização**\n",
        "\n",
        "---\n",
        "\n"
      ]
    },
    {
      "cell_type": "code",
      "execution_count": null,
      "metadata": {
        "id": "tlkEC1C0faZ5"
      },
      "outputs": [],
      "source": [
        "## Configurando o gráfico com parâmetros que potencializam a visualização dos dados\n",
        "\n",
        "# Definindo as cores do gráfico\n",
        "\n",
        "\n",
        "## Chamando a função do gráfico de colunas\n",
        "\n",
        "\n",
        "# Anotando uma conclusão no gráfico\n"
      ]
    },
    {
      "cell_type": "markdown",
      "metadata": {
        "id": "giWDQDtkXDBe"
      },
      "source": [
        "<font color=green size=4> Conclusões: </font>\n",
        "\n",
        "---\n",
        "\n",
        "Um gráfico de colunas é ideal para compararmos valores com poucas categorias ou pequenos intervalos de tempo. Utilizamos aqui o recurso de destaque por cor para orientar o nosso público a visualizar o último período em comparação aos outros. Além disso, passamos uma informação em forma de texto apontando a evolução em relação ao ano anterior.  \n",
        "\n",
        "Como sugestão, podemos testar essa técnica também com outros valores em nossa base de dados como, por exemplo, o lucro anual ou o faturamento em vendas pelo estado ou região que você preferir analisar."
      ]
    },
    {
      "cell_type": "markdown",
      "metadata": {
        "id": "o-h-SNCNejTH"
      },
      "source": [
        "## **1.5  - Gráfico de barras**\n",
        "\n",
        "---\n",
        "\n",
        "\n",
        "\n"
      ]
    },
    {
      "cell_type": "markdown",
      "metadata": {
        "id": "TJ-JnYYsGMMz"
      },
      "source": [
        "### **Pergunta 2 -** Qual é o top 7 produtos que mais apresentaram lucros em nosso catálogo durante o período representado?"
      ]
    },
    {
      "cell_type": "markdown",
      "metadata": {
        "id": "WI6f6ehgGMM4"
      },
      "source": [
        "#### Tratando os dados para gerar a visualização"
      ]
    },
    {
      "cell_type": "code",
      "execution_count": null,
      "metadata": {
        "id": "-8ZxHixDGMM5"
      },
      "outputs": [],
      "source": [
        "# Criando um df com os dados desejados\n",
        "\n",
        "\n",
        "# Agrupando os dados por tipo_produto, ordenando de maneira crescente pelo lucro e selecionando os 7 primeiros\n",
        "\n",
        "\n",
        "top_7"
      ]
    },
    {
      "cell_type": "markdown",
      "metadata": {
        "id": "ibvPGfwBGMM5"
      },
      "source": [
        "#### Gerando o gráfico"
      ]
    },
    {
      "cell_type": "code",
      "execution_count": null,
      "metadata": {
        "id": "hV6ZxoDlm2w0"
      },
      "outputs": [],
      "source": [
        "## Gerando a função para criar o gráfico de barras\n",
        "\n",
        "def grafico_top_7():\n",
        "  # Importando as bibliotecas\n",
        "  import matplotlib.pyplot as plt\n",
        "  import seaborn as sns\n",
        "\n",
        "  # Área do gráfico e tema da visualização\n",
        "  fig, ax = plt.subplots(figsize=(10,4))\n",
        "  ...\n",
        "  sns.set_theme(style=\"white\")\n",
        "\n",
        "  # Definindo as cores do gráfico\n",
        "\n",
        "\n",
        "  # Gerando o gráfico de colunas\n",
        "\n",
        "\n",
        "  # ## Personalizando o gráfico\n",
        "  # ax.set_title('Top 7 produtos com maior lucro no catálogo (2016-2019)\\n', fontsize=18, color=CINZA1, loc='left')\n",
        "  # ax.set_xlabel('')\n",
        "  # ax.set_ylabel('')\n",
        "  # ax.set_xticklabels([])\n",
        "  # ax.yaxis.set_tick_params(labelsize=10, labelcolor = CINZA2)\n",
        "  # sns.despine(left = True, bottom = True)\n",
        "\n",
        "  # # Escrevendo os valores de cada barra no gráfico\n",
        "  # for i, valor in enumerate(top_7['lucro']):\n",
        "  #     qtd = f'R$ {valor:,.0f}'.replace(',','.')\n",
        "  #     offset = 1e3  # offset de 1.000\n",
        "  #     ax.text(valor - offset, i, qtd, color= CINZA5, fontsize=10, fontweight='bold', ha='right', va='center')\n",
        "\n",
        "  return ax\n",
        "\n",
        "ax = grafico_top_7()"
      ]
    },
    {
      "cell_type": "markdown",
      "metadata": {
        "id": "PDPTH1XMnCQK"
      },
      "source": [
        "## **Adicionando texto com destaques**\n",
        "\n",
        "---\n",
        "\n",
        "\n"
      ]
    },
    {
      "cell_type": "markdown",
      "metadata": {
        "id": "DtAwXsTzoirv"
      },
      "source": [
        "Criando uma função para escrita de texto utilizando diferentes cores.\n",
        "\n",
        "> Não existe uma função nativa para isso. (Adaptado de https://github.com/empathy87/storytelling-with-data)\n",
        "\n"
      ]
    },
    {
      "cell_type": "code",
      "execution_count": null,
      "metadata": {
        "id": "HQcEvuEOm2wu"
      },
      "outputs": [],
      "source": [
        "from matplotlib import transforms\n",
        "\n",
        "def texto_colorido(x, y, texto, cores, esp=20, ax=None, **kw):\n",
        "    cores = list(reversed(cores))\n",
        "    t = ax.transData\n",
        "    canvas = ax.figure.canvas\n",
        "\n",
        "    for i, linha in enumerate(reversed(texto.split('\\n'))):\n",
        "        frases = linha.split('||')\n",
        "        for s, cor in zip(frases, cores[i]):\n",
        "            texto = ax.text(x, y, s, color=cor, transform=t, **kw)\n",
        "            texto.draw(canvas.get_renderer())\n",
        "            ex = texto.get_window_extent()\n",
        "            t = transforms.offset_copy(texto._transform, x=ex.width,\n",
        "                                       units='dots')\n",
        "\n",
        "        t = transforms.offset_copy(ax.transData, x=0, y=(i + 1) * esp, units='dots')"
      ]
    },
    {
      "cell_type": "markdown",
      "metadata": {
        "id": "-tKaP-mKp4E5"
      },
      "source": [
        "#### Gerando o gráfico"
      ]
    },
    {
      "cell_type": "code",
      "execution_count": null,
      "metadata": {
        "id": "XdFVO61aGMM5"
      },
      "outputs": [],
      "source": [
        "## Configurando o gráfico com parâmetros que potencializam a visualização dos dados\n",
        "\n",
        "# Chamando a função do gráfico de barras\n",
        "ax = grafico_top_7()\n",
        "\n",
        "# Anotando uma conclusão no gráfico\n",
        "texto_colorido(\n",
        "    9.2e4, 3.25,                                                        # coordenadas\n",
        "    'Os dados indicam que os 3 produtos que geram\\n'                    # texto\n",
        "    '$\\\\bf{maior\\ lucro}$|| são do departamento ||$\\\\bf{Automotivo}$.\\n'\n",
        "    '\\n'\n",
        "    'Podemos notar também que o departamento de\\n'\n",
        "    '$\\\\bf{Jardinagem\\ e\\ paisagismo}$|| possui 3 produtos com\\n'\n",
        "    'uma boa margem de lucro, sendo que um deles está\\n'\n",
        "    'abaixo de ||$\\\\bf{50\\ mil\\ reais}$|| no período mencionado.',\n",
        "    [[CINZA2],                        # linha 1                          # cores\n",
        "     [CINZA1, CINZA2, AZUL2],         # linha 2\n",
        "     [CINZA2],                        # linha 3\n",
        "     [CINZA2],                        # linha 4\n",
        "     [VERDE1, CINZA2],                # linha 5\n",
        "     [CINZA2],                        # linha 5\n",
        "     [CINZA2, CINZA1, CINZA2]        # linha 7\n",
        "    ],\n",
        "    esp=22, # espaçamento\n",
        "    ax=ax, # figura onde desenhar o texto\n",
        "    fontsize=10)\n",
        "\n",
        "fig = ax.get_figure()"
      ]
    },
    {
      "cell_type": "markdown",
      "metadata": {
        "id": "K_r5Hsc5GMM6"
      },
      "source": [
        "<font color=green size=4> Conclusões: </font>\n",
        "\n",
        "---\n",
        "\n",
        "Um gráfico de barras é ideal para compararmos valores com muitos itens (acima de 5), principalmente se os itens forem pequenas frases ou palavras. Utilizamos aqui o recurso de divisão de categorias por cor, além do destaque dessas no texto, orientando o público sobre qual dados em específico estamos explorando.\n",
        "\n",
        "Como sugestão, podemos testar essa técnica também com outros valores em nossa base de dados como, por exemplo, o faturamento em um dado período ou em relação ao departamento e/ou região que você preferir analisar."
      ]
    },
    {
      "cell_type": "markdown",
      "metadata": {
        "id": "jHqFqkNpsRqM"
      },
      "source": [
        "# **Aula 2 - Agrupando dados**"
      ]
    },
    {
      "cell_type": "markdown",
      "metadata": {
        "id": "tLLaxZYpsq_j"
      },
      "source": [
        "<img src=\"https://github.com/alura-cursos/dataviz-graficos/blob/b86ed16b3652d0226512a1ecf74d044d197723d8/imagens/Tipos_Graficos/Gr%C3%A1fico%20(comparando%20e%20agrupando%20dados).png?raw=true\" alt=\"inserir alt\" height=\"343\">\n",
        "\n",
        "\n",
        "<font size=2>Fonte: Andrew Abela (Extreme Presentation/Biuwer)</font>\n"
      ]
    },
    {
      "cell_type": "markdown",
      "metadata": {
        "id": "N6tv_s2QsamF"
      },
      "source": [
        "## **2.1 - Gráfico de colunas empilhadas**\n",
        "\n",
        "---\n",
        "\n"
      ]
    },
    {
      "cell_type": "markdown",
      "metadata": {
        "id": "Yh0BtbNVRIk9"
      },
      "source": [
        "### **Pergunta 3 -** Se separarmos o total de vendas por ano por região? O que conseguimos observar em nossos dados?"
      ]
    },
    {
      "cell_type": "markdown",
      "metadata": {
        "id": "ne-lgc1zRIlO"
      },
      "source": [
        "#### Tratando os dados para gerar a visualização"
      ]
    },
    {
      "cell_type": "code",
      "execution_count": null,
      "metadata": {
        "id": "bt9DbcglRIlO"
      },
      "outputs": [],
      "source": [
        "# Criando um df com os dados desejados\n",
        "df_vendas_reg = vendas.copy()\n",
        "df_vendas_reg = df_vendas_reg[['data_pedido','regiao', 'vendas']]\n",
        "\n",
        "# Gerando uma coluna que represente apenas os anos puxando-os da coluna data pedido\n",
        "df_vendas_reg['ano'] = df_vendas_reg.data_pedido.dt.year\n",
        "df_vendas_reg.drop(labels = \"data_pedido\", axis = 1, inplace = True)\n",
        "\n",
        "df_vendas_reg"
      ]
    },
    {
      "cell_type": "code",
      "execution_count": null,
      "metadata": {
        "id": "79kcFoWkfVIB"
      },
      "outputs": [],
      "source": [
        "# Criando uma tabela cruzada (crosstab) com os valores de venda de cada ano por região\n",
        "\n",
        "\n",
        "# Ajustando a tabela em ordem descrescente dos estados que mais executam vendas\n",
        "vendas_reg = vendas_reg[[\"Sudeste\", \"Nordeste\", \"Centro-Oeste\", \"Norte\", \"Sul\"]]\n",
        "vendas_reg"
      ]
    },
    {
      "cell_type": "markdown",
      "metadata": {
        "id": "PRIqzUHoRIlP"
      },
      "source": [
        "#### Gerando o gráfico"
      ]
    },
    {
      "cell_type": "code",
      "execution_count": null,
      "metadata": {
        "id": "z_9iKlj4RIlP"
      },
      "outputs": [],
      "source": [
        "## Gerando a função para criar o gráfico de barras\n",
        "\n",
        "def grafico_vendas_regiao():\n",
        "  # Definindo as cores do gráfico\n",
        "  cores = [AZUL2, AZUL3, AZUL4, CINZA3, CINZA4]\n",
        "\n",
        "  # Gerando o gráfico de colunas empilhadas\n",
        "  ...\n",
        "\n",
        "  # # Personalizando o gráfico\n",
        "  # ax.set_title('Vendas das lojas de departamentos por região\\nde 2016 a 2019', loc='left', fontsize=22, color = CINZA1)\n",
        "  # ax.set_xlabel('')\n",
        "  # ax.set_ylabel('')\n",
        "  # ax.set_yticklabels([])\n",
        "  # ax.xaxis.set_tick_params(labelsize=14, labelcolor = CINZA2, rotation = 0)\n",
        "  # ax.set_frame_on(False)\n",
        "\n",
        "  # remover todos os ticks do eixo x e y\n",
        "  ...\n",
        "\n",
        "  # # Anotando uma conclusão no gráfico\n",
        "  # ax.text(3.35, 1e6, '87%', fontweight='bold', fontsize=20, color=AZUL1)\n",
        "  # ax.text(3.35, 5.5e5,\n",
        "  #         'das vendas nas lojas\\n'\n",
        "  #         'estão concentradas nas regiões\\n'\n",
        "  #         '$\\\\bf{Sudeste}$, $\\\\bf{Nordeste}$ e\\n'\n",
        "  #         '$\\\\bf{Centro-Oeste}$ em 2019.',\n",
        "  #         fontsize=14,\n",
        "  #         linespacing=1.45,\n",
        "  #         color=AZUL1)\n",
        "\n",
        "  return ax\n",
        "\n",
        "ax = grafico_vendas_regiao()"
      ]
    },
    {
      "cell_type": "markdown",
      "metadata": {
        "id": "CS3Gw19q20ZB"
      },
      "source": [
        "## **2.2 - Bar label e legenda**\n",
        "\n",
        "---\n",
        "\n"
      ]
    },
    {
      "cell_type": "code",
      "execution_count": null,
      "metadata": {
        "id": "9TyLzlNC2r6v"
      },
      "outputs": [],
      "source": [
        "## Configurando o gráfico com parâmetros que potencializam a visualização dos dados\n",
        "\n",
        "# Chamando a função do gráfico de barras\n",
        "ax = grafico_vendas_regiao()\n",
        "\n",
        "# Personalizando a legenda\n",
        "\n",
        "\n",
        "# Adicionando os valores\n",
        "\n",
        "\n",
        "\n",
        "fig = ax.get_figure()"
      ]
    },
    {
      "cell_type": "markdown",
      "metadata": {
        "id": "7ZfnaWSZRIlQ"
      },
      "source": [
        "<font color=green size=4> Conclusões: </font>\n",
        "\n",
        "---\n",
        "\n",
        "Diferentemente de um gráfico de colunas simples, o gráfico de colunas empilhadas adiciona à comparação entre períodos ou categorias a comparação também entre os dados de cada período/categoria. É como se colocássemos uma \"lupa\" em cada coluna e vizualizássemos a composição de cada uma delas de acordo com a variável desejada (no nosso exemplo as regiões). Utilizamos aqui o recurso da legenda para divisão das regiões e os valores de cada coluna para comparação entre si\n",
        "\n",
        "Como sugestão, podemos testar essa técnica também com outros valores em nossa base de dados como, por exemplo, o lucro anual ou o faturamento em vendas por estados de uma mesma região que você preferir analisar."
      ]
    },
    {
      "cell_type": "markdown",
      "metadata": {
        "id": "eQlK9345-Ywv"
      },
      "source": [
        "## **2.3 - Gráfico de barras empilhadas**\n",
        "\n",
        "---\n",
        "\n",
        "\n",
        "\n"
      ]
    },
    {
      "cell_type": "markdown",
      "metadata": {
        "id": "lmtvImYyEVyc"
      },
      "source": [
        "### **Pergunta 4 -** Qual o modo de envio mais utilizado pelos clientes da loja? É proporcional para B2B e B2C?"
      ]
    },
    {
      "cell_type": "markdown",
      "metadata": {
        "id": "i7h-azlhEVyi"
      },
      "source": [
        "#### Tratando os dados para gerar a visualização"
      ]
    },
    {
      "cell_type": "code",
      "execution_count": null,
      "metadata": {
        "colab": {
          "base_uri": "https://localhost:8080/",
          "height": 206
        },
        "id": "tqccIL-XEVyi",
        "outputId": "7a595afc-ddc9-42f8-c1c1-8d2f150f5497"
      },
      "outputs": [
        {
          "data": {
            "text/html": [
              "\n",
              "  <div id=\"df-d313935b-33c6-435b-9285-1518a39834e8\">\n",
              "    <div class=\"colab-df-container\">\n",
              "      <div>\n",
              "<style scoped>\n",
              "    .dataframe tbody tr th:only-of-type {\n",
              "        vertical-align: middle;\n",
              "    }\n",
              "\n",
              "    .dataframe tbody tr th {\n",
              "        vertical-align: top;\n",
              "    }\n",
              "\n",
              "    .dataframe thead th {\n",
              "        text-align: right;\n",
              "    }\n",
              "</style>\n",
              "<table border=\"1\" class=\"dataframe\">\n",
              "  <thead>\n",
              "    <tr style=\"text-align: right;\">\n",
              "      <th>segmento_cliente</th>\n",
              "      <th>B2B</th>\n",
              "      <th>B2C</th>\n",
              "    </tr>\n",
              "    <tr>\n",
              "      <th>modo_envio</th>\n",
              "      <th></th>\n",
              "      <th></th>\n",
              "    </tr>\n",
              "  </thead>\n",
              "  <tbody>\n",
              "    <tr>\n",
              "      <th>24 horas</th>\n",
              "      <td>207</td>\n",
              "      <td>288</td>\n",
              "    </tr>\n",
              "    <tr>\n",
              "      <th>Envio rápido</th>\n",
              "      <td>676</td>\n",
              "      <td>673</td>\n",
              "    </tr>\n",
              "    <tr>\n",
              "      <th>Econômica</th>\n",
              "      <td>829</td>\n",
              "      <td>906</td>\n",
              "    </tr>\n",
              "    <tr>\n",
              "      <th>Entrega padrão</th>\n",
              "      <td>2552</td>\n",
              "      <td>2809</td>\n",
              "    </tr>\n",
              "  </tbody>\n",
              "</table>\n",
              "</div>\n",
              "      <button class=\"colab-df-convert\" onclick=\"convertToInteractive('df-d313935b-33c6-435b-9285-1518a39834e8')\"\n",
              "              title=\"Convert this dataframe to an interactive table.\"\n",
              "              style=\"display:none;\">\n",
              "        \n",
              "  <svg xmlns=\"http://www.w3.org/2000/svg\" height=\"24px\"viewBox=\"0 0 24 24\"\n",
              "       width=\"24px\">\n",
              "    <path d=\"M0 0h24v24H0V0z\" fill=\"none\"/>\n",
              "    <path d=\"M18.56 5.44l.94 2.06.94-2.06 2.06-.94-2.06-.94-.94-2.06-.94 2.06-2.06.94zm-11 1L8.5 8.5l.94-2.06 2.06-.94-2.06-.94L8.5 2.5l-.94 2.06-2.06.94zm10 10l.94 2.06.94-2.06 2.06-.94-2.06-.94-.94-2.06-.94 2.06-2.06.94z\"/><path d=\"M17.41 7.96l-1.37-1.37c-.4-.4-.92-.59-1.43-.59-.52 0-1.04.2-1.43.59L10.3 9.45l-7.72 7.72c-.78.78-.78 2.05 0 2.83L4 21.41c.39.39.9.59 1.41.59.51 0 1.02-.2 1.41-.59l7.78-7.78 2.81-2.81c.8-.78.8-2.07 0-2.86zM5.41 20L4 18.59l7.72-7.72 1.47 1.35L5.41 20z\"/>\n",
              "  </svg>\n",
              "      </button>\n",
              "      \n",
              "  <style>\n",
              "    .colab-df-container {\n",
              "      display:flex;\n",
              "      flex-wrap:wrap;\n",
              "      gap: 12px;\n",
              "    }\n",
              "\n",
              "    .colab-df-convert {\n",
              "      background-color: #E8F0FE;\n",
              "      border: none;\n",
              "      border-radius: 50%;\n",
              "      cursor: pointer;\n",
              "      display: none;\n",
              "      fill: #1967D2;\n",
              "      height: 32px;\n",
              "      padding: 0 0 0 0;\n",
              "      width: 32px;\n",
              "    }\n",
              "\n",
              "    .colab-df-convert:hover {\n",
              "      background-color: #E2EBFA;\n",
              "      box-shadow: 0px 1px 2px rgba(60, 64, 67, 0.3), 0px 1px 3px 1px rgba(60, 64, 67, 0.15);\n",
              "      fill: #174EA6;\n",
              "    }\n",
              "\n",
              "    [theme=dark] .colab-df-convert {\n",
              "      background-color: #3B4455;\n",
              "      fill: #D2E3FC;\n",
              "    }\n",
              "\n",
              "    [theme=dark] .colab-df-convert:hover {\n",
              "      background-color: #434B5C;\n",
              "      box-shadow: 0px 1px 3px 1px rgba(0, 0, 0, 0.15);\n",
              "      filter: drop-shadow(0px 1px 2px rgba(0, 0, 0, 0.3));\n",
              "      fill: #FFFFFF;\n",
              "    }\n",
              "  </style>\n",
              "\n",
              "      <script>\n",
              "        const buttonEl =\n",
              "          document.querySelector('#df-d313935b-33c6-435b-9285-1518a39834e8 button.colab-df-convert');\n",
              "        buttonEl.style.display =\n",
              "          google.colab.kernel.accessAllowed ? 'block' : 'none';\n",
              "\n",
              "        async function convertToInteractive(key) {\n",
              "          const element = document.querySelector('#df-d313935b-33c6-435b-9285-1518a39834e8');\n",
              "          const dataTable =\n",
              "            await google.colab.kernel.invokeFunction('convertToInteractive',\n",
              "                                                     [key], {});\n",
              "          if (!dataTable) return;\n",
              "\n",
              "          const docLinkHtml = 'Like what you see? Visit the ' +\n",
              "            '<a target=\"_blank\" href=https://colab.research.google.com/notebooks/data_table.ipynb>data table notebook</a>'\n",
              "            + ' to learn more about interactive tables.';\n",
              "          element.innerHTML = '';\n",
              "          dataTable['output_type'] = 'display_data';\n",
              "          await google.colab.output.renderOutput(dataTable, element);\n",
              "          const docLink = document.createElement('div');\n",
              "          docLink.innerHTML = docLinkHtml;\n",
              "          element.appendChild(docLink);\n",
              "        }\n",
              "      </script>\n",
              "    </div>\n",
              "  </div>\n",
              "  "
            ],
            "text/plain": [
              "segmento_cliente   B2B   B2C\n",
              "modo_envio                  \n",
              "24 horas           207   288\n",
              "Envio rápido       676   673\n",
              "Econômica          829   906\n",
              "Entrega padrão    2552  2809"
            ]
          },
          "execution_count": 10,
          "metadata": {},
          "output_type": "execute_result"
        }
      ],
      "source": [
        "# Criando um df com os dados desejados\n",
        "df_envio = vendas.copy()\n",
        "df_envio = df_envio[['modo_envio', 'segmento_cliente']]\n",
        "\n",
        "# Criando uma tabela cruzada (crosstab) com os modos de envio divididos pelos clientes B2C e B2B\n",
        "df_envio_seg = pd.crosstab(index = df_envio.modo_envio, columns = df_envio.segmento_cliente).sort_values(\"B2B\")\n",
        "\n",
        "df_envio_seg"
      ]
    },
    {
      "cell_type": "code",
      "execution_count": null,
      "metadata": {
        "colab": {
          "base_uri": "https://localhost:8080/",
          "height": 206
        },
        "id": "ehCWQfSrRLa3",
        "outputId": "54f8ad89-b63d-46f2-ff39-89b0bfa8fd9e"
      },
      "outputs": [
        {
          "data": {
            "text/html": [
              "\n",
              "  <div id=\"df-bca6e259-0134-4108-8cdb-55df949ad7eb\">\n",
              "    <div class=\"colab-df-container\">\n",
              "      <div>\n",
              "<style scoped>\n",
              "    .dataframe tbody tr th:only-of-type {\n",
              "        vertical-align: middle;\n",
              "    }\n",
              "\n",
              "    .dataframe tbody tr th {\n",
              "        vertical-align: top;\n",
              "    }\n",
              "\n",
              "    .dataframe thead th {\n",
              "        text-align: right;\n",
              "    }\n",
              "</style>\n",
              "<table border=\"1\" class=\"dataframe\">\n",
              "  <thead>\n",
              "    <tr style=\"text-align: right;\">\n",
              "      <th>segmento_cliente</th>\n",
              "      <th>B2B</th>\n",
              "      <th>B2C</th>\n",
              "    </tr>\n",
              "    <tr>\n",
              "      <th>modo_envio</th>\n",
              "      <th></th>\n",
              "      <th></th>\n",
              "    </tr>\n",
              "  </thead>\n",
              "  <tbody>\n",
              "    <tr>\n",
              "      <th>24 horas</th>\n",
              "      <td>0.418182</td>\n",
              "      <td>0.581818</td>\n",
              "    </tr>\n",
              "    <tr>\n",
              "      <th>Econômica</th>\n",
              "      <td>0.477810</td>\n",
              "      <td>0.522190</td>\n",
              "    </tr>\n",
              "    <tr>\n",
              "      <th>Entrega padrão</th>\n",
              "      <td>0.476031</td>\n",
              "      <td>0.523969</td>\n",
              "    </tr>\n",
              "    <tr>\n",
              "      <th>Envio rápido</th>\n",
              "      <td>0.501112</td>\n",
              "      <td>0.498888</td>\n",
              "    </tr>\n",
              "  </tbody>\n",
              "</table>\n",
              "</div>\n",
              "      <button class=\"colab-df-convert\" onclick=\"convertToInteractive('df-bca6e259-0134-4108-8cdb-55df949ad7eb')\"\n",
              "              title=\"Convert this dataframe to an interactive table.\"\n",
              "              style=\"display:none;\">\n",
              "        \n",
              "  <svg xmlns=\"http://www.w3.org/2000/svg\" height=\"24px\"viewBox=\"0 0 24 24\"\n",
              "       width=\"24px\">\n",
              "    <path d=\"M0 0h24v24H0V0z\" fill=\"none\"/>\n",
              "    <path d=\"M18.56 5.44l.94 2.06.94-2.06 2.06-.94-2.06-.94-.94-2.06-.94 2.06-2.06.94zm-11 1L8.5 8.5l.94-2.06 2.06-.94-2.06-.94L8.5 2.5l-.94 2.06-2.06.94zm10 10l.94 2.06.94-2.06 2.06-.94-2.06-.94-.94-2.06-.94 2.06-2.06.94z\"/><path d=\"M17.41 7.96l-1.37-1.37c-.4-.4-.92-.59-1.43-.59-.52 0-1.04.2-1.43.59L10.3 9.45l-7.72 7.72c-.78.78-.78 2.05 0 2.83L4 21.41c.39.39.9.59 1.41.59.51 0 1.02-.2 1.41-.59l7.78-7.78 2.81-2.81c.8-.78.8-2.07 0-2.86zM5.41 20L4 18.59l7.72-7.72 1.47 1.35L5.41 20z\"/>\n",
              "  </svg>\n",
              "      </button>\n",
              "      \n",
              "  <style>\n",
              "    .colab-df-container {\n",
              "      display:flex;\n",
              "      flex-wrap:wrap;\n",
              "      gap: 12px;\n",
              "    }\n",
              "\n",
              "    .colab-df-convert {\n",
              "      background-color: #E8F0FE;\n",
              "      border: none;\n",
              "      border-radius: 50%;\n",
              "      cursor: pointer;\n",
              "      display: none;\n",
              "      fill: #1967D2;\n",
              "      height: 32px;\n",
              "      padding: 0 0 0 0;\n",
              "      width: 32px;\n",
              "    }\n",
              "\n",
              "    .colab-df-convert:hover {\n",
              "      background-color: #E2EBFA;\n",
              "      box-shadow: 0px 1px 2px rgba(60, 64, 67, 0.3), 0px 1px 3px 1px rgba(60, 64, 67, 0.15);\n",
              "      fill: #174EA6;\n",
              "    }\n",
              "\n",
              "    [theme=dark] .colab-df-convert {\n",
              "      background-color: #3B4455;\n",
              "      fill: #D2E3FC;\n",
              "    }\n",
              "\n",
              "    [theme=dark] .colab-df-convert:hover {\n",
              "      background-color: #434B5C;\n",
              "      box-shadow: 0px 1px 3px 1px rgba(0, 0, 0, 0.15);\n",
              "      filter: drop-shadow(0px 1px 2px rgba(0, 0, 0, 0.3));\n",
              "      fill: #FFFFFF;\n",
              "    }\n",
              "  </style>\n",
              "\n",
              "      <script>\n",
              "        const buttonEl =\n",
              "          document.querySelector('#df-bca6e259-0134-4108-8cdb-55df949ad7eb button.colab-df-convert');\n",
              "        buttonEl.style.display =\n",
              "          google.colab.kernel.accessAllowed ? 'block' : 'none';\n",
              "\n",
              "        async function convertToInteractive(key) {\n",
              "          const element = document.querySelector('#df-bca6e259-0134-4108-8cdb-55df949ad7eb');\n",
              "          const dataTable =\n",
              "            await google.colab.kernel.invokeFunction('convertToInteractive',\n",
              "                                                     [key], {});\n",
              "          if (!dataTable) return;\n",
              "\n",
              "          const docLinkHtml = 'Like what you see? Visit the ' +\n",
              "            '<a target=\"_blank\" href=https://colab.research.google.com/notebooks/data_table.ipynb>data table notebook</a>'\n",
              "            + ' to learn more about interactive tables.';\n",
              "          element.innerHTML = '';\n",
              "          dataTable['output_type'] = 'display_data';\n",
              "          await google.colab.output.renderOutput(dataTable, element);\n",
              "          const docLink = document.createElement('div');\n",
              "          docLink.innerHTML = docLinkHtml;\n",
              "          element.appendChild(docLink);\n",
              "        }\n",
              "      </script>\n",
              "    </div>\n",
              "  </div>\n",
              "  "
            ],
            "text/plain": [
              "segmento_cliente       B2B       B2C\n",
              "modo_envio                          \n",
              "24 horas          0.418182  0.581818\n",
              "Econômica         0.477810  0.522190\n",
              "Entrega padrão    0.476031  0.523969\n",
              "Envio rápido      0.501112  0.498888"
            ]
          },
          "execution_count": 11,
          "metadata": {},
          "output_type": "execute_result"
        }
      ],
      "source": [
        "# Criando uma tabela cruzada (crosstab) com os modos de envio divididos pelos clientes B2C e B2B nomarlizado\n",
        "df_envio_normalizado = pd.crosstab(index = df_envio.modo_envio, columns = df_envio.segmento_cliente, normalize = \"index\")\n",
        "\n",
        "df_envio_normalizado"
      ]
    },
    {
      "cell_type": "markdown",
      "metadata": {
        "id": "nL4W3JaWEVyi"
      },
      "source": [
        "#### Gerando o gráfico"
      ]
    },
    {
      "cell_type": "code",
      "execution_count": null,
      "metadata": {
        "id": "tAyjAuyTfXnp"
      },
      "outputs": [],
      "source": [
        "# Função para escrita de texto utilizando diferentes cores. Não existe uma\n",
        "# função nativa para isso. (Adaptado de https://github.com/empathy87/storytelling-with-data)\n",
        "from matplotlib import transforms\n",
        "\n",
        "def texto_colorido(x, y, texto, cores, esp=20, ax=None, **kw):\n",
        "    cores = list(reversed(cores))\n",
        "    t = ax.transData\n",
        "    canvas = ax.figure.canvas\n",
        "\n",
        "    for i, linha in enumerate(reversed(texto.split('\\n'))):\n",
        "        frases = linha.split('||')\n",
        "        for s, cor in zip(frases, cores[i]):\n",
        "            texto = ax.text(x, y, s, color=cor, transform=t, **kw)\n",
        "            texto.draw(canvas.get_renderer())\n",
        "            ex = texto.get_window_extent()\n",
        "            t = transforms.offset_copy(texto._transform, x=ex.width,\n",
        "                                       units='dots')\n",
        "\n",
        "        t = transforms.offset_copy(ax.transData, x=0, y=(i + 1) * esp, units='dots')"
      ]
    },
    {
      "cell_type": "code",
      "execution_count": null,
      "metadata": {
        "id": "_WiAez5LEVyj"
      },
      "outputs": [],
      "source": [
        "## Configurando o gráfico com parâmetros que potencializam a visualização dos dados\n",
        "\n",
        "# Importando as bibliotecas\n",
        "import matplotlib.pyplot as plt\n",
        "\n",
        "# Área do gráfico e tema da visualização\n",
        "fig, axs = plt.subplots(1, 2, figsize=(15,6), sharey = True)\n",
        "\n",
        "# Definindo as cores do gráfico\n",
        "cores = [AZUL2, AZUL5]\n",
        "\n",
        "# GRÁFICO 1 - Barras empilhadas\n",
        "\n",
        "...\n",
        "...\n",
        "axs[0].set_title('Em valores absolutos\\n', color = CINZA2)\n",
        "axs[0].set_xlabel('')\n",
        "axs[0].set_ylabel('')\n",
        "axs[0].set_xticklabels([])\n",
        "axs[0].yaxis.set_tick_params(labelsize=14, color = CINZA2)\n",
        "axs[0].set_frame_on(False)\n",
        "\n",
        "# remover todos os ticks do eixo x e y\n",
        "axs[0].tick_params(axis='both', which='both', length=0)\n",
        "\n",
        "texto_colorido(0, 3.5, '$\\\\bf{B2B}$ | || $\\\\bf{B2C}$', cores = [cores], ax=axs[0], fontsize=12) # legenda\n",
        "\n",
        "#######################################\n",
        "\n",
        "# GRÁFICO 2 - Barras empilhadas 100 %\n",
        "\n",
        "...\n",
        "...\n",
        "axs[1].set_title('Em porcentagem\\n', color = CINZA2)\n",
        "axs[1].set_xlabel('100%', color = CINZA2, size = 14, loc='right')\n",
        "axs[1].set_ylabel('')\n",
        "axs[1].set_xticklabels([])\n",
        "axs[1].set_frame_on(False)\n",
        "\n",
        "# remover todos os ticks do eixo x e y\n",
        "axs[1].tick_params(axis='both', which='both', length=0)\n",
        "\n",
        "texto_colorido(0, 3.5, '$\\\\bf{B2B}$ | || $\\\\bf{B2C}$', cores = [cores], ax=axs[1], fontsize=12) # legenda\n",
        "\n",
        "#######################################\n",
        "\n",
        "# # Título dos gráficos\n",
        "# fig.suptitle(\"Modo de envio mais utilizado pelos clientes B2B/B2C (2016-2019)\\n\",\n",
        "#              fontsize=18, color=CINZA1, ha = 'right', x = 0.55, y = 1.05)\n",
        "\n",
        "# # Valores das barras\n",
        "# for container in axs[0].containers:\n",
        "#     labels = [str(valor.get_width()) if valor.get_width() > 300 else '' for valor in container]\n",
        "#     axs[0].bar_label(container, label_type='center', labels = labels, size = 12, color = CINZA5, fontweight='bold')\n",
        "\n",
        "# for container in axs[1].containers:\n",
        "#     labels = [f'{valor.get_width()*100:.1f}%' for valor in container]\n",
        "#     axs[1].bar_label(container, label_type='center', labels = labels, size = 12, color = CINZA5, fontweight='bold')\n",
        "\n",
        "fig.show()"
      ]
    },
    {
      "cell_type": "markdown",
      "metadata": {
        "id": "e6iExl0rEVyj"
      },
      "source": [
        "<font color=green size=4> Conclusões: </font>\n",
        "\n",
        "---\n",
        "O gráfico de barras empilhadas se assemelha ao gráfico de colunas na aplicação. Neste exemplo, apresentamos dois tipos de gráficos de barras empilhadas: o 1º focando nas diferenças absolutas (entre barras) e relativas (na mesma barra) dos dados e o 2º focando apenas nas diferenças relativas entre os dados.\n",
        "\n",
        "Como sugestão, podemos testar essa técnica verificando o comportamento em cada ano ou com outros valores em nossa base de dados como, por exemplo, entre os tipos de produto e modos de entrega."
      ]
    },
    {
      "cell_type": "markdown",
      "metadata": {
        "id": "5NvxSVNjAmb2"
      },
      "source": [
        "# **Aula 3 - Séries de tempo**"
      ]
    },
    {
      "cell_type": "markdown",
      "metadata": {
        "id": "ROb8IYUGTeDJ"
      },
      "source": [
        "<img src=\"https://github.com/alura-cursos/dataviz-graficos/blob/b86ed16b3652d0226512a1ecf74d044d197723d8/imagens/Tipos_Graficos/Gr%C3%A1fico%20(s%C3%A9ries%20de%20tempo).png?raw=true\" alt=\"inserir alt\" height=\"343\">\n",
        "\n",
        "<font size=2>Fonte: Andrew Abela (Extreme Presentation/Biuwer)</font>\n"
      ]
    },
    {
      "cell_type": "markdown",
      "metadata": {
        "id": "1r_0T0wg6ByW"
      },
      "source": [
        "## **3.1 Gráfico de linha simples**\n",
        "\n",
        "---\n",
        "\n"
      ]
    },
    {
      "cell_type": "markdown",
      "metadata": {
        "id": "pKE9RgAlzeoR"
      },
      "source": [
        "### **Pergunta 5 -** Qual o total de vendas por trimestre do estado de São Paulo?"
      ]
    },
    {
      "cell_type": "markdown",
      "metadata": {
        "id": "h7eQ1KAFzeon"
      },
      "source": [
        "#### Tratando os dados para gerar a visualização"
      ]
    },
    {
      "cell_type": "code",
      "execution_count": null,
      "metadata": {
        "id": "topLDuXHzeoo"
      },
      "outputs": [],
      "source": [
        "# Criando um df com os dados desejados\n",
        "df_sp = vendas.copy()\n",
        "df_sp = df_sp.query('estado == \"São Paulo\"')[[\"data_pedido\", \"vendas\"]]\n",
        "\n",
        "# Agrupando as vendas por trimestre e arredondando valores para milhares\n",
        "...\n",
        "...\n",
        "df_sp[\"vendas\"] = round(df_sp[\"vendas\"] / 1e3 , 2)\n",
        "df_sp = df_sp.reset_index()\n",
        "df_sp"
      ]
    },
    {
      "cell_type": "markdown",
      "metadata": {
        "id": "MnA9gQ7xzeoq"
      },
      "source": [
        "#### Gerando o gráfico"
      ]
    },
    {
      "cell_type": "code",
      "execution_count": null,
      "metadata": {
        "id": "qRrgpl4rzeor"
      },
      "outputs": [],
      "source": [
        "## Gerando a função para o gráfico de linha\n",
        "\n",
        "def grafico_vendas_sp_tri():\n",
        "  # Importando as bibliotecas\n",
        "  import matplotlib.pyplot as plt\n",
        "\n",
        "  # Área do gráfico e tema da visualização\n",
        "  fig, ax = plt.subplots(figsize=(14,4))\n",
        "\n",
        "  # Gráfico de linha\n",
        "  ...\n",
        "\n",
        "  ...\n",
        "\n",
        "  # ## Personalizando o gráfico\n",
        "  # ax.set_title('Vendas por trimestre no estado de São Paulo', fontsize = 18, color = CINZA1, loc='left')\n",
        "  # ax.text(0.3, 0.95, \"De 2016 a 2019 (em milhares de reais)\", transform=ax.transAxes, color= CINZA2, fontsize=12, ha='right', va='center')\n",
        "  # ax.set_xlabel('')\n",
        "  # ax.set_ylabel('')\n",
        "  # ax.set_yticklabels([])\n",
        "  # ax.set_frame_on(False)\n",
        "  # ax.xaxis.set_tick_params(labelsize=14, labelcolor = CINZA2)\n",
        "\n",
        "  # # remover todos os ticks do eixo x e y\n",
        "  # ax.tick_params(axis='both', which='both', length=0)\n",
        "\n",
        "  # ## Ajustes no eixo y\n",
        "  # # Descrevendo o limite mínimo e máximo do eixo y\n",
        "  # plt.ylim(0, 400)\n",
        "\n",
        "  return ax\n",
        "\n",
        "ax = grafico_vendas_sp_tri()"
      ]
    },
    {
      "cell_type": "markdown",
      "metadata": {
        "id": "wHp3YFLcg_Sh"
      },
      "source": [
        "## **3.2 Definindo intervalos de tempo**\n",
        "\n",
        "---\n",
        "\n"
      ]
    },
    {
      "cell_type": "code",
      "execution_count": null,
      "metadata": {
        "id": "m_Dt4Hv3UJbY"
      },
      "outputs": [],
      "source": [
        "## Configurando o gráfico com parâmetros que potencializam a visualização dos dados\n",
        "\n",
        "# Importando as bibliotecas\n",
        "...\n",
        "\n",
        "# Chamando a função que gera o gráfico de linha\n",
        "ax = grafico_vendas_sp_tri()\n",
        "\n",
        "## Ajustes no eixo x\n",
        "# Definindo o intervalo em trimestres e colocando os nomes dos meses nos labels\n",
        "...\n",
        "...\n",
        "...\n",
        "...\n",
        "...\n",
        "\n",
        "# # Ajustando o eixo x colocando um nível acima de granularidade por meio da exibição do ano\n",
        "# texto = [16*\" \" + str(i) + 16*\" \" for i in range(2016, 2020)]\n",
        "# ax.text(ax.get_xbound()[0] + 35, - 80, f'|{texto[0]}|{texto[1]}|{texto[2]}|{texto[3]}|', fontsize=14, color=CINZA2)\n",
        "\n",
        "# # Destacando os valores do 4º trimestre\n",
        "# ano = 0\n",
        "# for i in range(3, len(df_sp[\"vendas\"]), 4):\n",
        "#   ax.text(x = ax.get_xticks()[i], y = df_sp[\"vendas\"][i] + 20, s = f\"R$ {df_sp['vendas'][i]} mil\", color = AZUL2, weight = \"bold\", fontsize = 10)\n",
        "#   ax.text(x = ax.get_xticks()[i] + 160, y = df_sp[\"vendas\"][i] + 20, s = f\"(4º Tri {2016 + ano})\", color = CINZA2, weight = \"bold\", fontsize = 10)\n",
        "#   ano +=1\n",
        "\n",
        "fig = ax.get_figure()"
      ]
    },
    {
      "cell_type": "markdown",
      "metadata": {
        "id": "yi4mXqvQzeos"
      },
      "source": [
        "<font color=green size=4> Conclusões: </font>\n",
        "\n",
        "---\n",
        "\n",
        "Quando estamos visualizando dados com muitos períodos de tempo é ideal trabalharmos com gráficos de linha, pois elas representam bem essa progressão dos valores com o tempo. Aqui utilizamos outro recurso visual que é o de destaque dos pontos de interesse (4º trimestre de cada ano) apresentando a tendência do dado nesse período específico de tempo.\n",
        "\n",
        "Como sugestão, podemos testar essa técnica também com outros valores em nossa base de dados como, por exemplo, as vendas no seu estado de interesse ou que você mora, ou até em intervalos de tempo diferentes: por mês, semestre, etc."
      ]
    },
    {
      "cell_type": "markdown",
      "metadata": {
        "id": "NrslRmfihO__"
      },
      "source": [
        "# **3.3 - Gráfico de linhas**\n",
        "\n",
        "---\n",
        "\n"
      ]
    },
    {
      "cell_type": "markdown",
      "metadata": {
        "id": "_ubWJruVc4NY"
      },
      "source": [
        "### **Pergunta 6 -** Qual o faturamento por trimestre em cada região?"
      ]
    },
    {
      "cell_type": "markdown",
      "metadata": {
        "id": "54Lj3KS6c4Nc"
      },
      "source": [
        "#### Tratando os dados para gerar a visualização"
      ]
    },
    {
      "cell_type": "code",
      "execution_count": null,
      "metadata": {
        "colab": {
          "base_uri": "https://localhost:8080/",
          "height": 455
        },
        "id": "ufVKlbxYc4Nd",
        "outputId": "7fa4b679-bcc1-4993-913e-99d931dc0bc0"
      },
      "outputs": [
        {
          "data": {
            "text/html": [
              "\n",
              "  <div id=\"df-224f34b0-cecb-41a0-ac32-2c504963bc8b\">\n",
              "    <div class=\"colab-df-container\">\n",
              "      <div>\n",
              "<style scoped>\n",
              "    .dataframe tbody tr th:only-of-type {\n",
              "        vertical-align: middle;\n",
              "    }\n",
              "\n",
              "    .dataframe tbody tr th {\n",
              "        vertical-align: top;\n",
              "    }\n",
              "\n",
              "    .dataframe thead th {\n",
              "        text-align: right;\n",
              "    }\n",
              "</style>\n",
              "<table border=\"1\" class=\"dataframe\">\n",
              "  <thead>\n",
              "    <tr style=\"text-align: right;\">\n",
              "      <th>regiao</th>\n",
              "      <th>Sudeste</th>\n",
              "      <th>Nordeste</th>\n",
              "      <th>Centro-Oeste</th>\n",
              "      <th>Norte</th>\n",
              "      <th>Sul</th>\n",
              "    </tr>\n",
              "    <tr>\n",
              "      <th>data_pedido</th>\n",
              "      <th></th>\n",
              "      <th></th>\n",
              "      <th></th>\n",
              "      <th></th>\n",
              "      <th></th>\n",
              "    </tr>\n",
              "  </thead>\n",
              "  <tbody>\n",
              "    <tr>\n",
              "      <th>2016-01-04</th>\n",
              "      <td>55.92</td>\n",
              "      <td>NaN</td>\n",
              "      <td>NaN</td>\n",
              "      <td>NaN</td>\n",
              "      <td>NaN</td>\n",
              "    </tr>\n",
              "    <tr>\n",
              "      <th>2016-01-05</th>\n",
              "      <td>979.42</td>\n",
              "      <td>NaN</td>\n",
              "      <td>NaN</td>\n",
              "      <td>NaN</td>\n",
              "      <td>NaN</td>\n",
              "    </tr>\n",
              "    <tr>\n",
              "      <th>2016-01-06</th>\n",
              "      <td>NaN</td>\n",
              "      <td>NaN</td>\n",
              "      <td>66.42</td>\n",
              "      <td>NaN</td>\n",
              "      <td>NaN</td>\n",
              "    </tr>\n",
              "    <tr>\n",
              "      <th>2016-01-07</th>\n",
              "      <td>14940.66</td>\n",
              "      <td>43.44</td>\n",
              "      <td>NaN</td>\n",
              "      <td>NaN</td>\n",
              "      <td>NaN</td>\n",
              "    </tr>\n",
              "    <tr>\n",
              "      <th>2016-01-08</th>\n",
              "      <td>296.37</td>\n",
              "      <td>NaN</td>\n",
              "      <td>NaN</td>\n",
              "      <td>NaN</td>\n",
              "      <td>NaN</td>\n",
              "    </tr>\n",
              "    <tr>\n",
              "      <th>...</th>\n",
              "      <td>...</td>\n",
              "      <td>...</td>\n",
              "      <td>...</td>\n",
              "      <td>...</td>\n",
              "      <td>...</td>\n",
              "    </tr>\n",
              "    <tr>\n",
              "      <th>2019-12-27</th>\n",
              "      <td>NaN</td>\n",
              "      <td>2552.32</td>\n",
              "      <td>152.15</td>\n",
              "      <td>NaN</td>\n",
              "      <td>10.64</td>\n",
              "    </tr>\n",
              "    <tr>\n",
              "      <th>2019-12-28</th>\n",
              "      <td>603.96</td>\n",
              "      <td>NaN</td>\n",
              "      <td>NaN</td>\n",
              "      <td>NaN</td>\n",
              "      <td>NaN</td>\n",
              "    </tr>\n",
              "    <tr>\n",
              "      <th>2019-12-29</th>\n",
              "      <td>677.65</td>\n",
              "      <td>4079.73</td>\n",
              "      <td>NaN</td>\n",
              "      <td>456.94</td>\n",
              "      <td>NaN</td>\n",
              "    </tr>\n",
              "    <tr>\n",
              "      <th>2019-12-30</th>\n",
              "      <td>8900.41</td>\n",
              "      <td>712.98</td>\n",
              "      <td>NaN</td>\n",
              "      <td>NaN</td>\n",
              "      <td>NaN</td>\n",
              "    </tr>\n",
              "    <tr>\n",
              "      <th>2019-12-31</th>\n",
              "      <td>1705.02</td>\n",
              "      <td>NaN</td>\n",
              "      <td>NaN</td>\n",
              "      <td>NaN</td>\n",
              "      <td>711.62</td>\n",
              "    </tr>\n",
              "  </tbody>\n",
              "</table>\n",
              "<p>1209 rows × 5 columns</p>\n",
              "</div>\n",
              "      <button class=\"colab-df-convert\" onclick=\"convertToInteractive('df-224f34b0-cecb-41a0-ac32-2c504963bc8b')\"\n",
              "              title=\"Convert this dataframe to an interactive table.\"\n",
              "              style=\"display:none;\">\n",
              "        \n",
              "  <svg xmlns=\"http://www.w3.org/2000/svg\" height=\"24px\"viewBox=\"0 0 24 24\"\n",
              "       width=\"24px\">\n",
              "    <path d=\"M0 0h24v24H0V0z\" fill=\"none\"/>\n",
              "    <path d=\"M18.56 5.44l.94 2.06.94-2.06 2.06-.94-2.06-.94-.94-2.06-.94 2.06-2.06.94zm-11 1L8.5 8.5l.94-2.06 2.06-.94-2.06-.94L8.5 2.5l-.94 2.06-2.06.94zm10 10l.94 2.06.94-2.06 2.06-.94-2.06-.94-.94-2.06-.94 2.06-2.06.94z\"/><path d=\"M17.41 7.96l-1.37-1.37c-.4-.4-.92-.59-1.43-.59-.52 0-1.04.2-1.43.59L10.3 9.45l-7.72 7.72c-.78.78-.78 2.05 0 2.83L4 21.41c.39.39.9.59 1.41.59.51 0 1.02-.2 1.41-.59l7.78-7.78 2.81-2.81c.8-.78.8-2.07 0-2.86zM5.41 20L4 18.59l7.72-7.72 1.47 1.35L5.41 20z\"/>\n",
              "  </svg>\n",
              "      </button>\n",
              "      \n",
              "  <style>\n",
              "    .colab-df-container {\n",
              "      display:flex;\n",
              "      flex-wrap:wrap;\n",
              "      gap: 12px;\n",
              "    }\n",
              "\n",
              "    .colab-df-convert {\n",
              "      background-color: #E8F0FE;\n",
              "      border: none;\n",
              "      border-radius: 50%;\n",
              "      cursor: pointer;\n",
              "      display: none;\n",
              "      fill: #1967D2;\n",
              "      height: 32px;\n",
              "      padding: 0 0 0 0;\n",
              "      width: 32px;\n",
              "    }\n",
              "\n",
              "    .colab-df-convert:hover {\n",
              "      background-color: #E2EBFA;\n",
              "      box-shadow: 0px 1px 2px rgba(60, 64, 67, 0.3), 0px 1px 3px 1px rgba(60, 64, 67, 0.15);\n",
              "      fill: #174EA6;\n",
              "    }\n",
              "\n",
              "    [theme=dark] .colab-df-convert {\n",
              "      background-color: #3B4455;\n",
              "      fill: #D2E3FC;\n",
              "    }\n",
              "\n",
              "    [theme=dark] .colab-df-convert:hover {\n",
              "      background-color: #434B5C;\n",
              "      box-shadow: 0px 1px 3px 1px rgba(0, 0, 0, 0.15);\n",
              "      filter: drop-shadow(0px 1px 2px rgba(0, 0, 0, 0.3));\n",
              "      fill: #FFFFFF;\n",
              "    }\n",
              "  </style>\n",
              "\n",
              "      <script>\n",
              "        const buttonEl =\n",
              "          document.querySelector('#df-224f34b0-cecb-41a0-ac32-2c504963bc8b button.colab-df-convert');\n",
              "        buttonEl.style.display =\n",
              "          google.colab.kernel.accessAllowed ? 'block' : 'none';\n",
              "\n",
              "        async function convertToInteractive(key) {\n",
              "          const element = document.querySelector('#df-224f34b0-cecb-41a0-ac32-2c504963bc8b');\n",
              "          const dataTable =\n",
              "            await google.colab.kernel.invokeFunction('convertToInteractive',\n",
              "                                                     [key], {});\n",
              "          if (!dataTable) return;\n",
              "\n",
              "          const docLinkHtml = 'Like what you see? Visit the ' +\n",
              "            '<a target=\"_blank\" href=https://colab.research.google.com/notebooks/data_table.ipynb>data table notebook</a>'\n",
              "            + ' to learn more about interactive tables.';\n",
              "          element.innerHTML = '';\n",
              "          dataTable['output_type'] = 'display_data';\n",
              "          await google.colab.output.renderOutput(dataTable, element);\n",
              "          const docLink = document.createElement('div');\n",
              "          docLink.innerHTML = docLinkHtml;\n",
              "          element.appendChild(docLink);\n",
              "        }\n",
              "      </script>\n",
              "    </div>\n",
              "  </div>\n",
              "  "
            ],
            "text/plain": [
              "regiao        Sudeste  Nordeste  Centro-Oeste   Norte     Sul\n",
              "data_pedido                                                  \n",
              "2016-01-04      55.92       NaN           NaN     NaN     NaN\n",
              "2016-01-05     979.42       NaN           NaN     NaN     NaN\n",
              "2016-01-06        NaN       NaN         66.42     NaN     NaN\n",
              "2016-01-07   14940.66     43.44           NaN     NaN     NaN\n",
              "2016-01-08     296.37       NaN           NaN     NaN     NaN\n",
              "...               ...       ...           ...     ...     ...\n",
              "2019-12-27        NaN   2552.32        152.15     NaN   10.64\n",
              "2019-12-28     603.96       NaN           NaN     NaN     NaN\n",
              "2019-12-29     677.65   4079.73           NaN  456.94     NaN\n",
              "2019-12-30    8900.41    712.98           NaN     NaN     NaN\n",
              "2019-12-31    1705.02       NaN           NaN     NaN  711.62\n",
              "\n",
              "[1209 rows x 5 columns]"
            ]
          },
          "execution_count": 77,
          "metadata": {},
          "output_type": "execute_result"
        }
      ],
      "source": [
        "# Criando um df com os dados desejados\n",
        "df_regiao = vendas.copy()\n",
        "df_regiao = df_regiao[[\"regiao\", \"data_pedido\", \"vendas\"]]\n",
        "\n",
        "# Criando uma tabela cruzada (crosstab) com os valores de venda por dia por região\n",
        "df_regiao = pd.crosstab(index = df_regiao.data_pedido, columns = df_regiao.regiao, values = df_regiao.vendas, aggfunc=\"sum\")\n",
        "\n",
        "# Ajustando a tabela em ordem descrescente dos estados que mais executam vendas\n",
        "df_regiao = df_regiao[[\"Sudeste\", \"Nordeste\", \"Centro-Oeste\", \"Norte\", \"Sul\"]]\n",
        "df_regiao"
      ]
    },
    {
      "cell_type": "code",
      "execution_count": null,
      "metadata": {
        "colab": {
          "base_uri": "https://localhost:8080/",
          "height": 582
        },
        "id": "rQCkDOe9jmdF",
        "outputId": "e6611207-f761-4422-dc88-29d1df717f8a"
      },
      "outputs": [
        {
          "data": {
            "text/html": [
              "\n",
              "  <div id=\"df-53967370-d2a5-4a3d-a454-63edb0e500f6\">\n",
              "    <div class=\"colab-df-container\">\n",
              "      <div>\n",
              "<style scoped>\n",
              "    .dataframe tbody tr th:only-of-type {\n",
              "        vertical-align: middle;\n",
              "    }\n",
              "\n",
              "    .dataframe tbody tr th {\n",
              "        vertical-align: top;\n",
              "    }\n",
              "\n",
              "    .dataframe thead th {\n",
              "        text-align: right;\n",
              "    }\n",
              "</style>\n",
              "<table border=\"1\" class=\"dataframe\">\n",
              "  <thead>\n",
              "    <tr style=\"text-align: right;\">\n",
              "      <th>regiao</th>\n",
              "      <th>Sudeste</th>\n",
              "      <th>Nordeste</th>\n",
              "      <th>Centro-Oeste</th>\n",
              "      <th>Norte</th>\n",
              "      <th>Sul</th>\n",
              "    </tr>\n",
              "    <tr>\n",
              "      <th>data_pedido</th>\n",
              "      <th></th>\n",
              "      <th></th>\n",
              "      <th></th>\n",
              "      <th></th>\n",
              "      <th></th>\n",
              "    </tr>\n",
              "  </thead>\n",
              "  <tbody>\n",
              "    <tr>\n",
              "      <th>2016-03-31</th>\n",
              "      <td>70.18</td>\n",
              "      <td>41.73</td>\n",
              "      <td>16.80</td>\n",
              "      <td>9.31</td>\n",
              "      <td>1.51</td>\n",
              "    </tr>\n",
              "    <tr>\n",
              "      <th>2016-06-30</th>\n",
              "      <td>122.72</td>\n",
              "      <td>87.41</td>\n",
              "      <td>30.83</td>\n",
              "      <td>24.68</td>\n",
              "      <td>10.62</td>\n",
              "    </tr>\n",
              "    <tr>\n",
              "      <th>2016-09-30</th>\n",
              "      <td>226.43</td>\n",
              "      <td>158.12</td>\n",
              "      <td>39.61</td>\n",
              "      <td>21.94</td>\n",
              "      <td>11.97</td>\n",
              "    </tr>\n",
              "    <tr>\n",
              "      <th>2016-12-31</th>\n",
              "      <td>320.27</td>\n",
              "      <td>91.27</td>\n",
              "      <td>34.41</td>\n",
              "      <td>45.65</td>\n",
              "      <td>37.19</td>\n",
              "    </tr>\n",
              "    <tr>\n",
              "      <th>2017-03-31</th>\n",
              "      <td>127.89</td>\n",
              "      <td>61.58</td>\n",
              "      <td>5.90</td>\n",
              "      <td>35.25</td>\n",
              "      <td>4.75</td>\n",
              "    </tr>\n",
              "    <tr>\n",
              "      <th>2017-06-30</th>\n",
              "      <td>161.54</td>\n",
              "      <td>54.93</td>\n",
              "      <td>16.96</td>\n",
              "      <td>13.35</td>\n",
              "      <td>21.23</td>\n",
              "    </tr>\n",
              "    <tr>\n",
              "      <th>2017-09-30</th>\n",
              "      <td>206.29</td>\n",
              "      <td>91.60</td>\n",
              "      <td>48.82</td>\n",
              "      <td>48.71</td>\n",
              "      <td>21.68</td>\n",
              "    </tr>\n",
              "    <tr>\n",
              "      <th>2017-12-31</th>\n",
              "      <td>307.28</td>\n",
              "      <td>112.69</td>\n",
              "      <td>77.54</td>\n",
              "      <td>26.86</td>\n",
              "      <td>44.34</td>\n",
              "    </tr>\n",
              "    <tr>\n",
              "      <th>2018-03-31</th>\n",
              "      <td>120.56</td>\n",
              "      <td>92.40</td>\n",
              "      <td>29.30</td>\n",
              "      <td>39.03</td>\n",
              "      <td>6.95</td>\n",
              "    </tr>\n",
              "    <tr>\n",
              "      <th>2018-06-30</th>\n",
              "      <td>180.87</td>\n",
              "      <td>93.71</td>\n",
              "      <td>77.91</td>\n",
              "      <td>31.35</td>\n",
              "      <td>46.78</td>\n",
              "    </tr>\n",
              "    <tr>\n",
              "      <th>2018-09-30</th>\n",
              "      <td>252.41</td>\n",
              "      <td>93.14</td>\n",
              "      <td>51.03</td>\n",
              "      <td>16.16</td>\n",
              "      <td>26.43</td>\n",
              "    </tr>\n",
              "    <tr>\n",
              "      <th>2018-12-31</th>\n",
              "      <td>480.00</td>\n",
              "      <td>122.12</td>\n",
              "      <td>49.83</td>\n",
              "      <td>22.17</td>\n",
              "      <td>52.02</td>\n",
              "    </tr>\n",
              "    <tr>\n",
              "      <th>2019-03-31</th>\n",
              "      <td>170.82</td>\n",
              "      <td>121.06</td>\n",
              "      <td>40.37</td>\n",
              "      <td>25.11</td>\n",
              "      <td>26.18</td>\n",
              "    </tr>\n",
              "    <tr>\n",
              "      <th>2019-06-30</th>\n",
              "      <td>178.62</td>\n",
              "      <td>101.92</td>\n",
              "      <td>30.02</td>\n",
              "      <td>57.40</td>\n",
              "      <td>34.39</td>\n",
              "    </tr>\n",
              "    <tr>\n",
              "      <th>2019-09-30</th>\n",
              "      <td>305.00</td>\n",
              "      <td>159.66</td>\n",
              "      <td>87.09</td>\n",
              "      <td>51.54</td>\n",
              "      <td>37.99</td>\n",
              "    </tr>\n",
              "    <tr>\n",
              "      <th>2019-12-31</th>\n",
              "      <td>492.32</td>\n",
              "      <td>218.10</td>\n",
              "      <td>100.30</td>\n",
              "      <td>36.26</td>\n",
              "      <td>30.85</td>\n",
              "    </tr>\n",
              "  </tbody>\n",
              "</table>\n",
              "</div>\n",
              "      <button class=\"colab-df-convert\" onclick=\"convertToInteractive('df-53967370-d2a5-4a3d-a454-63edb0e500f6')\"\n",
              "              title=\"Convert this dataframe to an interactive table.\"\n",
              "              style=\"display:none;\">\n",
              "        \n",
              "  <svg xmlns=\"http://www.w3.org/2000/svg\" height=\"24px\"viewBox=\"0 0 24 24\"\n",
              "       width=\"24px\">\n",
              "    <path d=\"M0 0h24v24H0V0z\" fill=\"none\"/>\n",
              "    <path d=\"M18.56 5.44l.94 2.06.94-2.06 2.06-.94-2.06-.94-.94-2.06-.94 2.06-2.06.94zm-11 1L8.5 8.5l.94-2.06 2.06-.94-2.06-.94L8.5 2.5l-.94 2.06-2.06.94zm10 10l.94 2.06.94-2.06 2.06-.94-2.06-.94-.94-2.06-.94 2.06-2.06.94z\"/><path d=\"M17.41 7.96l-1.37-1.37c-.4-.4-.92-.59-1.43-.59-.52 0-1.04.2-1.43.59L10.3 9.45l-7.72 7.72c-.78.78-.78 2.05 0 2.83L4 21.41c.39.39.9.59 1.41.59.51 0 1.02-.2 1.41-.59l7.78-7.78 2.81-2.81c.8-.78.8-2.07 0-2.86zM5.41 20L4 18.59l7.72-7.72 1.47 1.35L5.41 20z\"/>\n",
              "  </svg>\n",
              "      </button>\n",
              "      \n",
              "  <style>\n",
              "    .colab-df-container {\n",
              "      display:flex;\n",
              "      flex-wrap:wrap;\n",
              "      gap: 12px;\n",
              "    }\n",
              "\n",
              "    .colab-df-convert {\n",
              "      background-color: #E8F0FE;\n",
              "      border: none;\n",
              "      border-radius: 50%;\n",
              "      cursor: pointer;\n",
              "      display: none;\n",
              "      fill: #1967D2;\n",
              "      height: 32px;\n",
              "      padding: 0 0 0 0;\n",
              "      width: 32px;\n",
              "    }\n",
              "\n",
              "    .colab-df-convert:hover {\n",
              "      background-color: #E2EBFA;\n",
              "      box-shadow: 0px 1px 2px rgba(60, 64, 67, 0.3), 0px 1px 3px 1px rgba(60, 64, 67, 0.15);\n",
              "      fill: #174EA6;\n",
              "    }\n",
              "\n",
              "    [theme=dark] .colab-df-convert {\n",
              "      background-color: #3B4455;\n",
              "      fill: #D2E3FC;\n",
              "    }\n",
              "\n",
              "    [theme=dark] .colab-df-convert:hover {\n",
              "      background-color: #434B5C;\n",
              "      box-shadow: 0px 1px 3px 1px rgba(0, 0, 0, 0.15);\n",
              "      filter: drop-shadow(0px 1px 2px rgba(0, 0, 0, 0.3));\n",
              "      fill: #FFFFFF;\n",
              "    }\n",
              "  </style>\n",
              "\n",
              "      <script>\n",
              "        const buttonEl =\n",
              "          document.querySelector('#df-53967370-d2a5-4a3d-a454-63edb0e500f6 button.colab-df-convert');\n",
              "        buttonEl.style.display =\n",
              "          google.colab.kernel.accessAllowed ? 'block' : 'none';\n",
              "\n",
              "        async function convertToInteractive(key) {\n",
              "          const element = document.querySelector('#df-53967370-d2a5-4a3d-a454-63edb0e500f6');\n",
              "          const dataTable =\n",
              "            await google.colab.kernel.invokeFunction('convertToInteractive',\n",
              "                                                     [key], {});\n",
              "          if (!dataTable) return;\n",
              "\n",
              "          const docLinkHtml = 'Like what you see? Visit the ' +\n",
              "            '<a target=\"_blank\" href=https://colab.research.google.com/notebooks/data_table.ipynb>data table notebook</a>'\n",
              "            + ' to learn more about interactive tables.';\n",
              "          element.innerHTML = '';\n",
              "          dataTable['output_type'] = 'display_data';\n",
              "          await google.colab.output.renderOutput(dataTable, element);\n",
              "          const docLink = document.createElement('div');\n",
              "          docLink.innerHTML = docLinkHtml;\n",
              "          element.appendChild(docLink);\n",
              "        }\n",
              "      </script>\n",
              "    </div>\n",
              "  </div>\n",
              "  "
            ],
            "text/plain": [
              "regiao       Sudeste  Nordeste  Centro-Oeste  Norte    Sul\n",
              "data_pedido                                               \n",
              "2016-03-31     70.18     41.73         16.80   9.31   1.51\n",
              "2016-06-30    122.72     87.41         30.83  24.68  10.62\n",
              "2016-09-30    226.43    158.12         39.61  21.94  11.97\n",
              "2016-12-31    320.27     91.27         34.41  45.65  37.19\n",
              "2017-03-31    127.89     61.58          5.90  35.25   4.75\n",
              "2017-06-30    161.54     54.93         16.96  13.35  21.23\n",
              "2017-09-30    206.29     91.60         48.82  48.71  21.68\n",
              "2017-12-31    307.28    112.69         77.54  26.86  44.34\n",
              "2018-03-31    120.56     92.40         29.30  39.03   6.95\n",
              "2018-06-30    180.87     93.71         77.91  31.35  46.78\n",
              "2018-09-30    252.41     93.14         51.03  16.16  26.43\n",
              "2018-12-31    480.00    122.12         49.83  22.17  52.02\n",
              "2019-03-31    170.82    121.06         40.37  25.11  26.18\n",
              "2019-06-30    178.62    101.92         30.02  57.40  34.39\n",
              "2019-09-30    305.00    159.66         87.09  51.54  37.99\n",
              "2019-12-31    492.32    218.10        100.30  36.26  30.85"
            ]
          },
          "execution_count": 78,
          "metadata": {},
          "output_type": "execute_result"
        }
      ],
      "source": [
        "# Agrupando as vendas por trimestre\n",
        "df_regiao = df_regiao.resample('Q').agg('sum')\n",
        "df_regiao = round(df_regiao/1e3, 2)\n",
        "df_regiao"
      ]
    },
    {
      "cell_type": "markdown",
      "metadata": {
        "id": "BKEOs7Dmc4Nd"
      },
      "source": [
        "#### Gerando o gráfico"
      ]
    },
    {
      "cell_type": "code",
      "execution_count": null,
      "metadata": {
        "id": "aX6aTgYac4Nd"
      },
      "outputs": [],
      "source": [
        "# Importando a biblioteca\n",
        "import plotly.express as px\n",
        "\n",
        "# Gerando um gráfico de linha com o faturamento da loja por trimestre dividido por região\n",
        "fig = px.line(df_regiao, x=df_regiao.index, y=df_regiao.columns, markers = True, labels={\"regiao\": \"Região\"},\n",
        "              color_discrete_sequence=[AZUL2, VERMELHO1, AMARELO1 , VERDE1, CINZA3])\n",
        "\n",
        "# Ajustando o layout do gráfico\n",
        "# fig.update_layout(width=1300, height=600, font_family = 'DejaVu Sans', font_size=15,\n",
        "#                   font_color= CINZA2, title_font_color= CINZA1, title_font_size=24,\n",
        "#                   title_text='Faturamento da loja de departamentos por trimestre' +\n",
        "#                              '<br><sup size=1 style=\"color:#555655\">De 2016 a 2019</sup>',\n",
        "#                   xaxis_title='', yaxis_title='', plot_bgcolor= CINZA5)\n",
        "\n",
        "# # Ajustando os ticks do eixo y para o formato em milhar\n",
        "# fig.update_yaxes(tickprefix=\"R$ \", ticksuffix=\" mil\")\n",
        "\n",
        "# Ajustando o eixo x com os labels dos trimestres\n",
        "# labels = ['T1<br>2016', 'T2<br>2016', 'T3<br>2016', 'T4<br>2016',\n",
        "#           'T1<br>2017', 'T2<br>2017', 'T3<br>2017', 'T4<br>2017',\n",
        "#           'T1<br>2018', 'T2<br>2018', 'T3<br>2018', 'T4<br>2018',\n",
        "#           'T1<br>2019', 'T2<br>2019', 'T3<br>2019', 'T4<br>2019',]\n",
        "# fig.update_xaxes(ticktext = labels, tickvals=df_regiao.index)\n",
        "\n",
        "fig.show()"
      ]
    },
    {
      "cell_type": "markdown",
      "metadata": {
        "id": "vlltqqeXiQ2m"
      },
      "source": [
        "# **3.4 - Personalizando o texto informativo (hover)**\n",
        "\n",
        "\n",
        "---\n",
        "\n"
      ]
    },
    {
      "cell_type": "code",
      "execution_count": null,
      "metadata": {
        "id": "CHlMxVHtiJ1R"
      },
      "outputs": [],
      "source": [
        "# Dados ao passar o mouse\n",
        "fig.update_traces(mode=\"markers+lines\", hovertemplate = \"<b>Período:</b> %{x} <br> <b>Faturamento:</b> %{y}\")\n",
        "# fig.update_layout(hovermode=\"closest\")    # para exibir apenas do dado que passamos o mouse\n",
        "# fig.update_layout(hovermode=\"x\")          # para exibir todos os dados do período em cada linha\n",
        "# fig.update_layout(hovermode=\"x unified\")  # para exibir o resumo de todos os dados no período\n",
        "\n",
        "fig.show()"
      ]
    },
    {
      "cell_type": "markdown",
      "metadata": {
        "id": "_uIMl0NHc4Nd"
      },
      "source": [
        "<font color=green size=4> Conclusões: </font>\n",
        "\n",
        "---\n",
        "\n",
        "O ponto mais interessante nesse gráfico, gerado pelo plotly, é a seleção de dados de interesse, comparando diferentes regiões. É ideal não possuir muitas linhas para representação dos dados, para evitar uma dificuldade na análise das variáveis de interesse. Esse gráfico dinâmico também possibilita verificar os dados de interesse passando o mouse por cima do ponto desejado, o que evita a necessidade de escrita de cada valor nos pontos.\n",
        "\n",
        "Como sugestão, podemos testar essa técnica também com outros valores em nossa base de dados como, por exemplo, as vendas por estado em uma dada região, ou até em intervalos de tempo diferentes: por semestre e ano."
      ]
    },
    {
      "cell_type": "markdown",
      "metadata": {
        "id": "GP5WxJh8AP7U"
      },
      "source": [
        "# **Aula 4 - Distribuindo dados**\n",
        "\n",
        "\n"
      ]
    },
    {
      "cell_type": "markdown",
      "metadata": {
        "id": "SRUYr8PaAP7Z"
      },
      "source": [
        "### **Situação-problema 2**\n",
        "Uma fábrica de produtos de higiene e limpeza seleciona amostras de seus produtos fabricados regularmente e documenta o volume e as dimensões de seus produtos para que estejam dentro dos critérios de qualidade. Você como cientista de dados recebeu algumas amostras para analisar e descrever algumas métricas (média e mediana, por exemplo) das amostras utilizando gráficos para facilitar a compreensão desses valores.\n",
        "\n",
        "Nas próximas duas aulas, vamos trabalhar com duas bases de dados, sendo:\n",
        "1. Volumes de um amaciante de 1L em um total de 1000 amostras medidas.\n",
        "2. Medidas de altura, comprimento e largura de uma caixa de sabão em pó em um total de 1000 amostras medidas."
      ]
    },
    {
      "cell_type": "markdown",
      "metadata": {
        "id": "jSffEwr1FPAC"
      },
      "source": [
        "\n",
        "#### **Base de dados 1 - Amostra dos volumes do amaciante**"
      ]
    },
    {
      "cell_type": "code",
      "execution_count": null,
      "metadata": {
        "id": "uf0_yYaOAP7a"
      },
      "outputs": [],
      "source": [
        "import pandas as pd"
      ]
    },
    {
      "cell_type": "code",
      "execution_count": null,
      "metadata": {
        "id": "2aimPHe6AP7a"
      },
      "outputs": [],
      "source": [
        "# Importando a base de dados dos volumes de um amaciante em 1000 amostras realizadas\n",
        "vol_amaciante = pd.read_csv(\"https://raw.githubusercontent.com/alura-cursos/dataviz-graficos/master/dados/volume_amaciante.csv\")\n",
        "\n",
        "vol_amaciante.head()"
      ]
    },
    {
      "cell_type": "code",
      "execution_count": null,
      "metadata": {
        "id": "hptB2KscAP7a"
      },
      "outputs": [],
      "source": [
        "# Verificando a estatística descritiva das amostras de volume em forma de tabela\n",
        "..."
      ]
    },
    {
      "cell_type": "markdown",
      "metadata": {
        "id": "ssZbZe4zAP7a"
      },
      "source": [
        "Após visualizarmos de maneira rápida os dados que possuímos, vamos partir para as análises que podemos fazer com esses dados e quais os gráficos de distribuição vamos utilizar a fim de apresentar esse tipo de informação.\n",
        "\n",
        "### **Questionamentos**\n",
        "\n",
        "1.   Como estão distribuídos os dados dos volumes da amostra do amaciante? Qual seria seu valor central (média e mediana)\n",
        "\n",
        "2.   Como estão distribuídos os dados dos volumes do amaciante de acordo com a mediana e os quartis? Possuo dados discrepantes?\n",
        "\n",
        "\n",
        "\n"
      ]
    },
    {
      "cell_type": "markdown",
      "metadata": {
        "id": "UhtlebbKBFjp"
      },
      "source": [
        "## **4.1 - Histograma**\n",
        "\n",
        "---\n",
        "\n"
      ]
    },
    {
      "cell_type": "markdown",
      "metadata": {
        "id": "YiioTkl4jjng"
      },
      "source": [
        "<img src=\"https://github.com/alura-cursos/dataviz-graficos/blob/3853c7870952376102f2dd09593ef2965c19318c/imagens/Tipos_Graficos/Gr%C3%A1ficos%20de%20distribui%C3%A7%C3%A3o%20(distribuindo%20dados).png?raw=true\" alt=\"inserir alt\" height=\"343\">\n",
        "\n",
        "\n",
        "<font size=2>Fonte: Andrew Abela (Extreme Presentation/Biuwer)</font>\n"
      ]
    },
    {
      "cell_type": "markdown",
      "metadata": {
        "id": "TgJynN1NAP7a"
      },
      "source": [
        "### **Pergunta 1 -** Como estão distribuídos os dados dos volumes da amostra do amaciante? Qual seria seu valor central (média e mediana)?"
      ]
    },
    {
      "cell_type": "markdown",
      "metadata": {
        "id": "xv3kTMF9AP7a"
      },
      "source": [
        "#### Gerando o gráfico"
      ]
    },
    {
      "cell_type": "code",
      "execution_count": null,
      "metadata": {
        "id": "HDyCrEsUAP7a"
      },
      "outputs": [],
      "source": [
        "## Configurando o gráfico com parâmetros que potencializam a visualização dos dados\n",
        "\n",
        "# Importando as bibliotecas\n",
        "import matplotlib.pyplot as plt\n",
        "import seaborn as sns\n",
        "\n",
        "# Área do gráfico e tema da visualização\n",
        "fig, ax = plt.subplots(figsize=(12,4))\n",
        "sns.set_theme(style=\"white\")\n",
        "\n",
        "# Gerando o histograma sem estimativa de densidade\n",
        "...  # ajustando o intervalo pelo largura dos bins\n",
        "...  # ajustando o intervalo pelo quantidade de bins\n",
        "\n",
        "# # Personalizando o gráfico\n",
        "plt.suptitle('Distribuição dos volumes do amaciante', size=18, color=CINZA1, ha = 'right', x = 0.535, y = 1.05)\n",
        "plt.title('para uma amostra de 1000 unidades', fontsize=14, color=CINZA2, pad = 15, loc = \"left\")\n",
        "ax.set_xlabel('Volume (ml)', fontsize = 14)\n",
        "ax.set_ylabel('Quantidade', fontsize = 14)\n",
        "ax.yaxis.set_tick_params(labelsize=12, labelcolor = CINZA2)\n",
        "ax.xaxis.set_tick_params(labelsize=12, labelcolor = CINZA2)\n",
        "sns.despine()\n",
        "\n",
        "plt.show()"
      ]
    },
    {
      "cell_type": "markdown",
      "metadata": {
        "id": "izetzI6sv3eZ"
      },
      "source": [
        "<font color=green size=4> Conclusões: </font>\n",
        "\n",
        "---\n",
        "\n",
        "O gráfico de histograma é ideal para quando queremos saber como uma amostra de dados ou população está distribuída. Como podemos observar, o número de intervalos ou a sua largura altera um pouco a visualização, mas não altera os valores centrais da sua distibuição de dados: média e mediana."
      ]
    },
    {
      "cell_type": "markdown",
      "metadata": {
        "id": "xIZDl9S9vED2"
      },
      "source": [
        "## **4.2 - Gráfico de densidade**\n",
        "\n",
        "---\n",
        "\n"
      ]
    },
    {
      "cell_type": "code",
      "execution_count": null,
      "metadata": {
        "id": "ske5KLUfipTJ"
      },
      "outputs": [],
      "source": [
        "# Gerando a função que desenha a Densidade\n",
        "\n",
        "def grafico_densidade():\n",
        "  # Importando as bibliotecas\n",
        "  import matplotlib.pyplot as plt\n",
        "  import seaborn as sns\n",
        "\n",
        "  # Área do gráfico e tema da visualização\n",
        "  fig, ax = plt.subplots(figsize=(15,4))\n",
        "  sns.set_theme(style=\"white\")\n",
        "\n",
        "  # Gerando a curva de densidade\n",
        "  ...\n",
        "\n",
        "  # # Personalizando o gráfico\n",
        "  plt.suptitle('Distribuição dos volumes do amaciante (curva de densidade)', size=18, color=CINZA1, ha = 'right', x = 0.635, y = 1.05)\n",
        "  plt.title('para uma amostra de 1000 unidades', fontsize=14, color=CINZA2, pad = 15, loc = \"left\")\n",
        "  ax.set_xlabel('Volume', fontsize = 14)\n",
        "  ax.set_ylabel('Densidade', fontsize = 14)\n",
        "  ax.xaxis.set_tick_params(labelsize=12, labelcolor = CINZA2)\n",
        "  ax.yaxis.set_tick_params(labelsize=12, labelcolor = CINZA2)\n",
        "  ax.set_xlim(vol_amaciante.Volume.min(), vol_amaciante.Volume.max())\n",
        "  sns.despine(left = True, top = True)\n",
        "\n",
        "  return ax\n",
        "\n",
        "ax = grafico_densidade()"
      ]
    },
    {
      "cell_type": "markdown",
      "metadata": {
        "id": "J5eTR0vrF7kO"
      },
      "source": [
        "## **4.3 - Adicionando linhas ao gráfico**\n",
        "\n",
        "---\n",
        "\n"
      ]
    },
    {
      "cell_type": "code",
      "execution_count": null,
      "metadata": {
        "id": "gu2JimeYFiCw"
      },
      "outputs": [],
      "source": [
        "## Configurando o gráfico com parâmetros que potencializam a visualização dos dados\n",
        "\n",
        "# Chamando a função que gera o gráfico de densidade\n",
        "ax = grafico_densidade()\n",
        "\n",
        "## Personalizando o gráfico\n",
        "ax.set_ylabel('')\n",
        "ax.set_yticklabels([])\n",
        "\n",
        "# Gerando as linhas de média, mediana e moda\n",
        "...\n",
        "...\n",
        "\n",
        "# Definindo as cores de cada estatística descritiva\n",
        "cores = [LARANJA1, VERDE1, CINZA3]\n",
        "\n",
        "# gerando 1 ou mais linhas na vertical a partir de um valor de x\n",
        "...\n",
        "\n",
        "# Anotando os valores de média, mediana e moda no gráfico\n",
        "for i in range(len(estat)):\n",
        "  ax.text(0.75, (0.6 - i/10), f'{desc[i]} = {estat[i]} ml', fontsize=14, color = cores[i], transform=ax.transAxes)\n",
        "\n",
        "fig = ax.get_figure()"
      ]
    },
    {
      "cell_type": "markdown",
      "metadata": {
        "id": "ZuCIA5WIAP7b"
      },
      "source": [
        "<font color=green size=4> Conclusões: </font>\n",
        "\n",
        "---\n",
        "\n",
        "O gráfico de densidade (histograma de linha) é ideal para muitas observações.\n",
        "\n",
        "Neste exemplo, podemos verificar uma distribuição normal, com uma leve assimetria à esquerda (mediana> média). A moda também está presente no gráfico. Essas 3 medidas de tendência central são importantes para a estatística descritiva dos dados e auxiliam na construção de modelos e análise dos dados."
      ]
    },
    {
      "cell_type": "markdown",
      "metadata": {
        "id": "2QxHL_XYrUSs"
      },
      "source": [
        "## **4.4 - Boxplot**\n",
        "\n",
        "---\n",
        "\n"
      ]
    },
    {
      "cell_type": "markdown",
      "metadata": {
        "id": "vw5UTufi2DDV"
      },
      "source": [
        "### **Pergunta 2 -** Como estão distribuídos os dados dos volumes do amaciante de acordo com a mediana e os quartis? Possuo dados discrepantes?"
      ]
    },
    {
      "cell_type": "markdown",
      "metadata": {
        "id": "5RYvVm5J2DDh"
      },
      "source": [
        "#### Gerando o gráfico"
      ]
    },
    {
      "cell_type": "code",
      "execution_count": null,
      "metadata": {
        "id": "sUxOZwa82DDi"
      },
      "outputs": [],
      "source": [
        "## Configurando o gráfico com parâmetros que potencializam a visualização dos dados\n",
        "\n",
        "# Importando as bibliotecas\n",
        "import matplotlib.pyplot as plt\n",
        "from matplotlib.patches import Ellipse\n",
        "import seaborn as sns\n",
        "\n",
        "# Área do gráfico e tema da visualização\n",
        "fig, ax = plt.subplots(figsize=(6,8))\n",
        "sns.set_theme(style=\"white\")\n",
        "\n",
        "# Gerando o boxplot\n",
        "...\n",
        "\n",
        "# ## Personalizando o gráfico\n",
        "# plt.suptitle('Boxplot do volume do amaciante', size=18, color=CINZA1, ha = 'right', x = 0.81, y = 0.97)\n",
        "# plt.title('para uma amostra de 1000 unidades', fontsize=14, color=CINZA2, pad = 15, loc = \"left\")\n",
        "# ax.set_xlabel('')\n",
        "# ax.set_ylabel('Volume (ml)', fontsize = 14)\n",
        "# ax.yaxis.set_tick_params(labelsize=12, labelcolor = CINZA2)\n",
        "# sns.despine(bottom=True)\n",
        "\n",
        "# # Gerando outros elementos visuais (elipses dos outliers)\n",
        "# y_min, y_max = ax.get_ybound()\n",
        "# outlier_sup = Ellipse((0, y_max - 0.27), width = 0.1, height = 0.46, color=VERMELHO1, fill=False)\n",
        "# outlier_inf = Ellipse((0, y_min + 0.4), width = 0.1, height = 0.6, color=VERMELHO1, fill=False)\n",
        "# ax.add_patch(outlier_sup)\n",
        "# ax.add_patch(outlier_inf)\n",
        "\n",
        "# # Adicionando a explicação dos elementos de um boxplot\n",
        "# ax.annotate(\"Outliers\", xy=(0 + 0.05, y_max - 0.27), xycoords='data',    # coordenadas do ponto desejado\n",
        "#             bbox=dict(boxstyle=\"round\", fc=CINZA5, ec=VERMELHO1),         # caixa de texto\n",
        "#             xytext=(50, 0), textcoords='offset points',                   # posição do texto\n",
        "#             arrowprops=dict(arrowstyle=\"->\", color=VERMELHO1))            # propriedades da seta\n",
        "\n",
        "# ax.annotate(\"Outliers\", xy=(0 + 0.05, y_min + 0.4), xycoords='data',\n",
        "#             bbox=dict(boxstyle=\"round\", fc=CINZA5, ec=VERMELHO1),\n",
        "#             xytext=(50, 0), textcoords='offset points',\n",
        "#             arrowprops=dict(arrowstyle=\"->\", color=VERMELHO1))\n",
        "\n",
        "# ax.annotate(\"1º Quartil / 25%\", xy=(0.4, vol_amaciante.quantile(.25)), xycoords='data',\n",
        "#             bbox=dict(boxstyle=\"round\", fc=CINZA5, ec=CINZA3),\n",
        "#             xytext=(50, 0), textcoords='offset points',\n",
        "#             arrowprops=dict(arrowstyle=\"->\", color=CINZA3))\n",
        "\n",
        "# ax.annotate(\"2º Quartil / Mediana\", xy=(0.4, vol_amaciante.median()), xycoords='data',\n",
        "#             bbox=dict(boxstyle=\"round\", fc=CINZA5, ec=CINZA3),\n",
        "#             xytext=(50, 0), textcoords='offset points',\n",
        "#             arrowprops=dict(arrowstyle=\"->\", color=CINZA3))\n",
        "\n",
        "# ax.annotate(\"3º Quartil / 75%\", xy=(0.4, vol_amaciante.quantile(.75)), xycoords='data',\n",
        "#             bbox=dict(boxstyle=\"round\", fc=CINZA5, ec=CINZA3),\n",
        "#             xytext=(50, 0), textcoords='offset points',\n",
        "#             arrowprops=dict(arrowstyle=\"->\", color=CINZA3))\n",
        "\n",
        "plt.show()"
      ]
    },
    {
      "cell_type": "markdown",
      "metadata": {
        "id": "zJXXnP7z2DDi"
      },
      "source": [
        "<font color=green size=4> Conclusões: </font>\n",
        "\n",
        "---\n",
        "\n",
        "O gráfico de boxplot é ideal para representar um conjunto de dados de acordo com 5 medidas de interesse: valor máximo, mínimo, 1º quartil (onde estão situados os primeiros 25% dos dados), 2º quartil ou mediana (onde estão situados 50% dos dados) e 3º quartil (onde estão situados 75% dos dados).\n",
        "\n",
        "Há também os outliers que são considerados os pontos discrepante, ou seja, valores que estão distante do padrão dos dados."
      ]
    },
    {
      "cell_type": "markdown",
      "metadata": {
        "id": "Wz_59UEYAo-7"
      },
      "source": [
        " # **Aula 5 - Explorando padrões nos dados**"
      ]
    },
    {
      "cell_type": "markdown",
      "metadata": {
        "id": "72Td_hwbrc8I"
      },
      "source": [
        "## **5.1 - Violin Plot**\n",
        "\n",
        "---\n",
        "\n"
      ]
    },
    {
      "cell_type": "markdown",
      "metadata": {
        "id": "f9EhMcTSB0iU"
      },
      "source": [
        "\n",
        "Retomando a nossa situação problema da fábrica de produtos de higiene e limpeza. Vamos agora analisar as observações com as medidas de altura, comprimento e largura de uma caixa de sabão em pó em um total de 1000 amostras medidas. Vamos buscar por padrões em nossas medidas e também verificar se uma das amostras possuem itens que são rejeitados de acordo com as regras do negócio."
      ]
    },
    {
      "cell_type": "markdown",
      "metadata": {
        "id": "Hkjo742WBqw-"
      },
      "source": [
        "#### **Base de dados 2 - Amostras das medidas da embalagem de sabão em pó**"
      ]
    },
    {
      "cell_type": "code",
      "execution_count": null,
      "metadata": {
        "id": "70zge8ynBqxZ"
      },
      "outputs": [],
      "source": [
        "# Importando a base de dados dos volumes de um amaciante em 1000 amostras realizadas\n",
        "import pandas as pd\n",
        "df_medidas = pd.read_csv(\"https://raw.githubusercontent.com/alura-cursos/dataviz-graficos/master/dados/medidas_sabao_em_po.csv\")\n",
        "\n",
        "df_medidas.sample(5)"
      ]
    },
    {
      "cell_type": "code",
      "execution_count": null,
      "metadata": {
        "id": "a-kQxjeUBqxb"
      },
      "outputs": [],
      "source": [
        "# Verificando a estatística descritiva das amostras das medidas da embalagem de sabão em pó em forma de tabela\n",
        "df_medidas.describe()"
      ]
    },
    {
      "cell_type": "markdown",
      "metadata": {
        "id": "K5hNJa0cBqxc"
      },
      "source": [
        "Após visualizarmos de maneira rápida os dados que possuímos, vamos partir para as análises que podemos fazer com esses dados e quais os gráficos de distribuição vamos utilizar a fim de apresentar esse tipo de informação.\n",
        "\n",
        "### **Questionamentos**\n",
        "\n",
        "1.   Como está a distribuição das medidas de comprimento da embalagem de sabão em pó para cada uma das amostras?\n",
        "\n",
        "2.   Como estão dispostas as medidas de comprimento e altura da amostra A? Se quisermos rejeitar todos os itens em que o valor de comprimento e altura está 10% acima ou abaixo do valor de 20 e 15 respectivamente, quais seriam rejeitados?\n",
        "\n",
        "\n",
        "\n"
      ]
    },
    {
      "cell_type": "markdown",
      "metadata": {
        "id": "9kyH1su1qAS6"
      },
      "source": [
        "### **Pergunta 3 -** Como está a distribuição das medidas de comprimento da embalagem de sabão em pó para cada uma das amostras?"
      ]
    },
    {
      "cell_type": "markdown",
      "metadata": {
        "id": "COtXmfY2qvNU"
      },
      "source": [
        "#### Visualizando os dados"
      ]
    },
    {
      "cell_type": "code",
      "execution_count": null,
      "metadata": {
        "id": "JC0UNDfJqt8P"
      },
      "outputs": [],
      "source": [
        "df_medidas.sample(5)"
      ]
    },
    {
      "cell_type": "markdown",
      "metadata": {
        "id": "5Mw-ObDaqAS_"
      },
      "source": [
        "#### Gerando o gráfico"
      ]
    },
    {
      "cell_type": "code",
      "execution_count": null,
      "metadata": {
        "id": "9Yrq9J4MqAS_"
      },
      "outputs": [],
      "source": [
        "## Configurando o gráfico com parâmetros que potencializam a visualização dos dados\n",
        "\n",
        "# Importando as bibliotecas\n",
        "import matplotlib.pyplot as plt\n",
        "import seaborn as sns\n",
        "\n",
        "# Área do gráfico e tema da visualização\n",
        "fig, axs = plt.subplots(figsize=(10,5))\n",
        "sns.set_theme(style=\"whitegrid\")\n",
        "\n",
        "# Gerando o violinplot de comprimento, altura e largura\n",
        "...\n",
        "\n",
        "# ## Personalizando o gráfico\n",
        "# plt.suptitle('Violin plot do comprimento da caixa de sabão em pó', size=18, color=CINZA1, ha = 'right', x = 0.785, y = 1.03)\n",
        "# plt.title('Para 5 amostras com 200 observações cada', fontsize=14, color=CINZA2, pad = 15, loc = \"left\")\n",
        "# ax.set_xlabel('Amostra',  fontsize = 14)\n",
        "# ax.set_ylabel('Comprimento (cm)', fontsize = 14)\n",
        "# ax.xaxis.set_tick_params(labelsize=12, labelcolor = CINZA2)\n",
        "# ax.yaxis.set_tick_params(labelsize=12, labelcolor = CINZA2)\n",
        "# sns.despine(bottom=True)\n",
        "\n",
        "plt.show()"
      ]
    },
    {
      "cell_type": "markdown",
      "metadata": {
        "id": "GalqiyyHqAS_"
      },
      "source": [
        "<font color=green size=4> Conclusões: </font>\n",
        "\n",
        "---\n",
        "\n",
        "O Violin plot é a união entre o histograma e o boxplot. Nele podemos verificar tanto a distribuição dos dados pela representação da curva, quanto dentro dele percebemos o boxplot com as variáveis de interesse.\n",
        "\n",
        "Como sugestão, podemos testar essa técnica também com outros valores em nossa base de dados como, por exemplo, na largura ou na altura da caixa. Vale a pena testar se possuímos uma grande diferença entre as amostras e o que podemos observar nessa distribuição."
      ]
    },
    {
      "cell_type": "markdown",
      "metadata": {
        "id": "NNIqzEAjzxWc"
      },
      "source": [
        "## **5.2 Gráfico de dispersão**\n",
        "\n",
        "---\n",
        "\n"
      ]
    },
    {
      "cell_type": "markdown",
      "metadata": {
        "id": "WBoL0D50Aqk_"
      },
      "source": [
        "<img src=\"https://github.com/alura-cursos/dataviz-graficos/blob/3853c7870952376102f2dd09593ef2965c19318c/imagens/Tipos_Graficos/Gr%C3%A1ficos%20de%20distribui%C3%A7%C3%A3o%20(explorando%20padr%C3%B5es%20nos%20dados).png?raw=true\" alt=\"inserir alt\" height=\"343\">\n",
        "\n",
        "<font size=2>Fonte: Andrew Abela (Extreme Presentation/Biuwer)</font>\n"
      ]
    },
    {
      "cell_type": "markdown",
      "metadata": {
        "id": "oeawtNNazxWh"
      },
      "source": [
        "### **Pergunta 3 -** Como estão dispostas as medidas de comprimento e altura da amostra A? Se quisermos rejeitar todos os itens em que o valor de comprimento e altura está 1% acima ou abaixo do valor de 20 e 15, respectivamente, quais seriam rejeitados?"
      ]
    },
    {
      "cell_type": "markdown",
      "metadata": {
        "id": "5N6LxAIYzxWh"
      },
      "source": [
        "#### Visualizando os dados"
      ]
    },
    {
      "cell_type": "code",
      "execution_count": null,
      "metadata": {
        "colab": {
          "base_uri": "https://localhost:8080/",
          "height": 206
        },
        "id": "7_TqFJeYzxWh",
        "outputId": "ed8c48f0-0977-4536-b8a0-dada0718431f"
      },
      "outputs": [
        {
          "data": {
            "text/html": [
              "\n",
              "  <div id=\"df-25f94098-5373-45ca-9161-5e4e3dd72c30\">\n",
              "    <div class=\"colab-df-container\">\n",
              "      <div>\n",
              "<style scoped>\n",
              "    .dataframe tbody tr th:only-of-type {\n",
              "        vertical-align: middle;\n",
              "    }\n",
              "\n",
              "    .dataframe tbody tr th {\n",
              "        vertical-align: top;\n",
              "    }\n",
              "\n",
              "    .dataframe thead th {\n",
              "        text-align: right;\n",
              "    }\n",
              "</style>\n",
              "<table border=\"1\" class=\"dataframe\">\n",
              "  <thead>\n",
              "    <tr style=\"text-align: right;\">\n",
              "      <th></th>\n",
              "      <th>comprimento</th>\n",
              "      <th>altura</th>\n",
              "    </tr>\n",
              "  </thead>\n",
              "  <tbody>\n",
              "    <tr>\n",
              "      <th>0</th>\n",
              "      <td>20.11</td>\n",
              "      <td>14.89</td>\n",
              "    </tr>\n",
              "    <tr>\n",
              "      <th>1</th>\n",
              "      <td>20.13</td>\n",
              "      <td>14.86</td>\n",
              "    </tr>\n",
              "    <tr>\n",
              "      <th>2</th>\n",
              "      <td>19.99</td>\n",
              "      <td>15.01</td>\n",
              "    </tr>\n",
              "    <tr>\n",
              "      <th>3</th>\n",
              "      <td>20.06</td>\n",
              "      <td>14.93</td>\n",
              "    </tr>\n",
              "    <tr>\n",
              "      <th>4</th>\n",
              "      <td>19.99</td>\n",
              "      <td>15.01</td>\n",
              "    </tr>\n",
              "  </tbody>\n",
              "</table>\n",
              "</div>\n",
              "      <button class=\"colab-df-convert\" onclick=\"convertToInteractive('df-25f94098-5373-45ca-9161-5e4e3dd72c30')\"\n",
              "              title=\"Convert this dataframe to an interactive table.\"\n",
              "              style=\"display:none;\">\n",
              "        \n",
              "  <svg xmlns=\"http://www.w3.org/2000/svg\" height=\"24px\"viewBox=\"0 0 24 24\"\n",
              "       width=\"24px\">\n",
              "    <path d=\"M0 0h24v24H0V0z\" fill=\"none\"/>\n",
              "    <path d=\"M18.56 5.44l.94 2.06.94-2.06 2.06-.94-2.06-.94-.94-2.06-.94 2.06-2.06.94zm-11 1L8.5 8.5l.94-2.06 2.06-.94-2.06-.94L8.5 2.5l-.94 2.06-2.06.94zm10 10l.94 2.06.94-2.06 2.06-.94-2.06-.94-.94-2.06-.94 2.06-2.06.94z\"/><path d=\"M17.41 7.96l-1.37-1.37c-.4-.4-.92-.59-1.43-.59-.52 0-1.04.2-1.43.59L10.3 9.45l-7.72 7.72c-.78.78-.78 2.05 0 2.83L4 21.41c.39.39.9.59 1.41.59.51 0 1.02-.2 1.41-.59l7.78-7.78 2.81-2.81c.8-.78.8-2.07 0-2.86zM5.41 20L4 18.59l7.72-7.72 1.47 1.35L5.41 20z\"/>\n",
              "  </svg>\n",
              "      </button>\n",
              "      \n",
              "  <style>\n",
              "    .colab-df-container {\n",
              "      display:flex;\n",
              "      flex-wrap:wrap;\n",
              "      gap: 12px;\n",
              "    }\n",
              "\n",
              "    .colab-df-convert {\n",
              "      background-color: #E8F0FE;\n",
              "      border: none;\n",
              "      border-radius: 50%;\n",
              "      cursor: pointer;\n",
              "      display: none;\n",
              "      fill: #1967D2;\n",
              "      height: 32px;\n",
              "      padding: 0 0 0 0;\n",
              "      width: 32px;\n",
              "    }\n",
              "\n",
              "    .colab-df-convert:hover {\n",
              "      background-color: #E2EBFA;\n",
              "      box-shadow: 0px 1px 2px rgba(60, 64, 67, 0.3), 0px 1px 3px 1px rgba(60, 64, 67, 0.15);\n",
              "      fill: #174EA6;\n",
              "    }\n",
              "\n",
              "    [theme=dark] .colab-df-convert {\n",
              "      background-color: #3B4455;\n",
              "      fill: #D2E3FC;\n",
              "    }\n",
              "\n",
              "    [theme=dark] .colab-df-convert:hover {\n",
              "      background-color: #434B5C;\n",
              "      box-shadow: 0px 1px 3px 1px rgba(0, 0, 0, 0.15);\n",
              "      filter: drop-shadow(0px 1px 2px rgba(0, 0, 0, 0.3));\n",
              "      fill: #FFFFFF;\n",
              "    }\n",
              "  </style>\n",
              "\n",
              "      <script>\n",
              "        const buttonEl =\n",
              "          document.querySelector('#df-25f94098-5373-45ca-9161-5e4e3dd72c30 button.colab-df-convert');\n",
              "        buttonEl.style.display =\n",
              "          google.colab.kernel.accessAllowed ? 'block' : 'none';\n",
              "\n",
              "        async function convertToInteractive(key) {\n",
              "          const element = document.querySelector('#df-25f94098-5373-45ca-9161-5e4e3dd72c30');\n",
              "          const dataTable =\n",
              "            await google.colab.kernel.invokeFunction('convertToInteractive',\n",
              "                                                     [key], {});\n",
              "          if (!dataTable) return;\n",
              "\n",
              "          const docLinkHtml = 'Like what you see? Visit the ' +\n",
              "            '<a target=\"_blank\" href=https://colab.research.google.com/notebooks/data_table.ipynb>data table notebook</a>'\n",
              "            + ' to learn more about interactive tables.';\n",
              "          element.innerHTML = '';\n",
              "          dataTable['output_type'] = 'display_data';\n",
              "          await google.colab.output.renderOutput(dataTable, element);\n",
              "          const docLink = document.createElement('div');\n",
              "          docLink.innerHTML = docLinkHtml;\n",
              "          element.appendChild(docLink);\n",
              "        }\n",
              "      </script>\n",
              "    </div>\n",
              "  </div>\n",
              "  "
            ],
            "text/plain": [
              "   comprimento  altura\n",
              "0        20.11   14.89\n",
              "1        20.13   14.86\n",
              "2        19.99   15.01\n",
              "3        20.06   14.93\n",
              "4        19.99   15.01"
            ]
          },
          "execution_count": 110,
          "metadata": {},
          "output_type": "execute_result"
        }
      ],
      "source": [
        "df_a = df_medidas.query(\"amostra == 'A'\")[[\"comprimento\", \"altura\"]]\n",
        "df_a.head()"
      ]
    },
    {
      "cell_type": "markdown",
      "metadata": {
        "id": "Mtsmy55bzxWh"
      },
      "source": [
        "#### Gerando o gráfico"
      ]
    },
    {
      "cell_type": "code",
      "execution_count": null,
      "metadata": {
        "id": "CpUDIK2eI_Rd"
      },
      "outputs": [],
      "source": [
        "# Gerando a função que cria o gráfico de dispersão\n",
        "\n",
        "def grafico_dispersao(map_cores: list=[AZUL2], pct: float=0.01):\n",
        "  # Importando as bibliotecas\n",
        "  import matplotlib.pyplot as plt\n",
        "  import seaborn as sns\n",
        "\n",
        "  # Área do gráfico e tema da visualização\n",
        "  fig, ax = plt.subplots(figsize=(10,5))\n",
        "  sns.set_theme(style=\"white\")\n",
        "\n",
        "  # Gerando o gráfico de dispersão\n",
        "  ...\n",
        "\n",
        "  # ## Personalizando o gráfico\n",
        "  # plt.suptitle('Distribuição do comprimento x altura da caixa de sabão em pó', size=18, color=CINZA1, ha = 'right', x = 0.91, y = 1.03)\n",
        "  # plt.title('Para a amostra A com 200 observações', fontsize=14, color=CINZA2, pad = 15, loc = \"left\")\n",
        "  # ax.set_xlabel('Comprimento (cm)',  fontsize = 14)\n",
        "  # ax.set_ylabel('Altura (cm)', fontsize = 14)\n",
        "  # ax.xaxis.set_tick_params(labelsize=12, labelcolor = CINZA2)\n",
        "  # ax.yaxis.set_tick_params(labelsize=12, labelcolor = CINZA2)\n",
        "  # sns.despine()\n",
        "\n",
        "  # # Desenhando a linha horizontal com o límite mínimo de altura desejado\n",
        "  # ax.text(19.92, 14.855, 'Limite mínimo da altura', fontsize=12, color = CINZA2, va = \"bottom\")\n",
        "  # plt.axhline(y = 15 * (1 - pct), xmin = 0, xmax = df_a[\"comprimento\"].max(), color = CINZA4, linestyle='--')\n",
        "\n",
        "  # # Desenhando a linha vertical com o límite mínimo de comprimento desejado\n",
        "  # ax.text(20.205, 15.05, 'Limite máximo\\nde comprimento', fontsize=12, color = CINZA2, ha=\"left\")\n",
        "  # plt.axvline(x = 20 * (1 + pct), ymin = 0, ymax = df_a[\"altura\"].max(), color = CINZA4, linestyle='--')\n",
        "\n",
        "  return ax\n",
        "\n",
        "ax = grafico_dispersao()"
      ]
    },
    {
      "cell_type": "markdown",
      "metadata": {
        "id": "fjI9h_XZKtAY"
      },
      "source": [
        "## **5.3 - Mapeando dados por cores**\n",
        "\n",
        "---\n",
        "\n"
      ]
    },
    {
      "cell_type": "code",
      "execution_count": null,
      "metadata": {
        "id": "Wi6m-sf4zxWh"
      },
      "outputs": [],
      "source": [
        "## Configurando o gráfico com parâmetros que potencializam a visualização dos dados\n",
        "\n",
        "# Importando as bibliotecas\n",
        "from matplotlib.patches import Ellipse\n",
        "import numpy as np\n",
        "\n",
        "# Definindo as cores do gráfico\n",
        "cores = [VERMELHO1, LARANJA1, AZUL2]\n",
        "\n",
        "# Gerando o gráfico de dispersão e rejeitando os valores fora da faixa requisitada (1%)\n",
        "pct = 0.01\n",
        "rejeita_comp = [True if (c > 20*(1+pct) or c < 20*(1-pct)) else False for c in df_a[\"comprimento\"]]\n",
        "rejeita_alt = [True if (a > 15*(1+pct) or a < 15*(1-pct)) else False for a in df_a[\"altura\"]]\n",
        "...\n",
        "ax = grafico_dispersao(...)\n",
        "\n",
        "# # Selecionando as áreas de rejeição\n",
        "# rej_comp = Ellipse((20.165, 14.80), width = 0.065, height = 0.08, color=CINZA1, fill=False)\n",
        "# rej_alt = Ellipse((20.24, 14.715), width = 0.04, height = 0.08, color=CINZA1, fill=False)\n",
        "# ax.add_patch(rej_comp)\n",
        "# ax.add_patch(rej_alt)\n",
        "\n",
        "# ax.annotate(\"Rejeição pela faixa\\nde altura\", xy=(20.185, 14.82), xycoords='data',\n",
        "#             bbox=dict(boxstyle=\"round\", fc=CINZA5, ec=CINZA3),\n",
        "#             xytext=(50, -20), textcoords='offset points',\n",
        "#             arrowprops=dict(arrowstyle=\"->\", color=CINZA3))\n",
        "\n",
        "# ax.annotate(\"Rejeição pela faixa\\nde comprimento e altura\", xy=(20.22, 14.72), xycoords='data',\n",
        "#             bbox=dict(boxstyle=\"round\", fc=CINZA5, ec=CINZA3),\n",
        "#             xytext=(-180, -20), textcoords='offset points',\n",
        "#             arrowprops=dict(arrowstyle=\"->\", color=CINZA3))\n",
        "\n",
        "fig = ax.get_figure()"
      ]
    },
    {
      "cell_type": "markdown",
      "metadata": {
        "id": "JN_Du8WIzxWh"
      },
      "source": [
        "<font color=green size=4> Conclusões: </font>\n",
        "\n",
        "---\n",
        "\n",
        "Neste último gráfico de distribuição apresentamos o gráfico de dispersão. Utilizado também para o relacionamento entre os dados, este gráfico como distribuição aponta como as dimensões das caixas estão distruídas entre duas variáveis: comprimento e altura.\n",
        "\n",
        "Aqui utilizamos dois recursos visuais que é o de acercamento (gerado pela delimitação dos limites máximos e mínimos de comprimento e altura, respectivamente) e o de similaridade por meio das cores, representando os grupos dos valores aceitos, rejeitados por altura e rejeitados por altura e comprimento."
      ]
    }
  ],
  "metadata": {
    "colab": {
      "provenance": [],
      "include_colab_link": true
    },
    "kernelspec": {
      "display_name": "Python 3",
      "name": "python3"
    },
    "language_info": {
      "name": "python"
    }
  },
  "nbformat": 4,
  "nbformat_minor": 0
}