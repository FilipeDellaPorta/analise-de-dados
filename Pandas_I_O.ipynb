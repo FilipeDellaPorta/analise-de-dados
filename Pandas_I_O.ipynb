{
  "nbformat": 4,
  "nbformat_minor": 0,
  "metadata": {
    "colab": {
      "provenance": [],
      "authorship_tag": "ABX9TyOetIe9PkKkakhTplrmq6Gz",
      "include_colab_link": true
    },
    "kernelspec": {
      "name": "python3",
      "display_name": "Python 3"
    },
    "language_info": {
      "name": "python"
    }
  },
  "cells": [
    {
      "cell_type": "markdown",
      "metadata": {
        "id": "view-in-github",
        "colab_type": "text"
      },
      "source": [
        "<a href=\"https://colab.research.google.com/github/FilipeDellaPorta/analise-de-dados/blob/main/Pandas_I_O.ipynb\" target=\"_parent\"><img src=\"https://colab.research.google.com/assets/colab-badge.svg\" alt=\"Open In Colab\"/></a>"
      ]
    },
    {
      "cell_type": "code",
      "execution_count": null,
      "metadata": {
        "id": "FEj8ZAk3NfnQ"
      },
      "outputs": [],
      "source": [
        "url = 'https://raw.githubusercontent.com/alura-cursos/Pandas/main/superstore_data.csv'"
      ]
    }
  ]
}