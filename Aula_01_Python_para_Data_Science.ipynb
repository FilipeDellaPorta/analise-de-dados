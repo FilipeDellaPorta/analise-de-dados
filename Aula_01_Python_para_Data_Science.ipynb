{
  "nbformat": 4,
  "nbformat_minor": 0,
  "metadata": {
    "colab": {
      "provenance": [],
      "include_colab_link": true
    },
    "kernelspec": {
      "name": "python3",
      "display_name": "Python 3"
    },
    "language_info": {
      "name": "python"
    }
  },
  "cells": [
    {
      "cell_type": "markdown",
      "metadata": {
        "id": "view-in-github",
        "colab_type": "text"
      },
      "source": [
        "<a href=\"https://colab.research.google.com/github/FilipeDellaPorta/analise-de-dados/blob/main/Aula_01_Python_para_Data_Science.ipynb\" target=\"_parent\"><img src=\"https://colab.research.google.com/assets/colab-badge.svg\" alt=\"Open In Colab\"/></a>"
      ]
    },
    {
      "cell_type": "markdown",
      "source": [
        "#PYTHON PARA DATA SCIENCE\n",
        "---"
      ],
      "metadata": {
        "id": "AGc2Cf4cBwd7"
      }
    },
    {
      "cell_type": "markdown",
      "source": [
        "##1. BIBLIOTECAS\n",
        "---"
      ],
      "metadata": {
        "id": "fH2br9y9CYZ8"
      }
    },
    {
      "cell_type": "markdown",
      "source": [
        "## 1.1 Instalação e importação de bibliotecas\n",
        "\n",
        "Na linguagem Python utiliza-se bastante o conceito de bibliotecas como um conjunto de módulos e funções úteis para o usuário. Elas facilitam em reduzir o uso de códigos no projeto, mantendo apenas o necessário para a tarefa que desejamos realizar."
      ],
      "metadata": {
        "id": "jjEKgfiuFzHz"
      }
    },
    {
      "cell_type": "markdown",
      "source": [
        "### Instalando uma biblioteca"
      ],
      "metadata": {
        "id": "JjpazCgqDRfZ"
      }
    },
    {
      "cell_type": "markdown",
      "source": [
        "Para instalar ou atualizar uma biblioteca no Python, podemos recorrer ao `pip` que é um gerenciador de bibliotecas no Python."
      ],
      "metadata": {
        "id": "_qnuIo7oIQYx"
      }
    },
    {
      "cell_type": "code",
      "source": [
        "# Instalando a biblioteca matplotlib pelo pip\n",
        "!pip install matplotlib"
      ],
      "metadata": {
        "id": "rsxrF2fEDWcc",
        "colab": {
          "base_uri": "https://localhost:8080/"
        },
        "outputId": "6c03fde2-4123-4fb9-efc8-00575efbdd3a"
      },
      "execution_count": null,
      "outputs": [
        {
          "output_type": "stream",
          "name": "stdout",
          "text": [
            "Looking in indexes: https://pypi.org/simple, https://us-python.pkg.dev/colab-wheels/public/simple/\n",
            "Requirement already satisfied: matplotlib in /usr/local/lib/python3.9/dist-packages (3.5.3)\n",
            "Requirement already satisfied: packaging>=20.0 in /usr/local/lib/python3.9/dist-packages (from matplotlib) (23.0)\n",
            "Requirement already satisfied: pyparsing>=2.2.1 in /usr/local/lib/python3.9/dist-packages (from matplotlib) (3.0.9)\n",
            "Requirement already satisfied: numpy>=1.17 in /usr/local/lib/python3.9/dist-packages (from matplotlib) (1.22.4)\n",
            "Requirement already satisfied: pillow>=6.2.0 in /usr/local/lib/python3.9/dist-packages (from matplotlib) (8.4.0)\n",
            "Requirement already satisfied: kiwisolver>=1.0.1 in /usr/local/lib/python3.9/dist-packages (from matplotlib) (1.4.4)\n",
            "Requirement already satisfied: python-dateutil>=2.7 in /usr/local/lib/python3.9/dist-packages (from matplotlib) (2.8.2)\n",
            "Requirement already satisfied: cycler>=0.10 in /usr/local/lib/python3.9/dist-packages (from matplotlib) (0.11.0)\n",
            "Requirement already satisfied: fonttools>=4.22.0 in /usr/local/lib/python3.9/dist-packages (from matplotlib) (4.39.0)\n",
            "Requirement already satisfied: six>=1.5 in /usr/local/lib/python3.9/dist-packages (from python-dateutil>=2.7->matplotlib) (1.15.0)\n"
          ]
        }
      ]
    },
    {
      "cell_type": "code",
      "source": [
        "# Instalando uma versão específica do matplotlib\n",
        "!pip install matplotlib==3.6.2"
      ],
      "metadata": {
        "id": "s7JtnISoNHjf",
        "colab": {
          "base_uri": "https://localhost:8080/"
        },
        "outputId": "e7bb62a4-64ca-4cbe-8e09-dc1bdfeb5a83"
      },
      "execution_count": null,
      "outputs": [
        {
          "output_type": "stream",
          "name": "stdout",
          "text": [
            "Looking in indexes: https://pypi.org/simple, https://us-python.pkg.dev/colab-wheels/public/simple/\n",
            "Requirement already satisfied: matplotlib==3.6.2 in /usr/local/lib/python3.9/dist-packages (3.6.2)\n",
            "Requirement already satisfied: kiwisolver>=1.0.1 in /usr/local/lib/python3.9/dist-packages (from matplotlib==3.6.2) (1.4.4)\n",
            "Requirement already satisfied: pyparsing>=2.2.1 in /usr/local/lib/python3.9/dist-packages (from matplotlib==3.6.2) (3.0.9)\n",
            "Requirement already satisfied: fonttools>=4.22.0 in /usr/local/lib/python3.9/dist-packages (from matplotlib==3.6.2) (4.39.0)\n",
            "Requirement already satisfied: cycler>=0.10 in /usr/local/lib/python3.9/dist-packages (from matplotlib==3.6.2) (0.11.0)\n",
            "Requirement already satisfied: packaging>=20.0 in /usr/local/lib/python3.9/dist-packages (from matplotlib==3.6.2) (23.0)\n",
            "Requirement already satisfied: python-dateutil>=2.7 in /usr/local/lib/python3.9/dist-packages (from matplotlib==3.6.2) (2.8.2)\n",
            "Requirement already satisfied: pillow>=6.2.0 in /usr/local/lib/python3.9/dist-packages (from matplotlib==3.6.2) (8.4.0)\n",
            "Requirement already satisfied: contourpy>=1.0.1 in /usr/local/lib/python3.9/dist-packages (from matplotlib==3.6.2) (1.0.7)\n",
            "Requirement already satisfied: numpy>=1.19 in /usr/local/lib/python3.9/dist-packages (from matplotlib==3.6.2) (1.22.4)\n",
            "Requirement already satisfied: six>=1.5 in /usr/local/lib/python3.9/dist-packages (from python-dateutil>=2.7->matplotlib==3.6.2) (1.15.0)\n"
          ]
        }
      ]
    },
    {
      "cell_type": "markdown",
      "source": [
        "Existe também o PYPI que é um repositório de bibliotecas Python que traz as bibliotecas mais utilizadas pela comunidade junto a informações de como usar e acesso as documentações de cada uma delas.\n",
        "\n",
        "- PYPI ([https://pypi.org/](https://pypi.org/))"
      ],
      "metadata": {
        "id": "IHTmQnlXInD1"
      }
    },
    {
      "cell_type": "markdown",
      "source": [
        "### Importando uma biblioteca"
      ],
      "metadata": {
        "id": "A76TbnDbDehe"
      }
    },
    {
      "cell_type": "code",
      "source": [
        "# Importando uma biblioteca sem alias\n",
        "import matplotlib"
      ],
      "metadata": {
        "id": "IOP3GEKUDNaS"
      },
      "execution_count": null,
      "outputs": []
    },
    {
      "cell_type": "code",
      "source": [
        "matplotlib.__version__"
      ],
      "metadata": {
        "id": "xciT3_H0DNUS",
        "colab": {
          "base_uri": "https://localhost:8080/",
          "height": 35
        },
        "outputId": "d4d667de-754e-4cb4-9843-bdf54d41bbc1"
      },
      "execution_count": null,
      "outputs": [
        {
          "output_type": "execute_result",
          "data": {
            "text/plain": [
              "'3.6.2'"
            ],
            "application/vnd.google.colaboratory.intrinsic+json": {
              "type": "string"
            }
          },
          "metadata": {},
          "execution_count": 3
        }
      ]
    },
    {
      "cell_type": "code",
      "source": [
        "# Importando uma biblioteca com alias\n",
        "import matplotlib.pyplot as plt"
      ],
      "metadata": {
        "id": "I8x0l_5uDNXE"
      },
      "execution_count": null,
      "outputs": []
    },
    {
      "cell_type": "code",
      "source": [
        "plt.show()"
      ],
      "metadata": {
        "id": "MjQYbxA-DWWT"
      },
      "execution_count": null,
      "outputs": []
    },
    {
      "cell_type": "markdown",
      "source": [
        "## 1.2 Utilizando pacotes/bibliotecas\n",
        "\n",
        "- Documentação do Python (https://docs.python.org/pt-br/3/)"
      ],
      "metadata": {
        "id": "oMxkV9-6GXwH"
      }
    },
    {
      "cell_type": "markdown",
      "source": [
        "#### Exemplo 1: Vamos testar a biblioteca Matplotlib para um exemplo de médias de estudantes de uma classe.\n",
        "\n",
        "(https://matplotlib.org/stable/tutorials/introductory/pyplot.html)"
      ],
      "metadata": {
        "id": "W1MHaXB2Q7tT"
      }
    },
    {
      "cell_type": "code",
      "source": [
        "import matplotlib.pyplot as plt"
      ],
      "metadata": {
        "id": "jKBw5ho2DWTa"
      },
      "execution_count": null,
      "outputs": []
    },
    {
      "cell_type": "code",
      "source": [
        "estudantes = [\"João\", \"Maria\", \"José\"]\n",
        "notas = [8.5, 9, 6.5]"
      ],
      "metadata": {
        "id": "3Q8p9LonGo63"
      },
      "execution_count": null,
      "outputs": []
    },
    {
      "cell_type": "code",
      "source": [
        "plt.bar(x = estudantes, height = notas)"
      ],
      "metadata": {
        "id": "yhwQqLmBRvIw",
        "colab": {
          "base_uri": "https://localhost:8080/",
          "height": 447
        },
        "outputId": "58280198-9d3d-48a3-b709-d7c150e7110b"
      },
      "execution_count": null,
      "outputs": [
        {
          "output_type": "execute_result",
          "data": {
            "text/plain": [
              "<BarContainer object of 3 artists>"
            ]
          },
          "metadata": {},
          "execution_count": 5
        },
        {
          "output_type": "display_data",
          "data": {
            "text/plain": [
              "<Figure size 640x480 with 1 Axes>"
            ],
            "image/png": "[encoded data removed]"
          },
          "metadata": {}
        }
      ]
    },
    {
      "cell_type": "markdown",
      "source": [
        "#### Exemplo 2: Vamos selecionar aleatoriamente um aluno para apresentar o seu trabalho de ciência de dados usando a biblioteca Random\n",
        "\n",
        "(https://docs.python.org/pt-br/3/library/random.html)"
      ],
      "metadata": {
        "id": "5G6u4ZRYRIFZ"
      }
    },
    {
      "cell_type": "code",
      "source": [
        "estudantes_2 = [\"João\", \"Maria\", \"José\", \"Ana\"]"
      ],
      "metadata": {
        "id": "vnqGBX4DYv17"
      },
      "execution_count": null,
      "outputs": []
    },
    {
      "cell_type": "code",
      "source": [
        "# Importando uma função específica de uma biblioteca\n",
        "from random import choice"
      ],
      "metadata": {
        "id": "5UYHaiWaGoy1"
      },
      "execution_count": null,
      "outputs": []
    },
    {
      "cell_type": "markdown",
      "source": [
        "<font color=green>**Dica:**</font> Você pode notar ao longo de nossa prática a importância de recorrer a documentação para aprender como utilizar um método ou pacote na linguagem Python.\n",
        "\n",
        "O método `help()`, por exemplo, retorna uma descrição sobre uma variável, método ou classe.\n",
        "\n",
        "https://docs.python.org/pt-br/3/library/functions.html?#help"
      ],
      "metadata": {
        "id": "N-XJrnISGpTN"
      }
    },
    {
      "cell_type": "code",
      "source": [
        "help(choice)"
      ],
      "metadata": {
        "id": "fKv4W4PJXNOR",
        "colab": {
          "base_uri": "https://localhost:8080/"
        },
        "outputId": "ff93a78e-fe52-4c7f-b3fc-4b66ebe2b9ca"
      },
      "execution_count": null,
      "outputs": [
        {
          "output_type": "stream",
          "name": "stdout",
          "text": [
            "Help on method choice in module random:\n",
            "\n",
            "choice(seq) method of random.Random instance\n",
            "    Choose a random element from a non-empty sequence.\n",
            "\n"
          ]
        }
      ]
    },
    {
      "cell_type": "code",
      "source": [
        "estudante = choice(estudantes_2)\n",
        "estudante"
      ],
      "metadata": {
        "id": "Pal_mZsFcV80",
        "colab": {
          "base_uri": "https://localhost:8080/",
          "height": 35
        },
        "outputId": "92acbc8f-da22-43f4-fadb-81266f4d0a06"
      },
      "execution_count": null,
      "outputs": [
        {
          "output_type": "execute_result",
          "data": {
            "text/plain": [
              "'José'"
            ],
            "application/vnd.google.colaboratory.intrinsic+json": {
              "type": "string"
            }
          },
          "metadata": {},
          "execution_count": 16
        }
      ]
    },
    {
      "cell_type": "markdown",
      "source": [
        "Usando from nome_biblioteca import met_1, met_2"
      ],
      "metadata": {
        "id": "YkpvD1DnCYYP"
      }
    },
    {
      "cell_type": "code",
      "source": [
        "from random import randrange, sample\n",
        "\n",
        "lista = []\n",
        "\n",
        "for i in range(0, 20):\n",
        "  lista.append(randrange(100))\n",
        "\n",
        "sample(lista, 5)"
      ],
      "metadata": {
        "colab": {
          "base_uri": "https://localhost:8080/"
        },
        "id": "Hg2Puy_sBTQJ",
        "outputId": "60b0f86c-b0e5-410c-9917-ffbf6be457b2"
      },
      "execution_count": null,
      "outputs": [
        {
          "output_type": "execute_result",
          "data": {
            "text/plain": [
              "[71, 70, 88, 83, 38]"
            ]
          },
          "metadata": {},
          "execution_count": 1
        }
      ]
    },
    {
      "cell_type": "markdown",
      "source": [
        "Usando import nome_biblioteca"
      ],
      "metadata": {
        "id": "onSlWx40CI8f"
      }
    },
    {
      "cell_type": "code",
      "source": [
        "import math\n",
        "\n",
        "n = int(input(\"Digite um número positivo para calcular sua raiz quadrada:\"))\n",
        "print(f\"\\nA raiz quadrada de {n} é igual a {math.sqrt(n)}\")"
      ],
      "metadata": {
        "colab": {
          "base_uri": "https://localhost:8080/"
        },
        "id": "o9LRRgU5CBHP",
        "outputId": "455676bb-b848-4654-ae66-41d83a05840a"
      },
      "execution_count": null,
      "outputs": [
        {
          "output_type": "stream",
          "name": "stdout",
          "text": [
            "Digite um número positivo para calcular sua raiz quadrada:5\n",
            "\n",
            "A raiz quadrada de 5 é igual a 2.23606797749979\n"
          ]
        }
      ]
    },
    {
      "cell_type": "markdown",
      "source": [
        "Usando from nome_biblioteca import *"
      ],
      "metadata": {
        "id": "C6Npkn6LCOwP"
      }
    },
    {
      "cell_type": "code",
      "source": [
        "from math import *\n",
        "\n",
        "n = int(input(\"Digite um número positivo para calcular sua raiz quadrada:\"))\n",
        "print(f\"\\nA raiz quadrada de {n} é igual a {sqrt(n)}\")"
      ],
      "metadata": {
        "colab": {
          "base_uri": "https://localhost:8080/"
        },
        "id": "T62AC7gmCDzH",
        "outputId": "c136e528-65de-4fb5-a17f-5f8b27640857"
      },
      "execution_count": null,
      "outputs": [
        {
          "output_type": "stream",
          "name": "stdout",
          "text": [
            "Digite um número positivo para calcular sua raiz quadrada:4\n",
            "\n",
            "A raiz quadrada de 4 é igual a 2.0\n"
          ]
        }
      ]
    },
    {
      "cell_type": "markdown",
      "source": [
        "###Aquecimento"
      ],
      "metadata": {
        "id": "0MEYuRTqDDd1"
      }
    },
    {
      "cell_type": "markdown",
      "source": [
        "1. Escreva um código para instalar a versão 3.7.1 da biblioteca matplotlib."
      ],
      "metadata": {
        "id": "0COBgqtPDFC9"
      }
    },
    {
      "cell_type": "code",
      "source": [
        "!pip install matplotlib==3.7.1"
      ],
      "metadata": {
        "colab": {
          "base_uri": "https://localhost:8080/"
        },
        "id": "3AMhi5eKDHY1",
        "outputId": "a97e9627-45fa-4d51-c3f8-c418941ccf30"
      },
      "execution_count": null,
      "outputs": [
        {
          "output_type": "stream",
          "name": "stdout",
          "text": [
            "Requirement already satisfied: matplotlib==3.7.1 in /usr/local/lib/python3.11/dist-packages (3.7.1)\n",
            "Requirement already satisfied: contourpy>=1.0.1 in /usr/local/lib/python3.11/dist-packages (from matplotlib==3.7.1) (1.3.2)\n",
            "Requirement already satisfied: cycler>=0.10 in /usr/local/lib/python3.11/dist-packages (from matplotlib==3.7.1) (0.12.1)\n",
            "Requirement already satisfied: fonttools>=4.22.0 in /usr/local/lib/python3.11/dist-packages (from matplotlib==3.7.1) (4.57.0)\n",
            "Requirement already satisfied: kiwisolver>=1.0.1 in /usr/local/lib/python3.11/dist-packages (from matplotlib==3.7.1) (1.4.8)\n",
            "Requirement already satisfied: numpy>=1.20 in /usr/local/lib/python3.11/dist-packages (from matplotlib==3.7.1) (2.0.2)\n",
            "Requirement already satisfied: packaging>=20.0 in /usr/local/lib/python3.11/dist-packages (from matplotlib==3.7.1) (24.2)\n",
            "Requirement already satisfied: pillow>=6.2.0 in /usr/local/lib/python3.11/dist-packages (from matplotlib==3.7.1) (11.2.1)\n",
            "Requirement already satisfied: pyparsing>=2.3.1 in /usr/local/lib/python3.11/dist-packages (from matplotlib==3.7.1) (3.2.3)\n",
            "Requirement already satisfied: python-dateutil>=2.7 in /usr/local/lib/python3.11/dist-packages (from matplotlib==3.7.1) (2.9.0.post0)\n",
            "Requirement already satisfied: six>=1.5 in /usr/local/lib/python3.11/dist-packages (from python-dateutil>=2.7->matplotlib==3.7.1) (1.17.0)\n"
          ]
        }
      ]
    },
    {
      "cell_type": "markdown",
      "source": [
        "2. Escreva um código para importar a biblioteca numpy com o alias np."
      ],
      "metadata": {
        "id": "gTv8ZWTWDfG-"
      }
    },
    {
      "cell_type": "code",
      "source": [
        "import numpy as np"
      ],
      "metadata": {
        "id": "fTdzk0CSDgmc"
      },
      "execution_count": null,
      "outputs": []
    },
    {
      "cell_type": "markdown",
      "source": [
        "3. Crie um programa que leia a seguinte lista de números e escolha um número desta aleatoriamente."
      ],
      "metadata": {
        "id": "PJzXTMkcDmR0"
      }
    },
    {
      "cell_type": "code",
      "source": [
        "import random\n",
        "lista = [8, 12, 54, 23, 43, 1, 90, 87, 105, 77]\n",
        "numero = random.choice(lista)\n",
        "numero"
      ],
      "metadata": {
        "colab": {
          "base_uri": "https://localhost:8080/"
        },
        "id": "3ITX9b0EDrnk",
        "outputId": "6fd18962-3e3d-4c82-c78b-118c747dfba9"
      },
      "execution_count": null,
      "outputs": [
        {
          "output_type": "execute_result",
          "data": {
            "text/plain": [
              "90"
            ]
          },
          "metadata": {},
          "execution_count": 5
        }
      ]
    },
    {
      "cell_type": "markdown",
      "source": [
        "4. Crie um programa que sorteia, aleatoriamente, um número inteiro positivo menor que 100.\n",
        "\n",
        "\n",
        "> Dica: use a função randrange() da biblioteca random. Essa função recebe como parâmetro o valor limite para a escolha aleatória ou um intervalo se passado o limite mínimo e máximo. Por exemplo, randrange(5) gera valores inteiros menores que 5.\n",
        "\n"
      ],
      "metadata": {
        "id": "aUOGuKmHEP9D"
      }
    },
    {
      "cell_type": "code",
      "source": [
        "from random import randrange\n",
        "\n",
        "numero = randrange(100)\n",
        "print(f'O número sorteado foi: {numero}')"
      ],
      "metadata": {
        "colab": {
          "base_uri": "https://localhost:8080/"
        },
        "id": "25JfTbotEkAr",
        "outputId": "cde8c302-ce4c-4957-c575-161cef1f3ac4"
      },
      "execution_count": null,
      "outputs": [
        {
          "output_type": "stream",
          "name": "stdout",
          "text": [
            "O número sorteado foi: 67\n"
          ]
        }
      ]
    },
    {
      "cell_type": "markdown",
      "source": [
        "5. Crie um programa que solicite à pessoa usuária digitar dois números inteiros e calcular a potência do 1º número elevado ao 2º.\n",
        "\n",
        "> Dica: use a função pow() da biblioteca math\n",
        "\n"
      ],
      "metadata": {
        "id": "-gH5Xxm7FhVc"
      }
    },
    {
      "cell_type": "code",
      "source": [
        "from math import pow\n",
        "base = int(input('Digite a base: '))\n",
        "expoente = int(input('Digite o expoente: '))\n",
        "resultado = pow(base, expoente)\n",
        "resultado"
      ],
      "metadata": {
        "colab": {
          "base_uri": "https://localhost:8080/"
        },
        "id": "_klr5aCoFrng",
        "outputId": "85090734-513e-4c6d-947a-5299e0d792ae"
      },
      "execution_count": null,
      "outputs": [
        {
          "name": "stdout",
          "output_type": "stream",
          "text": [
            "Digite a base: 2\n",
            "Digite o expoente: 3\n"
          ]
        },
        {
          "output_type": "execute_result",
          "data": {
            "text/plain": [
              "8.0"
            ]
          },
          "metadata": {},
          "execution_count": 12
        }
      ]
    },
    {
      "cell_type": "markdown",
      "source": [
        "###Aplicando a projetos"
      ],
      "metadata": {
        "id": "ngHGlTISGFfY"
      }
    },
    {
      "cell_type": "markdown",
      "source": [
        "6. Um programa deve ser escrito para sortear uma pessoa seguidora de uma rede social para ganhar um prêmio. A lista de participantes é numerada e devemos escolher aleatoriamente um número de acordo com a quantidade de participantes. Peça à pessoa usuária para fornecer o número de participantes do sorteio e devolva para ela o número sorteado."
      ],
      "metadata": {
        "id": "GAbynizfGHcA"
      }
    },
    {
      "cell_type": "code",
      "source": [
        "from random import randint\n",
        "numero_participantes = int(input('Digite o número de participantes: '))\n",
        "numero_sorteado = randint(1, numero_participantes)\n",
        "numero_sorteado"
      ],
      "metadata": {
        "colab": {
          "base_uri": "https://localhost:8080/"
        },
        "id": "9hDbAUqeGXHY",
        "outputId": "dd0ea607-ba81-47b9-ce4d-16d1bfcb9642"
      },
      "execution_count": null,
      "outputs": [
        {
          "name": "stdout",
          "output_type": "stream",
          "text": [
            "Digite o número de participantes: 2\n"
          ]
        },
        {
          "output_type": "execute_result",
          "data": {
            "text/plain": [
              "2"
            ]
          },
          "metadata": {},
          "execution_count": 20
        }
      ]
    },
    {
      "cell_type": "markdown",
      "source": [
        "7. Você recebeu uma demanda para gerar números de token para acessar o aplicativo de uma empresa. O token precisa ser par e variar de 1000 até 9998. Escreva um código que solicita à pessoa usuária o seu nome e exibe uma mensagem junto a esse token gerado aleatoriamente.\n",
        "\n",
        "> \"Olá, [nome], o seu token de acesso é [token]! Seja bem-vindo(a)!\"\n",
        "\n"
      ],
      "metadata": {
        "id": "8nZVuwrRIDEU"
      }
    },
    {
      "cell_type": "code",
      "source": [
        "from random import randrange\n",
        "token = randrange(1000, 9999)\n",
        "while token % 2 != 0:\n",
        "  token = randrange(1000, 9999)\n",
        "nome = input('Digite seu nome: ')\n",
        "print(f'Olá, {nome}, o seu token de acesso é {token}! Seja bem-vindo(a)!')"
      ],
      "metadata": {
        "colab": {
          "base_uri": "https://localhost:8080/"
        },
        "id": "ZBub4MqOINgM",
        "outputId": "45fa6e99-5578-4c7d-a8fb-ad05c5583256"
      },
      "execution_count": null,
      "outputs": [
        {
          "output_type": "stream",
          "name": "stdout",
          "text": [
            "Digite seu nome: f\n",
            "Olá, f, o seu token de acesso é 8542! Seja bem-vindo(a)!\n"
          ]
        }
      ]
    },
    {
      "cell_type": "markdown",
      "source": [
        "8. Para diversificar e atrair novos(as) clientes, uma lanchonete criou um item misterioso em seu cardápio chamado \"salada de frutas surpresa\". Neste item, são escolhidas aleatoriamente 3 frutas de uma lista de 12 para compor a salada de frutas da pessoa cliente. Crie o código que faça essa seleção aleatória de acordo com a lista abaixo:\n",
        "\n",
        "```\n",
        "frutas = [\"maçã\", \"banana\", \"uva\", \"pêra\",\n",
        "         \"manga\", \"coco\", \"melancia\", \"mamão\",\n",
        "         \"laranja\", \"abacaxi\", \"kiwi\", \"ameixa\"]\n",
        "```\n",
        "\n"
      ],
      "metadata": {
        "id": "51kKJoBHOo8a"
      }
    },
    {
      "cell_type": "code",
      "source": [
        "import random\n",
        "\n",
        "frutas = [\"maçã\", \"banana\", \"uva\", \"pêra\",\n",
        "         \"manga\", \"coco\", \"melancia\", \"mamão\",\n",
        "         \"laranja\", \"abacaxi\", \"kiwi\", \"ameixa\"]\n",
        "\n",
        "salada_de_frutas = random.sample(frutas, 3)\n",
        "salada_de_frutas"
      ],
      "metadata": {
        "colab": {
          "base_uri": "https://localhost:8080/"
        },
        "id": "yoFofkD0O9CA",
        "outputId": "861a2891-3c85-4742-c89f-f51effe2ab96"
      },
      "execution_count": null,
      "outputs": [
        {
          "output_type": "execute_result",
          "data": {
            "text/plain": [
              "['uva', 'maçã', 'mamão']"
            ]
          },
          "metadata": {},
          "execution_count": 35
        }
      ]
    },
    {
      "cell_type": "markdown",
      "source": [
        "9. Você recebeu um desafio de calcular a raiz quadrada de uma lista de números, identificando quais resultaram em um número inteiro. A lista é a seguinte:\n",
        "\n",
        "```\n",
        "numeros = [2, 8, 15, 23, 91, 112, 256]\n",
        "```\n",
        "No final, informe quais números possuem raízes inteiras e seus respectivos valores.\n",
        "\n",
        "Dica: use a comparação entre a divisão inteira (//) da raiz por 1 com o valor da raiz para verificar se o número é inteiro. Por exemplo:\n",
        "\n",
        "\n",
        "```\n",
        "num = 1.5\n",
        "num_2 = 2\n",
        "print(f'{num} é inteiro? :', num // 1 == num)\n",
        "print(f'{num_2} é inteiro? :', num_2 // 1 == num_2)\n",
        "```\n",
        "\n",
        "\n"
      ],
      "metadata": {
        "id": "yYc1mdlyQDr4"
      }
    },
    {
      "cell_type": "code",
      "source": [
        "import math\n",
        "numeros = [2, 8, 15, 23, 91, 112, 256]\n",
        "\n",
        "for i in numeros:\n",
        "  raiz_quadrada = math.sqrt(i)\n",
        "  if raiz_quadrada.is_integer():\n",
        "    print(f'{i} tem raiz quadrada exata: {int(raiz_quadrada)}')\n",
        "  else:\n",
        "    print(f'{i} não tem raiz quadrada exata: {float(raiz_quadrada):.2f}')"
      ],
      "metadata": {
        "colab": {
          "base_uri": "https://localhost:8080/"
        },
        "id": "GVOc2YuJQW7u",
        "outputId": "de5fcdd7-faf1-447b-d13e-ab78f52ea8d1"
      },
      "execution_count": null,
      "outputs": [
        {
          "output_type": "stream",
          "name": "stdout",
          "text": [
            "2 não tem raiz quadrada exata: 1.41\n",
            "8 não tem raiz quadrada exata: 2.83\n",
            "15 não tem raiz quadrada exata: 3.87\n",
            "23 não tem raiz quadrada exata: 4.80\n",
            "91 não tem raiz quadrada exata: 9.54\n",
            "112 não tem raiz quadrada exata: 10.58\n",
            "256 tem raiz quadrada exata: 16\n"
          ]
        }
      ]
    },
    {
      "cell_type": "markdown",
      "source": [
        "10. Faça um programa para uma loja que vende grama para jardins. Essa loja trabalha com jardins circulares e o preço do metro quadrado da grama é de R$ 25,00. Peça à pessoa usuária o raio da área circular e devolva o valor em reais do quanto precisará pagar.\n",
        "\n",
        "> Dica: use a variável pi e o método pow() da biblioteca math. O cálculo da área de um círculo é de: A = π*r^2 (lê-se pi vezes raio ao quadrado)."
      ],
      "metadata": {
        "id": "wXUjzX6LSZLh"
      }
    },
    {
      "cell_type": "code",
      "source": [
        "import math\n",
        "preco_metro_quadrado = 25\n",
        "raio_do_usuario = float(input('Digite em metros o raio da área circular: '))\n",
        "area_circulo = math.pi * math.pow(raio_do_usuario, 2)\n",
        "preco_final = area_circulo * preco_metro_quadrado\n",
        "\n",
        "print(f'Raio da área circular informada pelo usuário foi de: {raio_do_usuario:.2f}m')\n",
        "print(f'Área total do círculo é de: {area_circulo:.2f}m²')\n",
        "print(f'Preço final: R${preco_final:.2f}')\n"
      ],
      "metadata": {
        "colab": {
          "base_uri": "https://localhost:8080/"
        },
        "id": "yGaxiW5qSyKE",
        "outputId": "78ef887a-2f16-4124-87b2-7063504e37a1"
      },
      "execution_count": null,
      "outputs": [
        {
          "output_type": "stream",
          "name": "stdout",
          "text": [
            "Digite em metros o raio da área circular: 8\n",
            "Raio da área circular informada pelo usuário foi de: 8.00m\n",
            "Área total do círculo é de: 201.06m²\n",
            "Preço final: R$5026.55\n"
          ]
        }
      ]
    },
    {
      "cell_type": "markdown",
      "source": [
        "##2. FUNÇÕES\n",
        "---"
      ],
      "metadata": {
        "id": "2hrSPmlcBwWS"
      }
    },
    {
      "cell_type": "markdown",
      "source": [
        "Na linguagem Python, as **funções** são sequências de instruções que executam tarefas específicas, podendo ser reutilizadas em diferentes partes do código. Elas podem receber parâmetros de entrada (que podemos chamar de *inputs*) e também retornar resultados."
      ],
      "metadata": {
        "id": "gC4lHsW-DREY"
      }
    },
    {
      "cell_type": "markdown",
      "source": [
        "## 2.1 Built-in function\n",
        "\n",
        "O interpretador do Python já possui uma série de funções embutidas que podem ser invocadas a qualquer momento. Algumas que vamos utilizar ao longo desse curso são: type(), print(), list(), zip(), sum(), map() etc.\n",
        "\n",
        "***Documentação:***\n",
        "https://docs.python.org/pt-br/3/library/functions.html\n"
      ],
      "metadata": {
        "id": "Qr_h1_UNEzHZ"
      }
    },
    {
      "cell_type": "markdown",
      "source": [
        "#### **Situação 1:**\n",
        "\n",
        "A escola em que estamos construindo o nosso case de dados compartilhou os dados das notas de um estudante para que pudéssemos calcular a média deste em até uma casa decimal.\n",
        "\n",
        "Os dados recebidos correspondem a um dicionário com as chaves indicando o trimestre em questão e os valores das notas de cada trimestre do estudante em uma dada matéria."
      ],
      "metadata": {
        "id": "MMOJIW3TyLIB"
      }
    },
    {
      "cell_type": "code",
      "source": [
        "# Notas do(a) estudante\n",
        "notas = {'1º Trimestre': 8.5, '2º Trimestre': 7.5, '3º Trimestre': 9}\n",
        "notas"
      ],
      "metadata": {
        "colab": {
          "base_uri": "https://localhost:8080/"
        },
        "id": "kRAMC_KbI6U4",
        "outputId": "667f74fb-26c7-4fb5-e290-f7be30782e96"
      },
      "execution_count": null,
      "outputs": [
        {
          "output_type": "execute_result",
          "data": {
            "text/plain": [
              "{'1º Trimestre': 8.5, '2º Trimestre': 7.5, '3º Trimestre': 9}"
            ]
          },
          "metadata": {},
          "execution_count": 47
        }
      ]
    },
    {
      "cell_type": "code",
      "source": [
        "# Calculando a soma\n",
        "soma = 0\n",
        "\n",
        "for i in notas:\n",
        "  soma += notas[i]\n",
        "soma\n",
        "# instrutor\n",
        "soma = 0\n",
        "\n",
        "for nota in notas.values():\n",
        "  soma += nota\n",
        "soma"
      ],
      "metadata": {
        "id": "S7vIqSZJI6P4",
        "colab": {
          "base_uri": "https://localhost:8080/"
        },
        "outputId": "080f8930-f50f-49a1-9639-a2b45196a4ee"
      },
      "execution_count": null,
      "outputs": [
        {
          "output_type": "execute_result",
          "data": {
            "text/plain": [
              "25.0"
            ]
          },
          "metadata": {},
          "execution_count": 56
        }
      ]
    },
    {
      "cell_type": "code",
      "source": [
        "# Usando a função embutida sum()\n",
        "somatorio = sum(notas.values())\n",
        "somatorio"
      ],
      "metadata": {
        "id": "yr9YSRwNPF9S",
        "colab": {
          "base_uri": "https://localhost:8080/"
        },
        "outputId": "cc7b49f5-b7f6-47e0-e541-c3968ef21975"
      },
      "execution_count": null,
      "outputs": [
        {
          "output_type": "execute_result",
          "data": {
            "text/plain": [
              "25.0"
            ]
          },
          "metadata": {},
          "execution_count": 57
        }
      ]
    },
    {
      "cell_type": "code",
      "source": [
        "# Usando a função embutida len()\n",
        "qtd_notas = len(notas)\n",
        "qtd_notas"
      ],
      "metadata": {
        "id": "Zn6XAAdQI6Fw",
        "colab": {
          "base_uri": "https://localhost:8080/"
        },
        "outputId": "8e763c49-7a59-4e24-bc78-0c19b5076c1e"
      },
      "execution_count": null,
      "outputs": [
        {
          "output_type": "execute_result",
          "data": {
            "text/plain": [
              "3"
            ]
          },
          "metadata": {},
          "execution_count": 58
        }
      ]
    },
    {
      "cell_type": "code",
      "source": [
        "# calculando a média\n",
        "somatorio = sum(notas.values())\n",
        "qtd_notas = len(notas)\n",
        "media = somatorio / qtd_notas\n",
        "media"
      ],
      "metadata": {
        "id": "iUx5UixrNsQh",
        "colab": {
          "base_uri": "https://localhost:8080/"
        },
        "outputId": "1996cd3c-f887-4f1f-ee3f-1bea0eb5df62"
      },
      "execution_count": null,
      "outputs": [
        {
          "output_type": "execute_result",
          "data": {
            "text/plain": [
              "8.333333333333334"
            ]
          },
          "metadata": {},
          "execution_count": 64
        }
      ]
    },
    {
      "cell_type": "markdown",
      "source": [
        "*Arredondar a média usando round():*\n",
        "\n",
        "https://docs.python.org/pt-br/3/library/functions.html#round"
      ],
      "metadata": {
        "id": "JD2z3LW8312E"
      }
    },
    {
      "cell_type": "code",
      "source": [
        "round? #help(round) a diferença é onde a aba abre"
      ],
      "metadata": {
        "id": "OAZC5RwkSwWh",
        "colab": {
          "base_uri": "https://localhost:8080/"
        },
        "outputId": "231f77e4-d4ed-4bd7-f1de-62edb05d6d23"
      },
      "execution_count": null,
      "outputs": [
        {
          "output_type": "stream",
          "name": "stdout",
          "text": [
            "Help on built-in function round in module builtins:\n",
            "\n",
            "round(number, ndigits=None)\n",
            "    Round a number to a given precision in decimal digits.\n",
            "    \n",
            "    The return value is an integer if ndigits is omitted or None.  Otherwise\n",
            "    the return value has the same type as the number.  ndigits may be negative.\n",
            "\n"
          ]
        }
      ]
    },
    {
      "cell_type": "code",
      "source": [
        "round(media, 1)"
      ],
      "metadata": {
        "id": "cJ1C2Pg-4PNq",
        "colab": {
          "base_uri": "https://localhost:8080/"
        },
        "outputId": "0be8f251-17ee-4bb0-e0ed-71576dd8ffe9"
      },
      "execution_count": null,
      "outputs": [
        {
          "output_type": "execute_result",
          "data": {
            "text/plain": [
              "8.3"
            ]
          },
          "metadata": {},
          "execution_count": 65
        }
      ]
    },
    {
      "cell_type": "markdown",
      "source": [
        "## 2.2 Criando funções"
      ],
      "metadata": {
        "id": "NCUSezOJIdfy"
      }
    },
    {
      "cell_type": "markdown",
      "source": [
        "Depois de explorarmos a built-in functions e aprendermos como utilizar algumas delas, você pode se deparar com a necessidade de resolver um problema específico em que elas não serão o suficiente.\n",
        "\n",
        "Nesse ponto, precisaremos criar as nossas próprias funções, ainda mais se precisarmos utilizá-las em mais partes de nossos códigos."
      ],
      "metadata": {
        "id": "QrTAXwghsg6s"
      }
    },
    {
      "cell_type": "markdown",
      "source": [
        "### Funções sem parâmetros\n",
        "\n",
        "#### Formato padrão:\n",
        "\n",
        "```python\n",
        "def <nome>():\n",
        "  <instruções>\n",
        "```"
      ],
      "metadata": {
        "id": "zxyXiX462A_X"
      }
    },
    {
      "cell_type": "code",
      "source": [
        "def media():\n",
        "  calculo = (10 + 9 + 8) / 3\n",
        "  print(calculo)"
      ],
      "metadata": {
        "id": "zQtsnpyCzHfb"
      },
      "execution_count": null,
      "outputs": []
    },
    {
      "cell_type": "code",
      "source": [
        "media()"
      ],
      "metadata": {
        "id": "Eq4U8TPq0xOv",
        "colab": {
          "base_uri": "https://localhost:8080/"
        },
        "outputId": "a8d5d0c1-7315-4152-f19a-dd4dd60acc0c"
      },
      "execution_count": null,
      "outputs": [
        {
          "output_type": "stream",
          "name": "stdout",
          "text": [
            "9.0\n"
          ]
        }
      ]
    },
    {
      "cell_type": "markdown",
      "source": [
        "### Funções com parâmetros\n",
        "\n",
        "#### Formato padrão:\n",
        "\n",
        "```python\n",
        "def <nome>(<param_1>, <param_2>, ..., <param_n>):\n",
        "  <instruções>\n",
        "```"
      ],
      "metadata": {
        "id": "o9AR_DNDFKSD"
      }
    },
    {
      "cell_type": "code",
      "source": [
        "def media(nota_1, nota_2, nota_3):\n",
        "  calculo = (nota_1 + nota_2 + nota_3) / 3\n",
        "  print(calculo)"
      ],
      "metadata": {
        "id": "zVIvbjeRDR24"
      },
      "execution_count": null,
      "outputs": []
    },
    {
      "cell_type": "code",
      "source": [
        "media(3, 6, 9)"
      ],
      "metadata": {
        "id": "c6H9lfBn3FuA",
        "colab": {
          "base_uri": "https://localhost:8080/"
        },
        "outputId": "94eaaf6f-3121-453c-b3dd-55f1962bad4a"
      },
      "execution_count": null,
      "outputs": [
        {
          "output_type": "stream",
          "name": "stdout",
          "text": [
            "6.0\n"
          ]
        }
      ]
    },
    {
      "cell_type": "code",
      "source": [
        "nota1 = 8\n",
        "nota2 = 9\n",
        "nota3 = 10\n",
        "\n",
        "media(nota1, nota2, nota3)"
      ],
      "metadata": {
        "id": "38M9GYEVQp_x",
        "colab": {
          "base_uri": "https://localhost:8080/"
        },
        "outputId": "43311eb1-c8b2-49af-9204-bdb665dc6ed8"
      },
      "execution_count": null,
      "outputs": [
        {
          "output_type": "stream",
          "name": "stdout",
          "text": [
            "9.0\n"
          ]
        }
      ]
    },
    {
      "cell_type": "markdown",
      "source": [
        "#### **Situação 2:**\n",
        "\n",
        "Recebemos uma demanda de calcular a média de um estudante a partir de uma lista, sendo possível alterar a quantidade de notas, sem impedir que o cálculo seja refeito.\n",
        "\n",
        "Os dados recebidos, desta vez, correspondem a uma lista contendo apenas as notas de um estudante em uma dada matéria.\n",
        "\n",
        "**Vamos resolver esse desafio?**\n",
        "\n",
        "Para facilitar o nosso entendimento do processo vamos aplicar às notas de apenas um estudante, mas você pode testar outros casos para treinar."
      ],
      "metadata": {
        "id": "-Umx7n134suz"
      }
    },
    {
      "cell_type": "code",
      "source": [
        "# Notas do(a) estudante\n",
        "notas = [8.5, 9.0, 6.0, 10.0]"
      ],
      "metadata": {
        "id": "9AiWnXLuzc1P"
      },
      "execution_count": null,
      "outputs": []
    },
    {
      "cell_type": "code",
      "source": [
        "def media(lista):\n",
        "  calculo = sum(lista) / len(lista)\n",
        "  print(calculo)"
      ],
      "metadata": {
        "id": "bEf8Evf1DR0I"
      },
      "execution_count": null,
      "outputs": []
    },
    {
      "cell_type": "code",
      "source": [
        "media(notas)"
      ],
      "metadata": {
        "id": "R5ylO_vW6k8C",
        "colab": {
          "base_uri": "https://localhost:8080/"
        },
        "outputId": "87f1dab5-7367-48e6-eb51-1b7600471720"
      },
      "execution_count": null,
      "outputs": [
        {
          "output_type": "stream",
          "name": "stdout",
          "text": [
            "8.375\n"
          ]
        }
      ]
    },
    {
      "cell_type": "code",
      "source": [
        "resultado = media(notas)"
      ],
      "metadata": {
        "id": "9wNMcPOK_T9F",
        "colab": {
          "base_uri": "https://localhost:8080/"
        },
        "outputId": "f2bffb2d-bf45-41bc-b84e-853c58e9c251"
      },
      "execution_count": null,
      "outputs": [
        {
          "output_type": "stream",
          "name": "stdout",
          "text": [
            "8.375\n"
          ]
        }
      ]
    },
    {
      "cell_type": "code",
      "source": [
        "resultado"
      ],
      "metadata": {
        "id": "4xnmTQ9w_ZTi"
      },
      "execution_count": null,
      "outputs": []
    },
    {
      "cell_type": "code",
      "source": [
        "type(resultado)"
      ],
      "metadata": {
        "id": "x6m24TcG_W3w",
        "colab": {
          "base_uri": "https://localhost:8080/"
        },
        "outputId": "9b31d41d-2fcb-46ae-dc9f-7791cc605fdb"
      },
      "execution_count": null,
      "outputs": [
        {
          "output_type": "execute_result",
          "data": {
            "text/plain": [
              "NoneType"
            ]
          },
          "metadata": {},
          "execution_count": 82
        }
      ]
    },
    {
      "cell_type": "markdown",
      "source": [
        "<font color=red>**Atenção!**</font>\n",
        "Quando utilizamos funções precisamos prestar atenção a uma propriedade chamada **escopo de uma função**\n",
        "\n",
        "Ela determina onde uma variável pode ser utilizada dentro do código. Por exemplo, uma variável criada dentro de uma função existirá apenas dentro da função. Ou seja, encerrando a execução da função, a variável não estará disponível para o usuário no restante do código."
      ],
      "metadata": {
        "id": "skMq7d0_xHND"
      }
    },
    {
      "cell_type": "code",
      "source": [
        "calculo"
      ],
      "metadata": {
        "id": "5FBWT2_gzIzR",
        "colab": {
          "base_uri": "https://localhost:8080/",
          "height": 141
        },
        "outputId": "d088f531-c2c6-42be-8580-e957838ba81f"
      },
      "execution_count": null,
      "outputs": [
        {
          "output_type": "error",
          "ename": "NameError",
          "evalue": "name 'calculo' is not defined",
          "traceback": [
            "\u001b[0;31m---------------------------------------------------------------------------\u001b[0m",
            "\u001b[0;31mNameError\u001b[0m                                 Traceback (most recent call last)",
            "\u001b[0;32m<ipython-input-84-358730cc7909>\u001b[0m in \u001b[0;36m<cell line: 0>\u001b[0;34m()\u001b[0m\n\u001b[0;32m----> 1\u001b[0;31m \u001b[0mcalculo\u001b[0m\u001b[0;34m\u001b[0m\u001b[0;34m\u001b[0m\u001b[0m\n\u001b[0m",
            "\u001b[0;31mNameError\u001b[0m: name 'calculo' is not defined"
          ]
        }
      ]
    },
    {
      "cell_type": "markdown",
      "source": [
        "## 2.3 Funções que retornam valores\n",
        "\n",
        "#### Formato padrão:\n",
        "\n",
        "```python\n",
        "def <nome>(<param_1>, <param_2>, ..., <param_n>):\n",
        "  <instruções>\n",
        "  return resultado\n",
        "```"
      ],
      "metadata": {
        "id": "-oDFGKcA52kG"
      }
    },
    {
      "cell_type": "markdown",
      "source": [
        "Retomando a atividade anterior, podemos retornar e salvar o valor da média da seguinte forma:"
      ],
      "metadata": {
        "id": "DxvT_uItbQ-q"
      }
    },
    {
      "cell_type": "code",
      "source": [
        "# Notas do(a) estudante\n",
        "notas = [8.5, 9.0, 6.0, 10.0]"
      ],
      "metadata": {
        "id": "GlWdnX7Ubgl3"
      },
      "execution_count": null,
      "outputs": []
    },
    {
      "cell_type": "code",
      "source": [
        "def media(lista):\n",
        "  calculo = sum(lista) / len(lista)\n",
        "  return calculo"
      ],
      "metadata": {
        "id": "B6yqoM7KAKKK"
      },
      "execution_count": null,
      "outputs": []
    },
    {
      "cell_type": "code",
      "source": [
        "resultado = media(notas)"
      ],
      "metadata": {
        "id": "GlqPKe3_AT0Q"
      },
      "execution_count": null,
      "outputs": []
    },
    {
      "cell_type": "code",
      "source": [
        "resultado"
      ],
      "metadata": {
        "id": "E81HZh8rAYJz",
        "colab": {
          "base_uri": "https://localhost:8080/"
        },
        "outputId": "fbc96b02-9043-4e12-ee2d-a0d3a30ca8dc"
      },
      "execution_count": null,
      "outputs": [
        {
          "output_type": "execute_result",
          "data": {
            "text/plain": [
              "8.375"
            ]
          },
          "metadata": {},
          "execution_count": 88
        }
      ]
    },
    {
      "cell_type": "markdown",
      "source": [
        "#### **Situação 3:**\n",
        "\n",
        "Recebemos uma nova demanda, desta vez, de calcular a média de um estudante a partir de uma lista e retornar tanto a média quanto a situação do estudante (\"Aprovado(a)\" se a nota for maior ou igual a 6.0, caso contrário, será \"Reprovado(a)\").\n",
        "\n",
        "Além disso, precisamos exibir um pequeno texto em que indicamos a média do(a) estudante e qual a situação. Os dados recebidos correspondem a uma lista contendo apenas as notas de um estudante em uma dada matéria.\n",
        "\n",
        "**Vamos resolver esse desafio?**\n",
        "\n",
        "Para facilitar o nosso entendimento do processo vamos aplicar as notas de apenas um estudante, mas você pode testar outros casos para treinar."
      ],
      "metadata": {
        "id": "_awyOKOH8OOi"
      }
    },
    {
      "cell_type": "code",
      "source": [
        "# Notas do(a) estudante\n",
        "notas = [6.0, 7.0, 9.0, 5.0]"
      ],
      "metadata": {
        "id": "8LmWZ2U9-Zv3"
      },
      "execution_count": null,
      "outputs": []
    },
    {
      "cell_type": "code",
      "source": [
        "def boletim(lista):\n",
        "  media = sum(lista) / len(lista)\n",
        "\n",
        "  if media >= 6:\n",
        "    situacao = 'Aprovado(a)'\n",
        "  else:\n",
        "    situacao = 'Reprovado(a)'\n",
        "\n",
        "  return (media, situacao)"
      ],
      "metadata": {
        "id": "bJ9KmlHv5o0i"
      },
      "execution_count": null,
      "outputs": []
    },
    {
      "cell_type": "code",
      "source": [
        "boletim(notas)"
      ],
      "metadata": {
        "id": "rIiA2cpB-squ",
        "colab": {
          "base_uri": "https://localhost:8080/"
        },
        "outputId": "94bae72c-3506-45ac-a240-8b15fd1eb073"
      },
      "execution_count": null,
      "outputs": [
        {
          "output_type": "execute_result",
          "data": {
            "text/plain": [
              "(6.75, 'Aprovado(a)')"
            ]
          },
          "metadata": {},
          "execution_count": 93
        }
      ]
    },
    {
      "cell_type": "code",
      "source": [
        "media, situacao = boletim(notas)"
      ],
      "metadata": {
        "id": "_xf7bR6JBjD8"
      },
      "execution_count": null,
      "outputs": []
    },
    {
      "cell_type": "code",
      "source": [
        "media"
      ],
      "metadata": {
        "id": "5ixwo3o3CdQ0",
        "colab": {
          "base_uri": "https://localhost:8080/"
        },
        "outputId": "5e5e569b-895d-4965-af26-a0bcb077f7b9"
      },
      "execution_count": null,
      "outputs": [
        {
          "output_type": "execute_result",
          "data": {
            "text/plain": [
              "6.75"
            ]
          },
          "metadata": {},
          "execution_count": 96
        }
      ]
    },
    {
      "cell_type": "code",
      "source": [
        "situacao"
      ],
      "metadata": {
        "id": "VFQacFSICeaO",
        "colab": {
          "base_uri": "https://localhost:8080/",
          "height": 35
        },
        "outputId": "c79174b8-8c4a-4d09-9798-79bdcda2b50f"
      },
      "execution_count": null,
      "outputs": [
        {
          "output_type": "execute_result",
          "data": {
            "text/plain": [
              "'Aprovado(a)'"
            ],
            "application/vnd.google.colaboratory.intrinsic+json": {
              "type": "string"
            }
          },
          "metadata": {},
          "execution_count": 97
        }
      ]
    },
    {
      "cell_type": "code",
      "source": [
        "print(f'O(a) estudante atingiu uma média de {media} e foi {situacao}.')"
      ],
      "metadata": {
        "id": "ecFviUvOCgXF",
        "colab": {
          "base_uri": "https://localhost:8080/"
        },
        "outputId": "df13f27a-94c5-4938-85f9-8523dc64425e"
      },
      "execution_count": null,
      "outputs": [
        {
          "output_type": "stream",
          "name": "stdout",
          "text": [
            "O(a) estudante atingiu uma média de 6.75 e foi Aprovado(a).\n"
          ]
        }
      ]
    },
    {
      "cell_type": "markdown",
      "source": [
        "###Type Hint\n",
        "\n",
        "O Type Hint é uma sintaxe utilizada no Python para indicar o tipo de dado esperado de um parâmetro ou retorno de função, auxiliando na legibilidade e manutenção do código. Podemos dizer, em poucas palavras, que ela é a dica de tipagem dos dados."
      ],
      "metadata": {
        "id": "vmnxHzKqtjMu"
      }
    },
    {
      "cell_type": "markdown",
      "source": [
        "\n",
        "Formato:\n",
        "```\n",
        "def <nome>(<param>: <tipo_param>) -> <tipo_retorno>:\n",
        "  <instruções>\n",
        "  return resultado\n",
        "```\n",
        "\n"
      ],
      "metadata": {
        "id": "NszFpUL1tmRe"
      }
    },
    {
      "cell_type": "markdown",
      "source": [
        "Trazendo para o nosso exemplo da função media(), podemos utilizar o type hint da seguinte forma:\n",
        "\n",
        "```\n",
        "#a nossa função recebe uma lista do tipo list e retorna uma variável do tipo float\n",
        "def media(lista: list) -> float:\n",
        "  calculo = sum(lista) / len(lista)\n",
        "  return calculo\n",
        "```\n",
        "\n"
      ],
      "metadata": {
        "id": "MtSKkclLtrG9"
      }
    },
    {
      "cell_type": "markdown",
      "source": [
        "Se escrevermos a função media() em outra célula e passarmos o mouse por cima, podemos observar a seguinte imagem apontando as dicas de tipagem dos parâmetros de entrada e retorno da função:\n",
        "\n",
        "![image.png](data:image/png;base64,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)"
      ],
      "metadata": {
        "id": "CpNGTQGcuBvn"
      }
    },
    {
      "cell_type": "markdown",
      "source": [
        "###Default value\n",
        "\n",
        "No Python, o Default Value é um valor padrão atribuído a um argumento de função que é utilizado caso nenhum valor seja passado pelo usuário."
      ],
      "metadata": {
        "id": "OnUQGgBXwAwT"
      }
    },
    {
      "cell_type": "markdown",
      "source": [
        "Formato:\n",
        "\n",
        "\n",
        "\n",
        "```\n",
        "<nome_variavel>: <tipo_variavel> = <valor_variavel>\n",
        "```\n",
        "\n"
      ],
      "metadata": {
        "id": "oNrZEr2VwJy8"
      }
    },
    {
      "cell_type": "markdown",
      "source": [
        "Implementando ainda mais a nossa função media(), podemos utilizar o default value da seguinte forma:\n",
        "\n",
        "```\n",
        "# a nossa função recebe uma lista do tipo list e retorna uma variável do tipo float\n",
        "# caso não recebe nenhum valor de parâmetro será passada uma lista com um único\n",
        "# elemento sendo ele zero\n",
        "def media(lista: list=[0]) -> float:\n",
        "  calculo = sum(lista) / len(lista)\n",
        "  return calculo\n",
        "```\n",
        "\n"
      ],
      "metadata": {
        "id": "63n_pNn4weDq"
      }
    },
    {
      "cell_type": "markdown",
      "source": [
        "Da mesma forma que fizemos no type hint, se escrevermos a função media() em outra célula e passarmos o mouse por cima, podemos observar o que está na imagem abaixo. Nela temos apontado tanto as dicas de tipagem dos parâmetros de entrada e retorno da função, quanto o valor padrão para nossa lista, caso a pessoa usuária não passe nenhum valor na execução.\n",
        "\n",
        "![image.png](data:image/png;base64,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)"
      ],
      "metadata": {
        "id": "ZHgEiHakwof6"
      }
    },
    {
      "cell_type": "markdown",
      "source": [
        "Se executarmos a função média, essa será a saída:\n",
        "\n",
        "Saída:\n",
        "\n",
        "\n",
        "```\n",
        "0.0\n",
        "```\n",
        "\n"
      ],
      "metadata": {
        "id": "oGQ3eA2ywtt6"
      }
    },
    {
      "cell_type": "markdown",
      "source": [
        "###Docstring\n",
        "\n",
        "Por fim, temos o Docstring que é uma string literal usada para documentar módulo, função, classe ou método em Python. Ela é colocada como o primeiro item de definição e pode ser acessada usando a função help().\n",
        "\n",
        "O Docstring deve descrever propósito, parâmetros, tipo de retorno e exceções levantadas pela função. É uma boa prática de programação utilizar Docstrings em seu código para facilitar a leitura, manutenção e compartilhamento do código com outras pessoas desenvolvedoras."
      ],
      "metadata": {
        "id": "NQqgvRJMw21p"
      }
    },
    {
      "cell_type": "markdown",
      "source": [
        "Formato:\n",
        "\n",
        "\n",
        "```\n",
        "def <nome>(<param_1>, <param_2>, ..., <param_n>):\n",
        "    ''' Texto documentando sua função...\n",
        "    '''\n",
        "  <instruções>\n",
        "  return resultado\n",
        "```\n",
        "\n"
      ],
      "metadata": {
        "id": "qHWCX4Gnw-FR"
      }
    },
    {
      "cell_type": "markdown",
      "source": [
        "Concluindo a implementação da nossa função media(), podemos utilizar o docstring da seguinte forma:\n",
        "\n",
        "\n",
        "```\n",
        "def media(lista: list=[0]) -> float:\n",
        "  ''' Função para calcular a média de notas passadas por uma lista\n",
        "\n",
        "  lista: list, default [0]\n",
        "    Lista com as notas para calcular a média\n",
        "  return = calculo: float\n",
        "    Média calculada\n",
        "  '''\n",
        "  calculo = sum(lista) / len(lista)\n",
        "  return calculo\n",
        "```\n",
        "\n"
      ],
      "metadata": {
        "id": "wOCCyuC2xCG5"
      }
    },
    {
      "cell_type": "markdown",
      "source": [
        "Se executarmos o código help(media) em uma outra célula, temos a seguinte saída:\n",
        "\n",
        "Saída:\n",
        "\n",
        "```\n",
        "Help on function media in module __main__:\n",
        "\n",
        "media(lista: list = [0]) -> float\n",
        "    Função para calcular a média de notas passadas por uma lista\n",
        "    \n",
        "    lista: list, default [0]\n",
        "      Lista com as notas para calcular a média\n",
        "    return = calculo: float\n",
        "      Média calculada\n",
        "```\n",
        "\n"
      ],
      "metadata": {
        "id": "o-PwR3DQxKTg"
      }
    },
    {
      "cell_type": "markdown",
      "source": [
        "## 2.4 Funções lambda\n",
        "\n",
        "Também chamadas de funções anônimas, são funções que não precisam ser definidas, ou seja não possuem um nome, e descrevem em uma única linha os comandos que desejamos aplicar.\n",
        "\n",
        "https://docs.python.org/pt-br/3/reference/expressions.html?#lambda\n",
        "\n",
        "#### Formato padrão:\n",
        "\n",
        "```python\n",
        "lambda <variavel>: <expressao>\n",
        "```"
      ],
      "metadata": {
        "id": "hwYYRpkZMft5"
      }
    },
    {
      "cell_type": "markdown",
      "source": [
        "#### **Situação 4:**\n",
        "\n",
        "Nesta nova demanda, precisamos criar uma calculadora simples da média ponderada de notas de uma dada matéria. Vamos requisitar ao usuário a entrada das 3 notas (N1, N2, N3) do estudante e devolver a média ponderada deste estudante. Os pesos das notas são de, respectivamente 3, 2, 5.\n",
        "\n",
        "Precisamos exibir um pequeno texto em que indicamos a média do(a) estudante.\n",
        "\n",
        "**Vamos resolver esse desafio?**"
      ],
      "metadata": {
        "id": "AuRWyNXYgD_b"
      }
    },
    {
      "cell_type": "code",
      "source": [
        "# Comparando uma função de qualitativo no formato de função para função anônima\n",
        "nota = float(input('Digite a nota do(a) estudante: '))\n",
        "\n",
        "def qualitativo(nota):\n",
        "  return nota + 0.5\n",
        "\n",
        "qualitativo(nota)\n"
      ],
      "metadata": {
        "id": "4EjJD3w3lbzJ",
        "colab": {
          "base_uri": "https://localhost:8080/"
        },
        "outputId": "d8820cf3-892b-4c38-e63f-2318523e04f6"
      },
      "execution_count": null,
      "outputs": [
        {
          "name": "stdout",
          "output_type": "stream",
          "text": [
            "Digite a nota do(a) estudante: 8\n"
          ]
        },
        {
          "output_type": "execute_result",
          "data": {
            "text/plain": [
              "8.5"
            ]
          },
          "metadata": {},
          "execution_count": 106
        }
      ]
    },
    {
      "cell_type": "code",
      "source": [
        "# Testando a mesma função para uma função lambda\n",
        "nota = float(input('Digite a nota do(a) estudante: '))\n",
        "\n",
        "qualitativo = lambda nota: nota + 0.5\n",
        "\n",
        "qualitativo(nota)\n"
      ],
      "metadata": {
        "id": "vZjaUmaJFp3D",
        "colab": {
          "base_uri": "https://localhost:8080/"
        },
        "outputId": "d6d59e30-b9b8-4528-be8b-1e2aee1d0410"
      },
      "execution_count": null,
      "outputs": [
        {
          "name": "stdout",
          "output_type": "stream",
          "text": [
            "Digite a nota do(a) estudante: 9\n"
          ]
        },
        {
          "output_type": "execute_result",
          "data": {
            "text/plain": [
              "9.5"
            ]
          },
          "metadata": {},
          "execution_count": 107
        }
      ]
    },
    {
      "cell_type": "markdown",
      "source": [
        "**Partindo para nosso problema:**"
      ],
      "metadata": {
        "id": "vdKk3DRBmtUE"
      }
    },
    {
      "cell_type": "code",
      "source": [
        "# Recebendo as notas e calculando a média ponderável\n",
        "N1 = float(input(\"Digite a 1ª nota do(a) estudante: \"))\n",
        "N2 = float(input(\"Digite a 2ª nota do(a) estudante: \"))\n",
        "N3 = float(input(\"Digite a 3ª nota do(a) estudante: \"))\n",
        "\n",
        "media_ponderada = lambda nota_x, nota_y, nota_z: (nota_x * 3 + nota_y * 2 + nota_z * 5)/10\n",
        "media_estudante = media_ponderada(N1, N2, N3)\n",
        "media_estudante"
      ],
      "metadata": {
        "colab": {
          "base_uri": "https://localhost:8080/"
        },
        "id": "azStYQgKnsZn",
        "outputId": "17b0888f-73b0-4206-c353-b68b29cc2937"
      },
      "execution_count": null,
      "outputs": [
        {
          "name": "stdout",
          "output_type": "stream",
          "text": [
            "Digite a 1ª nota do(a) estudante: 8\n",
            "Digite a 2ª nota do(a) estudante: 9\n",
            "Digite a 3ª nota do(a) estudante: 10\n"
          ]
        },
        {
          "output_type": "execute_result",
          "data": {
            "text/plain": [
              "9.2"
            ]
          },
          "metadata": {},
          "execution_count": 108
        }
      ]
    },
    {
      "cell_type": "code",
      "source": [
        "# Exibindo a média\n",
        "print(f'O(a) estudante atingiu uma média de {media_estudante}')"
      ],
      "metadata": {
        "id": "Ek1s_FkjkQrW",
        "colab": {
          "base_uri": "https://localhost:8080/"
        },
        "outputId": "e21e3bed-b74b-42c1-8dbb-0508324ec864"
      },
      "execution_count": null,
      "outputs": [
        {
          "output_type": "stream",
          "name": "stdout",
          "text": [
            "O(a) estudante atingiu uma média de 9.2\n"
          ]
        }
      ]
    },
    {
      "cell_type": "markdown",
      "source": [
        "### Mapeando valores\n",
        "\n",
        "#### Formato padrão:\n",
        "\n",
        "```python\n",
        "map(<lambda function>, <iterador>)\n",
        "```"
      ],
      "metadata": {
        "id": "SOK4BC4mmKbG"
      }
    },
    {
      "cell_type": "markdown",
      "source": [
        "#### **Situação 5:**\n",
        "\n",
        "Recebemos mais uma demanda, desta vez, para criar uma pequena função que pudesse adicionar qualitativo (pontuação extra) às notas do trimestre dos estudantes da turma que ganhou a gincana de programação promovida pela escola. Cada estudante receberá o qualitativo de 0.5 acrescido à média.\n",
        "\n",
        "Os dados recebidos correspondem a uma lista contendo as notas de alguns estudantes e uma variável com o qualitativo recebido.\n",
        "\n",
        "**Vamos resolver esse desafio?**\n",
        "\n",
        "Para facilitar o nosso entendimento do processo vamos aplicar o qualitativo às notas de 5 estudantes, mas você pode testar outros casos para treinar."
      ],
      "metadata": {
        "id": "1qk0gLdfFcbf"
      }
    },
    {
      "cell_type": "code",
      "source": [
        "# Notas do(a) estudante\n",
        "notas = [6.0, 7.0, 9.0, 5.5, 8.0]\n",
        "qualitativo = 0.5"
      ],
      "metadata": {
        "id": "RdoaWhuVI_OB"
      },
      "execution_count": null,
      "outputs": []
    },
    {
      "cell_type": "code",
      "source": [
        "notas_atualizadas = lambda item_lista: item_lista + qualitativo\n",
        "notas_atualizadas(notas)"
      ],
      "metadata": {
        "id": "nC6zW89lHI4K",
        "colab": {
          "base_uri": "https://localhost:8080/",
          "height": 159
        },
        "outputId": "11d06c78-7265-4c9e-8865-e0126cfd9289"
      },
      "execution_count": null,
      "outputs": [
        {
          "output_type": "error",
          "ename": "TypeError",
          "evalue": "map() must have at least two arguments.",
          "traceback": [
            "\u001b[0;31m---------------------------------------------------------------------------\u001b[0m",
            "\u001b[0;31mTypeError\u001b[0m                                 Traceback (most recent call last)",
            "\u001b[0;32m<ipython-input-115-744c83b4a3e5>\u001b[0m in \u001b[0;36m<cell line: 0>\u001b[0;34m()\u001b[0m\n\u001b[0;32m----> 1\u001b[0;31m \u001b[0mnotas_atualizadas\u001b[0m \u001b[0;34m=\u001b[0m \u001b[0mmap\u001b[0m\u001b[0;34m(\u001b[0m\u001b[0;32mlambda\u001b[0m \u001b[0mitem_lista\u001b[0m\u001b[0;34m:\u001b[0m \u001b[0mitem_lista\u001b[0m \u001b[0;34m+\u001b[0m \u001b[0mqualitativo\u001b[0m\u001b[0;34m)\u001b[0m\u001b[0;34m\u001b[0m\u001b[0;34m\u001b[0m\u001b[0m\n\u001b[0m\u001b[1;32m      2\u001b[0m \u001b[0mnotas_atualizadas\u001b[0m\u001b[0;34m(\u001b[0m\u001b[0mnotas\u001b[0m\u001b[0;34m)\u001b[0m\u001b[0;34m\u001b[0m\u001b[0;34m\u001b[0m\u001b[0m\n",
            "\u001b[0;31mTypeError\u001b[0m: map() must have at least two arguments."
          ]
        }
      ]
    },
    {
      "cell_type": "code",
      "source": [
        "# Não conseguimos aplicar o lambda em listas direto, é necessário\n",
        "# utilizarmos junto a ela a função map\n",
        "notas_atualizadas = map(lambda item_lista: item_lista + qualitativo, notas)\n",
        "notas_atualizadas"
      ],
      "metadata": {
        "id": "iM2jXtC8m1zc",
        "colab": {
          "base_uri": "https://localhost:8080/"
        },
        "outputId": "f00dbee8-baed-49c4-8aef-00efd6bd843c"
      },
      "execution_count": null,
      "outputs": [
        {
          "output_type": "execute_result",
          "data": {
            "text/plain": [
              "<map at 0x7fe222932ce0>"
            ]
          },
          "metadata": {},
          "execution_count": 117
        }
      ]
    },
    {
      "cell_type": "code",
      "source": [
        "notas_atualizadas = list(notas_atualizadas)\n",
        "notas_atualizadas"
      ],
      "metadata": {
        "id": "dAq9-TNTm1wf",
        "colab": {
          "base_uri": "https://localhost:8080/"
        },
        "outputId": "e3833f75-a45b-4b68-f383-5e1b642fd21c"
      },
      "execution_count": null,
      "outputs": [
        {
          "output_type": "execute_result",
          "data": {
            "text/plain": [
              "[6.5, 7.5, 9.5, 6.0, 8.5]"
            ]
          },
          "metadata": {},
          "execution_count": 118
        }
      ]
    },
    {
      "cell_type": "code",
      "source": [
        "notas"
      ],
      "metadata": {
        "colab": {
          "base_uri": "https://localhost:8080/"
        },
        "id": "5FqMbatV511o",
        "outputId": "f42d5c47-b7b6-4817-d560-9c7ef4b2ae27"
      },
      "execution_count": null,
      "outputs": [
        {
          "output_type": "execute_result",
          "data": {
            "text/plain": [
              "[6.0, 7.0, 9.0, 5.5, 8.0]"
            ]
          },
          "metadata": {},
          "execution_count": 119
        }
      ]
    },
    {
      "cell_type": "markdown",
      "source": [
        "###Aquecimento"
      ],
      "metadata": {
        "id": "CuN1dRVy_6tv"
      }
    },
    {
      "cell_type": "markdown",
      "source": [
        "1. Escreva um código que lê a lista abaixo e faça:\n",
        "\n",
        "```\n",
        "lista = [16, 14, 63, 65, 17, 99, 70, 11, 20, 48, 79, 32, 17, 89, 12, 25, 66]\n",
        "```\n",
        "*   A leitura do tamanho da lista\n",
        "*   A leitura do maior e menor valor\n",
        "*   A soma dos valores da lista\n",
        "\n",
        "Ao final exiba uma mensagem dizendo:\n",
        "\n",
        "```\n",
        "\"A lista possui [tam] números em que o maior número é [maior] e o menor número é [menor]. A soma dos valores presentes nela é igual a [soma]\"\n",
        "\n",
        "```\n",
        "\n",
        "> Dica: use as funções embutidas presentes na documentação do Python.\n",
        "\n",
        "\n",
        "\n"
      ],
      "metadata": {
        "id": "ziAML5yg_9iu"
      }
    },
    {
      "cell_type": "code",
      "source": [
        "lista = [16, 14, 63, 65, 17, 99, 70, 11, 20, 48, 79, 32, 17, 89, 12, 25, 66]\n",
        "\n",
        "tam = len(lista)\n",
        "maior = max(lista)\n",
        "menor = min(lista)\n",
        "soma = sum(lista)\n",
        "\n",
        "print(f'A lista possui {tam} números em que o maior número é {maior} e o menor número é {menor}. A soma dos valores presentes nela é igual a {soma}')\n"
      ],
      "metadata": {
        "colab": {
          "base_uri": "https://localhost:8080/"
        },
        "id": "Rh1Yaj29AUNd",
        "outputId": "8b0e82d9-541a-49cc-8345-335f865037b5"
      },
      "execution_count": null,
      "outputs": [
        {
          "output_type": "stream",
          "name": "stdout",
          "text": [
            "A lista possui 17 números em que o maior número é 99 e o menor número é 11. A soma dos valores presentes nela é igual a 743\n"
          ]
        }
      ]
    },
    {
      "cell_type": "markdown",
      "source": [
        "2. Escreva uma função que gere a tabuada de um número inteiro de 1 a 10, de acordo com a escolha da pessoa usuária. Como exemplo, para o número 7, a tabuada deve ser mostrada no seguinte formato:\n",
        "\n",
        "```\n",
        "Tabuada do 7:\n",
        "7 x 0 = 0\n",
        "7 x 1 = 7\n",
        "[...]\n",
        "7 x 10 = 70\n",
        "```\n",
        "\n"
      ],
      "metadata": {
        "id": "MyTqFUwjBBtF"
      }
    },
    {
      "cell_type": "code",
      "source": [
        "numero = int(input('Digite um número: '))\n",
        "multiplicadores = [0, 1, 2, 3, 4, 5, 6, 7, 8, 9, 10]\n",
        "\n",
        "print(f'Tabuada do {numero}: ')\n",
        "for i in list(map(lambda multiplicador: print(f'{numero} x {multiplicador} = {numero * multiplicador}'), multiplicadores)):\n",
        "  print(i)\n",
        "  pass"
      ],
      "metadata": {
        "colab": {
          "base_uri": "https://localhost:8080/"
        },
        "collapsed": true,
        "id": "vPttdyJiBJXs",
        "outputId": "3cb0e0fb-0d39-4c2a-a056-841f1882b65d"
      },
      "execution_count": null,
      "outputs": [
        {
          "output_type": "stream",
          "name": "stdout",
          "text": [
            "Digite um número: 5\n",
            "Tabuada do 5: \n",
            "5 x 0 = 0\n",
            "5 x 1 = 5\n",
            "5 x 2 = 10\n",
            "5 x 3 = 15\n",
            "5 x 4 = 20\n",
            "5 x 5 = 25\n",
            "5 x 6 = 30\n",
            "5 x 7 = 35\n",
            "5 x 8 = 40\n",
            "5 x 9 = 45\n",
            "5 x 10 = 50\n",
            "None\n",
            "None\n",
            "None\n",
            "None\n",
            "None\n",
            "None\n",
            "None\n",
            "None\n",
            "None\n",
            "None\n",
            "None\n"
          ]
        }
      ]
    },
    {
      "cell_type": "code",
      "source": [
        "numero = int(input('Digite um número: '))\n",
        "multiplicadores = [0, 1, 2, 3, 4, 5, 6, 7, 8, 9, 10]\n",
        "\n",
        "print(f'Tabuada do {numero}: ')\n",
        "list(map(lambda multiplicador: print(f'{numero} x {multiplicador} = {numero * multiplicador}'), multiplicadores))\n",
        "pass"
      ],
      "metadata": {
        "colab": {
          "base_uri": "https://localhost:8080/"
        },
        "collapsed": true,
        "id": "ZuNgbv9nGSFO",
        "outputId": "36d4c7ca-7198-4a2f-d331-458ba7079194"
      },
      "execution_count": null,
      "outputs": [
        {
          "output_type": "stream",
          "name": "stdout",
          "text": [
            "Digite um número: 5\n",
            "Tabuada do 5: \n",
            "5 x 0 = 0\n",
            "5 x 1 = 5\n",
            "5 x 2 = 10\n",
            "5 x 3 = 15\n",
            "5 x 4 = 20\n",
            "5 x 5 = 25\n",
            "5 x 6 = 30\n",
            "5 x 7 = 35\n",
            "5 x 8 = 40\n",
            "5 x 9 = 45\n",
            "5 x 10 = 50\n"
          ]
        }
      ]
    },
    {
      "cell_type": "code",
      "source": [
        "numero = int(input('Digite um número: '))\n",
        "multiplicadores = [0, 1, 2, 3, 4, 5, 6, 7, 8, 9, 10]\n",
        "\n",
        "print(f'Tabuada do {numero}: ')\n",
        "\n",
        "for i in multiplicadores:\n",
        "  print(f'{numero} x {i} = {numero * i}')"
      ],
      "metadata": {
        "colab": {
          "base_uri": "https://localhost:8080/"
        },
        "collapsed": true,
        "id": "7mvidWB1JwD2",
        "outputId": "82e9adad-8206-4ca5-8bf5-537f5d89bb60"
      },
      "execution_count": null,
      "outputs": [
        {
          "output_type": "stream",
          "name": "stdout",
          "text": [
            "Digite um número: 5\n",
            "Tabuada do 5: \n",
            "5 x 0 = 0\n",
            "5 x 1 = 5\n",
            "5 x 2 = 10\n",
            "5 x 3 = 15\n",
            "5 x 4 = 20\n",
            "5 x 5 = 25\n",
            "5 x 6 = 30\n",
            "5 x 7 = 35\n",
            "5 x 8 = 40\n",
            "5 x 9 = 45\n",
            "5 x 10 = 50\n"
          ]
        }
      ]
    },
    {
      "cell_type": "code",
      "source": [
        "num = int(input(\"Digite um número inteiro de 1 a 10:\"))\n",
        "\n",
        "def tabuada(numero: int):\n",
        "  print(f'Tabuada do {numero}: ')\n",
        "  for i in range(11):\n",
        "    resultado = numero * i\n",
        "    print(f'{numero} x {i} = {resultado}')\n",
        "\n",
        "tabuada(num)"
      ],
      "metadata": {
        "colab": {
          "base_uri": "https://localhost:8080/"
        },
        "id": "v7Z9TJeaJ9y-",
        "outputId": "0850c0fa-5051-4ac5-ad2a-ea5ae699cf81"
      },
      "execution_count": null,
      "outputs": [
        {
          "output_type": "stream",
          "name": "stdout",
          "text": [
            "Digite um número inteiro de 1 a 10:5\n",
            "Tabuada do 5:\n",
            "5 x 0 = 0\n",
            "5 x 1 = 5\n",
            "5 x 2 = 10\n",
            "5 x 3 = 15\n",
            "5 x 4 = 20\n",
            "5 x 5 = 25\n",
            "5 x 6 = 30\n",
            "5 x 7 = 35\n",
            "5 x 8 = 40\n",
            "5 x 9 = 45\n",
            "5 x 10 = 50\n"
          ]
        }
      ]
    },
    {
      "cell_type": "markdown",
      "source": [
        "3. Crie a função que leia a lista abaixo e retorne uma nova lista com os múltiplos de 3:\n",
        "\n",
        "```\n",
        "[97, 80, 94, 88, 80, 1, 16, 53, 62, 32, 24, 99]\n",
        "```\n",
        "\n",
        "Utilize o return na função e salve a nova lista na variável mult_3.\n",
        "\n"
      ],
      "metadata": {
        "id": "SZunH43aKOlX"
      }
    },
    {
      "cell_type": "code",
      "source": [
        "lista = [97, 80, 94, 88, 80, 1, 16, 53, 62, 32, 24, 99]\n",
        "\n",
        "def se_multiplo_3(item_lista):\n",
        "  if item_lista % 3 == 0:\n",
        "    return item_lista\n",
        "\n",
        "lista_verificada = list(map(lambda item_lista: se_multiplo_3(item_lista), lista))\n",
        "\n",
        "for i in lista_verificada:\n",
        "  if i != None:\n",
        "    print(i)\n"
      ],
      "metadata": {
        "colab": {
          "base_uri": "https://localhost:8080/"
        },
        "id": "RZsef2gMKg5c",
        "outputId": "d6f6b68f-c5ef-4351-b549-7a867eb4461a"
      },
      "execution_count": null,
      "outputs": [
        {
          "output_type": "stream",
          "name": "stdout",
          "text": [
            "24\n",
            "99\n"
          ]
        }
      ]
    },
    {
      "cell_type": "code",
      "source": [
        "# Lista gerada\n",
        "lista = [97, 80, 94, 88, 80, 1, 16, 53, 62, 32, 24, 99]\n",
        "\n",
        "# declarando a lista de multiplos de 3\n",
        "mult_3 = []\n",
        "# função para gerar uma lista dos múltiplos de 3 a partir de uma lista\n",
        "def multiplo_3(lista: list) -> list:\n",
        "  for i in range(len(lista)):\n",
        "    # condição para um número ser múltiplo de 3\n",
        "    if lista[i] % 3 == 0:\n",
        "      mult_3.append(lista[i])\n",
        "  return mult_3\n",
        "\n",
        "# retornando a lista gerada para a variável mult_3\n",
        "mult_3 = multiplo_3(lista)\n",
        "mult_3"
      ],
      "metadata": {
        "colab": {
          "base_uri": "https://localhost:8080/"
        },
        "id": "q0cgZH7POIWE",
        "outputId": "a15a1254-9617-4acb-fd8b-e42aa7e63ddb"
      },
      "execution_count": null,
      "outputs": [
        {
          "output_type": "execute_result",
          "data": {
            "text/plain": [
              "[24, 99]"
            ]
          },
          "metadata": {},
          "execution_count": 155
        }
      ]
    },
    {
      "cell_type": "markdown",
      "source": [
        "4. Crie uma lista dos quadrados dos números da seguinte lista [1, 2, 3, 4, 5, 6, 7, 8, 9, 10]. Lembre-se de utilizar as funções lambda e map() para calcular o quadrado de cada elemento da lista."
      ],
      "metadata": {
        "id": "-VDm8JeoOfnp"
      }
    },
    {
      "cell_type": "code",
      "source": [
        "lista =  [1, 2, 3, 4, 5, 6, 7, 8, 9, 10]\n",
        "\n",
        "list(map(lambda item: item ** 2, lista))"
      ],
      "metadata": {
        "colab": {
          "base_uri": "https://localhost:8080/"
        },
        "id": "BUQi_NH9OtL-",
        "outputId": "74b9fa66-0836-4ace-b51d-bc1a995502fc"
      },
      "execution_count": null,
      "outputs": [
        {
          "output_type": "execute_result",
          "data": {
            "text/plain": [
              "[1, 4, 9, 16, 25, 36, 49, 64, 81, 100]"
            ]
          },
          "metadata": {},
          "execution_count": 156
        }
      ]
    },
    {
      "cell_type": "markdown",
      "source": [
        "###Aplicando a projetos"
      ],
      "metadata": {
        "id": "X9S7UgQcPJP1"
      }
    },
    {
      "cell_type": "markdown",
      "source": [
        "5. Você foi contratado(a) como cientista de dados de uma associação de skate. Para analisar as notas recebidas de skatistas em algumas competições ao longo do ano, você precisa criar um código que calcula a pontuação dos(as) atletas. Para isso, o seu código deve receber 5 notas digitadas pelas pessoas juradas.\n",
        "\n",
        "Para calcular a pontuação de um(a) skatista, você precisa eliminar a maior e a menor pontuação dentre as 5 notas e tirar a média das 3 notas que sobraram. Retorne a média para apresentar o texto:\n",
        "\n",
        "```\n",
        "\"Nota da manobra: [media]\"\n",
        "```\n",
        "\n"
      ],
      "metadata": {
        "id": "HuDaTwMAPPCk"
      }
    },
    {
      "cell_type": "code",
      "source": [
        "qtd_notas = []\n",
        "\n",
        "for i in range(1, 6):\n",
        "  nota = float(input(f'Digite a {i}ª nota: '))\n",
        "  qtd_notas.append(nota)\n",
        "\n",
        "qtd_notas.pop(qtd_notas.index(max(qtd_notas)))\n",
        "qtd_notas.pop(qtd_notas.index(min(qtd_notas)))\n",
        "nota_media = sum(qtd_notas) / len(qtd_notas)\n",
        "\n",
        "print(f'Nota da manobra: {nota_media}')"
      ],
      "metadata": {
        "colab": {
          "base_uri": "https://localhost:8080/"
        },
        "id": "z8uHqr2YPZZj",
        "outputId": "5caa6ddb-74aa-4bf9-b937-85745b7b9d78"
      },
      "execution_count": null,
      "outputs": [
        {
          "output_type": "stream",
          "name": "stdout",
          "text": [
            "Digite a 1ª nota: 9\n",
            "Digite a 2ª nota: 5\n",
            "Digite a 3ª nota: 8\n",
            "Digite a 4ª nota: 5\n",
            "Digite a 5ª nota: 1\n",
            "Nota da manobra: 6.0\n"
          ]
        }
      ]
    },
    {
      "cell_type": "code",
      "source": [
        "# declarando a lista de notas\n",
        "notas = []\n",
        "# laço for para pedir as 5 notas e armazená-las na lista notas\n",
        "for i in range(1,6):\n",
        "  nota = float(input(f\"Digite a {i}ª nota: \"))\n",
        "  notas.append(nota)\n",
        "\n",
        "# Função para remover a maior e menor nota e retornar a média das notas restantes\n",
        "def media(lista):\n",
        "  lista.remove(max(lista))\n",
        "  lista.remove(min(lista))\n",
        "  return sum(lista) / len(lista)\n",
        "\n",
        "# Chamando a função e imprimindo a nota da(o) skatista\n",
        "media = media(notas)\n",
        "print(f\"Nota da manobra: {round(media, 1)}\")"
      ],
      "metadata": {
        "id": "4Ei8M95kS3oV"
      },
      "execution_count": null,
      "outputs": []
    },
    {
      "cell_type": "markdown",
      "source": [
        "6. Para atender a uma demanda de uma instituição de ensino para a análise do desempenho de seus(suas) estudantes, você precisa criar uma função que receba uma lista de 4 notas e retorne:\n",
        "\n",
        "*   maior nota\n",
        "*   menor nota\n",
        "*   média\n",
        "*   situação (Aprovado(a) ou Reprovado(a))\n",
        "\n",
        "Para testar o comportamento da função, os dados podem ser exibidos em um texto:\n",
        "\n",
        "```\n",
        "\"O(a) estudante obteve uma média de [media], com a sua maior nota de [maior] pontos e a menor nota de [menor] pontos e foi [situacao]\"\n",
        "```\n",
        "\n",
        "\n",
        "\n"
      ],
      "metadata": {
        "id": "wvvdfV5_SX8f"
      }
    },
    {
      "cell_type": "code",
      "source": [
        "lista = []\n",
        "\n",
        "for i in range(1, 5):\n",
        "  nota = float(input(f'Digite a {i}ª nota: '))\n",
        "  lista.append(nota)\n",
        "\n",
        "def boletim(lista: list) -> list:\n",
        "  maior_nota = max(lista)\n",
        "  menor_nota = min(lista)\n",
        "  media = sum(lista) / len(lista)\n",
        "  situacao = verifica(media)\n",
        "  return print(f'O(a) estudante obteve uma média de {media}, com a sua maior nota de {maior_nota} pontos e a menor nota de {menor_nota} pontos e foi {situacao}')\n",
        "\n",
        "def verifica(media: float) -> float:\n",
        "  if media >= 6:\n",
        "    return 'Aprovado(a)'\n",
        "  else:\n",
        "    return 'Reprovado(a)'\n",
        "\n",
        "boletim(lista)"
      ],
      "metadata": {
        "colab": {
          "base_uri": "https://localhost:8080/"
        },
        "id": "er9O1LtQSq1c",
        "outputId": "edaf477f-fb83-4b35-abe0-1991d71b3bfe"
      },
      "execution_count": null,
      "outputs": [
        {
          "output_type": "stream",
          "name": "stdout",
          "text": [
            "Digite a 1ª nota: 5\n",
            "Digite a 2ª nota: 5\n",
            "Digite a 3ª nota: 5\n",
            "Digite a 4ª nota: 5\n",
            "O(a) estudante obteve uma média de 5.0, com a sua maior nota de 5.0 pontos e a menor nota de 5.0 pontos e foi Reprovado(a)\n"
          ]
        }
      ]
    },
    {
      "cell_type": "code",
      "source": [
        "# declarando a lista de notas\n",
        "notas = []\n",
        "# laço for para pedir as 4 notas e armazená-las na lista notas\n",
        "for i in range(1,5):\n",
        "  nota = float(input(f\"Digite a {i}ª nota: \"))\n",
        "  notas.append(nota)\n",
        "\n",
        "def cadastro(lista):\n",
        "  maior = max(lista)\n",
        "  menor = min(lista)\n",
        "  media = sum(lista) / len(lista)\n",
        "  if media >= 6:\n",
        "    situacao = \"Aprovado(a)\"\n",
        "  else:\n",
        "    situacao = \"Reprovado(a)\"\n",
        "\n",
        "  return (media, maior, menor, situacao)\n",
        "\n",
        "media, maior, menor, situacao = cadastro(notas)\n",
        "\n",
        "print(f\"O(a) estudante obteve uma media de {media}, com a sua maior nota de {maior} pontos e a menor nota de {menor} pontos e foi {situacao}\")"
      ],
      "metadata": {
        "id": "xio9z0-UVfp_"
      },
      "execution_count": null,
      "outputs": []
    },
    {
      "cell_type": "markdown",
      "source": [
        "7. Você recebeu uma demanda para tratar 2 listas com os nomes e sobrenomes de cada estudante concatenando-as para apresentar seus nomes completos na forma Nome Sobrenome. As listas são:\n",
        "\n",
        "```\n",
        "nomes = [\"joão\", \"MaRia\", \"JOSÉ\"]\n",
        "sobrenomes = [\"SILVA\", \"souza\", \"Tavares\"]\n",
        "```\n",
        "\n",
        "O texto exibido ao fim deve ser parecido com:\n",
        "\n",
        "```\n",
        "\"Nome completo: Ana Silva\"\n",
        "```\n",
        "\n",
        "\n",
        "> Dica: utilize a função map para mapear os nomes e sobrenomes e as funções de string para tratar o texto.\n",
        "\n",
        "\n",
        "\n",
        "\n"
      ],
      "metadata": {
        "id": "VIX5gwr1V1h4"
      }
    },
    {
      "cell_type": "code",
      "source": [
        "nomes = [\"joão\", \"MaRia\", \"JOSÉ\"]\n",
        "sobrenomes = [\"SILVA\", \"souza\", \"Tavares\"]\n",
        "\n",
        "nome_completo = map(lambda nome, sobrenome: nome.title() + ' ' + sobrenome.title(), nomes, sobrenomes)\n",
        "\n",
        "for i in nome_completo:\n",
        "  print(f'Nome completo: {i}')"
      ],
      "metadata": {
        "colab": {
          "base_uri": "https://localhost:8080/"
        },
        "id": "Of3PB-LhXbPV",
        "outputId": "c271e1d3-cff9-4041-9b06-475572a20fc0"
      },
      "execution_count": null,
      "outputs": [
        {
          "output_type": "stream",
          "name": "stdout",
          "text": [
            "Nome completo: João Silva\n",
            "Nome completo: Maria Souza\n",
            "Nome completo: José Tavares\n"
          ]
        }
      ]
    },
    {
      "cell_type": "code",
      "source": [
        "# Nomes dos estudantes\n",
        "nomes = [\"joão\", \"MaRia\", \"JOSÉ\"]\n",
        "sobrenomes = [\"SILVA\", \"souza\", \"Tavares\"]\n",
        "\n",
        "# Função lambda que recebe duas listas e itera em cada uma concatenando seu nome e sobrenome\n",
        "# na forma desejada\n",
        "nome_completo = map(lambda nome, sobrenome: f'{nome.title()} {sobrenome.title()}', nomes, sobrenomes)\n",
        "\n",
        "# Leitura do objeto mapa(iterável)\n",
        "for n in nome_completo:\n",
        "  print(f'Nome completo: {n}')"
      ],
      "metadata": {
        "id": "IHkJJojGY3wk"
      },
      "execution_count": null,
      "outputs": []
    },
    {
      "cell_type": "markdown",
      "source": [
        "8. Como cientista de dados em um time de futebol, você precisa implementar novas formas de coleta de dados sobre o desempenho de jogadores e do time como um todo. Sua primeira ação é criar uma forma de calcular a pontuação do time no campeonato nacional a partir dos dados de gols marcados e sofridos em cada jogo.\n",
        "\n",
        "Escreva uma função chamada calcula_pontos que recebe como parâmetros duas listas de números inteiros, representando os gols marcados e sofridos pelo time em cada partida do campeonato. A função deve retornar a pontuação do time e o aproveitamento em percentual, levando em consideração que a vitória vale 3 pontos, o empate vale 1 ponto e a derrota 0 pontos.\n",
        "\n",
        "> Observação: se a quantidade de gols marcados numa partida for maior que a de sofridos, o time venceu. Caso seja igual, o time empatou e se for menor, o time perdeu. Para calcular o aproveitamento devemos fazer a razão entre a pontuação do time pela pontuação máxima que ele poderia receber.\n",
        "\n",
        "Para teste, utilize as seguintes listas de gols marcados e sofridos:\n",
        "\n",
        "```\n",
        "gols_marcados = [2, 1, 3, 1, 0]\n",
        "gols_sofridos = [1, 2, 2, 1, 3]\n",
        "```\n",
        "\n",
        "Provável texto exibido:\n",
        "\n",
        "```\n",
        "\"A pontuação do time foi de [pontos] e seu aproveitamento foi de [aprov]%\"\n",
        "```\n",
        "\n",
        "\n",
        "\n"
      ],
      "metadata": {
        "id": "jCydsE0gZuTa"
      }
    },
    {
      "cell_type": "code",
      "source": [
        "gols_marcados = [2, 1, 3, 1, 0]\n",
        "gols_sofridos = [1, 2, 2, 1, 3]\n",
        "\n",
        "\n",
        "def calcula_pontos(gols_marcados: list, gols_sofridos: list):\n",
        "  pontos = 0\n",
        "  for i, j in zip(gols_marcados, gols_sofridos):\n",
        "    if i > j:\n",
        "      pontos += 3\n",
        "    elif i == j:\n",
        "      pontos += 1\n",
        "    else:\n",
        "      pontos += 0\n",
        "  aprov = 100 * pontos / (len(gols_marcados) * 3)\n",
        "  print(f'A pontuação do time foi de {pontos} e seu aproveitamento foi de {aprov:.2f}%')\n",
        "\n",
        "calcula_pontos(gols_marcados, gols_sofridos)\n"
      ],
      "metadata": {
        "colab": {
          "base_uri": "https://localhost:8080/"
        },
        "id": "Fx1Iai6G55X4",
        "outputId": "4eb759a4-cf4e-4ed0-eba3-1eaf02952d45"
      },
      "execution_count": null,
      "outputs": [
        {
          "output_type": "stream",
          "name": "stdout",
          "text": [
            "A pontuação do time foi de 7 e seu aproveitamento foi de 46.67%\n"
          ]
        }
      ]
    },
    {
      "cell_type": "code",
      "source": [
        "gols_marcados = [2, 1, 3, 1, 0]\n",
        "gols_sofridos = [1, 2, 2, 1, 3]\n",
        "\n",
        "def calcula_pontos(gols_marcados, gols_sofridos):\n",
        "  pontos = 0\n",
        "  for i in range(len(gols_marcados)):\n",
        "    if gols_marcados[i] > gols_sofridos[i]:\n",
        "      pontos += 3\n",
        "    elif gols_marcados[i] == gols_sofridos[i]:\n",
        "      pontos += 1\n",
        "  aprov = 100 * pontos / (len(gols_marcados) * 3)\n",
        "  return (pontos, aprov)\n",
        "\n",
        "pontos, aprov = calcula_pontos(gols_marcados, gols_sofridos)\n",
        "print(f\"A pontuação do time foi de {pontos} e seu aproveitamento foi de {round(aprov)}%\")"
      ],
      "metadata": {
        "colab": {
          "base_uri": "https://localhost:8080/"
        },
        "id": "a0MsyMUQ-QzP",
        "outputId": "3515e435-adee-45ab-f7d8-4fb6e349a084"
      },
      "execution_count": null,
      "outputs": [
        {
          "output_type": "stream",
          "name": "stdout",
          "text": [
            "A pontuação do time foi de 7 e seu aproveitamento foi de 47%\n"
          ]
        }
      ]
    },
    {
      "cell_type": "markdown",
      "source": [
        "9. Você recebeu o desafio de criar um código que calcula os gastos de uma viagem para um das quatro cidades partindo de Recife, sendo elas: Salvador, Fortaleza, Natal e Aracaju.\n",
        "\n",
        "O custo da diária do hotel é de 150 reais em todas elas e o consumo de gasolina na viagem de carro é de 14 km/l, sendo que o valor da gasolina é de 5 reais o litro. O gastos com passeios e alimentação a se fazer em cada uma delas por dia seria de ```[200, 400, 250, 300]```, respectivamente.\n",
        "\n",
        "Sabendo que as distâncias entre Recife e cada uma das cidades é de aproximadamente ```[850, 800, 300, 550]``` km, crie três funções nas quais: a 1ª função calcule os gastos com hotel (gasto_hotel), a 2ª calcule os gastos com a gasolina ```(gasto_gasolina)``` e a 3ª os gastos com passeio e alimentação ```(gasto_passeio)```.\n",
        "\n",
        "Para testar, simule uma viagem de 3 dias para Salvador partindo de Recife. Considere a viagem de ida e volta de carro.\n",
        "\n",
        "```\n",
        "\"Com base nos gastos definidos, uma viagem de [dias] dias para [cidade] saindo de Recife custaria [gastos] reais\"\n",
        "```\n"
      ],
      "metadata": {
        "id": "HKcDVu9R_Uy-"
      }
    },
    {
      "cell_type": "code",
      "source": [
        "destino = ['Salvador', 'Fortaleza', 'Natal', 'Aracaju']\n",
        "gastos_passeio_alimentacao = [200, 400, 250, 300]\n",
        "distancia = [850, 800, 300, 550]\n",
        "\n",
        "destino_escolhido = input('Escolha cidade para onde vai viajar: ').lower().strip()\n",
        "qtd_dias_escolhida = int(input('Escolha a quantidade de dias: '))\n",
        "\n",
        "\n",
        "def gastos_hotel(qtd_dias_escolhida):\n",
        "  diaria_hotel = 150\n",
        "  preco_hospedagem = qtd_dias_escolhida * diaria_hotel\n",
        "  return preco_hospedagem\n",
        "\n",
        "def gastos_gasolina(destino_escolhido):\n",
        "  consumo_de_gasolina = 14\n",
        "  valor_gasolina = 5\n",
        "  for i in range(len(destino)):\n",
        "    if destino[i].lower() == destino_escolhido:\n",
        "      custo_distancia = (2 * distancia[i]  * valor_gasolina) / consumo_de_gasolina\n",
        "      return custo_distancia\n",
        "\n",
        "def gastos_no_local(qtd_dias_escolhida, destino_escolhido):\n",
        "  for i in range(len(destino)):\n",
        "    if destino[i].lower()  == destino_escolhido:\n",
        "      gastos_local_por_dia = gastos_passeio_alimentacao[i] * qtd_dias_escolhida\n",
        "      return gastos_local_por_dia\n",
        "\n",
        "gastos_totais = gastos_hotel(qtd_dias_escolhida) + gastos_gasolina(destino_escolhido) + gastos_no_local(qtd_dias_escolhida, destino_escolhido)\n",
        "print(f'Com base nos gastos definidos, uma viagem de {qtd_dias_escolhida} dias para {destino_escolhido.title()} saindo de Recife custaria R${gastos_totais:.2f} reais')\n"
      ],
      "metadata": {
        "colab": {
          "base_uri": "https://localhost:8080/"
        },
        "id": "LCg2J4MZ_s8s",
        "outputId": "1cc27645-beff-4c25-f207-c87fcb75cff3"
      },
      "execution_count": null,
      "outputs": [
        {
          "output_type": "stream",
          "name": "stdout",
          "text": [
            "Escolha cidade para onde vai viajar: natal \n",
            "Escolha a quantidade de dias: 1\n",
            "Com base nos gastos definidos, uma viagem de 1 dias para Natal saindo de Recife custaria R$614.29 reais\n"
          ]
        }
      ]
    },
    {
      "cell_type": "code",
      "source": [
        "dias = int(input(\"Quantas diárias? \"))\n",
        "cidade = input(\"Qual a cidade? [Salvador, Fortaleza, Natal ou Aracaju]: \")\n",
        "distancias = [850, 800, 300, 550]\n",
        "passeio = [200, 400, 250, 300]\n",
        "km_l = 14\n",
        "gasolina = 5\n",
        "\n",
        "def gasto_hotel(dias):\n",
        "    return 150 * dias\n",
        "\n",
        "def gasto_gasolina(cidade):\n",
        "    if cidade == \"Salvador\":\n",
        "        return (2 * distancias[0] * gasolina) / km_l\n",
        "    elif cidade == \"Fortaleza\":\n",
        "        return (2 * distancias[1] * gasolina) / km_l\n",
        "    elif cidade == \"Natal\":\n",
        "        return (2 * distancias[2] * gasolina) / km_l\n",
        "    elif cidade == \"Aracaju\":\n",
        "        return (2 * distancias[3] * gasolina) / km_l\n",
        "\n",
        "def gasto_passeio(cidade, dias):\n",
        "    if cidade==\"Salvador\":\n",
        "        return passeio[0] * dias\n",
        "    elif cidade==\"Fortaleza\":\n",
        "        return passeio[1] * dias\n",
        "    elif cidade==\"Natal\":\n",
        "        return passeio[2] * dias\n",
        "    elif cidade==\"Aracaju\":\n",
        "        return passeio[3] * dias\n",
        "\n",
        "gastos = gasto_hotel(dias) + gasto_gasolina(cidade) + gasto_passeio(cidade, dias)\n",
        "print(f\"Com base nos gastos definidos, uma viagem de {dias} dias para {cidade} saindo de Recife custaria {round(gastos, 2)} reais\")"
      ],
      "metadata": {
        "id": "Fb8XX8XSL8RL"
      },
      "execution_count": null,
      "outputs": []
    },
    {
      "cell_type": "markdown",
      "source": [
        "10. Você iniciou um estágio em uma empresa que trabalha com processamento de linguagem natural (NLP). Sua líder requisitou que você criasse um trecho de código que recebe uma frase digitada pela pessoa usuária e filtre apenas as palavras com tamanho maior ou igual a 5, exibindo-as em uma lista. Essa demanda é voltada para a análise do padrão de comportamento de pessoas na escrita de palavras acima dessa quantidade de caracteres.\n",
        "\n",
        "> Dica: utilize as funções lambda e filter() para filtrar essas palavras. Lembrando que a função embutida filter() recebe uma função (no nosso exemplo uma função lambda) e filtra um iterável de acordo com a função. Para tratar a frase use replace() para trocar a ',' '.', '!' e '?' por espaço.\n",
        "\n",
        "Use a frase `\"Aprender Python aqui na Alura é muito bom\"` para testar o código.\n",
        "\n"
      ],
      "metadata": {
        "id": "JRgrTdufMZwX"
      }
    },
    {
      "cell_type": "code",
      "source": [
        "frase = input('Digite uma frase: ')\n",
        "frase_atualizada = frase.replace('.', '').replace('!', '').replace('?', '').replace(':', '').replace(';', '').replace('/', '').replace('\\\\', '').replace(',', '')\n",
        "palavras = frase_atualizada.split()\n",
        "list(filter(lambda palavra: len(palavra) >= 5, palavras))\n"
      ],
      "metadata": {
        "colab": {
          "base_uri": "https://localhost:8080/"
        },
        "id": "clBrsHMmMuzN",
        "outputId": "e0bf50c8-4027-4fcb-f5af-80fe26ffce61"
      },
      "execution_count": null,
      "outputs": [
        {
          "name": "stdout",
          "output_type": "stream",
          "text": [
            "Digite uma frase: Aprender Python aqui na Alura é muito bom\n"
          ]
        },
        {
          "output_type": "execute_result",
          "data": {
            "text/plain": [
              "['Aprender', 'Python', 'Alura', 'muito']"
            ]
          },
          "metadata": {},
          "execution_count": 55
        }
      ]
    },
    {
      "cell_type": "markdown",
      "source": [
        "##3. ESTRUTURA DE DADOS COMPOSTAS\n",
        "---"
      ],
      "metadata": {
        "id": "DoB6wf2JCYf7"
      }
    },
    {
      "cell_type": "markdown",
      "source": [
        "## 3.1 Estruturas aninhadas\n",
        "\n",
        "Aprendemos anteriormente a manipular listas, tuplas e dicionários para trabalhar com uma sequência ou coleção de valores sejam numéricos, categóricos, etc. Nessa aula, vamos aprofundar em outra situação comum para a pessoa cientista de dados que é trabalhar com esses tipos de estruturas aninhadas, ou seja, quando possuímos por exemplo listas dentro de uma lista."
      ],
      "metadata": {
        "id": "3or6MbnZDW_b"
      }
    },
    {
      "cell_type": "markdown",
      "source": [
        "### Lista de listas\n",
        "\n",
        "#### Formato padrão:\n",
        "\n",
        "```python\n",
        "[[a1, a2,...,an], [b1, b2,...,bn], ..., [n1, n2,...,nn]]\n",
        "```"
      ],
      "metadata": {
        "id": "fddus1G9HqB3"
      }
    },
    {
      "cell_type": "markdown",
      "source": [
        "#### **Situação 6:**\n",
        "\n",
        "Recebemos a demanda de transformar uma lista com o nome e as notas dos três trimestres de estudantes em uma lista simples com os nomes separados das notas e uma lista de listas com as três notas de cada estudante separadas umas das outras. Os dados recebidos correspondem a uma lista com os nomes e as respectivas notas de cada estudante.\n",
        "\n",
        "**Vamos resolver esse desafio?**\n",
        "\n",
        "Para facilitar o nosso entendimento do processo vamos trabalhar com uma turma fictícia de 5 estudantes.\n"
      ],
      "metadata": {
        "id": "32K5LA11tFpz"
      }
    },
    {
      "cell_type": "code",
      "source": [
        "notas_turma = ['João', 8.0, 9.0, 10.0, 'Maria', 9.0, 7.0, 6.0, 'José', 3.4, 7.0, 7.0, 'Cláudia', 5.5, 6.6, 8.0, 'Ana', 6.0, 10.0, 9.5]"
      ],
      "metadata": {
        "id": "jlEP-c2YthpB"
      },
      "execution_count": null,
      "outputs": []
    },
    {
      "cell_type": "code",
      "source": [
        "nomes = []\n",
        "notas_juntas = []\n",
        "\n",
        "for i in range(len(notas_turma)):\n",
        "  if i % 4 == 0:\n",
        "    nomes.append(notas_turma[i])\n",
        "  else:\n",
        "    notas_juntas.append(notas_turma[i])"
      ],
      "metadata": {
        "id": "xP1H4Kw6uJTe"
      },
      "execution_count": null,
      "outputs": []
    },
    {
      "cell_type": "code",
      "source": [
        "nomes"
      ],
      "metadata": {
        "id": "pelnQlo-v4l3",
        "colab": {
          "base_uri": "https://localhost:8080/"
        },
        "outputId": "a9a08a77-1d26-4069-f8a5-032c00c71a83"
      },
      "execution_count": null,
      "outputs": [
        {
          "output_type": "execute_result",
          "data": {
            "text/plain": [
              "['João', 'Maria', 'José', 'Cláudia', 'Ana']"
            ]
          },
          "metadata": {},
          "execution_count": 59
        }
      ]
    },
    {
      "cell_type": "code",
      "source": [
        "notas_juntas"
      ],
      "metadata": {
        "id": "61NkIzLvxXFa",
        "colab": {
          "base_uri": "https://localhost:8080/"
        },
        "outputId": "12d4bf8a-7330-487b-a73a-b75be8ebda90"
      },
      "execution_count": null,
      "outputs": [
        {
          "output_type": "execute_result",
          "data": {
            "text/plain": [
              "[8.0, 9.0, 10.0, 9.0, 7.0, 6.0, 3.4, 7.0, 7.0, 5.5, 6.6, 8.0, 6.0, 10.0, 9.5]"
            ]
          },
          "metadata": {},
          "execution_count": 60
        }
      ]
    },
    {
      "cell_type": "code",
      "source": [
        "notas = []\n",
        "\n",
        "for i in range(0, len(notas_juntas), 3):\n",
        "  notas.append([notas_juntas[i], notas_juntas[i+1], notas_juntas[i+2]])\n",
        "\n",
        "notas"
      ],
      "metadata": {
        "id": "eL-y49GmPpjN",
        "colab": {
          "base_uri": "https://localhost:8080/"
        },
        "outputId": "b1036a75-a59f-4538-f11c-e5149a8c1813"
      },
      "execution_count": null,
      "outputs": [
        {
          "output_type": "execute_result",
          "data": {
            "text/plain": [
              "[[8.0, 9.0, 10.0],\n",
              " [9.0, 7.0, 6.0],\n",
              " [3.4, 7.0, 7.0],\n",
              " [5.5, 6.6, 8.0],\n",
              " [6.0, 10.0, 9.5]]"
            ]
          },
          "metadata": {},
          "execution_count": 63
        }
      ]
    },
    {
      "cell_type": "code",
      "source": [
        "notas[0]"
      ],
      "metadata": {
        "id": "awqddIuGFf-k",
        "colab": {
          "base_uri": "https://localhost:8080/"
        },
        "outputId": "98b1fc54-a77b-4fd7-846d-6951781056cc"
      },
      "execution_count": null,
      "outputs": [
        {
          "output_type": "execute_result",
          "data": {
            "text/plain": [
              "[8.0, 9.0, 10.0]"
            ]
          },
          "metadata": {},
          "execution_count": 65
        }
      ]
    },
    {
      "cell_type": "code",
      "source": [
        "notas[0][2]"
      ],
      "metadata": {
        "id": "PlDKPeCLDXU7",
        "colab": {
          "base_uri": "https://localhost:8080/"
        },
        "outputId": "a61e5020-8462-4f4a-f8ce-66429fdfee20"
      },
      "execution_count": null,
      "outputs": [
        {
          "output_type": "execute_result",
          "data": {
            "text/plain": [
              "10.0"
            ]
          },
          "metadata": {},
          "execution_count": 66
        }
      ]
    },
    {
      "cell_type": "markdown",
      "source": [
        "### Lista de tuplas\n",
        "\n",
        "#### Formato padrão:\n",
        "\n",
        "```python\n",
        "[(a1, a2,...,an), (b1, b2,...,bn), ..., (n1, n2,...,nn)]\n",
        "```"
      ],
      "metadata": {
        "id": "SW0sVg68sK_z"
      }
    },
    {
      "cell_type": "markdown",
      "source": [
        "Para criar uma tupla, basta separar seus elementos por vírgulas. Por exemplo, podemos criar uma tupla com um registro de uma estudante da seguinte maneira:"
      ],
      "metadata": {
        "id": "P1Ht6Kxaa7cN"
      }
    },
    {
      "cell_type": "code",
      "source": [
        "cadastro = (\"Júlia\", 23, \"São Paulo\", \"SP\", \"Python para DS 1\")"
      ],
      "metadata": {
        "id": "owqkkri6a-G-"
      },
      "execution_count": null,
      "outputs": []
    },
    {
      "cell_type": "markdown",
      "source": [
        "Para acessar os elementos de uma tupla, podemos usar o índice entre colchetes. Por exemplo:"
      ],
      "metadata": {
        "id": "ERasxp6qbBVF"
      }
    },
    {
      "cell_type": "code",
      "source": [
        "print(cadastro[0]) # imprime Júlia\n",
        "print(cadastro[-1]) # imprime Python para DS 1"
      ],
      "metadata": {
        "colab": {
          "base_uri": "https://localhost:8080/"
        },
        "id": "CT2RALfubDfk",
        "outputId": "11beb97b-5280-4928-ea6d-9cbd0f7bb99b"
      },
      "execution_count": null,
      "outputs": [
        {
          "output_type": "stream",
          "name": "stdout",
          "text": [
            "Júlia\n",
            "Python para DS 1\n"
          ]
        }
      ]
    },
    {
      "cell_type": "markdown",
      "source": [
        "Além disso, por também ser um iterável, podemos desempacotar os dados de uma tupla passando cada valor para uma variável. Por exemplo:"
      ],
      "metadata": {
        "id": "Y4tXZMoWbFkP"
      }
    },
    {
      "cell_type": "code",
      "source": [
        "nome, idade, cidade, estado, turma = cadastro"
      ],
      "metadata": {
        "id": "W7cwEIYXbG-V"
      },
      "execution_count": null,
      "outputs": []
    },
    {
      "cell_type": "markdown",
      "source": [
        "E exibir os dados cadastrais da estudante:"
      ],
      "metadata": {
        "id": "hLKoVZ0HbOwe"
      }
    },
    {
      "cell_type": "code",
      "source": [
        "print(f'A estudante {nome} tem {idade} anos e mora em {cidade}-{estado}. Ela está matriculada na turma de {turma}.')"
      ],
      "metadata": {
        "colab": {
          "base_uri": "https://localhost:8080/"
        },
        "id": "Dllh6tI7bQHk",
        "outputId": "cd6291d6-e85b-4360-fb61-036083240f44"
      },
      "execution_count": null,
      "outputs": [
        {
          "output_type": "stream",
          "name": "stdout",
          "text": [
            "A estudante Júlia tem 23 anos e mora em São Paulo-SP. Ela está matriculada na turma de Python para DS 1.\n"
          ]
        }
      ]
    },
    {
      "cell_type": "markdown",
      "source": [
        "#### **Situação 7:**\n",
        "\n",
        "Nesta nova demanda, precisamos gerar uma lista de tuplas com os nomes dos estudantes e o código ID de cada um para a plataforma de análise dos dados. A criação do código consiste em concatenar a primeira letra do nome do estudante a um número aleatório de 0 a 999. Os dados recebidos correspondem a uma lista dos nomes de cada estudante.\n",
        "\n",
        "**Vamos resolver esse desafio?**\n",
        "\n",
        "Para facilitar o nosso entendimento do processo vamos trabalhar com uma turma fictícia de 5 estudantes.\n"
      ],
      "metadata": {
        "id": "OId6jAZz5x2m"
      }
    },
    {
      "cell_type": "code",
      "source": [
        "estudantes = [\"João\", \"Maria\", \"José\", \"Cláudia\", \"Ana\"]\n",
        "estudantes"
      ],
      "metadata": {
        "id": "aRB0zQ2_6aa9",
        "colab": {
          "base_uri": "https://localhost:8080/"
        },
        "outputId": "0051c11d-7dff-404c-b855-ac7c21dae4df"
      },
      "execution_count": null,
      "outputs": [
        {
          "output_type": "execute_result",
          "data": {
            "text/plain": [
              "['João', 'Maria', 'José', 'Cláudia', 'Ana']"
            ]
          },
          "metadata": {},
          "execution_count": 10
        }
      ]
    },
    {
      "cell_type": "code",
      "source": [
        "from random import randint\n",
        "\n",
        "def gera_codigo():\n",
        "  return str(randint(0,999))"
      ],
      "metadata": {
        "id": "wFHkckyg6aa-"
      },
      "execution_count": null,
      "outputs": []
    },
    {
      "cell_type": "code",
      "source": [
        "codigo_estudantes = []\n",
        "\n",
        "for i in range(len(estudantes)):\n",
        "  codigo_estudantes.append((estudantes[i], estudantes[i][0] + gera_codigo())) # o [] cria lista e o () cria tupla, isso daqui estudantes[i][0] é para pegar a primeira letra e somar ao token gerado\n",
        "codigo_estudantes"
      ],
      "metadata": {
        "id": "tZItNHeo6aa-",
        "colab": {
          "base_uri": "https://localhost:8080/"
        },
        "outputId": "8d95d4cc-9dc8-44d5-a0fd-30675bf30cec"
      },
      "execution_count": null,
      "outputs": [
        {
          "output_type": "execute_result",
          "data": {
            "text/plain": [
              "[('João', 'J883'),\n",
              " ('Maria', 'M221'),\n",
              " ('José', 'J796'),\n",
              " ('Cláudia', 'C399'),\n",
              " ('Ana', 'A360')]"
            ]
          },
          "metadata": {},
          "execution_count": 12
        }
      ]
    },
    {
      "cell_type": "markdown",
      "source": [
        "## 3.2 List comprehension\n",
        "\n",
        "É uma forma simples e concisa de criar uma lista. Podemos aplicar condicionais e laços para criar diversos tipos de listas a partir de padrões que desejamos para a nossa estrutura de dados.\n",
        "\n",
        "https://docs.python.org/pt-br/3/tutorial/datastructures.html?#list-comprehensions\n",
        "\n",
        "#### Formato padrão:\n",
        "\n",
        "```python\n",
        "[exressão for item in lista]\n",
        "```"
      ],
      "metadata": {
        "id": "srHAov19QCdb"
      }
    },
    {
      "cell_type": "markdown",
      "source": [
        "#### **Situação 8:**\n",
        "\n",
        "Recebemos a demanda de criar uma lista com as médias dos estudantes da lista de listas que criamos na Situação 6. Lembrando que cada lista da lista de listas possui as três notas de cada estudante.\n",
        "\n",
        "**Vamos resolver esse desafio?**\n",
        "\n",
        "**Dica:** Utilize o formato:\n",
        "```python\n",
        "[exressão for item in lista]\n",
        "```"
      ],
      "metadata": {
        "id": "l4HW0gDqecgM"
      }
    },
    {
      "cell_type": "code",
      "source": [
        "notas = [[8.0, 9.0, 10.0], [9.0, 7.0, 6.0], [3.4, 7.0, 7.0], [5.5, 6.6, 8.0], [6.0, 10.0, 9.5]]"
      ],
      "metadata": {
        "id": "RR5D3LvYAOUd"
      },
      "execution_count": null,
      "outputs": []
    },
    {
      "cell_type": "code",
      "source": [
        "def media(lista: list=[0]) -> float:\n",
        "  ''' Função para calcular a média de notas passadas por uma lista\n",
        "\n",
        "  lista: list, default [0]\n",
        "    Lista com as notas para calcular a média\n",
        "  return = calculo: float\n",
        "    Média calculada\n",
        "  '''\n",
        "\n",
        "  calculo = sum(lista) / len(lista)\n",
        "\n",
        "  return calculo"
      ],
      "metadata": {
        "id": "J_atQRQdlpNe"
      },
      "execution_count": null,
      "outputs": []
    },
    {
      "cell_type": "code",
      "source": [
        "medias = [round(media(i), 1) for i in notas]\n",
        "medias"
      ],
      "metadata": {
        "id": "G5CQqPkzQWT0",
        "colab": {
          "base_uri": "https://localhost:8080/"
        },
        "outputId": "84614580-9a99-45b7-ea89-320d5e8a4522"
      },
      "execution_count": null,
      "outputs": [
        {
          "output_type": "execute_result",
          "data": {
            "text/plain": [
              "[9.0, 7.3, 5.8, 6.7, 8.5]"
            ]
          },
          "metadata": {},
          "execution_count": 17
        }
      ]
    },
    {
      "cell_type": "code",
      "source": [
        "def imprime(i):\n",
        "  return i\n",
        "medias = [imprime(i) for i in notas]\n",
        "medias"
      ],
      "metadata": {
        "colab": {
          "base_uri": "https://localhost:8080/"
        },
        "id": "B8wXdugzj2CA",
        "outputId": "d3613998-cbd8-4b7f-ed2d-e16c95a559ec"
      },
      "execution_count": null,
      "outputs": [
        {
          "output_type": "execute_result",
          "data": {
            "text/plain": [
              "[[8.0, 9.0, 10.0],\n",
              " [9.0, 7.0, 6.0],\n",
              " [3.4, 7.0, 7.0],\n",
              " [5.5, 6.6, 8.0],\n",
              " [6.0, 10.0, 9.5]]"
            ]
          },
          "metadata": {},
          "execution_count": 20
        }
      ]
    },
    {
      "cell_type": "code",
      "source": [
        "medias = [i for i in notas] #mesmo resultado que o de cima\n",
        "medias"
      ],
      "metadata": {
        "colab": {
          "base_uri": "https://localhost:8080/"
        },
        "id": "NjkoD_MPlgic",
        "outputId": "648cca7a-0def-472b-e11c-6e5c84dd906a"
      },
      "execution_count": null,
      "outputs": [
        {
          "output_type": "execute_result",
          "data": {
            "text/plain": [
              "[[8.0, 9.0, 10.0],\n",
              " [9.0, 7.0, 6.0],\n",
              " [3.4, 7.0, 7.0],\n",
              " [5.5, 6.6, 8.0],\n",
              " [6.0, 10.0, 9.5]]"
            ]
          },
          "metadata": {},
          "execution_count": 21
        }
      ]
    },
    {
      "cell_type": "markdown",
      "source": [
        "#### **Situação 9:**\n",
        "\n",
        "Agora, precisamos utilizar as médias calculadas no exemplo anterior, pareando com o nome dos estudantes. Isto será necessário para gerar uma lista que selecione aqueles estudantes que possuam uma média final maior ou igual a 8 para concorrer a uma bolsa para o próximo ano letivo. Os dados recebidos correspondem a uma lista de tuplas com os nomes e códigos dos estudantes e a lista de médias calculadas logo acima.\n",
        "\n",
        "**Vamos resolver esse desafio?**\n",
        "\n",
        "Para facilitar o nosso entendimento do processo vamos trabalhar com uma turma fictícia de 5 estudantes.\n",
        "\n",
        "**Dica:** Utilize o formato:\n",
        "```python\n",
        "[expr for item in lista if cond]\n",
        "```\n"
      ],
      "metadata": {
        "id": "ApLjXlAdhJKd"
      }
    },
    {
      "cell_type": "code",
      "source": [
        "nomes = [('João', 'J720'), ('Maria', 'M205'), ('José', 'J371'), ('Cláudia', 'C546'), ('Ana', 'A347')]\n",
        "medias = [9.0, 7.3, 5.8, 6.7, 8.5]"
      ],
      "metadata": {
        "id": "WhXegkP5DDMW"
      },
      "execution_count": null,
      "outputs": []
    },
    {
      "cell_type": "code",
      "source": [
        "# Gerando a lista de nomes (extraindo da tupla)\n",
        "nomes_sem_token = [nome[0] for nome in nomes]\n",
        "nomes_sem_token"
      ],
      "metadata": {
        "id": "Lvfr10SIDSDN",
        "colab": {
          "base_uri": "https://localhost:8080/"
        },
        "outputId": "094dbd00-d284-429e-a660-fc5d11c30254"
      },
      "execution_count": null,
      "outputs": [
        {
          "output_type": "execute_result",
          "data": {
            "text/plain": [
              "['João', 'Maria', 'José', 'Cláudia', 'Ana']"
            ]
          },
          "metadata": {},
          "execution_count": 50
        }
      ]
    },
    {
      "cell_type": "markdown",
      "source": [
        "<font color=green>**Dica:**</font> Para conseguirmos parear as médias e nomes facilmente, podemos recorrer a mais uma built-in function: `zip()`\n",
        "\n",
        "Ela recebe um ou mais iteráveis (lista, string, dict, etc.) e retorna-os como um iterador de tuplas onde cada elemento dos iteráveis são pareados."
      ],
      "metadata": {
        "id": "U6KAABs7Dfpe"
      }
    },
    {
      "cell_type": "code",
      "source": [
        "estudantes = list(zip(nomes_sem_token, medias))\n",
        "estudantes"
      ],
      "metadata": {
        "id": "TRqn0wMUg3s7",
        "colab": {
          "base_uri": "https://localhost:8080/"
        },
        "outputId": "71991a37-4145-4399-99c3-58a394e32ede"
      },
      "execution_count": null,
      "outputs": [
        {
          "output_type": "execute_result",
          "data": {
            "text/plain": [
              "[('João', 9.0), ('Maria', 7.3), ('José', 5.8), ('Cláudia', 6.7), ('Ana', 8.5)]"
            ]
          },
          "metadata": {},
          "execution_count": 51
        }
      ]
    },
    {
      "cell_type": "code",
      "source": [
        "# Gerando a lista de pessoas candidatas a bolsa\n",
        "candidatos = [estudante[0] for estudante in estudantes if estudante[1] >= 8]\n",
        "candidatos"
      ],
      "metadata": {
        "id": "T1ocZ1G0g3qC",
        "colab": {
          "base_uri": "https://localhost:8080/"
        },
        "outputId": "194be022-02d3-49ac-d1d4-adefdff14d09"
      },
      "execution_count": null,
      "outputs": [
        {
          "output_type": "execute_result",
          "data": {
            "text/plain": [
              "['João', 'Ana']"
            ]
          },
          "metadata": {},
          "execution_count": 53
        }
      ]
    },
    {
      "cell_type": "markdown",
      "source": [
        "Agora, se as listas de entrada têm comprimentos diferentes, a saída contém o mesmo número de tuplas que a lista de menor comprimento e os elementos restantes dos outros iteráveis serão ignorados. Por exemplo:"
      ],
      "metadata": {
        "id": "-HzYySnXqMUt"
      }
    },
    {
      "cell_type": "code",
      "source": [
        "codigos = [\"1000\", \"1001\", \"1002\", \"1003\", \"1004\", \"1005\"]\n",
        "frutas = [\"maçã\", \"uva\", \"banana\", \"laranja\"]\n",
        "\n",
        "mercadorias = list(zip(codigos, frutas))\n",
        "mercadorias"
      ],
      "metadata": {
        "colab": {
          "base_uri": "https://localhost:8080/"
        },
        "id": "WiJ1WSv4qOve",
        "outputId": "056392e8-c4f1-4357-ac50-51f9af464333"
      },
      "execution_count": null,
      "outputs": [
        {
          "output_type": "execute_result",
          "data": {
            "text/plain": [
              "[('1000', 'maçã'), ('1001', 'uva'), ('1002', 'banana'), ('1003', 'laranja')]"
            ]
          },
          "metadata": {},
          "execution_count": 54
        }
      ]
    },
    {
      "cell_type": "markdown",
      "source": [
        "Para fazer o processo contrário, de transformar uma tupla iterável em listas, basta passar o operador asterisco (*) ao lado esquerdo do nome da tupla iterável que quer extrair os dados, repassando cada tupla para uma variável."
      ],
      "metadata": {
        "id": "ZMkyHHRqqSBG"
      }
    },
    {
      "cell_type": "code",
      "source": [
        "tupla_iteravel = [('J392', 'João'), ('M890', 'Maria'), ('J681', 'José'), ('C325', 'Claúdia'), ('A49', 'Ana')]\n",
        "ids, nomes  = zip(*tupla_iteravel)\n",
        "\n",
        "ids = list(ids)\n",
        "nomes = list(nomes)\n",
        "\n",
        "print(\"IDs = \", ids)\n",
        "print(\"Nomes = \", nomes)"
      ],
      "metadata": {
        "colab": {
          "base_uri": "https://localhost:8080/"
        },
        "id": "_X0gQKw-qUbU",
        "outputId": "a5fb60d3-6982-4aa5-f4be-3cd91cc84b18"
      },
      "execution_count": null,
      "outputs": [
        {
          "output_type": "stream",
          "name": "stdout",
          "text": [
            "IDs =  ['J392', 'M890', 'J681', 'C325', 'A49']\n",
            "Nomes =  ['João', 'Maria', 'José', 'Claúdia', 'Ana']\n"
          ]
        }
      ]
    },
    {
      "cell_type": "markdown",
      "source": [
        "#### **Situação 10:**\n",
        "\n",
        "Recebemos duas demandas a respeito desse projeto com as notas dos estudantes:\n",
        "- Criar uma lista da situação dos estudantes em que caso se sua média seja maior ou igual a 6 receberá o valor \"Aprovado\" e caso contrário receberá o valor \"Reprovado\".\n",
        "- Gerar uma lista de listas com:\n",
        "  - Lista de tuplas com o nome dos estudantes e seus códigos\n",
        "  - Lista de listas com as notas de cada estudante\n",
        "  - Lista com as médias de cada estudante\n",
        "  - Lista da situação dos estudantes de acordo com as médias\n",
        "\n",
        "Os dados que utilizaremos são os mesmos que geramos nas situações anteriores (`nomes`, `notas`, `medias`).\n",
        "\n",
        "**Vamos resolver esse desafio?**\n",
        "\n",
        "Para seguirmos o processo, vou deixar logo abaixo as estruturas de dados que já produzimos.\n",
        "\n",
        "**Dica:** Para a lista das situações utilize o formato:\n",
        "```python\n",
        "[resultado_if if cond else resultado_else for item in lista]\n",
        "```"
      ],
      "metadata": {
        "id": "9yzRDIB0fkeF"
      }
    },
    {
      "cell_type": "code",
      "source": [
        "nomes = [('João', 'J720'), ('Maria', 'M205'), ('José', 'J371'), ('Cláudia', 'C546'), ('Ana', 'A347')]\n",
        "notas = [[8.0, 9.0, 10.0], [9.0, 7.0, 6.0], [3.4, 7.0, 7.0], [5.5, 6.6, 8.0], [6.0, 10.0, 9.5]]\n",
        "medias = [9.0, 7.3, 5.8, 6.7, 8.5]"
      ],
      "metadata": {
        "id": "-QlKML-tG6FN"
      },
      "execution_count": null,
      "outputs": []
    },
    {
      "cell_type": "code",
      "source": [
        "situacao = ['Aprovado(a)' if media >= 6 else 'Reprovado(a)' for media in medias]\n",
        "situacao"
      ],
      "metadata": {
        "id": "qYgaZthjQWQV",
        "colab": {
          "base_uri": "https://localhost:8080/"
        },
        "outputId": "dd31b327-1dbe-4a50-d759-267fb73f8c74"
      },
      "execution_count": null,
      "outputs": [
        {
          "output_type": "execute_result",
          "data": {
            "text/plain": [
              "['Aprovado(a)', 'Aprovado(a)', 'Reprovado(a)', 'Aprovado(a)', 'Aprovado(a)']"
            ]
          },
          "metadata": {},
          "execution_count": 57
        }
      ]
    },
    {
      "cell_type": "markdown",
      "source": [
        "**Dica:** Para gerar a lista de listas do enunciado podemos utilizar o formato a seguir\n",
        "```python\n",
        "[expr for item in lista de listas]\n",
        "```"
      ],
      "metadata": {
        "id": "0XsAi49IF9Ta"
      }
    },
    {
      "cell_type": "code",
      "source": [
        "cadastros = [cadastro for cadastro in [nomes, notas, medias, situacao]]\n",
        "cadastros"
      ],
      "metadata": {
        "id": "G-AEgh4NGlvH",
        "colab": {
          "base_uri": "https://localhost:8080/"
        },
        "outputId": "47f4189c-4bd2-44c0-b318-39ebdbca54e0"
      },
      "execution_count": null,
      "outputs": [
        {
          "output_type": "execute_result",
          "data": {
            "text/plain": [
              "[[('João', 'J720'),\n",
              "  ('Maria', 'M205'),\n",
              "  ('José', 'J371'),\n",
              "  ('Cláudia', 'C546'),\n",
              "  ('Ana', 'A347')],\n",
              " [[8.0, 9.0, 10.0],\n",
              "  [9.0, 7.0, 6.0],\n",
              "  [3.4, 7.0, 7.0],\n",
              "  [5.5, 6.6, 8.0],\n",
              "  [6.0, 10.0, 9.5]],\n",
              " [9.0, 7.3, 5.8, 6.7, 8.5],\n",
              " ['Aprovado(a)', 'Aprovado(a)', 'Reprovado(a)', 'Aprovado(a)', 'Aprovado(a)']]"
            ]
          },
          "metadata": {},
          "execution_count": 63
        }
      ]
    },
    {
      "cell_type": "markdown",
      "source": [
        "<font color=green>**Dica:**</font> Podemos recorrer a forma mais simples de geração de listas de lista com o uso direto dos colchetes sem necessitar de utilizar as expressões e o laço for na  abrangência de listas"
      ],
      "metadata": {
        "id": "4hkHEZGbGH7X"
      }
    },
    {
      "cell_type": "code",
      "source": [
        "lista_completa = [nomes, notas, medias, situacao]\n",
        "for i in range(len(lista_completa)):\n",
        "  print(f'Nome: {lista_completa[0][i][0]}, '\n",
        "        f'Matrícula: {lista_completa[0][i][1]}, '\n",
        "        f'Notas: {lista_completa[1][i]}, '\n",
        "        f'Média: {lista_completa[2][i]}, '\n",
        "        f'Situação: {lista_completa[3][i]}')"
      ],
      "metadata": {
        "id": "Oz2hU80RF82D",
        "colab": {
          "base_uri": "https://localhost:8080/"
        },
        "outputId": "4d263d83-c02b-4b05-a47e-e9beede94bd1"
      },
      "execution_count": null,
      "outputs": [
        {
          "output_type": "stream",
          "name": "stdout",
          "text": [
            "Nome: João, Matrícula: J720, Notas: [8.0, 9.0, 10.0], Média: 9.0, Situação: Aprovado(a)\n",
            "Nome: Maria, Matrícula: M205, Notas: [9.0, 7.0, 6.0], Média: 7.3, Situação: Aprovado(a)\n",
            "Nome: José, Matrícula: J371, Notas: [3.4, 7.0, 7.0], Média: 5.8, Situação: Reprovado(a)\n",
            "Nome: Cláudia, Matrícula: C546, Notas: [5.5, 6.6, 8.0], Média: 6.7, Situação: Aprovado(a)\n"
          ]
        }
      ]
    },
    {
      "cell_type": "code",
      "source": [
        "alturas = [1.70, 1.80, 1.65, 1.75, 1.90]\n",
        "pesos = [65, 80, 58, 70, 95]\n",
        "\n",
        "imc = [round((peso / altura**2), 1) for altura, peso in zip(alturas, pesos)]\n",
        "print(imc)"
      ],
      "metadata": {
        "colab": {
          "base_uri": "https://localhost:8080/"
        },
        "id": "b5_gw-4Tx0l5",
        "outputId": "c7b1f7f0-93ad-41ce-a75a-4ae8f28ab304"
      },
      "execution_count": null,
      "outputs": [
        {
          "output_type": "stream",
          "name": "stdout",
          "text": [
            "[22.5, 24.7, 21.3, 22.9, 26.3]\n"
          ]
        }
      ]
    },
    {
      "cell_type": "markdown",
      "source": [
        "## 3.3 Dict comprehension\n",
        "\n",
        "É uma forma simples e concisa de criar ou modificar um dicionário. Podemos aplicar condicionais e laços para criar diversos tipos de dicionários a partir de padrões que desejamos para a nossa estrutura de dados e com o suporte de iteráveis como listas ou sets.\n",
        "\n",
        "https://peps.python.org/pep-0274/\n",
        "\n",
        "#### Formato padrão:\n",
        "\n",
        "```python\n",
        "{chave: valor for item in lista}\n",
        "```"
      ],
      "metadata": {
        "id": "NmohhDl-QRpx"
      }
    },
    {
      "cell_type": "markdown",
      "source": [
        "#### **Situação 11:**\n",
        "\n",
        "Agora, a nossa demanda consiste em gerar um dicionário a partir da lista de listas que criamos na Situação 10 para passar para a pessoa responsável por construir as tabelas para a análise dos dados.\n",
        "- As chaves do nosso dicionário serão as colunas identificando o tipo de dado\n",
        "- Os valores serão as listas com os dados correspondentes àquela chave.\n",
        "\n",
        "**Vamos resolver esse desafio?**\n",
        "\n",
        "Para facilitar o nosso entendimento do processo vamos trabalhar com uma turma fictícia de 5 estudantes.\n",
        "\n",
        "**Dica:** Utilize o formato\n",
        "\n",
        "```python\n",
        "{chave: valor for item in lista}\n",
        "```"
      ],
      "metadata": {
        "id": "kGt8hQXOKeIt"
      }
    },
    {
      "cell_type": "code",
      "source": [
        "lista_completa = [[('João', 'J720'), ('Maria', 'M205'), ('José', 'J371'), ('Cláudia', 'C546'), ('Ana', 'A347')],\n",
        "                  [[8.0, 9.0, 10.0], [9.0, 7.0, 6.0], [3.4, 7.0, 7.0], [5.5, 6.6, 8.0], [6.0, 10.0, 9.5]],\n",
        "                  [9.0, 7.3, 5.8, 6.7, 8.5],\n",
        "                  ['Aprovado', 'Aprovado', 'Reprovado', 'Aprovado', 'Aprovado']]"
      ],
      "metadata": {
        "id": "fD_TeWtOUQKQ"
      },
      "execution_count": null,
      "outputs": []
    },
    {
      "cell_type": "code",
      "source": [
        "# Colunas com os tipos dos dados (exceto nome)\n",
        "colunas = [\"Notas\", \"Média Final\", \"Situação\"]\n",
        "\n",
        "cadastro = {colunas[i]: lista_completa[i+1] for i in range(len(colunas))}\n",
        "cadastro"
      ],
      "metadata": {
        "id": "xFkmjd4EKG7b",
        "colab": {
          "base_uri": "https://localhost:8080/"
        },
        "outputId": "0e8ee2dc-0c13-405b-dbf7-2eb429f3f8d9"
      },
      "execution_count": null,
      "outputs": [
        {
          "output_type": "execute_result",
          "data": {
            "text/plain": [
              "{'Notas': [[8.0, 9.0, 10.0],\n",
              "  [9.0, 7.0, 6.0],\n",
              "  [3.4, 7.0, 7.0],\n",
              "  [5.5, 6.6, 8.0],\n",
              "  [6.0, 10.0, 9.5]],\n",
              " 'Média Final': [9.0, 7.3, 5.8, 6.7, 8.5],\n",
              " 'Situação': ['Aprovado', 'Aprovado', 'Reprovado', 'Aprovado', 'Aprovado']}"
            ]
          },
          "metadata": {},
          "execution_count": 92
        }
      ]
    },
    {
      "cell_type": "code",
      "source": [
        "# Vamos por fim adicionar o nome dos estudantes, extraindo apenas seus nomes da lista de tuplas\n",
        "cadastro[\"Estudante\"] = [lista_completa[0][i][0] for i in range(len(lista_completa[0]))]\n",
        "cadastro"
      ],
      "metadata": {
        "id": "yDPfgllCKVrt",
        "colab": {
          "base_uri": "https://localhost:8080/"
        },
        "outputId": "10a37dc9-4460-44fe-c869-ba0402ba9747"
      },
      "execution_count": null,
      "outputs": [
        {
          "output_type": "execute_result",
          "data": {
            "text/plain": [
              "{'Notas': [[8.0, 9.0, 10.0],\n",
              "  [9.0, 7.0, 6.0],\n",
              "  [3.4, 7.0, 7.0],\n",
              "  [5.5, 6.6, 8.0],\n",
              "  [6.0, 10.0, 9.5]],\n",
              " 'Média Final': [9.0, 7.3, 5.8, 6.7, 8.5],\n",
              " 'Situação': ['Aprovado', 'Aprovado', 'Reprovado', 'Aprovado', 'Aprovado'],\n",
              " 'Estudante': ['João', 'Maria', 'José', 'Cláudia', 'Ana']}"
            ]
          },
          "metadata": {},
          "execution_count": 96
        }
      ]
    },
    {
      "cell_type": "markdown",
      "source": [
        "Recebemos uma demanda da instituição de ensino do nosso projeto que nos repassou uma lista de 20 estudantes e suas respectivas médias finais. Aqui, nós precisamos selecionar estudantes que tenham média final maior ou igual a 9.0. Esses(as) estudantes serão premiados(as) com uma bolsa de estudos para o próximo ano letivo.\n",
        "\n",
        "Para filtrar os dados, temos que gerar um dicionário cujas chaves são os nomes e os valores são as médias dos(as) estudantes selecionados(as). Estes são os dados recebidos:\n",
        "\n",
        "```\n",
        "nomes_estudantes = [ \"Enrico Monteiro\", \"Luna Pereira\", \"Anthony Silveira\", \"Letícia Fernandes\",\n",
        "                    \"João Vitor Nascimento\", \"Maysa Caldeira\", \"Diana Carvalho\", \"Mariane da Rosa\",\n",
        "                    \"Camila Fernandes\", \"Levi Alves\", \"Nicolas da Rocha\", \"Amanda Novaes\",\n",
        "                    \"Laís Moraes\", \"Letícia Oliveira\", \"Lucca Novaes\", \"Lara Cunha\",\n",
        "                    \"Beatriz Martins\", \"João Vitor Azevedo\", \"Stephany Rosa\", \"Gustavo Henrique Lima\" ]\n",
        "\n",
        "medias_estudantes = [5.4, 4.1, 9.1, 5.3, 6.9, 3.1, 10.0, 5.0, 8.2, 5.5,\n",
        "                    8.1, 7.4, 5.0, 3.7, 8.1, 6.2, 6.1, 5.6, 6.7, 8.2]\n",
        "```\n",
        "\n"
      ],
      "metadata": {
        "id": "ifv6ukEN4T7w"
      }
    },
    {
      "cell_type": "code",
      "source": [
        "nomes_estudantes = [ \"Enrico Monteiro\", \"Luna Pereira\", \"Anthony Silveira\", \"Letícia Fernandes\",\n",
        "                    \"João Vitor Nascimento\", \"Maysa Caldeira\", \"Diana Carvalho\", \"Mariane da Rosa\",\n",
        "                    \"Camila Fernandes\", \"Levi Alves\", \"Nicolas da Rocha\", \"Amanda Novaes\",\n",
        "                    \"Laís Moraes\", \"Letícia Oliveira\", \"Lucca Novaes\", \"Lara Cunha\",\n",
        "                    \"Beatriz Martins\", \"João Vitor Azevedo\", \"Stephany Rosa\", \"Gustavo Henrique Lima\" ]\n",
        "\n",
        "medias_estudantes = [5.4, 4.1, 9.1, 5.3, 6.9, 3.1, 10.0, 5.0, 8.2, 5.5,\n",
        "                    8.1, 7.4, 5.0, 3.7, 8.1, 6.2, 6.1, 5.6, 6.7, 8.2]\n",
        "\n",
        "bolsistas = {nomes_estudantes[i]: medias_estudantes[i] for i in range(len(nomes_estudantes)) if medias_estudantes[i] >= 9}\n",
        "bolsistas"
      ],
      "metadata": {
        "colab": {
          "base_uri": "https://localhost:8080/"
        },
        "id": "0AfMR3Eg4a8L",
        "outputId": "fb78b1b5-8d76-4fdc-d714-7bde30419a39"
      },
      "execution_count": null,
      "outputs": [
        {
          "output_type": "execute_result",
          "data": {
            "text/plain": [
              "{'Anthony Silveira': 9.1, 'Diana Carvalho': 10.0}"
            ]
          },
          "metadata": {},
          "execution_count": 100
        }
      ]
    },
    {
      "cell_type": "code",
      "source": [
        "nomes_estudantes = [ \"Enrico Monteiro\", \"Luna Pereira\", \"Anthony Silveira\", \"Letícia Fernandes\",\n",
        "                    \"João Vitor Nascimento\", \"Maysa Caldeira\", \"Diana Carvalho\", \"Mariane da Rosa\",\n",
        "                    \"Camila Fernandes\", \"Levi Alves\", \"Nicolas da Rocha\", \"Amanda Novaes\",\n",
        "                    \"Laís Moraes\", \"Letícia Oliveira\", \"Lucca Novaes\", \"Lara Cunha\",\n",
        "                    \"Beatriz Martins\", \"João Vitor Azevedo\", \"Stephany Rosa\", \"Gustavo Henrique Lima\" ]\n",
        "\n",
        "medias_estudantes = [5.4, 4.1, 9.1, 5.3, 6.9, 3.1, 10.0, 5.0, 8.2, 5.5,\n",
        "                    8.1, 7.4, 5.0, 3.7, 8.1, 6.2, 6.1, 5.6, 6.7, 8.2]\n",
        "\n",
        "bolsistas = {nome: media\n",
        "             for nome, media in zip(nomes_estudantes, medias_estudantes)\n",
        "             if media >= 9.0}\n",
        "bolsistas"
      ],
      "metadata": {
        "colab": {
          "base_uri": "https://localhost:8080/"
        },
        "id": "Abwe2pJz5hRd",
        "outputId": "ee3b8a63-ac0a-4a6b-adab-34157ba46e22"
      },
      "execution_count": null,
      "outputs": [
        {
          "output_type": "execute_result",
          "data": {
            "text/plain": [
              "{'Anthony Silveira': 9.1, 'Diana Carvalho': 10.0}"
            ]
          },
          "metadata": {},
          "execution_count": 102
        }
      ]
    },
    {
      "cell_type": "markdown",
      "source": [
        "###Aquecimento"
      ],
      "metadata": {
        "id": "eBebU6KRr_QF"
      }
    },
    {
      "cell_type": "markdown",
      "source": [
        "1. Crie um código para imprimir a soma dos elementos de cada uma das listas contidas na seguinte lista:\n",
        "\n",
        "```\n",
        "lista_de_listas = [[4,6,5,9], [1,0,7,2], [3,4,1,8]]\n",
        "```\n",
        "\n"
      ],
      "metadata": {
        "id": "LS5znySAsC9L"
      }
    },
    {
      "cell_type": "code",
      "source": [
        "lista_de_listas = [[4,6,5,9], [1,0,7,2], [3,4,1,8]]\n",
        "\n",
        "soma_elemento_1 = sum(lista_de_listas[0])\n",
        "soma_elemento_2 = sum(lista_de_listas[1])\n",
        "soma_elemento_3 = sum(lista_de_listas[2])\n",
        "\n",
        "print(f'A soma dos elementos da 1ª lista é: {soma_elemento_1}\\n'\n",
        "      f'A soma dos elementos da 2ª lista é: {soma_elemento_2}\\n'\n",
        "      f'A soma dos elementos da 3ª lista é: {soma_elemento_3}')"
      ],
      "metadata": {
        "colab": {
          "base_uri": "https://localhost:8080/"
        },
        "id": "KWEYemz2sIcz",
        "outputId": "ddf125d3-031d-46b2-d389-8432d916d0ee"
      },
      "execution_count": null,
      "outputs": [
        {
          "output_type": "stream",
          "name": "stdout",
          "text": [
            "A soma dos elementos da 1ª lista é: 24\n",
            "A soma dos elementos da 2ª lista é: 10\n",
            "A soma dos elementos da 3ª lista é: 16\n"
          ]
        }
      ]
    },
    {
      "cell_type": "code",
      "source": [
        "lista_de_listas = [[4,6,5,9], [1,0,7,2], [3,4,1,8]]\n",
        "for lista in lista_de_listas:\n",
        "    print(sum(lista))"
      ],
      "metadata": {
        "colab": {
          "base_uri": "https://localhost:8080/"
        },
        "id": "zFSgoOgPtUds",
        "outputId": "03946283-674b-4fff-a5ed-44e1d5948572"
      },
      "execution_count": null,
      "outputs": [
        {
          "output_type": "stream",
          "name": "stdout",
          "text": [
            "24\n",
            "10\n",
            "16\n"
          ]
        }
      ]
    },
    {
      "cell_type": "markdown",
      "source": [
        "2. Crie um código para gerar uma lista que armazena o terceiro elemento de cada tupla contida na seguinte lista de tuplas:\n",
        "\n",
        "```\n",
        "lista_de_tuplas = [('Pedro', 1.74, 81), ('Júlia', 1.65, 67), ('Otávio', 1.81, 83)]\n",
        "```\n",
        "\n"
      ],
      "metadata": {
        "id": "Y2rClkthtdBT"
      }
    },
    {
      "cell_type": "code",
      "source": [
        "lista_de_tuplas = [('Pedro', 1.74, 81), ('Júlia', 1.65, 67), ('Otávio', 1.81, 83)]\n",
        "lista_idades = []\n",
        "\n",
        "for elemento in lista_de_tuplas:\n",
        "  lista_idades.append(elemento[2])\n",
        "\n",
        "lista_idades"
      ],
      "metadata": {
        "colab": {
          "base_uri": "https://localhost:8080/"
        },
        "id": "ezDO2_ibtfXY",
        "outputId": "4aeab29c-a91e-47ef-9df1-abcaa79c8b7f"
      },
      "execution_count": null,
      "outputs": [
        {
          "output_type": "execute_result",
          "data": {
            "text/plain": [
              "[81, 67, 83]"
            ]
          },
          "metadata": {},
          "execution_count": 14
        }
      ]
    },
    {
      "cell_type": "markdown",
      "source": [
        "3. A partir da lista: ```lista = ['Pedro', 'Júlia', 'Otávio', 'Eduardo']```, crie um código para gerar uma lista de tuplas em que cada tupla tenha o primeiro elemento como a posição do nome na lista original e o segundo elemento sendo o próprio nome."
      ],
      "metadata": {
        "id": "e7HoA2Y8uvCv"
      }
    },
    {
      "cell_type": "code",
      "source": [
        "lista = ['Pedro', 'Júlia', 'Otávio', 'Eduardo']\n",
        "tuplas = []\n",
        "for i in range(len(lista)):\n",
        "  tuplas.append((i, lista[i]))\n",
        "print(tuplas)"
      ],
      "metadata": {
        "colab": {
          "base_uri": "https://localhost:8080/"
        },
        "id": "IoXcXz_4u_pf",
        "outputId": "f49ac080-dcb8-47bd-ed86-a2a5329ff231"
      },
      "execution_count": null,
      "outputs": [
        {
          "output_type": "stream",
          "name": "stdout",
          "text": [
            "[(0, 'Pedro'), (1, 'Júlia'), (2, 'Otávio'), (3, 'Eduardo')]\n"
          ]
        }
      ]
    },
    {
      "cell_type": "code",
      "source": [
        "lista = ['Pedro', 'Júlia', 'Otávio', 'Eduardo']\n",
        "lista_de_tuplas = []\n",
        "for i in range(len(lista)):\n",
        "    lista_de_tuplas.append((i, lista[i]))\n",
        "print(lista_de_tuplas)"
      ],
      "metadata": {
        "colab": {
          "base_uri": "https://localhost:8080/"
        },
        "id": "xc3yA-nM1fiB",
        "outputId": "5e9c26d5-26b1-431d-d780-8bd280cf9f9f"
      },
      "execution_count": null,
      "outputs": [
        {
          "output_type": "stream",
          "name": "stdout",
          "text": [
            "[(0, 'Pedro'), (1, 'Júlia'), (2, 'Otávio'), (3, 'Eduardo')]\n"
          ]
        }
      ]
    },
    {
      "cell_type": "markdown",
      "source": [
        "4. Crie uma lista usando o list comprehension que armazena somente o valor numérico de cada tupla caso o primeiro elemento seja 'Apartamento', a partir da seguinte lista de tuplas:\n",
        "\n",
        "```\n",
        "aluguel = [('Apartamento', 1700), ('Apartamento', 1400), ('Casa', 2150), ('Apartamento', 1900), ('Casa', 1100)]\n",
        "```\n",
        "\n"
      ],
      "metadata": {
        "id": "EgA9mtdZ1-px"
      }
    },
    {
      "cell_type": "code",
      "source": [
        "aluguel = [('Apartamento', 1700), ('Apartamento', 1400), ('Casa', 2150), ('Apartamento', 1900), ('Casa', 1100)]\n",
        "lista = [aluguel[i][1] for i in range(len(aluguel)) if aluguel[i][0] == 'Apartamento']\n",
        "\n",
        "lista"
      ],
      "metadata": {
        "colab": {
          "base_uri": "https://localhost:8080/"
        },
        "id": "NToam7r_2Kjx",
        "outputId": "5481c35b-6a31-4bdc-e489-ddd7dd0554b3"
      },
      "execution_count": null,
      "outputs": [
        {
          "output_type": "execute_result",
          "data": {
            "text/plain": [
              "[1700, 1400, 1900]"
            ]
          },
          "metadata": {},
          "execution_count": 66
        }
      ]
    },
    {
      "cell_type": "code",
      "source": [
        "aluguel = [('Apartamento', 1700), ('Apartamento', 1400), ('Casa', 2150), ('Apartamento', 1900), ('Casa', 1100)]\n",
        "lista = [tupla[1] for tupla in aluguel if tupla[0]== 'Apartamento']\n",
        "print(lista)"
      ],
      "metadata": {
        "colab": {
          "base_uri": "https://localhost:8080/"
        },
        "id": "kN5d9rA23kOO",
        "outputId": "b80a28d9-1211-4976-f31d-034e12ceae79"
      },
      "execution_count": null,
      "outputs": [
        {
          "output_type": "stream",
          "name": "stdout",
          "text": [
            "[1700, 1400, 1900]\n"
          ]
        }
      ]
    },
    {
      "cell_type": "markdown",
      "source": [
        "5. Crie um dicionário usando o dict comprehension em que as chaves estão na lista `meses = ['Jan', 'Fev', 'Mar', 'Abr', 'Mai', 'Jun', 'Jul', 'Ago', 'Set', 'Out', 'Nov', 'Dez']` e os valores estão em `despesa = [860, 490, 1010, 780, 900, 630, 590, 770, 620, 560, 840, 360]`."
      ],
      "metadata": {
        "id": "IghZhHe84Swv"
      }
    },
    {
      "cell_type": "code",
      "source": [
        "meses = ['Jan', 'Fev', 'Mar', 'Abr', 'Mai', 'Jun', 'Jul', 'Ago', 'Set', 'Out', 'Nov', 'Dez']\n",
        "despesa = [860, 490, 1010, 780, 900, 630, 590, 770, 620, 560, 840, 360]\n",
        "\n",
        "{meses[mes]: despesa[mes] for mes in range(len(meses))}"
      ],
      "metadata": {
        "colab": {
          "base_uri": "https://localhost:8080/"
        },
        "id": "-IbGCNtG5HFS",
        "outputId": "eb0db418-d652-4724-cb3c-3856907db446"
      },
      "execution_count": null,
      "outputs": [
        {
          "output_type": "execute_result",
          "data": {
            "text/plain": [
              "{'Jan': 860,\n",
              " 'Fev': 490,\n",
              " 'Mar': 1010,\n",
              " 'Abr': 780,\n",
              " 'Mai': 900,\n",
              " 'Jun': 630,\n",
              " 'Jul': 590,\n",
              " 'Ago': 770,\n",
              " 'Set': 620,\n",
              " 'Out': 560,\n",
              " 'Nov': 840,\n",
              " 'Dez': 360}"
            ]
          },
          "metadata": {},
          "execution_count": 73
        }
      ]
    },
    {
      "cell_type": "code",
      "source": [
        "meses = ['Jan', 'Fev', 'Mar', 'Abr', 'Mai', 'Jun', 'Jul', 'Ago', 'Set', 'Out', 'Nov', 'Dez']\n",
        "despesa = [860, 490, 1010, 780, 900, 630, 590, 770, 620, 560, 840, 360]\n",
        "dicionario = {meses[i]: despesa[i] for i in range(len(meses))}\n",
        "print(dicionario)"
      ],
      "metadata": {
        "colab": {
          "base_uri": "https://localhost:8080/"
        },
        "id": "ewIRIYY1500y",
        "outputId": "165ebc6d-3963-4ab2-a38f-3b19420dafd7"
      },
      "execution_count": null,
      "outputs": [
        {
          "output_type": "stream",
          "name": "stdout",
          "text": [
            "{'Jan': 860, 'Fev': 490, 'Mar': 1010, 'Abr': 780, 'Mai': 900, 'Jun': 630, 'Jul': 590, 'Ago': 770, 'Set': 620, 'Out': 560, 'Nov': 840, 'Dez': 360}\n"
          ]
        }
      ]
    },
    {
      "cell_type": "markdown",
      "source": [
        "###Aplicando a projetos"
      ],
      "metadata": {
        "id": "d3I_A9JQ554R"
      }
    },
    {
      "cell_type": "markdown",
      "source": [
        "6. Uma loja possui um banco de dados com a informação de venda de cada representante e de cada ano e precisa filtrar somente os dados do ano 2022 com venda maior do que 6000. A loja forneceu uma amostra contendo apenas as colunas com os anos e os valores de venda para que você ajude a realizar a filtragem dos dados a partir de um código:\n",
        "\n",
        "```\n",
        "vendas = [('2023', 4093), ('2021', 4320), ('2021', 5959), ('2022', 8883), ('2023', 9859), ('2022', 5141), ('2022', 7688), ('2022', 9544), ('2023', 4794), ('2021', 7178), ('2022', 3030), ('2021', 7471), ('2022', 4226), ('2022', 8190), ('2021', 9680), ('2022', 5616)]\n",
        "```\n",
        "Crie uma lista usando list comprehension para filtrar os valores de 2022 e que sejam maiores que 6000.\n"
      ],
      "metadata": {
        "id": "a-r_p_3W59MS"
      }
    },
    {
      "cell_type": "code",
      "source": [
        "vendas = [('2023', 4093), ('2021', 4320), ('2021', 5959), ('2022', 8883), ('2023', 9859), ('2022', 5141), ('2022', 7688), ('2022', 9544), ('2023', 4794), ('2021', 7178), ('2022', 3030), ('2021', 7471), ('2022', 4226), ('2022', 8190), ('2021', 9680), ('2022', 5616)]\n",
        "\n",
        "lista = [(venda[0], venda[1]) for venda in vendas if venda[0] == '2022' and venda[1] > 6000]\n",
        "lista"
      ],
      "metadata": {
        "colab": {
          "base_uri": "https://localhost:8080/"
        },
        "id": "wz_qSXNd6CGS",
        "outputId": "4dcd361a-58a5-49a0-8964-d4cee0369c1e"
      },
      "execution_count": null,
      "outputs": [
        {
          "output_type": "execute_result",
          "data": {
            "text/plain": [
              "[('2022', 8883), ('2022', 7688), ('2022', 9544), ('2022', 8190)]"
            ]
          },
          "metadata": {},
          "execution_count": 78
        }
      ]
    },
    {
      "cell_type": "code",
      "source": [
        "vendas = [('2023', 4093), ('2021', 4320), ('2021', 5959), ('2022', 8883), ('2023', 9859), ('2022', 5141), ('2022', 7688), ('2022', 9544), ('2023', 4794), ('2021', 7178), ('2022', 3030), ('2021', 7471), ('2022', 4226), ('2022', 8190), ('2021', 9680), ('2022', 5616)]\n",
        "\n",
        "filtro = [tupla[1] for tupla in vendas if tupla[0] == '2022' and tupla[1] > 6000]\n",
        "print(filtro)"
      ],
      "metadata": {
        "colab": {
          "base_uri": "https://localhost:8080/"
        },
        "id": "fleDyqZ48XBP",
        "outputId": "bc763f7f-2717-4c59-c146-d7788429b77c"
      },
      "execution_count": null,
      "outputs": [
        {
          "output_type": "stream",
          "name": "stdout",
          "text": [
            "[8883, 7688, 9544, 8190]\n"
          ]
        }
      ]
    },
    {
      "cell_type": "markdown",
      "source": [
        "7. Uma clínica analisa dados de pacientes e armazena o valor numérico da glicose em um banco de dados e gostaria de rotular os dados da seguinte maneira:\n",
        "\n",
        "*   Glicose igual ou inferior a 70: 'Hipoglicemia'\n",
        "*   Glicose entre 70 a 99: 'Normal'\n",
        "*   Glicose entre 100 e 125: 'Alterada'\n",
        "*   Glicose superior a 125: 'Diabetes'\n",
        "\n",
        "A clínica disponibilizou parte dos valores e sua tarefa é criar uma lista de tuplas usando list comprehension contendo o rótulo e o valor da glicemia em cada tupla.\n",
        "\n",
        "```\n",
        "glicemia = [129, 82, 60, 97, 101, 65, 62, 167, 87, 53, 58, 92, 66, 120, 109, 62, 86, 96, 103, 88, 155, 52, 89, 73]\n",
        "```\n",
        "\n",
        "\n",
        "\n"
      ],
      "metadata": {
        "id": "Fak7cQD28j3t"
      }
    },
    {
      "cell_type": "code",
      "source": [
        "glicemia = [129, 82, 60, 97, 101, 65, 62, 167, 87, 53, 58, 92, 66, 120, 109, 62, 86, 96, 103, 88, 155, 52, 89, 73]\n",
        "\n",
        "def glicemia_resultado(medicao):\n",
        "  if medicao <= 70:\n",
        "    return 'Hipoglicemia'\n",
        "  if 70 < medicao < 100:\n",
        "    return 'Normal'\n",
        "  if 100 < medicao < 126:\n",
        "    return 'Alterada'\n",
        "  if medicao > 126:\n",
        "    return 'Diabetes'\n",
        "\n",
        "tupla = [(i, glicemia_resultado(i)) for i in glicemia]\n",
        "print(tupla)"
      ],
      "metadata": {
        "colab": {
          "base_uri": "https://localhost:8080/"
        },
        "id": "qI_2wf5m-eSh",
        "outputId": "6753d32f-1183-420e-9f28-a2754d04de1e"
      },
      "execution_count": null,
      "outputs": [
        {
          "output_type": "stream",
          "name": "stdout",
          "text": [
            "[(129, 'Diabetes'), (82, 'Normal'), (60, 'Hipoglicemia'), (97, 'Normal'), (101, 'Alterada'), (65, 'Hipoglicemia'), (62, 'Hipoglicemia'), (167, 'Diabetes'), (87, 'Normal'), (53, 'Hipoglicemia'), (58, 'Hipoglicemia'), (92, 'Normal'), (66, 'Hipoglicemia'), (120, 'Alterada'), (109, 'Alterada'), (62, 'Hipoglicemia'), (86, 'Normal'), (96, 'Normal'), (103, 'Alterada'), (88, 'Normal'), (155, 'Diabetes'), (52, 'Hipoglicemia'), (89, 'Normal'), (73, 'Normal')]\n"
          ]
        }
      ]
    },
    {
      "cell_type": "code",
      "source": [
        "glicemia = [129, 82, 60, 97, 101, 65, 62, 167, 87, 53, 58, 92, 66, 120, 109, 62, 86, 96, 103, 88, 155, 52, 89, 73]\n",
        "rotulos = [('Hipoglicemia', glicose) if glicose <= 70 else ('Normal', glicose) if glicose < 100 else ('Alterada', glicose) if glicose < 125 else ('Diabetes', glicose) for glicose in glicemia]\n",
        "print(rotulos)"
      ],
      "metadata": {
        "colab": {
          "base_uri": "https://localhost:8080/"
        },
        "id": "j63ULlktBxN9",
        "outputId": "9ef73f8a-d72c-4ba6-dc18-33f0c9157ab8"
      },
      "execution_count": null,
      "outputs": [
        {
          "output_type": "stream",
          "name": "stdout",
          "text": [
            "[('Diabetes', 129), ('Normal', 82), ('Hipoglicemia', 60), ('Normal', 97), ('Alterada', 101), ('Hipoglicemia', 65), ('Hipoglicemia', 62), ('Diabetes', 167), ('Normal', 87), ('Hipoglicemia', 53), ('Hipoglicemia', 58), ('Normal', 92), ('Hipoglicemia', 66), ('Alterada', 120), ('Alterada', 109), ('Hipoglicemia', 62), ('Normal', 86), ('Normal', 96), ('Alterada', 103), ('Normal', 88), ('Diabetes', 155), ('Hipoglicemia', 52), ('Normal', 89), ('Normal', 73)]\n"
          ]
        }
      ]
    },
    {
      "cell_type": "markdown",
      "source": [
        "8. Um e-commerce possui as informações de id de venda, quantidade vendida e preço do produto divididos nas seguintes listas:\n",
        "\n",
        "```\n",
        "id = [0, 1, 2, 3, 4, 5, 6, 7, 8, 9]\n",
        "quantidade = [15, 12, 1, 15, 2, 11, 2, 12, 2, 4]\n",
        "preco = [93.0, 102.0, 18.0, 41.0, 122.0, 14.0, 71.0, 48.0, 14.0, 144.0]\n",
        "```\n",
        "O e-commerce precisa estruturar esses dados em uma tabela contendo o valor total da venda, que é obtida multiplicando a quantidade pelo preço unitário. Além disso, a tabela precisa conter um cabeçalho indicando as colunas: 'id', 'quantidade', 'preco' e 'total'.\n",
        "\n",
        "Crie uma lista de tuplas em que cada tupla tenha id, quantidade, preço e valor total, na qual a primeira tupla é o cabeçalho da tabela.\n"
      ],
      "metadata": {
        "id": "EZVy_ux4C7d0"
      }
    },
    {
      "cell_type": "code",
      "source": [
        "id = [0, 1, 2, 3, 4, 5, 6, 7, 8, 9]\n",
        "quantidade = [15, 12, 1, 15, 2, 11, 2, 12, 2, 4]\n",
        "preco = [93.0, 102.0, 18.0, 41.0, 122.0, 14.0, 71.0, 48.0, 14.0, 144.0]\n",
        "\n",
        "def total(qtd, preco):\n",
        "  return qtd * preco\n",
        "\n",
        "tabela = [(id[i], quantidade[i], preco[i], total(quantidade[i], preco[i])) for i in id]\n",
        "tabela_final = [('id', 'quantidade', 'preco', 'total')] + tabela\n",
        "tabela_final"
      ],
      "metadata": {
        "colab": {
          "base_uri": "https://localhost:8080/"
        },
        "id": "WsH_laLwF204",
        "outputId": "21acfc4a-8c9e-4a8b-ee3d-473d498c2495"
      },
      "execution_count": null,
      "outputs": [
        {
          "output_type": "execute_result",
          "data": {
            "text/plain": [
              "[('id', 'quantidade', 'preco', 'total'),\n",
              " (0, 15, 93.0, 1395.0),\n",
              " (1, 12, 102.0, 1224.0),\n",
              " (2, 1, 18.0, 18.0),\n",
              " (3, 15, 41.0, 615.0),\n",
              " (4, 2, 122.0, 244.0),\n",
              " (5, 11, 14.0, 154.0),\n",
              " (6, 2, 71.0, 142.0),\n",
              " (7, 12, 48.0, 576.0),\n",
              " (8, 2, 14.0, 28.0),\n",
              " (9, 4, 144.0, 576.0)]"
            ]
          },
          "metadata": {},
          "execution_count": 138
        }
      ]
    },
    {
      "cell_type": "code",
      "source": [
        "id = [0, 1, 2, 3, 4, 5, 6, 7, 8, 9]\n",
        "quantidade = [15, 12, 1, 15, 2, 11, 2, 12, 2, 4]\n",
        "preco = [93.0, 102.0, 18.0, 41.0, 122.0, 14.0, 71.0, 48.0, 14.0, 144.0]\n",
        "tabela = [('id', 'quantidade', 'preco', 'total')]\n",
        "tabela += [(id[i], quantidade[i], preco[i], quantidade[i]*preco[i]) for i in range(len(id))]\n",
        "tabela"
      ],
      "metadata": {
        "colab": {
          "base_uri": "https://localhost:8080/"
        },
        "id": "umc9ZguCTFFZ",
        "outputId": "b09de5c9-7c7b-491e-ccb5-aa38de4bb07c"
      },
      "execution_count": null,
      "outputs": [
        {
          "output_type": "execute_result",
          "data": {
            "text/plain": [
              "[('id', 'quantidade', 'preco', 'total'),\n",
              " (0, 15, 93.0, 1395.0),\n",
              " (1, 12, 102.0, 1224.0),\n",
              " (2, 1, 18.0, 18.0),\n",
              " (3, 15, 41.0, 615.0),\n",
              " (4, 2, 122.0, 244.0),\n",
              " (5, 11, 14.0, 154.0),\n",
              " (6, 2, 71.0, 142.0),\n",
              " (7, 12, 48.0, 576.0),\n",
              " (8, 2, 14.0, 28.0),\n",
              " (9, 4, 144.0, 576.0)]"
            ]
          },
          "metadata": {},
          "execution_count": 136
        }
      ]
    },
    {
      "cell_type": "markdown",
      "source": [
        "9. Uma empresa possui filiais espalhadas nos Estados da região Sudeste do Brasil. Em uma das tabelas de cadastro das filiais há uma coluna contendo a informação de qual é o Estado a que pertence: `estados = ['SP', 'ES', 'MG', 'MG', 'SP', 'MG', 'ES', 'ES', 'ES', 'SP', 'SP', 'MG', 'ES', 'SP', 'RJ', 'MG', 'RJ', 'SP', 'MG', 'SP', 'ES', 'SP', 'MG']`.\n",
        "\n",
        "A empresa sempre está abrindo novas filiais, de modo que a tabela está constantemente recebendo novos registros e o gestor gostaria de possuir a informação atualizada da quantidade de filiais em cada Estado.\n",
        "\n",
        "A partir da coluna com a informação dos Estados, crie um dicionário usando dict comprehension com a chave sendo o nome de um Estado e o valor sendo a contagem de vezes em que o Estado aparece na lista.\n",
        "\n",
        "> Dica: Você pode fazer um passo intermediário para gerar uma lista de listas em que cada uma das listas possui o nome de apenas um Estado com valores repetidos.\n",
        "\n"
      ],
      "metadata": {
        "id": "jPmz0p0wUQqW"
      }
    },
    {
      "cell_type": "code",
      "source": [
        "estados = ['SP', 'ES', 'MG', 'MG', 'SP', 'MG', 'ES', 'ES', 'ES', 'SP', 'SP', 'MG', 'ES', 'SP', 'RJ', 'MG', 'RJ', 'SP', 'MG', 'SP', 'ES', 'SP', 'MG']\n",
        "\n",
        "lista = {estado: estados.count(estado) for estado in set(estados)}\n",
        "lista"
      ],
      "metadata": {
        "colab": {
          "base_uri": "https://localhost:8080/"
        },
        "id": "DlxFXnUBUaEG",
        "outputId": "e2fdd750-92e4-4bf8-f6c9-a2f81c401d00"
      },
      "execution_count": null,
      "outputs": [
        {
          "output_type": "execute_result",
          "data": {
            "text/plain": [
              "{'RJ': 2, 'ES': 6, 'MG': 7, 'SP': 8}"
            ]
          },
          "metadata": {},
          "execution_count": 185
        }
      ]
    },
    {
      "cell_type": "markdown",
      "source": [
        "10. Nessa mesma tabela de cadastro de filiais, há uma coluna com as informações da quantidade de pessoas colaboradoras e o(a) gestor(a) gostaria de ter um agrupamento da soma dessas pessoas para cada estado. As informações contidas na tabela são:\n",
        "\n",
        "```\n",
        "funcionarios = [('SP', 16), ('ES', 8), ('MG', 9), ('MG', 6), ('SP', 10), ('MG', 4), ('ES',9), ('ES', 7), ('ES', 12), ('SP', 7), ('SP', 11), ('MG',8), ('ES',8), ('SP',9), ('RJ', 13), ('MG', 5), ('RJ', 9), ('SP', 12), ('MG', 10), ('SP', 7), ('ES', 14), ('SP', 10), ('MG', 12)]\n",
        "```\n",
        "\n",
        "A partir da lista de tuplas, crie um dicionário em que as chaves são os nomes dos Estados únicos e os valores são as listas com o número de colaboradores(as) referentes ao Estado. Crie também um dicionário em que as chaves são os nomes dos Estados e os valores são a soma de colaboradores(as) por Estado.\n",
        "\n",
        "> Dica: Você pode fazer um passo intermediário para gerar uma lista de listas em que cada uma das listas possui apenas os valores numéricos de funcionários(as) de cada Estado.\n",
        "\n",
        "\n",
        "\n"
      ],
      "metadata": {
        "id": "hxsJptwoiMX0"
      }
    },
    {
      "cell_type": "code",
      "source": [
        "funcionarios = [('SP', 16), ('ES', 8), ('MG', 9), ('MG', 6), ('SP', 10), ('MG', 4), ('ES',9), ('ES', 7), ('ES', 12), ('SP', 7), ('SP', 11), ('MG',8), ('ES',8), ('SP',9), ('RJ', 13), ('MG', 5), ('RJ', 9), ('SP', 12), ('MG', 10), ('SP', 7), ('ES', 14), ('SP', 10), ('MG', 12)]\n",
        "estados = list(set([estados for estados, qtd in funcionarios]))\n",
        "\n",
        "agrupamento = {estado: [] for estado, qtd in funcionarios}\n",
        "\n",
        "for estado, qtd in funcionarios:\n",
        "  agrupamento[estado].append(qtd)\n",
        "\n",
        "soma = {estado: sum(valores) for estado, valores in agrupamento.items()}\n",
        "\n",
        "print(agrupamento, soma)"
      ],
      "metadata": {
        "colab": {
          "base_uri": "https://localhost:8080/"
        },
        "id": "NN_cF9SQiw7L",
        "outputId": "e404028a-bfe6-45b1-a505-1142c9dbc6f3"
      },
      "execution_count": null,
      "outputs": [
        {
          "output_type": "stream",
          "name": "stdout",
          "text": [
            "{'SP': [16, 10, 7, 11, 9, 12, 7, 10], 'ES': [8, 9, 7, 12, 8, 14], 'MG': [9, 6, 4, 8, 5, 10, 12], 'RJ': [13, 9]} {'SP': 82, 'ES': 58, 'MG': 54, 'RJ': 22}\n"
          ]
        }
      ]
    },
    {
      "cell_type": "code",
      "source": [
        "estados_unicos = list(set([tupla[0] for tupla in funcionarios]))\n",
        "\n",
        "lista_de_listas = []\n",
        "for estado in estados_unicos:\n",
        "    lista = [tupla[1] for tupla in funcionarios if tupla[0] == estado]\n",
        "    lista_de_listas.append(lista)\n",
        "print(lista_de_listas)\n",
        "\n",
        "agrupamento_por_estado = {estados_unicos[i]: lista_de_listas[i] for i in range(len(estados_unicos))}\n",
        "print(agrupamento_por_estado)\n",
        "\n",
        "soma_por_estado = {estados_unicos[i]: sum(lista_de_listas[i]) for i in range(len(estados_unicos))}\n",
        "print(soma_por_estado)"
      ],
      "metadata": {
        "colab": {
          "base_uri": "https://localhost:8080/"
        },
        "id": "kaTnbUsbaXiJ",
        "outputId": "57efdfca-9c0a-4986-bba8-c71d7e187abc"
      },
      "execution_count": null,
      "outputs": [
        {
          "output_type": "stream",
          "name": "stdout",
          "text": [
            "[[16, 10, 7, 11, 9, 12, 7, 10], [13, 9], [8, 9, 7, 12, 8, 14], [9, 6, 4, 8, 5, 10, 12]]\n",
            "{'SP': [16, 10, 7, 11, 9, 12, 7, 10], 'RJ': [13, 9], 'ES': [8, 9, 7, 12, 8, 14], 'MG': [9, 6, 4, 8, 5, 10, 12]}\n",
            "{'SP': 82, 'RJ': 22, 'ES': 58, 'MG': 54}\n"
          ]
        }
      ]
    },
    {
      "cell_type": "markdown",
      "source": [
        "### Revisão com chatgpt"
      ],
      "metadata": {
        "id": "CA1Xl9h-xxzJ"
      }
    },
    {
      "cell_type": "markdown",
      "source": [
        "🔹 1. Lista de Listas\n",
        "\n",
        "Exercício: Você tem uma lista de notas de 3 alunos, onde cada aluno tem 3 notas.\n",
        "\n",
        "```\n",
        "notas = [\n",
        "    [7, 8, 6],\n",
        "    [9, 10, 8],\n",
        "    [5, 7, 6]\n",
        "]\n",
        "```\n",
        "Tarefa:\n",
        "Imprima a média das notas de cada aluno (1 por linha).\n"
      ],
      "metadata": {
        "id": "n-hoaz5Sx2NR"
      }
    },
    {
      "cell_type": "code",
      "source": [
        "notas = [\n",
        "    [7, 8, 6],\n",
        "    [9, 10, 8],\n",
        "    [5, 7, 6]\n",
        "]\n",
        "\n",
        "medias = [sum(nota)/len(nota) for nota in notas]\n",
        "\n",
        "medias"
      ],
      "metadata": {
        "colab": {
          "base_uri": "https://localhost:8080/"
        },
        "id": "lrQIzawgx_TI",
        "outputId": "a20906b9-8a78-4471-bc80-093e92f5dd4b"
      },
      "execution_count": null,
      "outputs": [
        {
          "output_type": "execute_result",
          "data": {
            "text/plain": [
              "[7.0, 9.0, 6.0]"
            ]
          },
          "metadata": {},
          "execution_count": 5
        }
      ]
    },
    {
      "cell_type": "markdown",
      "source": [
        "🔹 2. Lista de Tuplas\n",
        "Exercício:\n",
        "Você tem uma lista de tuplas representando produtos e preços:\n",
        "\n",
        "```\n",
        "produtos = [(\"arroz\", 5.5), (\"feijão\", 7.2), (\"macarrão\", 4.0)]\n",
        "```\n",
        "\n",
        "Tarefa:\n",
        "Crie uma nova lista contendo apenas os nomes dos produtos que custam mais de R$ 5,00.\n",
        "\n"
      ],
      "metadata": {
        "id": "aTSffjrCyCT4"
      }
    },
    {
      "cell_type": "code",
      "source": [
        "produtos = [(\"arroz\", 5.5), (\"feijão\", 7.2), (\"macarrão\", 4.0)]\n",
        "\n",
        "custam_mais = [nomes[0] for nomes in produtos if nomes[1] > 5]\n",
        "custam_mais"
      ],
      "metadata": {
        "colab": {
          "base_uri": "https://localhost:8080/"
        },
        "id": "b7JTSC_7yNDJ",
        "outputId": "b3fc55be-0d07-4620-bbeb-864705d13b54"
      },
      "execution_count": null,
      "outputs": [
        {
          "output_type": "execute_result",
          "data": {
            "text/plain": [
              "['arroz', 'feijão']"
            ]
          },
          "metadata": {},
          "execution_count": 9
        }
      ]
    },
    {
      "cell_type": "code",
      "source": [
        "produtos = [(\"arroz\", 5.5), (\"feijão\", 7.2), (\"macarrão\", 4.0)]\n",
        "[nome for nome, preco in produtos if preco > 5]"
      ],
      "metadata": {
        "colab": {
          "base_uri": "https://localhost:8080/"
        },
        "id": "l37njJU42jdR",
        "outputId": "67de4b57-d199-44d2-ee03-901dd208b5a5"
      },
      "execution_count": null,
      "outputs": [
        {
          "output_type": "execute_result",
          "data": {
            "text/plain": [
              "['arroz', 'feijão']"
            ]
          },
          "metadata": {},
          "execution_count": 11
        }
      ]
    },
    {
      "cell_type": "markdown",
      "source": [
        "🔹 3. List Comprehension simples\n",
        "Exercício:\n",
        "Crie uma lista com os quadrados dos números de 1 a 10 usando list comprehension."
      ],
      "metadata": {
        "id": "81BHxX1NyRHH"
      }
    },
    {
      "cell_type": "code",
      "source": [
        "quadrados = [i**2 for i in range(1, 11)]\n",
        "quadrados"
      ],
      "metadata": {
        "colab": {
          "base_uri": "https://localhost:8080/"
        },
        "id": "7HSe4PJxyVHv",
        "outputId": "74e3c439-fb45-42bf-e07d-82e2840980c5"
      },
      "execution_count": null,
      "outputs": [
        {
          "output_type": "execute_result",
          "data": {
            "text/plain": [
              "[1, 4, 9, 16, 25, 36, 49, 64, 81, 100]"
            ]
          },
          "metadata": {},
          "execution_count": 13
        }
      ]
    },
    {
      "cell_type": "markdown",
      "source": [
        "🔹 4. List Comprehension com if-else\n",
        "Exercício:\n",
        "Crie uma lista com os números de 1 a 10, mas que contenha \"par\" se o número for par e \"ímpar\" se for ímpar.\n",
        "Resultado esperado:\n",
        "\n",
        "```\n",
        "[\"ímpar\", \"par\", \"ímpar\", \"par\", ..., \"par\"]\n",
        "```\n",
        "\n"
      ],
      "metadata": {
        "id": "IjQv20dnyVcH"
      }
    },
    {
      "cell_type": "code",
      "source": [
        "divisibilidade = ['par' if i % 2 == 0 else 'ímpar' for i in range(1, 11)]\n",
        "divisibilidade"
      ],
      "metadata": {
        "colab": {
          "base_uri": "https://localhost:8080/"
        },
        "id": "GWfzFPQFyd6v",
        "outputId": "2352d673-7bc0-475e-dcaa-31550b67d8b6"
      },
      "execution_count": null,
      "outputs": [
        {
          "output_type": "execute_result",
          "data": {
            "text/plain": [
              "['ímpar',\n",
              " 'par',\n",
              " 'ímpar',\n",
              " 'par',\n",
              " 'ímpar',\n",
              " 'par',\n",
              " 'ímpar',\n",
              " 'par',\n",
              " 'ímpar',\n",
              " 'par']"
            ]
          },
          "metadata": {},
          "execution_count": 15
        }
      ]
    },
    {
      "cell_type": "markdown",
      "source": [
        "🔹 5. Dict Comprehension com tuplas\n",
        "Exercício:\n",
        "Você tem esta lista de tuplas com nomes e idades:\n",
        "\n",
        "```\n",
        "pessoas = [(\"Ana\", 20), (\"Bruno\", 17), (\"Clara\", 25), (\"Davi\", 16)]\n",
        "```\n",
        "\n",
        "Tarefa:\n",
        "Crie um dicionário com apenas as pessoas que são maiores de idade (18+), onde a chave é o nome e o valor é a idade.\n",
        "\n"
      ],
      "metadata": {
        "id": "fBBozV4iyZef"
      }
    },
    {
      "cell_type": "code",
      "source": [
        "pessoas = [(\"Ana\", 20), (\"Bruno\", 17), (\"Clara\", 25), (\"Davi\", 16)]\n",
        "\n",
        "maior_idade = {nome: idade for nome, idade in pessoas if idade >= 18}\n",
        "\n",
        "maior_idade"
      ],
      "metadata": {
        "colab": {
          "base_uri": "https://localhost:8080/"
        },
        "id": "2luTeo34yc8A",
        "outputId": "321aba25-c5bc-47eb-cd9a-809f6de5fecd"
      },
      "execution_count": null,
      "outputs": [
        {
          "output_type": "execute_result",
          "data": {
            "text/plain": [
              "{'Ana': 20, 'Clara': 25}"
            ]
          },
          "metadata": {},
          "execution_count": 16
        }
      ]
    },
    {
      "cell_type": "markdown",
      "source": [
        "🔹 6 Exercício: Agrupando Funcionários por Estado e Calculando a Média de Colaboradores\n",
        "Você tem uma lista de tuplas, onde cada tupla contém o nome do estado e a quantidade de funcionários de um determinado estado:\n",
        "\n",
        "```\n",
        "funcionarios = [\n",
        "    ('SP', 16), ('ES', 8), ('MG', 9), ('MG', 6),\n",
        "    ('SP', 10), ('MG', 4), ('ES', 9), ('ES', 7),\n",
        "    ('ES', 12), ('SP', 7), ('SP', 11), ('MG', 8),\n",
        "    ('ES', 8), ('SP', 9), ('RJ', 13), ('MG', 5),\n",
        "    ('RJ', 9), ('SP', 12), ('MG', 10), ('SP', 7),\n",
        "    ('ES', 14), ('SP', 10), ('MG', 12)\n",
        "]\n",
        "```\n",
        "Tarefa 1:\n",
        "1. Agrupe os funcionários por estado, criando um dicionário onde a chave é o estado e o valor é uma lista com a quantidade de funcionários daquele estado (exemplo: {'SP': [16, 10, 7], 'ES': [8, 9, 7], ...}).\n",
        "\n",
        "Tarefa 2:\n",
        "2. Calcule a média de funcionários para cada estado. Para isso, você vai precisar iterar sobre o dicionário, calcular a soma dos valores de cada estado e depois dividir pela quantidade de elementos (quantos registros de funcionários foram associados ao estado).\n",
        "\n",
        "Tarefa 3 (Opcional):\n",
        "3. Filtre os estados que têm mais de 5 funcionários em média. Crie um novo dicionário que contenha apenas os estados com a média superior a 5 funcionários.\n",
        "\n",
        "> Dicas e Instruções:\n",
        "\n",
        "\n",
        "*   Use compreensões de dicionários ou listas para criar as estruturas necessárias.\n",
        "*   Não se esqueça de usar funções como sum() para somar os valores e len() para contar a quantidade de elementos.\n",
        "*   Lembre-se de como organizar o fluxo: primeiro agrupe os dados, depois calcule as médias, e finalmente filtre os estados."
      ],
      "metadata": {
        "id": "Of4QtL7HbNIY"
      }
    },
    {
      "cell_type": "code",
      "source": [
        "funcionarios = [\n",
        "    ('SP', 16), ('ES', 8), ('MG', 9), ('MG', 6),\n",
        "    ('SP', 10), ('MG', 4), ('ES', 9), ('ES', 7),\n",
        "    ('ES', 12), ('SP', 7), ('SP', 11), ('MG', 8),\n",
        "    ('ES', 8), ('SP', 9), ('RJ', 13), ('MG', 5),\n",
        "    ('RJ', 9), ('SP', 12), ('MG', 10), ('SP', 7),\n",
        "    ('ES', 14), ('SP', 10), ('MG', 12)\n",
        "]\n",
        "\n",
        "agrupamento = {estado: [] for estado, qtd in funcionarios}\n",
        "\n",
        "for estado, qtd in funcionarios:\n",
        "  agrupamento[estado].append(qtd)\n",
        "print(agrupamento)\n",
        "\n",
        "medias = {estado: round(sum(qtd)/len(qtd), 2) for estado, qtd in agrupamento.items()}\n",
        "print(medias)\n",
        "\n",
        "mais_que_8 = {estado: qtd for estado, qtd in medias.items() if qtd > 8}\n",
        "print(mais_que_8)\n"
      ],
      "metadata": {
        "colab": {
          "base_uri": "https://localhost:8080/"
        },
        "id": "ttTDawFBbxVm",
        "outputId": "daee54e1-4e5b-4b29-e9ef-e06f6add089f"
      },
      "execution_count": null,
      "outputs": [
        {
          "output_type": "stream",
          "name": "stdout",
          "text": [
            "{'SP': [16, 10, 7, 11, 9, 12, 7, 10], 'ES': [8, 9, 7, 12, 8, 14], 'MG': [9, 6, 4, 8, 5, 10, 12], 'RJ': [13, 9]}\n",
            "{'SP': 10.25, 'ES': 9.67, 'MG': 7.71, 'RJ': 11.0}\n",
            "{'SP': 10.25, 'ES': 9.67, 'RJ': 11.0}\n"
          ]
        }
      ]
    },
    {
      "cell_type": "markdown",
      "source": [
        "🔹 7 Exercício: Manipulação de Vendas de Loja\n",
        "Você tem uma lista de tuplas que representa vendas de uma loja. Cada tupla contém o nome de um vendedor, o valor da venda e a data da venda:\n",
        "\n",
        "```\n",
        "vendas = [\n",
        "    ('João', 150.00, '2025-05-01'),\n",
        "    ('Maria', 200.00, '2025-05-02'),\n",
        "    ('José', 120.00, '2025-05-01'),\n",
        "    ('João', 180.00, '2025-05-02'),\n",
        "    ('Maria', 160.00, '2025-05-03'),\n",
        "    ('José', 210.00, '2025-05-02'),\n",
        "    ('João', 130.00, '2025-05-03'),\n",
        "    ('Maria', 190.00, '2025-05-01')\n",
        "]\n",
        "```\n",
        "Parte 1: Crie um dicionário onde a chave é o nome do vendedor e o valor é uma lista com todos os valores das vendas feitas por esse vendedor. Use dict comprehension.\n",
        "\n",
        "Parte 2: Com base no dicionário gerado, calcule o total de vendas de cada vendedor.\n",
        "\n",
        "Parte 3: Crie uma lista de tuplas contendo o nome do vendedor e o total de vendas. Ordene a lista pelo total de vendas de forma decrescente.\n",
        "\n",
        "Parte 4 (opcional): A partir da lista gerada na parte 3, crie um gráfico de barras usando a biblioteca matplotlib para mostrar as vendas totais de cada vendedor.\n"
      ],
      "metadata": {
        "id": "0hLKrMLgfxEw"
      }
    },
    {
      "cell_type": "code",
      "source": [
        "vendas = [\n",
        "    ('João', 150.00, '2025-05-01'),\n",
        "    ('Maria', 200.00, '2025-05-02'),\n",
        "    ('José', 120.00, '2025-05-01'),\n",
        "    ('João', 180.00, '2025-05-02'),\n",
        "    ('Maria', 160.00, '2025-05-03'),\n",
        "    ('José', 210.00, '2025-05-02'),\n",
        "    ('João', 130.00, '2025-05-03'),\n",
        "    ('Maria', 190.00, '2025-05-01')\n",
        "]\n",
        "\n",
        "dic = {vendedor: [] for vendedor, valor, data in vendas}\n",
        "\n",
        "for vendedor, valor, data in vendas:\n",
        "  dic[vendedor].append(valor)\n",
        "\n",
        "print(dic)\n",
        "\n",
        "soma = {vendedor: sum(valor) for vendedor, valor in dic.items()}\n",
        "print(soma)\n",
        "\n",
        "tupla = list(soma.items())\n",
        "tupla.sort(key=lambda tupla: tupla[1], reverse=True)\n",
        "tupla = tuple(tupla)\n",
        "print(tupla)\n",
        "\n",
        "\n",
        "import matplotlib.pyplot as plt\n",
        "\n",
        "# Prepare os dados para o gráfico\n",
        "vendedores = [tupla[0] for tupla in tupla]  # Vendedores\n",
        "totais_vendas = [tupla[1] for tupla in tupla]  # Vendas totais\n",
        "\n",
        "# Crie o gráfico de barras\n",
        "plt.bar(vendedores, totais_vendas)\n",
        "\n",
        "# Adicione título e rótulos aos eixos\n",
        "plt.title('Total de Vendas por Vendedor')\n",
        "plt.xlabel('Vendedores')\n",
        "plt.ylabel('Total de Vendas')\n",
        "\n",
        "# Exiba o gráfico\n",
        "plt.show()\n"
      ],
      "metadata": {
        "colab": {
          "base_uri": "https://localhost:8080/",
          "height": 524
        },
        "id": "7clgchFuf7pG",
        "outputId": "7267c9aa-37f0-4e70-a751-1dee13f6180f"
      },
      "execution_count": null,
      "outputs": [
        {
          "output_type": "stream",
          "name": "stdout",
          "text": [
            "{'João': [150.0, 180.0, 130.0], 'Maria': [200.0, 160.0, 190.0], 'José': [120.0, 210.0]}\n",
            "{'João': 460.0, 'Maria': 550.0, 'José': 330.0}\n",
            "(('Maria', 550.0), ('João', 460.0), ('José', 330.0))\n"
          ]
        },
        {
          "output_type": "display_data",
          "data": {
            "text/plain": [
              "<Figure size 640x480 with 1 Axes>"
            ],
            "image/png": "[encoded data removed]"
          },
          "metadata": {}
        }
      ]
    },
    {
      "cell_type": "markdown",
      "source": [
        "##4. LIDANDO COM EXCEÇÕES\n",
        "---"
      ],
      "metadata": {
        "id": "RxKC5WVoCYp3"
      }
    },
    {
      "cell_type": "markdown",
      "source": [
        "Podemos notar em nosso caminho até aqui a existência de alguns erros e exceções na execução de algum comando. Como uma pessoa cientista de dados ou programador, você precisará estar atento a essas situações para evitar bugs ou problemas em seus códigos e análises que possam afetar a experiência tanto do usuário quanto a eficiência da sua análise.\n",
        "\n",
        "Existem basicamente duas formas distintas de erros: os **erros de sintaxe** e as **exceções**.\n",
        "\n",
        "Exceções são erros detectados durante a execução e que quebram o fluxo do programa encerrando-o caso não sejam tratadas.  \n",
        "\n",
        "Vamos aprender a identificar e tratar algumas das exceções aqui, mas é sempre importante mergulhar na documentação para pesquisar e verificar quais se enquadram nos seus projetos.\n",
        "\n",
        "**Documentação sobre erros e exceções:** https://docs.python.org/3/tutorial/errors.html"
      ],
      "metadata": {
        "id": "MzOZ_0M3CU1x"
      }
    },
    {
      "cell_type": "markdown",
      "source": [
        "## 4.1 Tratando Exceções\n",
        "\n",
        "O tratamento das exceções contribui estabelecendo um fluxo alternativo para a execução do código evitando a interrupção dos processos inesperadamente.\n",
        "\n",
        "Existe uma série de exceções e a partir do comportamento que queremos e dos erros que queremos tratar é possível construir um caminho para o usuário ou fornecer mais detalhes sobre aquela exceção.\n",
        "\n",
        "- Hierarquia das Exceções (https://docs.python.org/3/library/exceptions.html#exception-hierarchy)"
      ],
      "metadata": {
        "id": "x3E66krBST7K"
      }
    },
    {
      "cell_type": "markdown",
      "source": [
        "### Try ... Except\n",
        "\n",
        "```python\n",
        "try:\n",
        "  # código a ser executado. Caso uma exceção seja lançada, pare imediatamente\n",
        "except <nome_da_excecao as e>:\n",
        "  # Se uma exceção for lançada no try, rode esse código, senão pule esta etapa\n",
        "```"
      ],
      "metadata": {
        "id": "h9lj8Wfk__cl"
      }
    },
    {
      "cell_type": "markdown",
      "source": [
        "#### **Situação 12:**\n",
        "\n",
        "Você criou um código que lê um dicionário com as notas dos estudantes e quis retornar a lista de notas de um estudante.\n",
        "\n",
        "Caso o(a) estudante não esteja matriculado(a) na turma devemos tratar a exceção para aparecer a mensagem \"Estudante não matriculado(a) na turma\".\n",
        "\n",
        "Vamos trabalhar nesse exemplo com a exceção **Key Error** que interromperá o processo desse pedaço do código.\n",
        "\n",
        "**Vamos testar esse primeiro tratamento?**"
      ],
      "metadata": {
        "id": "miwzhPNdD8Ty"
      }
    },
    {
      "cell_type": "code",
      "source": [
        "notas = {'João': [8.0, 9.0, 10.0], 'Maria': [9.0, 7.0, 6.0], 'José': [3.4, 7.0, 8.0], 'Cláudia': [5.5, 6.6, 8.0],\n",
        " 'Ana': [6.0, 10.0, 9.5], 'Joaquim': [5.5, 7.5, 9.0], 'Júlia': [6.0, 8.0, 7.0], 'Pedro': [3.0, 4.0, 6.0]}"
      ],
      "metadata": {
        "id": "PkMmeYxaDcIF"
      },
      "execution_count": null,
      "outputs": []
    },
    {
      "cell_type": "code",
      "source": [
        "try:\n",
        "  nome = input('Digite nome estudante: ').lower().title()\n",
        "  print(notas[nome])\n",
        "except KeyError as erro:\n",
        "  print(type(erro), f'-> {nome} não cadastrado(a) na turma.')"
      ],
      "metadata": {
        "id": "AudrLS-BGGEy",
        "colab": {
          "base_uri": "https://localhost:8080/"
        },
        "outputId": "812ff540-08c5-498f-c0d0-db141d7df4ab"
      },
      "execution_count": null,
      "outputs": [
        {
          "output_type": "stream",
          "name": "stdout",
          "text": [
            "Digite nome estudante: filipe\n",
            "<class 'KeyError'> -> Filipe não cadastrado(a) na turma.\n"
          ]
        }
      ]
    },
    {
      "cell_type": "markdown",
      "source": [
        "### Adicionando o Else\n",
        "\n",
        "```python\n",
        "try:\n",
        "  # código a ser executado. Caso uma exceção seja lançada, pare imediatamente\n",
        "except:\n",
        "  # Se uma exceção for lançada no try, rode esse código, senão pule esta etapa\n",
        "else:\n",
        "  # Se não houver uma exeção lançada pelo try, rode essa parte\n",
        "```"
      ],
      "metadata": {
        "id": "hKhKzgQoBHLb"
      }
    },
    {
      "cell_type": "markdown",
      "source": [
        "#### **Situação 13:**\n",
        "\n",
        "Você criou um código que lê um dicionário com as notas dos estudantes e quis retornar a lista de notas de um estudante.\n",
        "\n",
        "Caso o(a) estudante não esteja matriculado(a) na classe devemos tratar a exceção para aparecer a mensagem \"Estudante não matriculado(a) na turma\" e se a exceção não for lançada devemos exibir a lista com as notas do(a) estudante.\n",
        "\n",
        "Vamos trabalhar nesse exemplo com a exceção **Key Error** que interromperá o processo desse pedaço do código.\n",
        "\n",
        "**Vamos testar esse tratamento?**"
      ],
      "metadata": {
        "id": "USN3SA2tMjL0"
      }
    },
    {
      "cell_type": "code",
      "source": [
        "notas = {'João': [8.0, 9.0, 10.0], 'Maria': [9.0, 7.0, 6.0], 'José': [3.4, 7.0, 8.0], 'Cláudia': [5.5, 6.6, 8.0],\n",
        " 'Ana': [6.0, 10.0, 9.5], 'Joaquim': [5.5, 7.5, 9.0], 'Júlia': [6.0, 8.0, 7.0], 'Pedro': [3.0, 4.0, 6.0]}"
      ],
      "metadata": {
        "id": "zCdjBCDFLE_6"
      },
      "execution_count": null,
      "outputs": []
    },
    {
      "cell_type": "code",
      "source": [
        "try:\n",
        "    nome = input('Digite nome estudante: ').lower().title()\n",
        "    nota = notas[nome]\n",
        "except KeyError as erro:\n",
        "    print(type(erro), f'-> {nome} não matriculado(a) na turma.')\n",
        "else:\n",
        "    print(f'As notas de {nome} são: {nota}')"
      ],
      "metadata": {
        "id": "NS4vABJPDcFN",
        "colab": {
          "base_uri": "https://localhost:8080/"
        },
        "outputId": "a9e17967-4669-4c42-bf9e-d250c2a265a0"
      },
      "execution_count": null,
      "outputs": [
        {
          "output_type": "stream",
          "name": "stdout",
          "text": [
            "Digite nome estudante: pedro\n",
            "As notas de Pedro são: [3.0, 4.0, 6.0]\n"
          ]
        }
      ]
    },
    {
      "cell_type": "markdown",
      "source": [
        "### Adicionando o finally\n",
        "\n",
        "```python\n",
        "try:\n",
        "  # código a ser executado. Caso uma exceção seja lançada, pare imediatamente\n",
        "except:\n",
        "  # Se uma exceção for lançada no try, rode esse código, senão pule esta etapa\n",
        "else:\n",
        "  # Se não houver uma exeção lançada pelo try, rode essa parte\n",
        "finally:\n",
        "  # Rode essa parte (com ou sem exceção)\n",
        "```"
      ],
      "metadata": {
        "id": "Dw_efTlbBhll"
      }
    },
    {
      "cell_type": "markdown",
      "source": [
        "#### **Situação 14:**\n",
        "\n",
        "Você criou um código que lê um dicionário com as notas dos estudantes e quis retornar a lista de notas de um estudante.\n",
        "\n",
        "Caso o(a) estudante não esteja matriculado(a) na classe devemos tratar a exceção para aparecer a mensagem \"Estudante não matriculado(a) na turma\" e se a exceção não for lançada devemos exibir a lista com as notas do(a) estudante. Um texto avisando que \"A consulta foi encerrada!\" deve ser exibido com ou sem a exceção ser lançada.\n",
        "\n",
        "Vamos trabalhar nesse exemplo com a exceção **Key Error** que interromperá o processo desse pedaço do código.\n",
        "\n",
        "**Vamos testar esse tratamento?**"
      ],
      "metadata": {
        "id": "jGtFVx5GdnsS"
      }
    },
    {
      "cell_type": "code",
      "source": [
        "notas = {'João': [8.0, 9.0, 10.0], 'Maria': [9.0, 7.0, 6.0], 'José': [3.4, 7.0, 8.0], 'Cláudia': [5.5, 6.6, 8.0],\n",
        " 'Ana': [6.0, 10.0, 9.5], 'Joaquim': [5.5, 7.5, 9.0], 'Júlia': [6.0, 8.0, 7.0], 'Pedro': [3.0, 4.0, 6.0]}"
      ],
      "metadata": {
        "id": "uOLFoYweLN9W"
      },
      "execution_count": null,
      "outputs": []
    },
    {
      "cell_type": "code",
      "source": [
        "try:\n",
        "  nome = input('Digite nome estudante: ').lower().title()\n",
        "  nota = notas[nome]\n",
        "except KeyError as erro:\n",
        "  print(type(erro), f'-> {nome} não matriculado(a) na turma.')\n",
        "else:\n",
        "  print(f'As notas de {nome} são: {nota}')\n",
        "finally:\n",
        "  print('A consulta foi encerrada!')"
      ],
      "metadata": {
        "id": "U8QCogXhBi8C",
        "colab": {
          "base_uri": "https://localhost:8080/"
        },
        "outputId": "58514d0f-ac63-4c8f-97e1-28a722fb3736"
      },
      "execution_count": null,
      "outputs": [
        {
          "output_type": "stream",
          "name": "stdout",
          "text": [
            "Digite nome estudante: filipe\n",
            "<class 'KeyError'> -> Filipe não matriculado(a) na turma.\n",
            "A consulta foi encerrada!\n"
          ]
        }
      ]
    },
    {
      "cell_type": "markdown",
      "source": [
        "###Onde está o erro?\n",
        "\n",
        "```\n",
        "funcionarios = {'José': 2000, 'Ana': 2200,'João': 2500, 'Maria': 3800}\n",
        "\n",
        "```\n",
        "\n"
      ],
      "metadata": {
        "id": "w5jiVeuR4eg_"
      }
    },
    {
      "cell_type": "code",
      "source": [
        "funcionarios = {'José': 2000, 'Ana': 2200,'João': 2500, 'Maria': 3800}"
      ],
      "metadata": {
        "id": "ILwmWmc84mve"
      },
      "execution_count": null,
      "outputs": []
    },
    {
      "cell_type": "code",
      "source": [
        "try:\n",
        "  aumento = list(map(lambda x: x[1] * 1.1, funcionarios.values()))\n",
        "except Exception as e:\n",
        "  print(type(e), f'Erro: {e}')\n",
        "else:\n",
        "  print(aumento)\n",
        "finally:\n",
        "  print(\"Processo concluido!\")"
      ],
      "metadata": {
        "colab": {
          "base_uri": "https://localhost:8080/"
        },
        "id": "cA2ZRJFz4t8H",
        "outputId": "80e42f53-c1cf-4dcc-c8f0-dd0d92d8fac0"
      },
      "execution_count": null,
      "outputs": [
        {
          "output_type": "stream",
          "name": "stdout",
          "text": [
            "<class 'TypeError'> Erro: 'int' object is not subscriptable\n",
            "Processo concluido!\n"
          ]
        }
      ]
    },
    {
      "cell_type": "markdown",
      "source": [
        "## 4.2 Raise\n",
        "\n",
        "Uma outra forma de trabalhar com as exceções em seu código, é criar as suas próprias exceções para determinados comportamentos que deseja em seu código.\n",
        "\n",
        "Para isso, utilizamos a palavra-chave `raise` junto ao tipo de exceção que deseja lançar e uma mensagem a ser exibida.   "
      ],
      "metadata": {
        "id": "HdjllLBpST_2"
      }
    },
    {
      "cell_type": "markdown",
      "source": [
        "```python\n",
        "raise NomeDoErro(\"mensagem_desejada\")\n",
        "```"
      ],
      "metadata": {
        "id": "_nIOnDQufv6Z"
      }
    },
    {
      "cell_type": "markdown",
      "source": [
        "#### **Situação 15:**\n",
        "\n",
        "Você criou uma função para calcular a média de um estudante em uma dada matéria passando em uma lista as notas deste estudante.\n",
        "\n",
        "Você pretende tratar 2 situações:\n",
        "- Se a lista possuir um valor não numérico o cálculo de média não será executado e uma mensagem de \"Não foi possível calcular a média do(a) estudante. Só são aceitos valores numéricos!\" será exibida.\n",
        "- Caso a lista tenha mais de 4 notas, será lançada uma exceção do tipo **ValueError** informando que \"A lista não pode possuir mais de 4 notas.\"\n",
        "\n",
        "Um texto avisando que \"A consulta foi encerrada!\" deve ser exibido com ou sem a exceção ser lançada.\n",
        "\n",
        "**Vamos resolver esse desafio?**"
      ],
      "metadata": {
        "id": "xapeB2ivgB7R"
      }
    },
    {
      "cell_type": "code",
      "source": [
        "def media(lista: list=[0]) -> float:\n",
        "  ''' Função para calcular a média de notas passadas por uma lista\n",
        "\n",
        "  lista: list, default [0]\n",
        "    Lista com as notas para calcular a média\n",
        "  return = calculo: float\n",
        "    Média calculada\n",
        "  '''\n",
        "\n",
        "  calculo = sum(lista) / len(lista)\n",
        "\n",
        "  if len(lista) > 4:\n",
        "    raise ValueError('A lista não pode possuir mais de 4 notas.')\n",
        "\n",
        "  return calculo"
      ],
      "metadata": {
        "id": "Hf7MQtMjSXS-"
      },
      "execution_count": null,
      "outputs": []
    },
    {
      "cell_type": "code",
      "source": [
        "notas = [1, 2, 3, 4, 5]\n",
        "\n",
        "media(notas)"
      ],
      "metadata": {
        "id": "gnlcrP93k8f2",
        "colab": {
          "base_uri": "https://localhost:8080/",
          "height": 297
        },
        "outputId": "00ed2906-ff96-44d8-aaa4-3769f0b0ef3b"
      },
      "execution_count": null,
      "outputs": [
        {
          "output_type": "error",
          "ename": "ValueError",
          "evalue": "A lista não pode possuir mais de 4 notas.",
          "traceback": [
            "\u001b[0;31m---------------------------------------------------------------------------\u001b[0m",
            "\u001b[0;31mValueError\u001b[0m                                Traceback (most recent call last)",
            "\u001b[0;32m<ipython-input-226-fc7bb3444f2f>\u001b[0m in \u001b[0;36m<cell line: 0>\u001b[0;34m()\u001b[0m\n\u001b[1;32m      1\u001b[0m \u001b[0mnotas\u001b[0m \u001b[0;34m=\u001b[0m \u001b[0;34m[\u001b[0m\u001b[0;36m1\u001b[0m\u001b[0;34m,\u001b[0m \u001b[0;36m2\u001b[0m\u001b[0;34m,\u001b[0m \u001b[0;36m3\u001b[0m\u001b[0;34m,\u001b[0m \u001b[0;36m4\u001b[0m\u001b[0;34m,\u001b[0m \u001b[0;36m5\u001b[0m\u001b[0;34m]\u001b[0m\u001b[0;34m\u001b[0m\u001b[0;34m\u001b[0m\u001b[0m\n\u001b[1;32m      2\u001b[0m \u001b[0;34m\u001b[0m\u001b[0m\n\u001b[0;32m----> 3\u001b[0;31m \u001b[0mmedia\u001b[0m\u001b[0;34m(\u001b[0m\u001b[0mnotas\u001b[0m\u001b[0;34m)\u001b[0m\u001b[0;34m\u001b[0m\u001b[0;34m\u001b[0m\u001b[0m\n\u001b[0m",
            "\u001b[0;32m<ipython-input-225-70cedb0bf075>\u001b[0m in \u001b[0;36mmedia\u001b[0;34m(lista)\u001b[0m\n\u001b[1;32m     11\u001b[0m \u001b[0;34m\u001b[0m\u001b[0m\n\u001b[1;32m     12\u001b[0m   \u001b[0;32mif\u001b[0m \u001b[0mlen\u001b[0m\u001b[0;34m(\u001b[0m\u001b[0mlista\u001b[0m\u001b[0;34m)\u001b[0m \u001b[0;34m>\u001b[0m \u001b[0;36m4\u001b[0m\u001b[0;34m:\u001b[0m\u001b[0;34m\u001b[0m\u001b[0;34m\u001b[0m\u001b[0m\n\u001b[0;32m---> 13\u001b[0;31m     \u001b[0;32mraise\u001b[0m \u001b[0mValueError\u001b[0m\u001b[0;34m(\u001b[0m\u001b[0;34m'A lista não pode possuir mais de 4 notas.'\u001b[0m\u001b[0;34m)\u001b[0m\u001b[0;34m\u001b[0m\u001b[0;34m\u001b[0m\u001b[0m\n\u001b[0m\u001b[1;32m     14\u001b[0m \u001b[0;34m\u001b[0m\u001b[0m\n\u001b[1;32m     15\u001b[0m   \u001b[0;32mreturn\u001b[0m \u001b[0mcalculo\u001b[0m\u001b[0;34m\u001b[0m\u001b[0;34m\u001b[0m\u001b[0m\n",
            "\u001b[0;31mValueError\u001b[0m: A lista não pode possuir mais de 4 notas."
          ]
        }
      ]
    },
    {
      "cell_type": "code",
      "source": [
        "notas = [1, 2, 3, 'a']\n",
        "\n",
        "media(notas)"
      ],
      "metadata": {
        "id": "IprXe3qalX5J",
        "colab": {
          "base_uri": "https://localhost:8080/",
          "height": 297
        },
        "outputId": "fc6b2c53-58a4-408d-ac8b-483332bc8a46"
      },
      "execution_count": null,
      "outputs": [
        {
          "output_type": "error",
          "ename": "TypeError",
          "evalue": "unsupported operand type(s) for +: 'int' and 'str'",
          "traceback": [
            "\u001b[0;31m---------------------------------------------------------------------------\u001b[0m",
            "\u001b[0;31mTypeError\u001b[0m                                 Traceback (most recent call last)",
            "\u001b[0;32m<ipython-input-227-a981734cd59d>\u001b[0m in \u001b[0;36m<cell line: 0>\u001b[0;34m()\u001b[0m\n\u001b[1;32m      1\u001b[0m \u001b[0mnotas\u001b[0m \u001b[0;34m=\u001b[0m \u001b[0;34m[\u001b[0m\u001b[0;36m1\u001b[0m\u001b[0;34m,\u001b[0m \u001b[0;36m2\u001b[0m\u001b[0;34m,\u001b[0m \u001b[0;36m3\u001b[0m\u001b[0;34m,\u001b[0m \u001b[0;34m'a'\u001b[0m\u001b[0;34m]\u001b[0m\u001b[0;34m\u001b[0m\u001b[0;34m\u001b[0m\u001b[0m\n\u001b[1;32m      2\u001b[0m \u001b[0;34m\u001b[0m\u001b[0m\n\u001b[0;32m----> 3\u001b[0;31m \u001b[0mmedia\u001b[0m\u001b[0;34m(\u001b[0m\u001b[0mnotas\u001b[0m\u001b[0;34m)\u001b[0m\u001b[0;34m\u001b[0m\u001b[0;34m\u001b[0m\u001b[0m\n\u001b[0m",
            "\u001b[0;32m<ipython-input-225-70cedb0bf075>\u001b[0m in \u001b[0;36mmedia\u001b[0;34m(lista)\u001b[0m\n\u001b[1;32m      8\u001b[0m   '''\n\u001b[1;32m      9\u001b[0m \u001b[0;34m\u001b[0m\u001b[0m\n\u001b[0;32m---> 10\u001b[0;31m   \u001b[0mcalculo\u001b[0m \u001b[0;34m=\u001b[0m \u001b[0msum\u001b[0m\u001b[0;34m(\u001b[0m\u001b[0mlista\u001b[0m\u001b[0;34m)\u001b[0m \u001b[0;34m/\u001b[0m \u001b[0mlen\u001b[0m\u001b[0;34m(\u001b[0m\u001b[0mlista\u001b[0m\u001b[0;34m)\u001b[0m\u001b[0;34m\u001b[0m\u001b[0;34m\u001b[0m\u001b[0m\n\u001b[0m\u001b[1;32m     11\u001b[0m \u001b[0;34m\u001b[0m\u001b[0m\n\u001b[1;32m     12\u001b[0m   \u001b[0;32mif\u001b[0m \u001b[0mlen\u001b[0m\u001b[0;34m(\u001b[0m\u001b[0mlista\u001b[0m\u001b[0;34m)\u001b[0m \u001b[0;34m>\u001b[0m \u001b[0;36m4\u001b[0m\u001b[0;34m:\u001b[0m\u001b[0;34m\u001b[0m\u001b[0;34m\u001b[0m\u001b[0m\n",
            "\u001b[0;31mTypeError\u001b[0m: unsupported operand type(s) for +: 'int' and 'str'"
          ]
        }
      ]
    },
    {
      "cell_type": "code",
      "source": [
        "try:\n",
        "  notas = [1, 2, 3, 4]\n",
        "  media(notas)\n",
        "except TypeError:\n",
        "  print('Não foi possível calcular a média do(a) estudante. Só são aceitos valores numéricos!')\n",
        "except ValueError as e:\n",
        "  print(e)\n",
        "else:\n",
        "  print(media(notas))\n",
        "finally:\n",
        "  print('A consulta foi encerrada!')"
      ],
      "metadata": {
        "id": "lO8OCMRzSXQv",
        "colab": {
          "base_uri": "https://localhost:8080/"
        },
        "outputId": "68078133-ba62-43bc-bb80-a1f9d7722fc9"
      },
      "execution_count": null,
      "outputs": [
        {
          "output_type": "stream",
          "name": "stdout",
          "text": [
            "2.5\n",
            "A consulta foi encerrada!\n"
          ]
        }
      ]
    },
    {
      "cell_type": "code",
      "source": [
        "try:\n",
        "  notas = [1, 2, 3, 4, 5]\n",
        "  media(notas)\n",
        "except TypeError:\n",
        "  print('Não foi possível calcular a média do(a) estudante. Só são aceitos valores numéricos!')\n",
        "except ValueError as e:\n",
        "  print(e)\n",
        "else:\n",
        "  print(media(notas))\n",
        "finally:\n",
        "  print('A consulta foi encerrada!')"
      ],
      "metadata": {
        "id": "A-rA3l4hm4RA",
        "colab": {
          "base_uri": "https://localhost:8080/"
        },
        "outputId": "f900a4e0-4063-4216-b64f-363d07ba4f4e"
      },
      "execution_count": null,
      "outputs": [
        {
          "output_type": "stream",
          "name": "stdout",
          "text": [
            "A lista não pode possuir mais de 4 notas.\n",
            "A consulta foi encerrada!\n"
          ]
        }
      ]
    },
    {
      "cell_type": "code",
      "source": [
        "try:\n",
        "  notas = [1, 2, 3, 4, 'a']\n",
        "  media(notas)\n",
        "except TypeError:\n",
        "  print('Não foi possível calcular a média do(a) estudante. Só são aceitos valores numéricos!')\n",
        "except ValueError as e:\n",
        "  print(e)\n",
        "else:\n",
        "  print(media(notas))\n",
        "finally:\n",
        "  print('A consulta foi encerrada!')"
      ],
      "metadata": {
        "id": "Jf3Sg5H-m4Za",
        "colab": {
          "base_uri": "https://localhost:8080/"
        },
        "outputId": "7c55efb0-b43c-49fe-b181-5eb2ce70d3c8"
      },
      "execution_count": null,
      "outputs": [
        {
          "output_type": "stream",
          "name": "stdout",
          "text": [
            "Não foi possível calcular a média do(a) estudante. Só são aceitos valores numéricos!\n",
            "A consulta foi encerrada!\n"
          ]
        }
      ]
    },
    {
      "cell_type": "markdown",
      "source": [
        "###Aquecimento"
      ],
      "metadata": {
        "id": "F-mHrE-984lH"
      }
    },
    {
      "cell_type": "markdown",
      "source": [
        "1. Faça um programa que solicite à pessoa usuária digitar dois números float e calcular a divisão entre esses números. O código deve conter um tratamento de erro, indicando o tipo de erro que foi gerado caso a divisão não seja possível de realizar.\n",
        "\n",
        "Teste o programa com o segundo valor numérico do input igual a 0. Também teste utilizando caracteres textuais no input para checar os tipos de erro que ocorrem."
      ],
      "metadata": {
        "id": "zxTG-u8Z87Q_"
      }
    },
    {
      "cell_type": "code",
      "source": [
        "try:\n",
        "  dividendo = float(input('Digite um número a ser dividido: '))\n",
        "  divisor = float(input('Digite um número divisor: '))\n",
        "  resultado = dividendo / divisor\n",
        "except ValueError:\n",
        "  print('Somente são aceitos valores númericos')\n",
        "except ZeroDivisionError:\n",
        "  print('Não é possível dividir por zero.')\n",
        "else:\n",
        "  print(resultado)\n",
        "finally:\n",
        "  print('Programa finalizado!')"
      ],
      "metadata": {
        "colab": {
          "base_uri": "https://localhost:8080/"
        },
        "id": "dmFhPwFg9AFK",
        "outputId": "abb52cfe-48d6-44c9-f910-fc514a889b92"
      },
      "execution_count": null,
      "outputs": [
        {
          "output_type": "stream",
          "name": "stdout",
          "text": [
            "Digite um número a ser dividido: a\n",
            "Somente são aceitos valores númericos\n",
            "Programa finalizado!\n"
          ]
        }
      ]
    },
    {
      "cell_type": "markdown",
      "source": [
        "2. Faça um programa que solicite à pessoa usuária digitar um texto que será uma chave a ser pesquisada no seguinte dicionário: `idades = {'Júlia': 16, 'Carol': 23, 'Alberto': 19, 'Roberta': 17}`, armazenando o resultado do valor em uma variável. O código deve conter um tratamento de erro `KeyError`, imprimindo a informação 'Nome não encontrado', caso ocorra o erro; e imprimir o valor caso não ocorra nenhum.\n",
        "\n",
        "Teste o programa com um nome presente em uma das chaves do dicionário e com um que não esteja no dicionário para verificar a mensagem de erro."
      ],
      "metadata": {
        "id": "ZbX-AWpN_sKR"
      }
    },
    {
      "cell_type": "code",
      "source": [
        "try:\n",
        "  idades = {'Júlia': 16, 'Carol': 23, 'Alberto': 19, 'Roberta': 17}\n",
        "  nome = input('Digite um nome: ').lower().title().strip()\n",
        "  idade = idades[nome]\n",
        "except KeyError as e:\n",
        "  print(type(e), f'-> Digitado: {nome} -> Nome não encontrado. Se tiver acento, acentuar!')\n",
        "except Exception as e:\n",
        "  print(f'Ocorreu um erro inesperado: {e}')\n",
        "else:\n",
        "  print(f'A idade de {nome} é {idade}')\n",
        "finally:\n",
        "  print('Consulta finalizada!')"
      ],
      "metadata": {
        "colab": {
          "base_uri": "https://localhost:8080/"
        },
        "id": "Hfi5u0f-_0Ki",
        "outputId": "98e4e4a1-d61c-4d37-8ec7-88a9441035e9"
      },
      "execution_count": null,
      "outputs": [
        {
          "output_type": "stream",
          "name": "stdout",
          "text": [
            "Digite um nome: a\n",
            "<class 'KeyError'> -> Digitado: A -> Nome não encontrado. Se tiver acento, acentuar!\n",
            "Consulta finalizada!\n"
          ]
        }
      ]
    },
    {
      "cell_type": "markdown",
      "source": [
        "3. Crie uma função que recebe uma lista como parâmetro e converta todos os valores da lista para `float`. A função deve conter um tratamento de erro indicando o tipo de erro gerado e retornar a lista caso não tenha ocorrido nenhum erro. Por fim, deve ter a cláusula `finally` para imprimir o texto: 'Fim da execução da função'."
      ],
      "metadata": {
        "id": "frvDsE3tCUlm"
      }
    },
    {
      "cell_type": "code",
      "source": [
        "def converte_para_float(lista):\n",
        "  try:\n",
        "    lista_float = []\n",
        "    for i in lista:\n",
        "      decimal = float(i)\n",
        "      lista_float.append(decimal)\n",
        "  except Exception as e:\n",
        "    print(f'Não foi possível converter o valor de: {lista}, {type(e)}')\n",
        "  else:\n",
        "    return lista_float\n",
        "  finally:\n",
        "    print('Fim da execução da função.')\n",
        "\n",
        "lista = ['1', 2] #python assim como js é dinamicamente tipado\n",
        "\n",
        "converte_para_float(lista)"
      ],
      "metadata": {
        "colab": {
          "base_uri": "https://localhost:8080/"
        },
        "id": "HgCyAEo_CXon",
        "outputId": "b139068a-bf99-4224-b54a-cf89ccfc19f3"
      },
      "execution_count": null,
      "outputs": [
        {
          "output_type": "stream",
          "name": "stdout",
          "text": [
            "Fim da execução da função.\n"
          ]
        },
        {
          "output_type": "execute_result",
          "data": {
            "text/plain": [
              "[1.0, 2.0]"
            ]
          },
          "metadata": {},
          "execution_count": 303
        }
      ]
    },
    {
      "cell_type": "markdown",
      "source": [
        "4. Crie uma função que recebe duas listas como parâmetros e agrupe os elementos um a um das listas, formando uma lista de tuplas de 3 elementos, no qual o primeiro e segundo elemento da tupla são os valores na posição `i` das listas e o terceiro elemento é a soma dos valores na posição `i` das listas.\n",
        "\n",
        "A função deve conter um tratamento de erro indicando o tipo de erro gerado e retornar como resultado a lista de tuplas. Caso as listas enviadas como parâmetro tenham tamanhos diferentes, a função deve retornar um IndexError com a frase: 'A quantidade de elementos em cada lista é diferente.' Dados para testar a função:\n",
        "\n",
        "\n",
        "\n",
        "*   Valores sem erro:\n",
        "\n",
        "```\n",
        "lista1 = [4,6,7,9,10]\n",
        "lista2 = [-4,6,8,7,9]\n",
        "```\n",
        "\n",
        "\n",
        "*   Listas com tamanhos diferentes:\n",
        "\n",
        "```\n",
        "lista1 = [4,6,7,9,10,4]\n",
        "lista2 = [-4,6,8,7,9]\n",
        "```\n",
        "\n",
        "*   Listas com valores incoerentes:\n",
        "\n",
        "```\n",
        "lista1 = [4,6,7,9,'A']\n",
        "lista2 = [-4,'E',8,7,9]\n",
        "```\n",
        "\n",
        "\n",
        "\n",
        "\n",
        "\n",
        "\n"
      ],
      "metadata": {
        "id": "sFGa2ZTDJe73"
      }
    },
    {
      "cell_type": "code",
      "source": [
        "lista1 = [4,6,7,9,10]\n",
        "lista2 = [-4,6,8,7,9]\n",
        "\n",
        "def soma_de_listas(lista1, lista2):\n",
        "  try:\n",
        "    if len(lista1) == len(lista2):\n",
        "      tupla = [(num_1, num_2, num_1 + num_2) for num_1, num_2 in (zip(lista1, lista2))]\n",
        "    else:\n",
        "      raise IndexError('A quantidade de elementos em cada lista é diferente.')\n",
        "  except TypeError:\n",
        "    print('Uma das listas contém um valor inválido.')\n",
        "  else:\n",
        "    return tupla\n",
        "  finally:\n",
        "    print('Execução do programa finalizado.')\n",
        "\n",
        "soma_de_listas(lista1, lista2)"
      ],
      "metadata": {
        "colab": {
          "base_uri": "https://localhost:8080/"
        },
        "id": "tw_dd6D3JrrL",
        "outputId": "03e2c98a-0b30-4e6e-930b-d80e06bf55ec"
      },
      "execution_count": 15,
      "outputs": [
        {
          "output_type": "stream",
          "name": "stdout",
          "text": [
            "Execução do programa finalizado.\n"
          ]
        },
        {
          "output_type": "execute_result",
          "data": {
            "text/plain": [
              "[(4, -4, 0), (6, 6, 12), (7, 8, 15), (9, 7, 16), (10, 9, 19)]"
            ]
          },
          "metadata": {},
          "execution_count": 15
        }
      ]
    },
    {
      "cell_type": "markdown",
      "source": [
        "###Aplicando a projetos"
      ],
      "metadata": {
        "id": "UeE6s18lNAWe"
      }
    },
    {
      "cell_type": "markdown",
      "source": [
        "5. Como desafio, você recebeu a tarefa de desenvolver um código que contabiliza as pontuações de estudantes de uma instituição de ensino de acordo com suas respostas num teste. Este código deve ser testado para um exemplo de 3 estudantes com uma lista de listas em que cada lista possui as respostas de 5 questões objetivas de cada estudante. Cada questão vale um ponto e as alternativas possíveis são A, B, C ou D.\n",
        "\n",
        "Caso alguma alternativa em um dos testes não esteja entre as alternativas possíveis, você deve lançar um ValueError com a mensagem ``\"A alternativa [alternativa] não é uma opção de alternativa válida\"`. O cálculo das 3 notas só será realizado mediante as entradas com as alternativas A, B, C ou D em todos os testes. Se não for lançada a exceção, será exibida uma lista com as notas em cada teste.\n",
        "\n",
        "Os dados para o teste do código são:\n",
        "\n",
        "\n",
        "\n",
        "*   Gabarito da prova:\n",
        "\n",
        "```\n",
        "gabarito = ['D', 'A', 'B', 'C', 'A']\n",
        "```\n",
        "\n",
        "Abaixo temos 2 listas de listas que você pode usar como teste\n",
        "\n",
        "*   Notas sem exceção:\n",
        "\n",
        "\n",
        "```\n",
        "testes_sem_ex = [['D', 'A', 'B', 'C', 'A'], ['C', 'A', 'A', 'C', 'A'], ['D', 'B', 'A', 'C', 'A']]\n",
        "\n",
        "```\n",
        "\n",
        "\n",
        "*   Notas com exceção:\n",
        "\n",
        "```\n",
        "testes_com_ex = [['D', 'A', 'B', 'C', 'A'], ['C', 'A', 'A', 'E', 'A'], ['D', 'B', 'A', 'C', 'A']]\n",
        "\n",
        "```\n",
        "\n",
        "\n",
        "\n",
        "> Dica: Para verificar se uma entrada da lista não está entre as alternativas possíveis, use a estrutura `lista[i] not in ['A','B','C','D']`. Por exemplo, `1 not in [2,3,4]`... Saída: `True`."
      ],
      "metadata": {
        "id": "sqPvAkQmNDjM"
      }
    },
    {
      "cell_type": "code",
      "source": [
        "gabarito = ['D', 'A', 'B', 'C', 'A']\n",
        "testes_sem_ex = [['D', 'A', 'B', 'C', 'A'], ['C', 'A', 'A', 'C', 'A'], ['D', 'B', 'A', 'C', 'A']]\n",
        "testes_com_ex = [['D', 'A', 'B', 'C', 'A'], ['C', 'A', 'A', 'E', 'A'], ['D', 'B', 'A', 'C', 'A']]\n",
        "\n",
        "\n",
        "def contar_pontos(gabarito, lista):\n",
        "  notas_juntas = []\n",
        "  soma_juntas = []\n",
        "  try:\n",
        "    for i in lista:\n",
        "      for j in range(0, len(i)):\n",
        "        if i[j] not in ['A', 'B', 'C', 'D']:\n",
        "          raise ValueError(f'A alternativa {i[j]} não é uma opção de alternativa válida')\n",
        "\n",
        "      tupla = (list(zip(gabarito, i)))\n",
        "      notas = [1 if correta == estudante else 0 for correta, estudante in tupla]\n",
        "      notas_juntas.append(notas)\n",
        "      soma = sum(notas)\n",
        "      soma_juntas.append(soma)\n",
        "  except ValueError as e:\n",
        "    print(e)\n",
        "  else:\n",
        "    print('Notas detalhadas:', notas_juntas)\n",
        "    print('Somas:', soma_juntas)\n",
        "  finally:\n",
        "    print('Execução de programa finalizada.')\n",
        "\n",
        "contar_pontos(gabarito, testes_sem_ex)"
      ],
      "metadata": {
        "colab": {
          "base_uri": "https://localhost:8080/"
        },
        "id": "60D5KKvMN4V4",
        "outputId": "9146579d-9a57-4d7c-b0c6-065fe066615d"
      },
      "execution_count": 102,
      "outputs": [
        {
          "output_type": "stream",
          "name": "stdout",
          "text": [
            "Notas detalhadas: [[1, 1, 1, 1, 1], [0, 1, 0, 1, 1], [1, 0, 0, 1, 1]]\n",
            "Somas: [5, 3, 3]\n",
            "Execução de programa finalizada.\n"
          ]
        }
      ]
    },
    {
      "cell_type": "markdown",
      "source": [
        "6. Você está trabalhando com processamento de linguagem natural (NLP) e, dessa vez, sua líder requisitou que você criasse um trecho de código que recebe uma lista com as palavras separadas de uma frase gerada pelo ChatGPT.\n",
        "\n",
        "Você precisa criar uma função que avalia cada palavra desse texto e verificar se o tratamento para retirar os símbolos de pontuação (',' '.', '!' e '?') foi realizado. Caso contrário, será lançada uma exceção do tipo ValueError apontando o 1º caso em que foi detectado o uso de uma pontuação por meio da frase `\"O texto apresenta pontuações na palavra \"[palavra]\".\"`. Essa demanda é voltada para a análise do padrão de frases geradas pela inteligência artificial.\n",
        "\n",
        "\n",
        ">Dica: Para verificar se uma ou mais das pontuações estão presentes em cada palavra, utilize a palavra chave or na condição if. Por exemplo, 'a' in 'alura' or 'b' in 'alura'… Saída: True\n",
        "\n",
        "Os dados para o teste do código são:\n",
        "\n",
        "*   Lista tratada:\n",
        "\n",
        "\n",
        "```\n",
        "lista_tratada = ['Python', 'é', 'uma', 'linguagem', 'de', 'programação', 'poderosa', 'versátil',\n",
        "                  'e', 'fácil', 'de', 'aprender', 'utilizada', 'em', 'diversos', 'campos', 'desde',\n",
        "                  'análise', 'de', 'dados', 'até', 'inteligência', 'artificial']\n",
        "```\n",
        "\n",
        "\n",
        "*   Lista não tratada:\n",
        "\n",
        "```\n",
        "lista_nao_tratada = ['Python', 'é', 'uma', 'linguagem', 'de', 'programação', 'poderosa,', 'versátil',\n",
        "                  'e', 'fácil,', 'de', 'aprender', 'utilizada', 'em', 'diversos', 'campos,', 'desde',\n",
        "                  'análise', 'de', 'dados', 'até', 'inteligência', 'artificial!']\n",
        "```\n",
        "\n",
        "\n",
        "\n",
        "\n",
        "\n",
        "\n"
      ],
      "metadata": {
        "id": "2ztI6MMdrWQa"
      }
    },
    {
      "cell_type": "code",
      "source": [
        "lista_tratada = ['Python', 'é', 'uma', 'linguagem', 'de', 'programação', 'poderosa', 'versátil',\n",
        "                  'e', 'fácil', 'de', 'aprender', 'utilizada', 'em', 'diversos', 'campos', 'desde',\n",
        "                  'análise', 'de', 'dados', 'até', 'inteligência', 'artificial']\n",
        "\n",
        "lista_nao_tratada = ['Python', 'é', 'uma', 'linguagem', 'de', 'programação', 'poderosa,', 'versátil',\n",
        "                  'e', 'fácil,', 'de', 'aprender', 'utilizada', 'em', 'diversos', 'campos,', 'desde',\n",
        "                  'análise', 'de', 'dados', 'até', 'inteligência', 'artificial!']\n",
        "\n",
        "def verifica_pontuacao(lista):\n",
        "  try:\n",
        "    palavras_com_acento = []\n",
        "    for i in lista:\n",
        "      if ',' in i or '.' in i or '!' in i or '?' in i:\n",
        "        palavras_com_acento.append(i)\n",
        "    if palavras_com_acento:\n",
        "      raise ValueError(f'O texto apresenta pontuações na palavra {palavras_com_acento}')\n",
        "  except ValueError as e:\n",
        "    print(e)\n",
        "  else:\n",
        "    return 'Lista verificada. Sem pontuações nas palavras.'\n",
        "  finally:\n",
        "    print('Programa executado.')\n",
        "verifica_pontuacao(lista_nao_tratada)"
      ],
      "metadata": {
        "colab": {
          "base_uri": "https://localhost:8080/"
        },
        "id": "13kXETL9rtSs",
        "outputId": "a1e09580-8970-4d9e-ecaf-36b3f7923f97"
      },
      "execution_count": 116,
      "outputs": [
        {
          "output_type": "stream",
          "name": "stdout",
          "text": [
            "O texto apresenta pontuações na palavra ['poderosa,', 'fácil,', 'campos,', 'artificial!']\n",
            "Programa executado.\n"
          ]
        }
      ]
    }
  ]
}