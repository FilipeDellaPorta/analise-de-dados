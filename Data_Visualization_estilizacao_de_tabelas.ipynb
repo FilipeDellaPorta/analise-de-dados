{
  "nbformat": 4,
  "nbformat_minor": 0,
  "metadata": {
    "colab": {
      "provenance": [],
      "collapsed_sections": [
        "cJc43_SLO8T2",
        "UITGxJXGQRtT",
        "XtlH8tHOdUOv"
      ],
      "include_colab_link": true
    },
    "kernelspec": {
      "name": "python3",
      "display_name": "Python 3"
    },
    "language_info": {
      "name": "python"
    }
  },
  "cells": [
    {
      "cell_type": "markdown",
      "metadata": {
        "id": "view-in-github",
        "colab_type": "text"
      },
      "source": [
        "<a href=\"https://colab.research.google.com/github/FilipeDellaPorta/analise-de-dados/blob/main/Data_Visualization_estilizacao_de_tabelas.ipynb\" target=\"_parent\"><img src=\"https://colab.research.google.com/assets/colab-badge.svg\" alt=\"Open In Colab\"/></a>"
      ]
    },
    {
      "cell_type": "markdown",
      "source": [
        "# Montando o drive"
      ],
      "metadata": {
        "id": "Gzm-V2x7AIZa"
      }
    },
    {
      "cell_type": "code",
      "source": [
        "from google.colab import drive\n",
        "drive.mount('/content/drive')"
      ],
      "metadata": {
        "colab": {
          "base_uri": "https://localhost:8080/"
        },
        "id": "RC7quaqX_gah",
        "outputId": "64502cf2-c801-4c19-a672-0955ff5fd775"
      },
      "execution_count": 1,
      "outputs": [
        {
          "output_type": "stream",
          "name": "stdout",
          "text": [
            "Mounted at /content/drive\n"
          ]
        }
      ]
    },
    {
      "cell_type": "markdown",
      "source": [
        "# Coleta e preparação de dados"
      ],
      "metadata": {
        "id": "AXPz8H6FOyfG"
      }
    },
    {
      "cell_type": "code",
      "source": [
        "import pandas as pd\n",
        "\n",
        "df = pd.read_csv('/content/drive/MyDrive/Colab Notebooks/relatorio_vendas_estilizacao.csv')\n",
        "df"
      ],
      "metadata": {
        "id": "yPMPbFJg_dJ-",
        "colab": {
          "base_uri": "https://localhost:8080/",
          "height": 615
        },
        "outputId": "94ccf0f6-825b-4838-d17a-8fc14b2d07a6"
      },
      "execution_count": 3,
      "outputs": [
        {
          "output_type": "execute_result",
          "data": {
            "text/plain": [
              "     data_pedido      modo_envio       nome_cliente segmento_cliente  \\\n",
              "0     2018-11-09       Econômica    Thiago Silveira              B2C   \n",
              "1     2018-11-09       Econômica    Thiago Silveira              B2C   \n",
              "2     2018-06-13       Econômica      Giovanna Lima              B2B   \n",
              "3     2017-10-12  Entrega padrão  Ana Júlia da Cruz              B2C   \n",
              "4     2017-10-12  Entrega padrão  Ana Júlia da Cruz              B2C   \n",
              "...          ...             ...                ...              ...   \n",
              "8935  2018-09-30  Entrega padrão     Enrique Santos              B2C   \n",
              "8936  2019-11-18  Entrega padrão    Heitor Silveira              B2B   \n",
              "8937  2019-11-18  Entrega padrão    Heitor Silveira              B2B   \n",
              "8938  2016-01-22       Econômica      Isabel Araújo              B2C   \n",
              "8939  2019-05-05       Econômica   Esther Rodrigues              B2C   \n",
              "\n",
              "              cidade               estado    regiao             departamento  \\\n",
              "0     Ribeirão Preto            São Paulo   Sudeste  Materiais de construção   \n",
              "1     Ribeirão Preto            São Paulo   Sudeste  Materiais de construção   \n",
              "2     Rio de Janeiro       Rio de Janeiro   Sudeste  Jardinagem e paisagismo   \n",
              "3      Foz do Iguaçu               Paraná       Sul  Materiais de construção   \n",
              "4      Foz do Iguaçu               Paraná       Sul  Jardinagem e paisagismo   \n",
              "...              ...                  ...       ...                      ...   \n",
              "8935  Rio de Janeiro       Rio de Janeiro   Sudeste               Automotivo   \n",
              "8936          Jequié                Bahia  Nordeste               Automotivo   \n",
              "8937          Jequié                Bahia  Nordeste               Automotivo   \n",
              "8938     João Pessoa              Paraíba  Nordeste  Materiais de construção   \n",
              "8939         Mossoró  Rio Grande do Norte  Nordeste  Jardinagem e paisagismo   \n",
              "\n",
              "                   tipo_produto   vendas  quantidade    lucro  \n",
              "0                  encanamentos   890.66           2   142.51  \n",
              "1                   ferramentas  2488.60           3   746.58  \n",
              "2                      sementes    49.71           2    23.36  \n",
              "3     materiais de revestimento  3255.76           5 -1302.31  \n",
              "4                         vasos    76.05           2     8.56  \n",
              "...                         ...      ...         ...      ...  \n",
              "8935    ferramentas automotivas   123.22           1    51.75  \n",
              "8936    ferramentas automotivas   271.97           1    97.91  \n",
              "8937                      pneus   700.74           5   189.20  \n",
              "8938                 iluminação    85.84           3    13.95  \n",
              "8939     mobiliário de exterior   826.74           2   248.02  \n",
              "\n",
              "[8940 rows x 12 columns]"
            ],
            "text/html": [
              "\n",
              "  <div id=\"df-ed91c0c9-b1ce-46d1-ae3f-fef53a064b0a\" class=\"colab-df-container\">\n",
              "    <div>\n",
              "<style scoped>\n",
              "    .dataframe tbody tr th:only-of-type {\n",
              "        vertical-align: middle;\n",
              "    }\n",
              "\n",
              "    .dataframe tbody tr th {\n",
              "        vertical-align: top;\n",
              "    }\n",
              "\n",
              "    .dataframe thead th {\n",
              "        text-align: right;\n",
              "    }\n",
              "</style>\n",
              "<table border=\"1\" class=\"dataframe\">\n",
              "  <thead>\n",
              "    <tr style=\"text-align: right;\">\n",
              "      <th></th>\n",
              "      <th>data_pedido</th>\n",
              "      <th>modo_envio</th>\n",
              "      <th>nome_cliente</th>\n",
              "      <th>segmento_cliente</th>\n",
              "      <th>cidade</th>\n",
              "      <th>estado</th>\n",
              "      <th>regiao</th>\n",
              "      <th>departamento</th>\n",
              "      <th>tipo_produto</th>\n",
              "      <th>vendas</th>\n",
              "      <th>quantidade</th>\n",
              "      <th>lucro</th>\n",
              "    </tr>\n",
              "  </thead>\n",
              "  <tbody>\n",
              "    <tr>\n",
              "      <th>0</th>\n",
              "      <td>2018-11-09</td>\n",
              "      <td>Econômica</td>\n",
              "      <td>Thiago Silveira</td>\n",
              "      <td>B2C</td>\n",
              "      <td>Ribeirão Preto</td>\n",
              "      <td>São Paulo</td>\n",
              "      <td>Sudeste</td>\n",
              "      <td>Materiais de construção</td>\n",
              "      <td>encanamentos</td>\n",
              "      <td>890.66</td>\n",
              "      <td>2</td>\n",
              "      <td>142.51</td>\n",
              "    </tr>\n",
              "    <tr>\n",
              "      <th>1</th>\n",
              "      <td>2018-11-09</td>\n",
              "      <td>Econômica</td>\n",
              "      <td>Thiago Silveira</td>\n",
              "      <td>B2C</td>\n",
              "      <td>Ribeirão Preto</td>\n",
              "      <td>São Paulo</td>\n",
              "      <td>Sudeste</td>\n",
              "      <td>Materiais de construção</td>\n",
              "      <td>ferramentas</td>\n",
              "      <td>2488.60</td>\n",
              "      <td>3</td>\n",
              "      <td>746.58</td>\n",
              "    </tr>\n",
              "    <tr>\n",
              "      <th>2</th>\n",
              "      <td>2018-06-13</td>\n",
              "      <td>Econômica</td>\n",
              "      <td>Giovanna Lima</td>\n",
              "      <td>B2B</td>\n",
              "      <td>Rio de Janeiro</td>\n",
              "      <td>Rio de Janeiro</td>\n",
              "      <td>Sudeste</td>\n",
              "      <td>Jardinagem e paisagismo</td>\n",
              "      <td>sementes</td>\n",
              "      <td>49.71</td>\n",
              "      <td>2</td>\n",
              "      <td>23.36</td>\n",
              "    </tr>\n",
              "    <tr>\n",
              "      <th>3</th>\n",
              "      <td>2017-10-12</td>\n",
              "      <td>Entrega padrão</td>\n",
              "      <td>Ana Júlia da Cruz</td>\n",
              "      <td>B2C</td>\n",
              "      <td>Foz do Iguaçu</td>\n",
              "      <td>Paraná</td>\n",
              "      <td>Sul</td>\n",
              "      <td>Materiais de construção</td>\n",
              "      <td>materiais de revestimento</td>\n",
              "      <td>3255.76</td>\n",
              "      <td>5</td>\n",
              "      <td>-1302.31</td>\n",
              "    </tr>\n",
              "    <tr>\n",
              "      <th>4</th>\n",
              "      <td>2017-10-12</td>\n",
              "      <td>Entrega padrão</td>\n",
              "      <td>Ana Júlia da Cruz</td>\n",
              "      <td>B2C</td>\n",
              "      <td>Foz do Iguaçu</td>\n",
              "      <td>Paraná</td>\n",
              "      <td>Sul</td>\n",
              "      <td>Jardinagem e paisagismo</td>\n",
              "      <td>vasos</td>\n",
              "      <td>76.05</td>\n",
              "      <td>2</td>\n",
              "      <td>8.56</td>\n",
              "    </tr>\n",
              "    <tr>\n",
              "      <th>...</th>\n",
              "      <td>...</td>\n",
              "      <td>...</td>\n",
              "      <td>...</td>\n",
              "      <td>...</td>\n",
              "      <td>...</td>\n",
              "      <td>...</td>\n",
              "      <td>...</td>\n",
              "      <td>...</td>\n",
              "      <td>...</td>\n",
              "      <td>...</td>\n",
              "      <td>...</td>\n",
              "      <td>...</td>\n",
              "    </tr>\n",
              "    <tr>\n",
              "      <th>8935</th>\n",
              "      <td>2018-09-30</td>\n",
              "      <td>Entrega padrão</td>\n",
              "      <td>Enrique Santos</td>\n",
              "      <td>B2C</td>\n",
              "      <td>Rio de Janeiro</td>\n",
              "      <td>Rio de Janeiro</td>\n",
              "      <td>Sudeste</td>\n",
              "      <td>Automotivo</td>\n",
              "      <td>ferramentas automotivas</td>\n",
              "      <td>123.22</td>\n",
              "      <td>1</td>\n",
              "      <td>51.75</td>\n",
              "    </tr>\n",
              "    <tr>\n",
              "      <th>8936</th>\n",
              "      <td>2019-11-18</td>\n",
              "      <td>Entrega padrão</td>\n",
              "      <td>Heitor Silveira</td>\n",
              "      <td>B2B</td>\n",
              "      <td>Jequié</td>\n",
              "      <td>Bahia</td>\n",
              "      <td>Nordeste</td>\n",
              "      <td>Automotivo</td>\n",
              "      <td>ferramentas automotivas</td>\n",
              "      <td>271.97</td>\n",
              "      <td>1</td>\n",
              "      <td>97.91</td>\n",
              "    </tr>\n",
              "    <tr>\n",
              "      <th>8937</th>\n",
              "      <td>2019-11-18</td>\n",
              "      <td>Entrega padrão</td>\n",
              "      <td>Heitor Silveira</td>\n",
              "      <td>B2B</td>\n",
              "      <td>Jequié</td>\n",
              "      <td>Bahia</td>\n",
              "      <td>Nordeste</td>\n",
              "      <td>Automotivo</td>\n",
              "      <td>pneus</td>\n",
              "      <td>700.74</td>\n",
              "      <td>5</td>\n",
              "      <td>189.20</td>\n",
              "    </tr>\n",
              "    <tr>\n",
              "      <th>8938</th>\n",
              "      <td>2016-01-22</td>\n",
              "      <td>Econômica</td>\n",
              "      <td>Isabel Araújo</td>\n",
              "      <td>B2C</td>\n",
              "      <td>João Pessoa</td>\n",
              "      <td>Paraíba</td>\n",
              "      <td>Nordeste</td>\n",
              "      <td>Materiais de construção</td>\n",
              "      <td>iluminação</td>\n",
              "      <td>85.84</td>\n",
              "      <td>3</td>\n",
              "      <td>13.95</td>\n",
              "    </tr>\n",
              "    <tr>\n",
              "      <th>8939</th>\n",
              "      <td>2019-05-05</td>\n",
              "      <td>Econômica</td>\n",
              "      <td>Esther Rodrigues</td>\n",
              "      <td>B2C</td>\n",
              "      <td>Mossoró</td>\n",
              "      <td>Rio Grande do Norte</td>\n",
              "      <td>Nordeste</td>\n",
              "      <td>Jardinagem e paisagismo</td>\n",
              "      <td>mobiliário de exterior</td>\n",
              "      <td>826.74</td>\n",
              "      <td>2</td>\n",
              "      <td>248.02</td>\n",
              "    </tr>\n",
              "  </tbody>\n",
              "</table>\n",
              "<p>8940 rows × 12 columns</p>\n",
              "</div>\n",
              "    <div class=\"colab-df-buttons\">\n",
              "\n",
              "  <div class=\"colab-df-container\">\n",
              "    <button class=\"colab-df-convert\" onclick=\"convertToInteractive('df-ed91c0c9-b1ce-46d1-ae3f-fef53a064b0a')\"\n",
              "            title=\"Convert this dataframe to an interactive table.\"\n",
              "            style=\"display:none;\">\n",
              "\n",
              "  <svg xmlns=\"http://www.w3.org/2000/svg\" height=\"24px\" viewBox=\"0 -960 960 960\">\n",
              "    <path d=\"M120-120v-720h720v720H120Zm60-500h600v-160H180v160Zm220 220h160v-160H400v160Zm0 220h160v-160H400v160ZM180-400h160v-160H180v160Zm440 0h160v-160H620v160ZM180-180h160v-160H180v160Zm440 0h160v-160H620v160Z\"/>\n",
              "  </svg>\n",
              "    </button>\n",
              "\n",
              "  <style>\n",
              "    .colab-df-container {\n",
              "      display:flex;\n",
              "      gap: 12px;\n",
              "    }\n",
              "\n",
              "    .colab-df-convert {\n",
              "      background-color: #E8F0FE;\n",
              "      border: none;\n",
              "      border-radius: 50%;\n",
              "      cursor: pointer;\n",
              "      display: none;\n",
              "      fill: #1967D2;\n",
              "      height: 32px;\n",
              "      padding: 0 0 0 0;\n",
              "      width: 32px;\n",
              "    }\n",
              "\n",
              "    .colab-df-convert:hover {\n",
              "      background-color: #E2EBFA;\n",
              "      box-shadow: 0px 1px 2px rgba(60, 64, 67, 0.3), 0px 1px 3px 1px rgba(60, 64, 67, 0.15);\n",
              "      fill: #174EA6;\n",
              "    }\n",
              "\n",
              "    .colab-df-buttons div {\n",
              "      margin-bottom: 4px;\n",
              "    }\n",
              "\n",
              "    [theme=dark] .colab-df-convert {\n",
              "      background-color: #3B4455;\n",
              "      fill: #D2E3FC;\n",
              "    }\n",
              "\n",
              "    [theme=dark] .colab-df-convert:hover {\n",
              "      background-color: #434B5C;\n",
              "      box-shadow: 0px 1px 3px 1px rgba(0, 0, 0, 0.15);\n",
              "      filter: drop-shadow(0px 1px 2px rgba(0, 0, 0, 0.3));\n",
              "      fill: #FFFFFF;\n",
              "    }\n",
              "  </style>\n",
              "\n",
              "    <script>\n",
              "      const buttonEl =\n",
              "        document.querySelector('#df-ed91c0c9-b1ce-46d1-ae3f-fef53a064b0a button.colab-df-convert');\n",
              "      buttonEl.style.display =\n",
              "        google.colab.kernel.accessAllowed ? 'block' : 'none';\n",
              "\n",
              "      async function convertToInteractive(key) {\n",
              "        const element = document.querySelector('#df-ed91c0c9-b1ce-46d1-ae3f-fef53a064b0a');\n",
              "        const dataTable =\n",
              "          await google.colab.kernel.invokeFunction('convertToInteractive',\n",
              "                                                    [key], {});\n",
              "        if (!dataTable) return;\n",
              "\n",
              "        const docLinkHtml = 'Like what you see? Visit the ' +\n",
              "          '<a target=\"_blank\" href=https://colab.research.google.com/notebooks/data_table.ipynb>data table notebook</a>'\n",
              "          + ' to learn more about interactive tables.';\n",
              "        element.innerHTML = '';\n",
              "        dataTable['output_type'] = 'display_data';\n",
              "        await google.colab.output.renderOutput(dataTable, element);\n",
              "        const docLink = document.createElement('div');\n",
              "        docLink.innerHTML = docLinkHtml;\n",
              "        element.appendChild(docLink);\n",
              "      }\n",
              "    </script>\n",
              "  </div>\n",
              "\n",
              "\n",
              "    <div id=\"df-9e9d3d46-7cab-4a81-9dec-25412b8741db\">\n",
              "      <button class=\"colab-df-quickchart\" onclick=\"quickchart('df-9e9d3d46-7cab-4a81-9dec-25412b8741db')\"\n",
              "                title=\"Suggest charts\"\n",
              "                style=\"display:none;\">\n",
              "\n",
              "<svg xmlns=\"http://www.w3.org/2000/svg\" height=\"24px\"viewBox=\"0 0 24 24\"\n",
              "     width=\"24px\">\n",
              "    <g>\n",
              "        <path d=\"M19 3H5c-1.1 0-2 .9-2 2v14c0 1.1.9 2 2 2h14c1.1 0 2-.9 2-2V5c0-1.1-.9-2-2-2zM9 17H7v-7h2v7zm4 0h-2V7h2v10zm4 0h-2v-4h2v4z\"/>\n",
              "    </g>\n",
              "</svg>\n",
              "      </button>\n",
              "\n",
              "<style>\n",
              "  .colab-df-quickchart {\n",
              "      --bg-color: #E8F0FE;\n",
              "      --fill-color: #1967D2;\n",
              "      --hover-bg-color: #E2EBFA;\n",
              "      --hover-fill-color: #174EA6;\n",
              "      --disabled-fill-color: #AAA;\n",
              "      --disabled-bg-color: #DDD;\n",
              "  }\n",
              "\n",
              "  [theme=dark] .colab-df-quickchart {\n",
              "      --bg-color: #3B4455;\n",
              "      --fill-color: #D2E3FC;\n",
              "      --hover-bg-color: #434B5C;\n",
              "      --hover-fill-color: #FFFFFF;\n",
              "      --disabled-bg-color: #3B4455;\n",
              "      --disabled-fill-color: #666;\n",
              "  }\n",
              "\n",
              "  .colab-df-quickchart {\n",
              "    background-color: var(--bg-color);\n",
              "    border: none;\n",
              "    border-radius: 50%;\n",
              "    cursor: pointer;\n",
              "    display: none;\n",
              "    fill: var(--fill-color);\n",
              "    height: 32px;\n",
              "    padding: 0;\n",
              "    width: 32px;\n",
              "  }\n",
              "\n",
              "  .colab-df-quickchart:hover {\n",
              "    background-color: var(--hover-bg-color);\n",
              "    box-shadow: 0 1px 2px rgba(60, 64, 67, 0.3), 0 1px 3px 1px rgba(60, 64, 67, 0.15);\n",
              "    fill: var(--button-hover-fill-color);\n",
              "  }\n",
              "\n",
              "  .colab-df-quickchart-complete:disabled,\n",
              "  .colab-df-quickchart-complete:disabled:hover {\n",
              "    background-color: var(--disabled-bg-color);\n",
              "    fill: var(--disabled-fill-color);\n",
              "    box-shadow: none;\n",
              "  }\n",
              "\n",
              "  .colab-df-spinner {\n",
              "    border: 2px solid var(--fill-color);\n",
              "    border-color: transparent;\n",
              "    border-bottom-color: var(--fill-color);\n",
              "    animation:\n",
              "      spin 1s steps(1) infinite;\n",
              "  }\n",
              "\n",
              "  @keyframes spin {\n",
              "    0% {\n",
              "      border-color: transparent;\n",
              "      border-bottom-color: var(--fill-color);\n",
              "      border-left-color: var(--fill-color);\n",
              "    }\n",
              "    20% {\n",
              "      border-color: transparent;\n",
              "      border-left-color: var(--fill-color);\n",
              "      border-top-color: var(--fill-color);\n",
              "    }\n",
              "    30% {\n",
              "      border-color: transparent;\n",
              "      border-left-color: var(--fill-color);\n",
              "      border-top-color: var(--fill-color);\n",
              "      border-right-color: var(--fill-color);\n",
              "    }\n",
              "    40% {\n",
              "      border-color: transparent;\n",
              "      border-right-color: var(--fill-color);\n",
              "      border-top-color: var(--fill-color);\n",
              "    }\n",
              "    60% {\n",
              "      border-color: transparent;\n",
              "      border-right-color: var(--fill-color);\n",
              "    }\n",
              "    80% {\n",
              "      border-color: transparent;\n",
              "      border-right-color: var(--fill-color);\n",
              "      border-bottom-color: var(--fill-color);\n",
              "    }\n",
              "    90% {\n",
              "      border-color: transparent;\n",
              "      border-bottom-color: var(--fill-color);\n",
              "    }\n",
              "  }\n",
              "</style>\n",
              "\n",
              "      <script>\n",
              "        async function quickchart(key) {\n",
              "          const quickchartButtonEl =\n",
              "            document.querySelector('#' + key + ' button');\n",
              "          quickchartButtonEl.disabled = true;  // To prevent multiple clicks.\n",
              "          quickchartButtonEl.classList.add('colab-df-spinner');\n",
              "          try {\n",
              "            const charts = await google.colab.kernel.invokeFunction(\n",
              "                'suggestCharts', [key], {});\n",
              "          } catch (error) {\n",
              "            console.error('Error during call to suggestCharts:', error);\n",
              "          }\n",
              "          quickchartButtonEl.classList.remove('colab-df-spinner');\n",
              "          quickchartButtonEl.classList.add('colab-df-quickchart-complete');\n",
              "        }\n",
              "        (() => {\n",
              "          let quickchartButtonEl =\n",
              "            document.querySelector('#df-9e9d3d46-7cab-4a81-9dec-25412b8741db button');\n",
              "          quickchartButtonEl.style.display =\n",
              "            google.colab.kernel.accessAllowed ? 'block' : 'none';\n",
              "        })();\n",
              "      </script>\n",
              "    </div>\n",
              "\n",
              "  <div id=\"id_9537efaf-a5f7-4ec0-bfc6-78640f3918e3\">\n",
              "    <style>\n",
              "      .colab-df-generate {\n",
              "        background-color: #E8F0FE;\n",
              "        border: none;\n",
              "        border-radius: 50%;\n",
              "        cursor: pointer;\n",
              "        display: none;\n",
              "        fill: #1967D2;\n",
              "        height: 32px;\n",
              "        padding: 0 0 0 0;\n",
              "        width: 32px;\n",
              "      }\n",
              "\n",
              "      .colab-df-generate:hover {\n",
              "        background-color: #E2EBFA;\n",
              "        box-shadow: 0px 1px 2px rgba(60, 64, 67, 0.3), 0px 1px 3px 1px rgba(60, 64, 67, 0.15);\n",
              "        fill: #174EA6;\n",
              "      }\n",
              "\n",
              "      [theme=dark] .colab-df-generate {\n",
              "        background-color: #3B4455;\n",
              "        fill: #D2E3FC;\n",
              "      }\n",
              "\n",
              "      [theme=dark] .colab-df-generate:hover {\n",
              "        background-color: #434B5C;\n",
              "        box-shadow: 0px 1px 3px 1px rgba(0, 0, 0, 0.15);\n",
              "        filter: drop-shadow(0px 1px 2px rgba(0, 0, 0, 0.3));\n",
              "        fill: #FFFFFF;\n",
              "      }\n",
              "    </style>\n",
              "    <button class=\"colab-df-generate\" onclick=\"generateWithVariable('df')\"\n",
              "            title=\"Generate code using this dataframe.\"\n",
              "            style=\"display:none;\">\n",
              "\n",
              "  <svg xmlns=\"http://www.w3.org/2000/svg\" height=\"24px\"viewBox=\"0 0 24 24\"\n",
              "       width=\"24px\">\n",
              "    <path d=\"M7,19H8.4L18.45,9,17,7.55,7,17.6ZM5,21V16.75L18.45,3.32a2,2,0,0,1,2.83,0l1.4,1.43a1.91,1.91,0,0,1,.58,1.4,1.91,1.91,0,0,1-.58,1.4L9.25,21ZM18.45,9,17,7.55Zm-12,3A5.31,5.31,0,0,0,4.9,8.1,5.31,5.31,0,0,0,1,6.5,5.31,5.31,0,0,0,4.9,4.9,5.31,5.31,0,0,0,6.5,1,5.31,5.31,0,0,0,8.1,4.9,5.31,5.31,0,0,0,12,6.5,5.46,5.46,0,0,0,6.5,12Z\"/>\n",
              "  </svg>\n",
              "    </button>\n",
              "    <script>\n",
              "      (() => {\n",
              "      const buttonEl =\n",
              "        document.querySelector('#id_9537efaf-a5f7-4ec0-bfc6-78640f3918e3 button.colab-df-generate');\n",
              "      buttonEl.style.display =\n",
              "        google.colab.kernel.accessAllowed ? 'block' : 'none';\n",
              "\n",
              "      buttonEl.onclick = () => {\n",
              "        google.colab.notebook.generateWithVariable('df');\n",
              "      }\n",
              "      })();\n",
              "    </script>\n",
              "  </div>\n",
              "\n",
              "    </div>\n",
              "  </div>\n"
            ],
            "application/vnd.google.colaboratory.intrinsic+json": {
              "type": "dataframe",
              "variable_name": "df",
              "summary": "{\n  \"name\": \"df\",\n  \"rows\": 8940,\n  \"fields\": [\n    {\n      \"column\": \"data_pedido\",\n      \"properties\": {\n        \"dtype\": \"object\",\n        \"num_unique_values\": 1209,\n        \"samples\": [\n          \"2018-06-07\",\n          \"2016-07-01\",\n          \"2018-03-06\"\n        ],\n        \"semantic_type\": \"\",\n        \"description\": \"\"\n      }\n    },\n    {\n      \"column\": \"modo_envio\",\n      \"properties\": {\n        \"dtype\": \"category\",\n        \"num_unique_values\": 4,\n        \"samples\": [\n          \"Entrega padr\\u00e3o\",\n          \"24 horas\",\n          \"Econ\\u00f4mica\"\n        ],\n        \"semantic_type\": \"\",\n        \"description\": \"\"\n      }\n    },\n    {\n      \"column\": \"nome_cliente\",\n      \"properties\": {\n        \"dtype\": \"category\",\n        \"num_unique_values\": 767,\n        \"samples\": [\n          \"Luiz Gustavo Silveira\",\n          \"Beatriz Campos\",\n          \"Ana J\\u00falia da Mota\"\n        ],\n        \"semantic_type\": \"\",\n        \"description\": \"\"\n      }\n    },\n    {\n      \"column\": \"segmento_cliente\",\n      \"properties\": {\n        \"dtype\": \"category\",\n        \"num_unique_values\": 2,\n        \"samples\": [\n          \"B2B\",\n          \"B2C\"\n        ],\n        \"semantic_type\": \"\",\n        \"description\": \"\"\n      }\n    },\n    {\n      \"column\": \"cidade\",\n      \"properties\": {\n        \"dtype\": \"category\",\n        \"num_unique_values\": 248,\n        \"samples\": [\n          \"Macap\\u00e1\",\n          \"Itapecerica da Serra\"\n        ],\n        \"semantic_type\": \"\",\n        \"description\": \"\"\n      }\n    },\n    {\n      \"column\": \"estado\",\n      \"properties\": {\n        \"dtype\": \"category\",\n        \"num_unique_values\": 26,\n        \"samples\": [\n          \"Santa Catarina\",\n          \"Mato Grosso do Sul\"\n        ],\n        \"semantic_type\": \"\",\n        \"description\": \"\"\n      }\n    },\n    {\n      \"column\": \"regiao\",\n      \"properties\": {\n        \"dtype\": \"category\",\n        \"num_unique_values\": 5,\n        \"samples\": [\n          \"Sul\",\n          \"Centro-Oeste\"\n        ],\n        \"semantic_type\": \"\",\n        \"description\": \"\"\n      }\n    },\n    {\n      \"column\": \"departamento\",\n      \"properties\": {\n        \"dtype\": \"category\",\n        \"num_unique_values\": 3,\n        \"samples\": [\n          \"Materiais de constru\\u00e7\\u00e3o\",\n          \"Jardinagem e paisagismo\"\n        ],\n        \"semantic_type\": \"\",\n        \"description\": \"\"\n      }\n    },\n    {\n      \"column\": \"tipo_produto\",\n      \"properties\": {\n        \"dtype\": \"category\",\n        \"num_unique_values\": 17,\n        \"samples\": [\n          \"encanamentos\",\n          \"ferramentas\"\n        ],\n        \"semantic_type\": \"\",\n        \"description\": \"\"\n      }\n    },\n    {\n      \"column\": \"vendas\",\n      \"properties\": {\n        \"dtype\": \"number\",\n        \"std\": 2048.5273265637056,\n        \"min\": 1.51,\n        \"max\": 59499.83,\n        \"num_unique_values\": 5376,\n        \"samples\": [\n          136.68,\n          7403.79\n        ],\n        \"semantic_type\": \"\",\n        \"description\": \"\"\n      }\n    },\n    {\n      \"column\": \"quantidade\",\n      \"properties\": {\n        \"dtype\": \"number\",\n        \"std\": 2,\n        \"min\": 1,\n        \"max\": 14,\n        \"num_unique_values\": 14,\n        \"samples\": [\n          14,\n          13\n        ],\n        \"semantic_type\": \"\",\n        \"description\": \"\"\n      }\n    },\n    {\n      \"column\": \"lucro\",\n      \"properties\": {\n        \"dtype\": \"number\",\n        \"std\": 830.8698492809762,\n        \"min\": -22439.93,\n        \"max\": 28559.92,\n        \"num_unique_values\": 6005,\n        \"samples\": [\n          10.05,\n          35.04\n        ],\n        \"semantic_type\": \"\",\n        \"description\": \"\"\n      }\n    }\n  ]\n}"
            }
          },
          "metadata": {},
          "execution_count": 3
        }
      ]
    },
    {
      "cell_type": "code",
      "source": [
        "df.info()"
      ],
      "metadata": {
        "id": "Gjo8T_6p_c9E",
        "colab": {
          "base_uri": "https://localhost:8080/"
        },
        "outputId": "f14db10c-f3f4-4a00-cf27-36f944d5d286"
      },
      "execution_count": 4,
      "outputs": [
        {
          "output_type": "stream",
          "name": "stdout",
          "text": [
            "<class 'pandas.core.frame.DataFrame'>\n",
            "RangeIndex: 8940 entries, 0 to 8939\n",
            "Data columns (total 12 columns):\n",
            " #   Column            Non-Null Count  Dtype  \n",
            "---  ------            --------------  -----  \n",
            " 0   data_pedido       8940 non-null   object \n",
            " 1   modo_envio        8940 non-null   object \n",
            " 2   nome_cliente      8940 non-null   object \n",
            " 3   segmento_cliente  8940 non-null   object \n",
            " 4   cidade            8940 non-null   object \n",
            " 5   estado            8940 non-null   object \n",
            " 6   regiao            8940 non-null   object \n",
            " 7   departamento      8940 non-null   object \n",
            " 8   tipo_produto      8940 non-null   object \n",
            " 9   vendas            8940 non-null   float64\n",
            " 10  quantidade        8940 non-null   int64  \n",
            " 11  lucro             8940 non-null   float64\n",
            "dtypes: float64(2), int64(1), object(9)\n",
            "memory usage: 838.3+ KB\n"
          ]
        }
      ]
    },
    {
      "cell_type": "code",
      "source": [
        "df['data_pedido'] = pd.to_datetime(df['data_pedido'])"
      ],
      "metadata": {
        "id": "9wSXikuT_csO"
      },
      "execution_count": 5,
      "outputs": []
    },
    {
      "cell_type": "code",
      "source": [
        "df.info()"
      ],
      "metadata": {
        "id": "E65QDp7-_ciA",
        "colab": {
          "base_uri": "https://localhost:8080/"
        },
        "outputId": "4e631cff-4416-4228-e522-f103b353056d"
      },
      "execution_count": 6,
      "outputs": [
        {
          "output_type": "stream",
          "name": "stdout",
          "text": [
            "<class 'pandas.core.frame.DataFrame'>\n",
            "RangeIndex: 8940 entries, 0 to 8939\n",
            "Data columns (total 12 columns):\n",
            " #   Column            Non-Null Count  Dtype         \n",
            "---  ------            --------------  -----         \n",
            " 0   data_pedido       8940 non-null   datetime64[ns]\n",
            " 1   modo_envio        8940 non-null   object        \n",
            " 2   nome_cliente      8940 non-null   object        \n",
            " 3   segmento_cliente  8940 non-null   object        \n",
            " 4   cidade            8940 non-null   object        \n",
            " 5   estado            8940 non-null   object        \n",
            " 6   regiao            8940 non-null   object        \n",
            " 7   departamento      8940 non-null   object        \n",
            " 8   tipo_produto      8940 non-null   object        \n",
            " 9   vendas            8940 non-null   float64       \n",
            " 10  quantidade        8940 non-null   int64         \n",
            " 11  lucro             8940 non-null   float64       \n",
            "dtypes: datetime64[ns](1), float64(2), int64(1), object(8)\n",
            "memory usage: 838.3+ KB\n"
          ]
        }
      ]
    },
    {
      "cell_type": "markdown",
      "source": [
        "# Missão 1: Time de vendas\n",
        "\n",
        "Precisamos construir uma visualização para indicar os **10 maiores clientes por total de venda**.\n",
        "\n",
        "Com isso, a equipe de vendas pode pensar em estratégias para manter esses clientes comprando em nossa loja."
      ],
      "metadata": {
        "id": "cJc43_SLO8T2"
      }
    },
    {
      "cell_type": "code",
      "source": [],
      "metadata": {
        "id": "3W3_bgfm_TFW"
      },
      "execution_count": null,
      "outputs": []
    },
    {
      "cell_type": "code",
      "source": [],
      "metadata": {
        "id": "BwOCrl5i_S5Z"
      },
      "execution_count": null,
      "outputs": []
    },
    {
      "cell_type": "code",
      "source": [],
      "metadata": {
        "id": "poTPbx4s_SuQ"
      },
      "execution_count": null,
      "outputs": []
    },
    {
      "cell_type": "code",
      "source": [],
      "metadata": {
        "id": "PJR6FbH5_Sjn"
      },
      "execution_count": null,
      "outputs": []
    },
    {
      "cell_type": "markdown",
      "source": [
        "# Missão 2: Time comercial\n",
        "\n",
        "Precisamos construir uma visualização que permita associar o **total ganho em vendas e o total lucrado por tipo de produto**.\n",
        "\n",
        "Isso vai permitir que o time comercial possa focar em estratégias para alavancar as rendas que ganham com cada tipo de produto vendido na loja."
      ],
      "metadata": {
        "id": "UITGxJXGQRtT"
      }
    },
    {
      "cell_type": "code",
      "source": [],
      "metadata": {
        "id": "mTfFGrjM_DO3"
      },
      "execution_count": null,
      "outputs": []
    },
    {
      "cell_type": "code",
      "source": [],
      "metadata": {
        "id": "aewe5DMZ_DCy"
      },
      "execution_count": null,
      "outputs": []
    },
    {
      "cell_type": "code",
      "source": [],
      "metadata": {
        "id": "tuMMvO2O_Cy9"
      },
      "execution_count": null,
      "outputs": []
    },
    {
      "cell_type": "code",
      "source": [],
      "metadata": {
        "id": "cfgHDae4_CoX"
      },
      "execution_count": null,
      "outputs": []
    },
    {
      "cell_type": "code",
      "source": [],
      "metadata": {
        "id": "TFHcS79o_Ccf"
      },
      "execution_count": null,
      "outputs": []
    },
    {
      "cell_type": "markdown",
      "source": [
        "# Missão 3: Time de logística\n",
        "\n",
        "Precisamos construir uma visualização que permita entender a **distribuição de pedidos por região do Brasil**.\n",
        "\n",
        "Isso vai permitir que o time logística entenda onde é mais interessante focar material e pessoas."
      ],
      "metadata": {
        "id": "ch9f7ppQVgBg"
      }
    },
    {
      "cell_type": "code",
      "source": [],
      "metadata": {
        "id": "84zD2U-U-xjQ"
      },
      "execution_count": null,
      "outputs": []
    },
    {
      "cell_type": "code",
      "source": [],
      "metadata": {
        "id": "ZVakvzwg-xUj"
      },
      "execution_count": null,
      "outputs": []
    },
    {
      "cell_type": "code",
      "source": [],
      "metadata": {
        "id": "Hje0Y3DH-xEM"
      },
      "execution_count": null,
      "outputs": []
    },
    {
      "cell_type": "code",
      "source": [],
      "metadata": {
        "id": "4wWiaLWT-w1i"
      },
      "execution_count": null,
      "outputs": []
    },
    {
      "cell_type": "code",
      "source": [],
      "metadata": {
        "id": "3BLMJww0-wk9"
      },
      "execution_count": null,
      "outputs": []
    },
    {
      "cell_type": "code",
      "source": [],
      "metadata": {
        "id": "9oUDDxlE-wWI"
      },
      "execution_count": null,
      "outputs": []
    },
    {
      "cell_type": "code",
      "source": [],
      "metadata": {
        "id": "LkBZBZTH-wIk"
      },
      "execution_count": null,
      "outputs": []
    },
    {
      "cell_type": "code",
      "source": [],
      "metadata": {
        "id": "ZfQYpTrQ-v9y"
      },
      "execution_count": null,
      "outputs": []
    },
    {
      "cell_type": "markdown",
      "source": [
        "# Missão 4: Time de logística\n",
        "\n",
        "Novamente o time de logística deseja repensar sua estrutura e organização de fornecimento de produtos e para isso, foi pensada em uma visualização que permita identificar padrão de **quantidade de produtos solicitados por mês por departamento**."
      ],
      "metadata": {
        "id": "mKHWFUA6dG3-"
      }
    },
    {
      "cell_type": "code",
      "source": [],
      "metadata": {
        "id": "saGQ7Uwi-iDs"
      },
      "execution_count": null,
      "outputs": []
    },
    {
      "cell_type": "code",
      "source": [],
      "metadata": {
        "id": "FLaIOSQp-h4B"
      },
      "execution_count": null,
      "outputs": []
    },
    {
      "cell_type": "code",
      "source": [],
      "metadata": {
        "id": "s_SHR6Q6-hnl"
      },
      "execution_count": null,
      "outputs": []
    },
    {
      "cell_type": "code",
      "source": [],
      "metadata": {
        "id": "BucP7anT-hZA"
      },
      "execution_count": null,
      "outputs": []
    },
    {
      "cell_type": "code",
      "source": [],
      "metadata": {
        "id": "EqzrCIiC-hNZ"
      },
      "execution_count": null,
      "outputs": []
    },
    {
      "cell_type": "code",
      "source": [],
      "metadata": {
        "id": "g5gSKLgT-hC7"
      },
      "execution_count": null,
      "outputs": []
    },
    {
      "cell_type": "markdown",
      "source": [
        "# Missão 5: Relatório de performance\n",
        "\n",
        "O relatório de performance é um documento muito importante para a empresa. Nele, todos que trabalham na loja podem entender como anda a empresa. Por conta disso, tabelas bem construídas são essenciais para mostrar os dados da melhor forma.\n",
        "\n",
        "Portanto, precisamos construir uma visualização que permita entender a **relação entre tipos de clientes e modo de envio de produtos de acordo com as vendas**. Com isso, será possível destacar no relatório qual o modo de envio e quais tipos de modo de envio mais geraram ganho em vendas."
      ],
      "metadata": {
        "id": "XtlH8tHOdUOv"
      }
    },
    {
      "cell_type": "code",
      "source": [],
      "metadata": {
        "id": "xTqfRzcW9pb9"
      },
      "execution_count": null,
      "outputs": []
    },
    {
      "cell_type": "code",
      "source": [],
      "metadata": {
        "id": "vgUXNWJw9n3b"
      },
      "execution_count": null,
      "outputs": []
    },
    {
      "cell_type": "code",
      "source": [],
      "metadata": {
        "id": "oflYY0fg9mmX"
      },
      "execution_count": null,
      "outputs": []
    },
    {
      "cell_type": "code",
      "source": [],
      "metadata": {
        "id": "ZbjboB3M9lVv"
      },
      "execution_count": null,
      "outputs": []
    },
    {
      "cell_type": "code",
      "source": [],
      "metadata": {
        "id": "ELdAdc-B9kFL"
      },
      "execution_count": null,
      "outputs": []
    },
    {
      "cell_type": "code",
      "source": [],
      "metadata": {
        "id": "POViQY4H9iVn"
      },
      "execution_count": null,
      "outputs": []
    }
  ]
}